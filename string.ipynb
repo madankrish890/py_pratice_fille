{
 "cells": [
  {
   "cell_type": "markdown",
   "id": "c314f74f",
   "metadata": {},
   "source": [
    "# Python program to check whether the string is Symmetrical or Palindrome"
   ]
  },
  {
   "cell_type": "code",
   "execution_count": 2,
   "id": "3bb92d25",
   "metadata": {},
   "outputs": [],
   "source": [
    "text='hello im madan im from bangalore,completed my mechanical engineering in year 2018'"
   ]
  },
  {
   "cell_type": "code",
   "execution_count": 3,
   "id": "237752d3",
   "metadata": {},
   "outputs": [
    {
     "data": {
      "text/plain": [
       "81"
      ]
     },
     "execution_count": 3,
     "metadata": {},
     "output_type": "execute_result"
    }
   ],
   "source": [
    "len(text)"
   ]
  },
  {
   "cell_type": "code",
   "execution_count": 5,
   "id": "346c9f90",
   "metadata": {},
   "outputs": [
    {
     "name": "stdout",
     "output_type": "stream",
     "text": [
      "madan\n",
      "2.5\n"
     ]
    }
   ],
   "source": [
    "text=input()\n",
    "\n",
    "half=len(text)/2\n",
    "print(half)"
   ]
  },
  {
   "cell_type": "markdown",
   "id": "16b9e2ce",
   "metadata": {},
   "source": [
    "# Reverse words in a given String in Python"
   ]
  },
  {
   "cell_type": "code",
   "execution_count": 28,
   "id": "11fb18a2",
   "metadata": {},
   "outputs": [
    {
     "name": "stdout",
     "output_type": "stream",
     "text": [
      "karnataka from im\n"
     ]
    }
   ],
   "source": [
    "text='im from karnataka'\n",
    "reverse=[]\n",
    "ls=text.split()[::-1]\n",
    "\n",
    "for i in ls:\n",
    "    reverse.append(i)\n",
    "    \n",
    "print(' '.join(reverse))"
   ]
  },
  {
   "cell_type": "code",
   "execution_count": 38,
   "id": "e0e0ed1e",
   "metadata": {},
   "outputs": [
    {
     "data": {
      "text/plain": [
       "'karnataka from im'"
      ]
     },
     "execution_count": 38,
     "metadata": {},
     "output_type": "execute_result"
    }
   ],
   "source": [
    "ls=text.split()\n",
    "a=' '.join(reversed(ls))\n",
    "a"
   ]
  },
  {
   "cell_type": "markdown",
   "id": "5760c1b6",
   "metadata": {},
   "source": [
    "# Ways to remove i’th character from string in Python"
   ]
  },
  {
   "cell_type": "code",
   "execution_count": 39,
   "id": "45a1ddb5",
   "metadata": {},
   "outputs": [
    {
     "name": "stdout",
     "output_type": "stream",
     "text": [
      "The string after removal of i'th character : GeksForGeeks\n"
     ]
    }
   ],
   "source": [
    "test_str = \"GeeksForGeeks\"\n",
    "\n",
    "# Removing char at pos 3\n",
    "new_str = \"\"\n",
    "\n",
    "for i in range(len(test_str)):\n",
    "\tif i != 2:\n",
    "\t\tnew_str = new_str + test_str[i]\n",
    "\n",
    "# Printing string after removal\n",
    "print (\"The string after removal of i'th character : \" + new_str)\n"
   ]
  },
  {
   "cell_type": "code",
   "execution_count": 43,
   "id": "d8adad03",
   "metadata": {},
   "outputs": [
    {
     "name": "stdout",
     "output_type": "stream",
     "text": [
      "im fom mexico\n"
     ]
    }
   ],
   "source": [
    "text='im from mexico'\n",
    "\n",
    "new_str=''\n",
    "\n",
    "for i in range(len(text)):\n",
    "    if i!=4:\n",
    "        new_str=new_str+text[i]\n",
    "print(new_str)"
   ]
  },
  {
   "cell_type": "code",
   "execution_count": 44,
   "id": "79874cce",
   "metadata": {},
   "outputs": [
    {
     "data": {
      "text/plain": [
       "'im from co'"
      ]
     },
     "execution_count": 44,
     "metadata": {},
     "output_type": "execute_result"
    }
   ],
   "source": [
    "text=text.replace('mexi','')\n",
    "text"
   ]
  },
  {
   "cell_type": "markdown",
   "id": "99517bb3",
   "metadata": {},
   "source": [
    "# Find length of a string in python (6 ways)"
   ]
  },
  {
   "cell_type": "code",
   "execution_count": 45,
   "id": "2e03ade3",
   "metadata": {},
   "outputs": [
    {
     "data": {
      "text/plain": [
       "10"
      ]
     },
     "execution_count": 45,
     "metadata": {},
     "output_type": "execute_result"
    }
   ],
   "source": [
    "len(text)"
   ]
  },
  {
   "cell_type": "code",
   "execution_count": 47,
   "id": "9ebb24ed",
   "metadata": {},
   "outputs": [
    {
     "name": "stdout",
     "output_type": "stream",
     "text": [
      "dwb cj fcr rrbjefnc bejfce cjcefjcnw\n",
      "Length of string 37\n"
     ]
    }
   ],
   "source": [
    "text=input()\n",
    "count=1\n",
    "for i in text:\n",
    "    count+=1\n",
    "print('Length of string',count)"
   ]
  },
  {
   "cell_type": "code",
   "execution_count": 48,
   "id": "dfb39664",
   "metadata": {},
   "outputs": [],
   "source": [
    "def stg(str):\n",
    "    if not str:\n",
    "        return 0\n",
    "    else:\n",
    "        some_random_str = 'py'\n",
    "        return ((some_random_str).join(str).count(some_random_str))+1"
   ]
  },
  {
   "cell_type": "code",
   "execution_count": 51,
   "id": "52eb839e",
   "metadata": {},
   "outputs": [
    {
     "data": {
      "text/plain": [
       "28"
      ]
     },
     "execution_count": 51,
     "metadata": {},
     "output_type": "execute_result"
    }
   ],
   "source": [
    "stg('hyhsuyrue madmajjs jdkxnxsjs')"
   ]
  },
  {
   "cell_type": "code",
   "execution_count": 58,
   "id": "a62b9835",
   "metadata": {},
   "outputs": [
    {
     "name": "stdout",
     "output_type": "stream",
     "text": [
      "myname is madan i juz hsjuyr ghyushj bshjuys  hsjanna\n"
     ]
    }
   ],
   "source": [
    "text='my name is madan i juz hsjuyr ghyushj bshjuys  hsjanna'\n",
    "new_str=''\n",
    "for i in range(len(text)):\n",
    "    if i!=2:\n",
    "        new_str=new_str+text[i]\n",
    "print(new_str)\n",
    "        "
   ]
  },
  {
   "cell_type": "code",
   "execution_count": 62,
   "id": "d4f06e5d",
   "metadata": {},
   "outputs": [
    {
     "data": {
      "text/plain": [
       "32"
      ]
     },
     "execution_count": 62,
     "metadata": {},
     "output_type": "execute_result"
    }
   ],
   "source": [
    "text='Python – Avoid Spaces in string length'\n",
    "\n",
    "text=''.join(text.split())\n",
    "len(text)"
   ]
  },
  {
   "cell_type": "markdown",
   "id": "eeb03fc7",
   "metadata": {},
   "source": [
    "# Python program to print even length words in a string"
   ]
  },
  {
   "cell_type": "code",
   "execution_count": 65,
   "id": "2c679bc2",
   "metadata": {},
   "outputs": [
    {
     "name": "stdout",
     "output_type": "stream",
     "text": [
      "List of even words ['Python', 'to', 'even', 'length', 'in', 'string']\n",
      "List of odd words ['program', 'print', 'words', 'a']\n"
     ]
    }
   ],
   "source": [
    "text='Python program to print even length words in a string'\n",
    "\n",
    "text=text.split()\n",
    "\n",
    "even_word=[]\n",
    "odd_word=[]\n",
    "\n",
    "for i in text:\n",
    "    if len(i)%2==0:\n",
    "        even_word.append(i)\n",
    "    else:\n",
    "        odd_word.append(i)\n",
    "        \n",
    "print('List of even words',even_word)\n",
    "print('List of odd words',odd_word)"
   ]
  },
  {
   "cell_type": "markdown",
   "id": "a96e4664",
   "metadata": {},
   "source": [
    "# Python – Uppercase Half String"
   ]
  },
  {
   "cell_type": "code",
   "execution_count": 66,
   "id": "c42cfb74",
   "metadata": {},
   "outputs": [
    {
     "name": "stdout",
     "output_type": "stream",
     "text": [
      "Uppercase Half String meeksfoRTEEKS\n"
     ]
    }
   ],
   "source": [
    "text='meeksforteeks'\n",
    "\n",
    "half_text=len(text)/2\n",
    "\n",
    "res=''#------->similar to empty and append method like +=\n",
    "\n",
    "for i in range(len(text)):\n",
    "    \n",
    "    if i>=half_text:\n",
    "        res+=text[i].upper()\n",
    "    else:\n",
    "        res+=text[i]\n",
    "        \n",
    "print('Uppercase Half String',res)      "
   ]
  },
  {
   "cell_type": "code",
   "execution_count": 70,
   "id": "9ab6d548",
   "metadata": {},
   "outputs": [],
   "source": [
    "text='Python program to print even length words in a string'\n",
    "\n",
    "half_text=len(text)/2\n",
    "\n",
    "word=''.join([text[i].upper() if i>=half_text  else text[i] for i in range(len(text))])\n"
   ]
  },
  {
   "cell_type": "code",
   "execution_count": 71,
   "id": "d93ac54d",
   "metadata": {},
   "outputs": [
    {
     "data": {
      "text/plain": [
       "'Python program to print eveN LENGTH WORDS IN A STRING'"
      ]
     },
     "execution_count": 71,
     "metadata": {},
     "output_type": "execute_result"
    }
   ],
   "source": [
    "word"
   ]
  },
  {
   "cell_type": "markdown",
   "id": "a9b624f2",
   "metadata": {},
   "source": [
    "# welcome to geeksforgeeks"
   ]
  },
  {
   "cell_type": "code",
   "execution_count": 100,
   "id": "dc4a0f2d",
   "metadata": {},
   "outputs": [
    {
     "name": "stdout",
     "output_type": "stream",
     "text": [
      "['WelcomE', 'WelcomE', 'GeeksforgeekS']\n"
     ]
    }
   ],
   "source": [
    "text='welcome welcome geeksforgeeks'\n",
    "\n",
    "text=text.split()\n",
    "res=[]\n",
    "for i in text:\n",
    "    \n",
    "    x=i[0].upper()+i[1:-1]+i[-1].upper()\n",
    "    \n",
    "    res.append(x)\n",
    "    \n",
    "print(res)\n",
    "    \n"
   ]
  },
  {
   "cell_type": "code",
   "execution_count": 120,
   "id": "4b80d466",
   "metadata": {},
   "outputs": [
    {
     "name": "stdout",
     "output_type": "stream",
     "text": [
      "elloWorld\n"
     ]
    }
   ],
   "source": [
    "b = \"HelloWorld!\"\n",
    "print(b[1:-1])"
   ]
  },
  {
   "cell_type": "markdown",
   "id": "b313fff3",
   "metadata": {},
   "source": [
    "# Python program to check if a string has at least one letter and one number"
   ]
  },
  {
   "cell_type": "code",
   "execution_count": 125,
   "id": "eefde289",
   "metadata": {},
   "outputs": [
    {
     "name": "stdout",
     "output_type": "stream",
     "text": [
      "flg_a: False\n",
      "flg_n: True\n"
     ]
    }
   ],
   "source": [
    "def check_text(text):\n",
    "    flg_a = False\n",
    "    flg_n = False\n",
    "    for i in text:\n",
    "        if i.isalpha():\n",
    "            flg_a = True\n",
    "        elif i.isdigit():\n",
    "            flg_n = True\n",
    "    return flg_a, flg_n\n",
    "\n",
    "text = 'welcome welcome geeksforgeeks91635'\n",
    "flg_a, flg_n = check_text('61482648')\n",
    "print(\"flg_a:\", flg_a)\n",
    "print(\"flg_n:\", flg_n)\n"
   ]
  },
  {
   "cell_type": "markdown",
   "id": "12542d96",
   "metadata": {},
   "source": [
    "# Count the Number of matching characters in a pair of string"
   ]
  },
  {
   "cell_type": "code",
   "execution_count": 132,
   "id": "d4b3cc6b",
   "metadata": {},
   "outputs": [
    {
     "name": "stdout",
     "output_type": "stream",
     "text": [
      "3\n"
     ]
    }
   ],
   "source": [
    "text=set('hdyuxthsy')\n",
    "text1=set('gsystzbagi')\n",
    "text2=[]\n",
    "count=0\n",
    "for i in text:\n",
    "    for j in text1:\n",
    "        if i==j:\n",
    "            count+=1\n",
    "            text2.append(i==j)\n",
    "print(count)"
   ]
  },
  {
   "cell_type": "code",
   "execution_count": 134,
   "id": "a3ff2f7c",
   "metadata": {},
   "outputs": [],
   "source": [
    "lst=['maddy','maddy','madan','maddy']"
   ]
  },
  {
   "cell_type": "code",
   "execution_count": 135,
   "id": "2ac9cda4",
   "metadata": {},
   "outputs": [
    {
     "name": "stdout",
     "output_type": "stream",
     "text": [
      "{'madan', 'maddy'}\n"
     ]
    }
   ],
   "source": [
    "text=set(lst)\n",
    "print(text)"
   ]
  },
  {
   "cell_type": "markdown",
   "id": "7b14b223",
   "metadata": {},
   "source": [
    "# Python program to count number of vowels using sets in given string"
   ]
  },
  {
   "cell_type": "code",
   "execution_count": 136,
   "id": "a8d91d12",
   "metadata": {},
   "outputs": [],
   "source": [
    "def vowel(str):\n",
    "    \n",
    "    vowel='aeiouAEIOU'\n",
    "    \n",
    "    count=0\n",
    "    \n",
    "    for i in str:\n",
    "        \n",
    "        if i in vowel:\n",
    "            \n",
    "            count+=1\n",
    "    print('No. of vowels',count)"
   ]
  },
  {
   "cell_type": "code",
   "execution_count": 137,
   "id": "a7af2725",
   "metadata": {},
   "outputs": [
    {
     "name": "stdout",
     "output_type": "stream",
     "text": [
      "No. of vowels 5\n"
     ]
    }
   ],
   "source": [
    "vowel('fdrehsuaiogh')"
   ]
  },
  {
   "cell_type": "markdown",
   "id": "4a72b162",
   "metadata": {},
   "source": [
    "# Python – Least and maximum Frequent Character in String"
   ]
  },
  {
   "cell_type": "code",
   "execution_count": 139,
   "id": "9aefaa11",
   "metadata": {},
   "outputs": [
    {
     "name": "stdout",
     "output_type": "stream",
     "text": [
      "The original string is : GeeksforGeeks\n",
      "The minimum of all characters in GeeksforGeeks is : f\n"
     ]
    }
   ],
   "source": [
    "# Python 3 code to demonstrate\n",
    "# Least Frequent Character in String\n",
    "# naive method\n",
    "\n",
    "# initializing string\n",
    "test_str = \"GeeksforGeeks\"\n",
    "\n",
    "# printing original string\n",
    "print (\"The original string is : \" + test_str)\n",
    "\n",
    "# using naive method to get\n",
    "# Least Frequent Character in String\n",
    "all_freq = {}\n",
    "for i in test_str:\n",
    "    if i in all_freq:\n",
    "        all_freq[i] += 1\n",
    "    else:\n",
    "        all_freq[i] = 1\n",
    "res = min(all_freq, key = all_freq.get)\n",
    "\n",
    "# printing result\n",
    "print (\"The minimum of all characters in GeeksforGeeks is : \" + str(res))\n"
   ]
  },
  {
   "cell_type": "code",
   "execution_count": 142,
   "id": "bde6f4d5",
   "metadata": {},
   "outputs": [
    {
     "name": "stdout",
     "output_type": "stream",
     "text": [
      "The original string is : GeeksforGeeks\n",
      "e\n"
     ]
    }
   ],
   "source": [
    "# initializing string\n",
    "test_str = \"GeeksforGeeks\"\n",
    "\n",
    "# printing original string\n",
    "print (\"The original string is : \" + test_str)\n",
    "\n",
    "# using naive method to get\n",
    "# Least Frequent Character in String\n",
    "all_freq = {}\n",
    "for i in test_str:\n",
    "    if i in all_freq:\n",
    "        all_freq[i]+=1\n",
    "    else:\n",
    "        all_freq[i]=1\n",
    "res=max(all_freq, key = all_freq.get)\n",
    "print(res)"
   ]
  },
  {
   "cell_type": "code",
   "execution_count": 143,
   "id": "30475b72",
   "metadata": {},
   "outputs": [
    {
     "name": "stdout",
     "output_type": "stream",
     "text": [
      "{1: 3, 2: 2, 3: 2, 4: 2, 5: 1}\n"
     ]
    }
   ],
   "source": [
    "import numpy as np\n",
    "\n",
    "data = np.array([1, 2, 3, 2, 1, 3, 4, 5, 4, 1])\n",
    "unique, counts = np.unique(data, return_counts=True)\n",
    "\n",
    "frequency_dict = dict(zip(unique, counts))\n",
    "print(frequency_dict)\n"
   ]
  },
  {
   "cell_type": "code",
   "execution_count": 144,
   "id": "3c986a41",
   "metadata": {},
   "outputs": [
    {
     "data": {
      "text/plain": [
       "{'d', 'f', 'g', 'h', 'r', 't', 'u', 'y'}"
      ]
     },
     "execution_count": 144,
     "metadata": {},
     "output_type": "execute_result"
    }
   ],
   "source": [
    "p=set('dgtrruhfgtrydu')# ordered and removes duplicates\n",
    "p"
   ]
  },
  {
   "cell_type": "code",
   "execution_count": 151,
   "id": "2cc4d41b",
   "metadata": {},
   "outputs": [
    {
     "name": "stdout",
     "output_type": "stream",
     "text": [
      "present\n"
     ]
    }
   ],
   "source": [
    "l=[1,4,2,6,7,8,9,[1,8,9]]\n",
    "m=[1,8,9]\n",
    "if m not in l:\n",
    "    print('not present')\n",
    "else:\n",
    "    print('present')"
   ]
  },
  {
   "cell_type": "code",
   "execution_count": 152,
   "id": "4f28bf85",
   "metadata": {},
   "outputs": [
    {
     "name": "stdout",
     "output_type": "stream",
     "text": [
      "No of digits in a string 4\n"
     ]
    }
   ],
   "source": [
    "text='my name is sexy1245'\n",
    "\n",
    "res=0\n",
    "for i in text:\n",
    "    if i.isdigit():\n",
    "        res+=1\n",
    "print('No of digits in a string',res)"
   ]
  },
  {
   "cell_type": "code",
   "execution_count": 153,
   "id": "50e16073",
   "metadata": {},
   "outputs": [],
   "source": [
    "import re"
   ]
  },
  {
   "cell_type": "code",
   "execution_count": 161,
   "id": "e3c7822c",
   "metadata": {},
   "outputs": [],
   "source": [
    "res=[x for x in set(text) if text.count(x)!=2]"
   ]
  },
  {
   "cell_type": "code",
   "execution_count": 162,
   "id": "8aabf91b",
   "metadata": {},
   "outputs": [
    {
     "data": {
      "text/plain": [
       "['a', 'i', 'x', '2', '5', '4', ' ', '1', 'n']"
      ]
     },
     "execution_count": 162,
     "metadata": {},
     "output_type": "execute_result"
    }
   ],
   "source": [
    "res"
   ]
  },
  {
   "cell_type": "code",
   "execution_count": 166,
   "id": "f5d9536c",
   "metadata": {},
   "outputs": [
    {
     "name": "stdout",
     "output_type": "stream",
     "text": [
      "Pure string\n",
      "Pure string\n",
      "Pure string\n",
      "Pure string\n",
      "Pure string\n",
      "Not a pure string\n",
      "Pure string\n",
      "Pure string\n",
      "Pure string\n",
      "Not a pure string\n",
      "Pure string\n",
      "Pure string\n",
      "Pure string\n",
      "Pure string\n",
      "Pure string\n",
      "2\n"
     ]
    }
   ],
   "source": [
    "text='Geeks$For$Geeks'\n",
    "spl='!@#$%^&*?'\n",
    "spl_cnt=0\n",
    "for i in text:\n",
    "    if i in spl:\n",
    "        spl_cnt+=1\n",
    "        print('Not a pure string')\n",
    "    else:\n",
    "        print('Pure string')\n",
    "print(spl_cnt)"
   ]
  },
  {
   "cell_type": "markdown",
   "id": "4fb3c5f2",
   "metadata": {},
   "source": [
    "# Program to check if a string contains any special character"
   ]
  },
  {
   "cell_type": "code",
   "execution_count": 168,
   "id": "4db3bece",
   "metadata": {},
   "outputs": [],
   "source": [
    "def spl(s):\n",
    "    for c in s:\n",
    "        if not(c.isalpha() or c.isdigit() or c==' '):\n",
    "            return True\n",
    "        return False"
   ]
  },
  {
   "cell_type": "code",
   "execution_count": 169,
   "id": "6ac8dfc2",
   "metadata": {},
   "outputs": [
    {
     "name": "stdout",
     "output_type": "stream",
     "text": [
      "string has a special character\n"
     ]
    }
   ],
   "source": [
    "s='Geeks$For$Geeks'\n",
    "if spl(s):\n",
    "    print('String no char')\n",
    "else:\n",
    "    print('string has a special character')"
   ]
  },
  {
   "cell_type": "markdown",
   "id": "cf5fafb5",
   "metadata": {},
   "source": [
    "# Find words which are greater than given length k"
   ]
  },
  {
   "cell_type": "code",
   "execution_count": 177,
   "id": "b189e3fd",
   "metadata": {},
   "outputs": [],
   "source": [
    "text='Find words which are greater than given length k'\n",
    "def find(text):\n",
    "    k=int(input())\n",
    "\n",
    "    aft_split=[x for x in text.split() if len(x)>k]\n",
    "\n",
    "    result=' '.join(aft_split)\n",
    "    \n",
    "    return result\n"
   ]
  },
  {
   "cell_type": "code",
   "execution_count": 179,
   "id": "cdb4fcf9",
   "metadata": {},
   "outputs": [
    {
     "name": "stdout",
     "output_type": "stream",
     "text": [
      "6\n"
     ]
    },
    {
     "data": {
      "text/plain": [
       "'greater'"
      ]
     },
     "execution_count": 179,
     "metadata": {},
     "output_type": "execute_result"
    }
   ],
   "source": [
    "find('Find words which are greater than given length k')"
   ]
  },
  {
   "cell_type": "markdown",
   "id": "4623ed39",
   "metadata": {},
   "source": [
    "# Python program for removing i-th character from a string"
   ]
  },
  {
   "cell_type": "code",
   "execution_count": null,
   "id": "e21fa40f",
   "metadata": {},
   "outputs": [],
   "source": [
    "# Input : Geek\n",
    "# i = 1\n",
    "# Output : Geek"
   ]
  },
  {
   "cell_type": "code",
   "execution_count": 185,
   "id": "5ba00571",
   "metadata": {},
   "outputs": [],
   "source": [
    "def ith(text):\n",
    "    text=text.split()\n",
    "    index=int(input())\n",
    "    res=[]\n",
    "    for i, word in enumerate(text):\n",
    "        if i != index:\n",
    "            res.append(word)\n",
    "    text=' '.join(res)\n",
    "    return text\n"
   ]
  },
  {
   "cell_type": "code",
   "execution_count": 186,
   "id": "518a0bbd",
   "metadata": {},
   "outputs": [
    {
     "name": "stdout",
     "output_type": "stream",
     "text": [
      "1\n"
     ]
    },
    {
     "data": {
      "text/plain": [
       "'Geek'"
      ]
     },
     "execution_count": 186,
     "metadata": {},
     "output_type": "execute_result"
    }
   ],
   "source": [
    "ith('Geek')"
   ]
  },
  {
   "cell_type": "code",
   "execution_count": 196,
   "id": "39a39b76",
   "metadata": {},
   "outputs": [],
   "source": [
    "def srt(string,i):\n",
    "    \n",
    "    for j in range(len(string)):\n",
    "        if j==i:\n",
    "            string=string.replace(string[i],'',1)\n",
    "    return string"
   ]
  },
  {
   "cell_type": "code",
   "execution_count": 194,
   "id": "6c88825d",
   "metadata": {},
   "outputs": [],
   "source": [
    "def remove(string, i):\n",
    " \n",
    "    for j in range(len(string)):\n",
    "        if j == i:\n",
    "            string = string.replace(string[i], \"\", 1)\n",
    "    return string"
   ]
  },
  {
   "cell_type": "code",
   "execution_count": 197,
   "id": "222dadd0",
   "metadata": {},
   "outputs": [
    {
     "name": "stdout",
     "output_type": "stream",
     "text": [
      "geeksORgeeks\n"
     ]
    }
   ],
   "source": [
    "string = \"geeksFORgeeks\"\n",
    " \n",
    "\n",
    "i = 5\n",
    " \n",
    "    # Print the new string\n",
    "print(srt(string, i))"
   ]
  },
  {
   "cell_type": "code",
   "execution_count": 204,
   "id": "5febb0f1",
   "metadata": {},
   "outputs": [
    {
     "name": "stdout",
     "output_type": "stream",
     "text": [
      "['ape', 'apple']\n"
     ]
    }
   ],
   "source": [
    "patterns = ['ape', 'apple', \n",
    "                  'peach', 'puppy']\n",
    "\n",
    "string='There a was a ape in apple tree'\n",
    "\n",
    "string=string.split()\n",
    "\n",
    "match=[]\n",
    "\n",
    "for i in string:\n",
    "    if i in patterns:\n",
    "        match.append(i)\n",
    "print(match)"
   ]
  },
  {
   "cell_type": "code",
   "execution_count": 205,
   "id": "7ee0abdb",
   "metadata": {},
   "outputs": [],
   "source": [
    "from difflib import get_close_matches,"
   ]
  },
  {
   "cell_type": "code",
   "execution_count": 207,
   "id": "8c9cc82e",
   "metadata": {},
   "outputs": [
    {
     "data": {
      "text/plain": [
       "['apple', 'ape']"
      ]
     },
     "execution_count": 207,
     "metadata": {},
     "output_type": "execute_result"
    }
   ],
   "source": [
    "word = 'appel'\n",
    "patterns = ['ape', 'apple', 'peach', 'puppy']\n",
    "get_close_matches(word,patterns)"
   ]
  },
  {
   "cell_type": "code",
   "execution_count": 209,
   "id": "d3f66d80",
   "metadata": {},
   "outputs": [],
   "source": [
    "import re"
   ]
  },
  {
   "cell_type": "code",
   "execution_count": 214,
   "id": "d8f18cf6",
   "metadata": {},
   "outputs": [
    {
     "data": {
      "text/plain": [
       "['https://auth.geeksforgeeks.org/user/Chinmoy%20Lenka/articles and https://www.google.com/search?q=what+is+naive+method+in+python&rlz=1C1CHWL_enIN1034IN1034&sxsrf=AJOqlzVlqQNwhIIYTsJc-Bz_mVgcDeQsQg:1675434347266&source=lnms&tbm=vid&sa=X&ved=2ahUKEwjHy_Oox_n8AhUkR2wGHfhyDy4Q_AUoAnoECAEQBA&biw=1536&bih=714&dpr=1.25 in the portal']"
      ]
     },
     "execution_count": 214,
     "metadata": {},
     "output_type": "execute_result"
    }
   ],
   "source": [
    "s=string = 'My Profile: https://auth.geeksforgeeks.org/user/Chinmoy%20Lenka/articles and https://www.google.com/search?q=what+is+naive+method+in+python&rlz=1C1CHWL_enIN1034IN1034&sxsrf=AJOqlzVlqQNwhIIYTsJc-Bz_mVgcDeQsQg:1675434347266&source=lnms&tbm=vid&sa=X&ved=2ahUKEwjHy_Oox_n8AhUkR2wGHfhyDy4Q_AUoAnoECAEQBA&biw=1536&bih=714&dpr=1.25 in the portal'\n",
    "pattern=r'https:\\/\\/[a-z]+.+$'\n",
    "find=re.findall(pattern,string)\n",
    "find"
   ]
  }
 ],
 "metadata": {
  "kernelspec": {
   "display_name": "Python 3 (ipykernel)",
   "language": "python",
   "name": "python3"
  },
  "language_info": {
   "codemirror_mode": {
    "name": "ipython",
    "version": 3
   },
   "file_extension": ".py",
   "mimetype": "text/x-python",
   "name": "python",
   "nbconvert_exporter": "python",
   "pygments_lexer": "ipython3",
   "version": "3.9.13"
  }
 },
 "nbformat": 4,
 "nbformat_minor": 5
}
