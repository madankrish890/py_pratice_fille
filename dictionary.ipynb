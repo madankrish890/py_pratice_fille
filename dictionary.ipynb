{
 "cells": [
  {
   "cell_type": "markdown",
   "id": "df2f8f74",
   "metadata": {},
   "source": [
    "# Python | Sort Python Dictionaries by Key or Value"
   ]
  },
  {
   "cell_type": "code",
   "execution_count": 1,
   "id": "0b5d557a",
   "metadata": {},
   "outputs": [],
   "source": [
    "dic={'Name':['Madan','Kuldeep','Vansh','Mukesh','Sohail','Awaiz'],\n",
    "    'Marks':[20,18,19,13,12,15],\n",
    "    'Age':[27,25,26,25,26,28],\n",
    "    'Income':[2300,4500,1200,2300,2100,1400]}"
   ]
  },
  {
   "cell_type": "code",
   "execution_count": 13,
   "id": "f82d725f",
   "metadata": {},
   "outputs": [
    {
     "data": {
      "text/plain": [
       "['Age', 'Income', 'Marks', 'Name']"
      ]
     },
     "execution_count": 13,
     "metadata": {},
     "output_type": "execute_result"
    }
   ],
   "source": [
    "mykeys=list(dic.keys())\n",
    "mykeys.sort()\n",
    "mykeys"
   ]
  },
  {
   "cell_type": "code",
   "execution_count": 15,
   "id": "1a5c5edb",
   "metadata": {},
   "outputs": [
    {
     "data": {
      "text/plain": [
       "{'Age': [27, 25, 26, 25, 26, 28],\n",
       " 'Income': [2300, 4500, 1200, 2300, 2100, 1400],\n",
       " 'Marks': [20, 18, 19, 13, 12, 15],\n",
       " 'Name': ['Madan', 'Kuldeep', 'Vansh', 'Mukesh', 'Sohail', 'Awaiz']}"
      ]
     },
     "execution_count": 15,
     "metadata": {},
     "output_type": "execute_result"
    }
   ],
   "source": [
    "sorted_dic={i:dic[i] for i in mykeys}\n",
    "sorted_dic"
   ]
  },
  {
   "cell_type": "code",
   "execution_count": 16,
   "id": "83eb2fc3",
   "metadata": {},
   "outputs": [],
   "source": [
    "key_value={}"
   ]
  },
  {
   "cell_type": "code",
   "execution_count": 18,
   "id": "9f02fcd3",
   "metadata": {},
   "outputs": [],
   "source": [
    "key_value['ravi'] = '10'       \n",
    "key_value['rajnish'] = '9'\n",
    "key_value['sanjeev'] = '15'\n",
    "key_value['yash'] = '2'\n",
    "key_value['suraj'] = '32'"
   ]
  },
  {
   "cell_type": "code",
   "execution_count": 23,
   "id": "428b3114",
   "metadata": {},
   "outputs": [
    {
     "name": "stdout",
     "output_type": "stream",
     "text": [
      "rajnish,ravi,sanjeev,suraj,yash,"
     ]
    }
   ],
   "source": [
    "for i in sorted(key_value.keys()):\n",
    "    print(i, end=\",\")"
   ]
  },
  {
   "cell_type": "markdown",
   "id": "00bed555",
   "metadata": {},
   "source": [
    "# Handling missing keys in Python dictionaries"
   ]
  },
  {
   "cell_type": "code",
   "execution_count": 28,
   "id": "f6985d64",
   "metadata": {},
   "outputs": [
    {
     "name": "stdout",
     "output_type": "stream",
     "text": [
      "0091\n"
     ]
    }
   ],
   "source": [
    "country_code = {'India' : '0091',\n",
    "                'Australia' : '0025',\n",
    "                'Nepal' : '00977'}\n",
    "\n",
    "print(country_code.get('India','Not Found'))"
   ]
  },
  {
   "cell_type": "code",
   "execution_count": 32,
   "id": "c9432575",
   "metadata": {},
   "outputs": [
    {
     "name": "stdout",
     "output_type": "stream",
     "text": [
      "Not present\n"
     ]
    }
   ],
   "source": [
    "print(country_code.setdefault('Japan','Not present'))"
   ]
  },
  {
   "cell_type": "code",
   "execution_count": 33,
   "id": "aba5b726",
   "metadata": {},
   "outputs": [
    {
     "name": "stdout",
     "output_type": "stream",
     "text": [
      "0091\n",
      "Not present\n"
     ]
    }
   ],
   "source": [
    "print(country_code['India'])\n",
    " \n",
    "# search dictionary for country code of Japan\n",
    "print(country_code['Japan'])"
   ]
  },
  {
   "cell_type": "code",
   "execution_count": 36,
   "id": "3965b2a6",
   "metadata": {},
   "outputs": [
    {
     "name": "stdout",
     "output_type": "stream",
     "text": [
      "0091\n",
      "0025\n",
      "00977\n",
      "Not present\n"
     ]
    }
   ],
   "source": [
    "for i in country_code.values():\n",
    "    print(i)"
   ]
  },
  {
   "cell_type": "markdown",
   "id": "8fe58ff1",
   "metadata": {},
   "source": [
    "# Python dictionary with keys having multiple inputs"
   ]
  },
  {
   "cell_type": "code",
   "execution_count": 46,
   "id": "d42345cf",
   "metadata": {},
   "outputs": [
    {
     "name": "stdout",
     "output_type": "stream",
     "text": [
      "[\"19.07'53.2\", \"28.33'34.1\"] \n",
      " [\"72.54'51.0\", \"77.06'16.6\"] \n",
      " ['Mumbai', 'Delhi'] \n",
      "\n"
     ]
    }
   ],
   "source": [
    "places = {(\"19.07'53.2\", \"72.54'51.0\"):\"Mumbai\", \\\n",
    "          (\"28.33'34.1\", \"77.06'16.6\"):\"Delhi\"}\n",
    " \n",
    "#print(places)\n",
    "long=[]\n",
    "lat=[]\n",
    "plc=[]\n",
    "\n",
    "for i in places:\n",
    "    long.append(i[0])\n",
    "    lat.append(i[1])\n",
    "    plc.append(places[i[0],i[1]])\n",
    "print(long,'\\n',lat,'\\n',plc,'\\n')"
   ]
  },
  {
   "cell_type": "markdown",
   "id": "41573df4",
   "metadata": {},
   "source": [
    "# Python program to find the sum of all items in a dictionary"
   ]
  },
  {
   "cell_type": "code",
   "execution_count": 51,
   "id": "b228403b",
   "metadata": {},
   "outputs": [
    {
     "name": "stdout",
     "output_type": "stream",
     "text": [
      "600\n"
     ]
    }
   ],
   "source": [
    "dic1={'a': 100, 'b':200, 'c':300}\n",
    "count=0\n",
    "for i in dic1.values():\n",
    "    count+=i\n",
    "print(count)"
   ]
  },
  {
   "cell_type": "markdown",
   "id": "f22b742f",
   "metadata": {},
   "source": [
    "# Find the size of a Dictionary in Python"
   ]
  },
  {
   "cell_type": "code",
   "execution_count": 53,
   "id": "3d7f5542",
   "metadata": {},
   "outputs": [
    {
     "name": "stdout",
     "output_type": "stream",
     "text": [
      "232 in bytes\n"
     ]
    }
   ],
   "source": [
    "import sys\n",
    "\n",
    "print(sys.getsizeof(dic1),'in bytes')"
   ]
  },
  {
   "cell_type": "code",
   "execution_count": null,
   "id": "435e2d00",
   "metadata": {},
   "outputs": [],
   "source": []
  },
  {
   "cell_type": "code",
   "execution_count": 69,
   "id": "17c42d8d",
   "metadata": {},
   "outputs": [],
   "source": [
    "from operator import itemgetter\n",
    " \n",
    "list1 = [{\"name\": \"Nandini\", \"age\": 20},\n",
    "       {\"name\": \"Manjeet\", \"age\": 20},\n",
    "       {\"name\": \"Nikhil\", \"age\": 19}]\n",
    "\n",
    "#print(sorted(list, key=itemgetter('age'))\n",
    " \n"
   ]
  },
  {
   "cell_type": "code",
   "execution_count": 70,
   "id": "eeea5a5b",
   "metadata": {},
   "outputs": [
    {
     "name": "stdout",
     "output_type": "stream",
     "text": [
      "[{'name': 'Nikhil', 'age': 19}, {'name': 'Nandini', 'age': 20}, {'name': 'Manjeet', 'age': 20}]\n"
     ]
    }
   ],
   "source": [
    "print(sorted(list1,key=itemgetter('age')))"
   ]
  },
  {
   "cell_type": "code",
   "execution_count": 74,
   "id": "330c393d",
   "metadata": {},
   "outputs": [
    {
     "name": "stdout",
     "output_type": "stream",
     "text": [
      "[{'name': 'Nikhil', 'age': 19}, {'name': 'Manjeet', 'age': 20}, {'name': 'Nandini', 'age': 20}]\n"
     ]
    }
   ],
   "source": [
    "print(sorted(list1,key=lambda x:(x['age'],x['name'])))"
   ]
  },
  {
   "cell_type": "code",
   "execution_count": 78,
   "id": "3ddcc41f",
   "metadata": {},
   "outputs": [
    {
     "name": "stdout",
     "output_type": "stream",
     "text": [
      "\n",
      "\n",
      "None\n"
     ]
    }
   ],
   "source": [
    "dic={'Name':['Madan','Kuldeep','Vansh','Mukesh','Sohail','Awaiz'],\n",
    "    'Marks':[20,18,19,13,12,15],\n",
    "    'Age':[27,25,26,25,26,28],\n",
    "    'Income':[2300,4500,1200,2300,2100,1400]}\n",
    "dic1={'location':['b1','c1','d1','a1','g1','h1']}\n",
    "\n",
    "#print(dic|bdic1)\n",
    "print('\\n')\n",
    "print(dic.update(dic1))"
   ]
  },
  {
   "cell_type": "code",
   "execution_count": 84,
   "id": "1afd2539",
   "metadata": {},
   "outputs": [],
   "source": [
    "def merge(dic1,dic2):\n",
    "    res={**dic1,**dic2}\n",
    "    return res"
   ]
  },
  {
   "cell_type": "code",
   "execution_count": 85,
   "id": "98fb58ed",
   "metadata": {},
   "outputs": [
    {
     "data": {
      "text/plain": [
       "{'Name': ['Madan', 'Kuldeep', 'Vansh', 'Mukesh', 'Sohail', 'Awaiz'],\n",
       " 'Marks': [20, 18, 19, 13, 12, 15],\n",
       " 'Age': [27, 25, 26, 25, 26, 28],\n",
       " 'Income': [2300, 4500, 1200, 2300, 2100, 1400],\n",
       " 'location': ['b1', 'c1', 'd1', 'a1', 'g1', 'h1']}"
      ]
     },
     "execution_count": 85,
     "metadata": {},
     "output_type": "execute_result"
    }
   ],
   "source": [
    "merge(dic,dic1)"
   ]
  },
  {
   "cell_type": "code",
   "execution_count": 86,
   "id": "8137bcf6",
   "metadata": {},
   "outputs": [],
   "source": [
    "jack = { \"name\":\"Jack Frost\",\n",
    "        \"assignment\" : [80, 50, 40, 20],\n",
    "        \"test\" : [75, 75],\n",
    "        \"lab\" : [78.20, 77.20]\n",
    "    }\n",
    "         \n",
    "# 2. James's dictionary\n",
    "james = { \"name\":\"James Potter\",\n",
    "        \"assignment\" : [82, 56, 44, 30],\n",
    "        \"test\" : [80, 80],\n",
    "        \"lab\" : [67.90, 78.72]\n",
    "        }\n",
    " \n",
    "# 3. Dylan's dictionary\n",
    "dylan = { \"name\" : \"Dylan Rhodes\",\n",
    "        \"assignment\" : [77, 82, 23, 39],\n",
    "        \"test\" : [78, 77],\n",
    "        \"lab\" : [80, 80]\n",
    "        }\n",
    "         \n",
    "# 4. Jessica's dictionary\n",
    "jess = { \"name\" : \"Jessica Stone\",\n",
    "        \"assignment\" : [67, 55, 77, 21],\n",
    "        \"test\" : [40, 50],\n",
    "        \"lab\" : [69, 44.56]\n",
    "    }\n",
    "\n",
    "# 5. Tom's dictionary\n",
    "tom = { \"name\" : \"Tom Hanks\",\n",
    "        \"assignment\" : [29, 89, 60, 56],\n",
    "        \"test\" : [65, 56],\n",
    "        \"lab\" : [50, 40.6]\n",
    "    }"
   ]
  },
  {
   "cell_type": "code",
   "execution_count": 87,
   "id": "fe0b20be",
   "metadata": {},
   "outputs": [],
   "source": [
    "def get_average(marks):\n",
    "    tot=sum(marks)\n",
    "    tot=float(tot)\n",
    "    return tot/len(marks)"
   ]
  },
  {
   "cell_type": "code",
   "execution_count": 88,
   "id": "bd43b5a3",
   "metadata": {},
   "outputs": [],
   "source": [
    "def total_average(students):\n",
    "    assignment=get_average(students['assignment'])\n",
    "    test=get_average(students['test'])\n",
    "    lab=get_average(students['lab'])\n",
    "    return (0.1*assignment+0.7*test+0.2*lab)"
   ]
  },
  {
   "cell_type": "code",
   "execution_count": 89,
   "id": "872b9b5d",
   "metadata": {},
   "outputs": [],
   "source": [
    "def grade(score):\n",
    "    if score>=90:return 'Grade A'\n",
    "    elif score>=80:return 'Grade B'\n",
    "    elif score >= 70: return \"C\"\n",
    "    elif score >= 60: return \"D\"\n",
    "    else : return \"E\""
   ]
  },
  {
   "cell_type": "code",
   "execution_count": 90,
   "id": "99082ec7",
   "metadata": {},
   "outputs": [],
   "source": [
    "def class_avg(student_list):\n",
    "    result=[]\n",
    "    for student in student_list:\n",
    "        tot=total_average(student) \n",
    "        result.append(tot)\n",
    "        return get_average(result)"
   ]
  },
  {
   "cell_type": "code",
   "execution_count": 91,
   "id": "2592b1a1",
   "metadata": {},
   "outputs": [],
   "source": [
    "students = [jack, james, dylan, jess, tom]"
   ]
  },
  {
   "cell_type": "code",
   "execution_count": 97,
   "id": "019a32e8",
   "metadata": {},
   "outputs": [],
   "source": [
    "class_av = class_avg(students)"
   ]
  },
  {
   "cell_type": "code",
   "execution_count": 101,
   "id": "5b6b2bbb",
   "metadata": {},
   "outputs": [
    {
     "name": "stdout",
     "output_type": "stream",
     "text": [
      "Jack Frost\n",
      "72.79 % C\n",
      "James Potter\n",
      "75.962 % C\n",
      "Dylan Rhodes\n",
      "75.775 % C\n",
      "Jessica Stone\n",
      "48.356 % E\n",
      "Tom Hanks\n",
      "57.26 % E\n"
     ]
    }
   ],
   "source": [
    "for i in students:\n",
    "    print(i['name'])\n",
    "    print(total_average(i),'%',grade(total_average(i)))\n",
    "    "
   ]
  },
  {
   "cell_type": "code",
   "execution_count": 103,
   "id": "2dec4105",
   "metadata": {},
   "outputs": [],
   "source": [
    "tom = { \"name\" : \"Tom Hanks\",\n",
    "        \"assignment\" : [29, 89, 60, 56],\n",
    "        \"test\" : [65, 56],\n",
    "        \"lab\" : [50, 40.6]\n",
    "    }\n",
    "tom1={'sports':[25,52]}\n",
    "tom.update(tom1)"
   ]
  },
  {
   "cell_type": "code",
   "execution_count": 104,
   "id": "3913b97e",
   "metadata": {},
   "outputs": [
    {
     "data": {
      "text/plain": [
       "{'name': 'Tom Hanks',\n",
       " 'assignment': [29, 89, 60, 56],\n",
       " 'test': [65, 56],\n",
       " 'lab': [50, 40.6],\n",
       " 'sports': [25, 52]}"
      ]
     },
     "execution_count": 104,
     "metadata": {},
     "output_type": "execute_result"
    }
   ],
   "source": [
    "tom"
   ]
  },
  {
   "cell_type": "markdown",
   "id": "11728cef",
   "metadata": {},
   "source": [
    "# Python – Insertion at the beginning in OrderedDict"
   ]
  },
  {
   "cell_type": "code",
   "execution_count": 105,
   "id": "2cf21498",
   "metadata": {},
   "outputs": [],
   "source": [
    "from collections import OrderedDict\n",
    "\n",
    "inorderd=OrderedDict(tom)\n",
    "\n",
    "inorderd.update"
   ]
  },
  {
   "cell_type": "code",
   "execution_count": 107,
   "id": "a9f2c486",
   "metadata": {},
   "outputs": [],
   "source": [
    "inorderd.update({'sex':['male','female','male']})"
   ]
  },
  {
   "cell_type": "code",
   "execution_count": 111,
   "id": "1c5e1d64",
   "metadata": {},
   "outputs": [],
   "source": [
    "inorderd.move_to_end('sex',last=False)"
   ]
  },
  {
   "cell_type": "code",
   "execution_count": 112,
   "id": "f5d01846",
   "metadata": {},
   "outputs": [
    {
     "data": {
      "text/plain": [
       "OrderedDict([('sex', ['male', 'female', 'male']),\n",
       "             ('name', 'Tom Hanks'),\n",
       "             ('assignment', [29, 89, 60, 56]),\n",
       "             ('test', [65, 56]),\n",
       "             ('lab', [50, 40.6]),\n",
       "             ('sports', [25, 52])])"
      ]
     },
     "execution_count": 112,
     "metadata": {},
     "output_type": "execute_result"
    }
   ],
   "source": [
    "inorderd"
   ]
  },
  {
   "cell_type": "code",
   "execution_count": 113,
   "id": "e2975308",
   "metadata": {},
   "outputs": [],
   "source": [
    "ar1 = set([1, 5, 10, 20, 40, 80])\n",
    "ar2 = set([6, 7, 20, 80, 100])\n",
    "ar3 = set([3, 4, 15, 20, 30, 70, 80, 120])"
   ]
  },
  {
   "cell_type": "code",
   "execution_count": 117,
   "id": "f4f25bf1",
   "metadata": {},
   "outputs": [
    {
     "name": "stdout",
     "output_type": "stream",
     "text": [
      "{80, 20}\n"
     ]
    }
   ],
   "source": [
    "print(ar1.intersection(ar2,ar3))"
   ]
  },
  {
   "cell_type": "code",
   "execution_count": 120,
   "id": "45b20752",
   "metadata": {},
   "outputs": [
    {
     "name": "stdout",
     "output_type": "stream",
     "text": [
      "[5]\n"
     ]
    }
   ],
   "source": [
    "ar1 = set([1, 5, 5])\n",
    "ar2 = set([3, 4, 5, 5, 10])\n",
    "ar3 = set([5, 5, 10, 20])\n",
    "print(list(ar1.intersection(ar2,ar3)))"
   ]
  },
  {
   "cell_type": "code",
   "execution_count": 125,
   "id": "476b5f08",
   "metadata": {},
   "outputs": [],
   "source": [
    "ar1 = [1, 5, 5]\n",
    "ar2 = [3, 4, 5, 5, 10]\n",
    "ar3 = [5, 5, 10, 20]"
   ]
  },
  {
   "cell_type": "code",
   "execution_count": 124,
   "id": "d444e677",
   "metadata": {},
   "outputs": [
    {
     "name": "stdout",
     "output_type": "stream",
     "text": [
      "Counter({5: 2, 1: 1})\n"
     ]
    }
   ],
   "source": [
    "from collections import Counter\n",
    "\n",
    "print(Counter(ar1))"
   ]
  },
  {
   "cell_type": "code",
   "execution_count": 137,
   "id": "70204648",
   "metadata": {},
   "outputs": [
    {
     "name": "stdout",
     "output_type": "stream",
     "text": [
      "[5]\n"
     ]
    }
   ],
   "source": [
    "ar1=Counter(ar1)\n",
    "ar2=Counter(ar2)\n",
    "ar3=Counter(ar3)\n",
    "    \n",
    "resultdict=dict(ar1.items()&ar2.items()&ar3.items())\n",
    "common=[]\n",
    "\n",
    "for key,val in resultdict.items():\n",
    "    for i in range(0,val):\n",
    "        common.append(key)\n",
    "print(common)"
   ]
  },
  {
   "cell_type": "code",
   "execution_count": 134,
   "id": "71075cef",
   "metadata": {},
   "outputs": [
    {
     "data": {
      "text/plain": [
       "[0, 1]"
      ]
     },
     "execution_count": 134,
     "metadata": {},
     "output_type": "execute_result"
    }
   ],
   "source": [
    "common"
   ]
  },
  {
   "cell_type": "code",
   "execution_count": 138,
   "id": "f670af5d",
   "metadata": {},
   "outputs": [],
   "source": [
    "dicky={'name': 'Tom Hanks',\n",
    " 'assignment': [29, 89, 60, 56],\n",
    " 'test': [65, 56],\n",
    " 'lab': [50, 40.6],\n",
    " 'sports': [25, 52]}"
   ]
  },
  {
   "cell_type": "code",
   "execution_count": 142,
   "id": "5a755855",
   "metadata": {},
   "outputs": [
    {
     "name": "stdout",
     "output_type": "stream",
     "text": [
      "605\n",
      "['name', 'assignment', 'test', 'lab', 'sports']\n"
     ]
    }
   ],
   "source": [
    "lst=[]\n",
    "cnt=0\n",
    "for key,val in dicky.items():\n",
    "    for i in dicky['test']:\n",
    "        cnt+=i\n",
    "    lst.append(key)\n",
    "        \n",
    "print(cnt)\n",
    "print(lst)\n",
    "        "
   ]
  },
  {
   "cell_type": "code",
   "execution_count": 146,
   "id": "667e7bdf",
   "metadata": {},
   "outputs": [
    {
     "name": "stdout",
     "output_type": "stream",
     "text": [
      "{1: 1, 3: 9, 5: 25, 7: 49, 9: 81, 11: 121, 13: 169, 15: 225, 17: 289, 19: 361}\n"
     ]
    }
   ],
   "source": [
    "dict={}\n",
    "for i in range(1,21,2):\n",
    "    dict[i]=i*i\n",
    "print(dict)\n",
    "    "
   ]
  },
  {
   "cell_type": "code",
   "execution_count": null,
   "id": "d7bfa17b",
   "metadata": {},
   "outputs": [],
   "source": [
    "# Disctionary is same like a dataframe to acces the values or assign the value,\n",
    "# we use the method dict['key']='values' and dict[i]=i*i"
   ]
  },
  {
   "cell_type": "code",
   "execution_count": 158,
   "id": "62568c3a",
   "metadata": {},
   "outputs": [
    {
     "name": "stdout",
     "output_type": "stream",
     "text": [
      "e\n"
     ]
    }
   ],
   "source": [
    "from collections import Counter\n",
    "\n",
    "\n",
    "def find_dup_char(input):\n",
    "\n",
    "\t# now create dictionary using counter method\n",
    "\t# which will have strings as key and their\n",
    "\t# frequencies as value\n",
    "\tWC = Counter(input)\n",
    "\n",
    "\t# Finding no. of occurrence of a character\n",
    "\t# and get the index of it.\n",
    "\tfor letter, count in WC.items():\n",
    "\t\tif (count > 1):\n",
    "\t\t\tprint(letter)\n",
    "\n",
    "\n",
    "# Driver program\n",
    "if __name__ == \"__main__\":\n",
    "\tinput = 'geeksf'\n",
    "\tfind_dup_char(input)\n",
    "\n",
    "#or key,val in resultdict.items():\n",
    "    \n"
   ]
  },
  {
   "cell_type": "code",
   "execution_count": 160,
   "id": "5b5bfd49",
   "metadata": {},
   "outputs": [],
   "source": [
    "\n",
    "# Python3 code to demonstrate working of\n",
    "# Group Similar items to Dictionary Values List\n",
    "# Using defaultdict + loop\n",
    "from collections import defaultdict\n",
    " \n",
    "# initializing list\n",
    "test_list = [4, 6, 6, 4, 2, 2, 4, 4, 8, 5, 8]\n",
    "\n",
    "res=defaultdict(list)\n",
    "for ele in test_list:\n",
    "    \n",
    "    res[ele].append(ele)"
   ]
  },
  {
   "cell_type": "code",
   "execution_count": 161,
   "id": "3ac33a41",
   "metadata": {},
   "outputs": [
    {
     "data": {
      "text/plain": [
       "defaultdict(list, {4: [4, 4, 4, 4], 6: [6, 6], 2: [2, 2], 8: [8, 8], 5: [5]})"
      ]
     },
     "execution_count": 161,
     "metadata": {},
     "output_type": "execute_result"
    }
   ],
   "source": [
    "# append kula oru append "
   ]
  },
  {
   "cell_type": "code",
   "execution_count": 163,
   "id": "f15da95b",
   "metadata": {},
   "outputs": [
    {
     "data": {
      "text/plain": [
       "{1: 1, 2: 4, 3: 9, 4: 16, 5: 25, 6: 36, 7: 49, 8: 64, 9: 81}"
      ]
     },
     "execution_count": 163,
     "metadata": {},
     "output_type": "execute_result"
    }
   ],
   "source": [
    "res={i:i*i for i in range(1,10)}\n",
    "res"
   ]
  },
  {
   "cell_type": "code",
   "execution_count": 165,
   "id": "84e7c7ca",
   "metadata": {},
   "outputs": [
    {
     "data": {
      "text/plain": [
       "{1: 3, 2: 2, 3: 1}"
      ]
     },
     "execution_count": 165,
     "metadata": {},
     "output_type": "execute_result"
    }
   ],
   "source": [
    "lit=[1, 2, 3, 1, 2, 1]\n",
    "res={ele:lit.count(ele) for ele in lit}\n",
    "res"
   ]
  },
  {
   "cell_type": "code",
   "execution_count": 167,
   "id": "3ccb8785",
   "metadata": {},
   "outputs": [
    {
     "data": {
      "text/plain": [
       "{'b': 2, 'd': 4}"
      ]
     },
     "execution_count": 167,
     "metadata": {},
     "output_type": "execute_result"
    }
   ],
   "source": [
    "dict={'a': 1, 'b': 2, 'c': 3, 'd': 4}\n",
    "\n",
    "res={i:j for i,j in dict.items() if j%2==0}\n",
    "\n",
    "res"
   ]
  },
  {
   "cell_type": "code",
   "execution_count": 169,
   "id": "c01b8043",
   "metadata": {},
   "outputs": [],
   "source": [
    "test_dict = {\"Gfg\" : 4, \"is\" : 4, \"Best\" : 4, \"for\" : 4, \"Geeks\" : 4}\n",
    "\n",
    "res = sum(val for val in test_dict.values())/len(test_dict)\n"
   ]
  },
  {
   "cell_type": "code",
   "execution_count": 175,
   "id": "2323ce5d",
   "metadata": {},
   "outputs": [],
   "source": [
    "test_dict = {'Manjeet': [1, 4, 5, 6],\n",
    "             'Akash': [1, 8, 9],\n",
    "             'Nikhil': [10, 22, 4],\n",
    "             'Akshat': [5, 11, 22]}\n",
    "cnt=Counter()\n",
    "for i in test_dict.values():\n",
    "    cnt.update(i)\n",
    "\n",
    "res={i:[key for key in j if cnt[key]==1] for i,j in test_dict.items()}\n",
    "\n",
    "    "
   ]
  },
  {
   "cell_type": "code",
   "execution_count": 178,
   "id": "266de6e7",
   "metadata": {},
   "outputs": [
    {
     "data": {
      "text/plain": [
       "dict_items([('Manjeet', [1, 4, 5, 6]), ('Akash', [1, 8, 9]), ('Nikhil', [10, 22, 4]), ('Akshat', [5, 11, 22])])"
      ]
     },
     "execution_count": 178,
     "metadata": {},
     "output_type": "execute_result"
    }
   ],
   "source": [
    "test_dict.items()"
   ]
  },
  {
   "cell_type": "code",
   "execution_count": 181,
   "id": "a91de22d",
   "metadata": {},
   "outputs": [
    {
     "name": "stdout",
     "output_type": "stream",
     "text": [
      "The original string is : gfg is best for geeks\n",
      "gfg is kk for kk\n"
     ]
    }
   ],
   "source": [
    "test_str = 'gfg is best for geeks'\n",
    " \n",
    "# printing original string\n",
    "print(\"The original string is : \" + str(test_str))\n",
    " \n",
    "# initializing Dictionary\n",
    "test_dict = {'geeks' : 1, 'best': 6}\n",
    "\n",
    "for key in test_dict:\n",
    "    if key in test_str.split():\n",
    "        test_str=test_str.replace(key,'kk')\n",
    "        \n",
    "print(test_str)"
   ]
  },
  {
   "cell_type": "code",
   "execution_count": null,
   "id": "e092ef2d",
   "metadata": {},
   "outputs": [],
   "source": [
    "# for multiple replacement we use loop method"
   ]
  },
  {
   "cell_type": "markdown",
   "id": "e1f87101",
   "metadata": {},
   "source": [
    "# Python | Remove all duplicates words from a given sentence"
   ]
  },
  {
   "cell_type": "code",
   "execution_count": 189,
   "id": "6ee1bacc",
   "metadata": {},
   "outputs": [],
   "source": [
    "def remove(input):\n",
    "    \n",
    "    input = input.split()\n",
    "    \n",
    "    cnt=Counter(input)\n",
    "    \n",
    "    \n",
    "    res=' '.join(cnt.keys())\n",
    "    \n",
    "    return res"
   ]
  },
  {
   "cell_type": "code",
   "execution_count": 190,
   "id": "9dfaef7d",
   "metadata": {},
   "outputs": [
    {
     "data": {
      "text/plain": [
       "'my name is madan place bangalore jbo data scientist'"
      ]
     },
     "execution_count": 190,
     "metadata": {},
     "output_type": "execute_result"
    }
   ],
   "source": [
    "remove('my name is madan my place is bangalore my jbo is data scientist')"
   ]
  },
  {
   "cell_type": "code",
   "execution_count": null,
   "id": "46ffb896",
   "metadata": {},
   "outputs": [],
   "source": []
  }
 ],
 "metadata": {
  "kernelspec": {
   "display_name": "Python 3 (ipykernel)",
   "language": "python",
   "name": "python3"
  },
  "language_info": {
   "codemirror_mode": {
    "name": "ipython",
    "version": 3
   },
   "file_extension": ".py",
   "mimetype": "text/x-python",
   "name": "python",
   "nbconvert_exporter": "python",
   "pygments_lexer": "ipython3",
   "version": "3.9.13"
  }
 },
 "nbformat": 4,
 "nbformat_minor": 5
}
