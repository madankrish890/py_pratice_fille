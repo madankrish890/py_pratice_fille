{
 "cells": [
  {
   "cell_type": "code",
   "execution_count": null,
   "id": "923eb600",
   "metadata": {},
   "outputs": [],
   "source": [
    "# Dictionary"
   ]
  },
  {
   "cell_type": "code",
   "execution_count": null,
   "id": "623e1833",
   "metadata": {},
   "outputs": [],
   "source": [
    "# Sort Python Dictionaries by Key or Value"
   ]
  },
  {
   "cell_type": "code",
   "execution_count": 1,
   "id": "4076437a",
   "metadata": {},
   "outputs": [
    {
     "data": {
      "text/plain": [
       "{'rajnish': 9, 'ravi': 10, 'sanjeev': 15, 'suraj': 32, 'yash': 2}"
      ]
     },
     "execution_count": 1,
     "metadata": {},
     "output_type": "execute_result"
    }
   ],
   "source": [
    "myDict = {'ravi': 10, 'rajnish': 9,\n",
    "        'sanjeev': 15, 'yash': 2, 'suraj': 32}\n",
    "keys=list(myDict.keys())\n",
    "keys.sort()\n",
    "dt={i:myDict[i] for i in keys }\n",
    "dt"
   ]
  },
  {
   "cell_type": "code",
   "execution_count": 13,
   "id": "57284fdc",
   "metadata": {},
   "outputs": [
    {
     "name": "stdout",
     "output_type": "stream",
     "text": [
      "{'yash': 2, 'rajnish': 9, 'ravi': 10, 'sanjeev': 15, 'suraj': 32}\n"
     ]
    }
   ],
   "source": [
    "myDict = {'ravi': 10, 'rajnish': 9,\n",
    "        'sanjeev': 15, 'yash': 2, 'suraj': 32}\n",
    "print(dict(sorted(myDict.items(),key=lambda x:x[1])))"
   ]
  },
  {
   "cell_type": "code",
   "execution_count": 6,
   "id": "7faf5767",
   "metadata": {},
   "outputs": [
    {
     "data": {
      "text/plain": [
       "dict_values([10, 9, 15, 2, 32])"
      ]
     },
     "execution_count": 6,
     "metadata": {},
     "output_type": "execute_result"
    }
   ],
   "source": [
    "myDict.values()"
   ]
  },
  {
   "cell_type": "code",
   "execution_count": null,
   "id": "0e4931cb",
   "metadata": {},
   "outputs": [],
   "source": [
    "# Handling missing keys in Python dictionaries"
   ]
  },
  {
   "cell_type": "code",
   "execution_count": 14,
   "id": "bcdb0693",
   "metadata": {},
   "outputs": [
    {
     "data": {
      "text/plain": [
       "'Nor Found'"
      ]
     },
     "execution_count": 14,
     "metadata": {},
     "output_type": "execute_result"
    }
   ],
   "source": [
    "myDict = {'ravi': 10, 'rajnish': 9,\n",
    "        'sanjeev': 15, 'yash': 2, 'suraj': 32}\n",
    "\n",
    "myDict.get('Madan',\"Nor Found\")"
   ]
  },
  {
   "cell_type": "code",
   "execution_count": 15,
   "id": "37f918b0",
   "metadata": {},
   "outputs": [
    {
     "data": {
      "text/plain": [
       "10"
      ]
     },
     "execution_count": 15,
     "metadata": {},
     "output_type": "execute_result"
    }
   ],
   "source": [
    "myDict = {'ravi': 10, 'rajnish': 9,\n",
    "        'sanjeev': 15, 'yash': 2, 'suraj': 32}\n",
    "\n",
    "myDict.get('ravi',\"Nor Found\")"
   ]
  },
  {
   "cell_type": "code",
   "execution_count": null,
   "id": "30a85f45",
   "metadata": {},
   "outputs": [],
   "source": [
    "# Python dictionary with keys having multiple inputs"
   ]
  },
  {
   "cell_type": "code",
   "execution_count": 22,
   "id": "d54bb557",
   "metadata": {},
   "outputs": [
    {
     "name": "stdout",
     "output_type": "stream",
     "text": [
      "[\"19.07'53.2\", \"28.33'34.1\"] \n",
      " [\"72.54'51.0\", \"77.06'16.6\"] \n",
      " ['Mumbai', 'Delhi'] \n",
      "\n"
     ]
    }
   ],
   "source": [
    "places = {(\"19.07'53.2\", \"72.54'51.0\"):\"Mumbai\", \\\n",
    "          (\"28.33'34.1\", \"77.06'16.6\"):\"Delhi\"}\n",
    "lat=[]\n",
    "long=[]\n",
    "plc=[]\n",
    "for i in places:\n",
    "    lat.append(i[0])\n",
    "    long.append(i[1])\n",
    "    plc.append(places[i[0],i[1]])\n",
    "    \n",
    "print(lat,\"\\n\",long,\"\\n\",plc,\"\\n\")"
   ]
  },
  {
   "cell_type": "code",
   "execution_count": 23,
   "id": "76d7f3df",
   "metadata": {},
   "outputs": [
    {
     "data": {
      "text/plain": [
       "dict_keys([(\"19.07'53.2\", \"72.54'51.0\"), (\"28.33'34.1\", \"77.06'16.6\")])"
      ]
     },
     "execution_count": 23,
     "metadata": {},
     "output_type": "execute_result"
    }
   ],
   "source": [
    "places.keys()"
   ]
  },
  {
   "cell_type": "code",
   "execution_count": null,
   "id": "e9220755",
   "metadata": {},
   "outputs": [],
   "source": [
    "# Get the size of dictionary"
   ]
  },
  {
   "cell_type": "code",
   "execution_count": 27,
   "id": "e3dfe668",
   "metadata": {},
   "outputs": [
    {
     "name": "stdout",
     "output_type": "stream",
     "text": [
      "600\n"
     ]
    }
   ],
   "source": [
    "dic={'a': 100, 'b':200, 'c':300}\n",
    "Total=0\n",
    "for i in dic.values():\n",
    "    Total+=i\n",
    "print(Total)\n",
    "    "
   ]
  },
  {
   "cell_type": "code",
   "execution_count": 26,
   "id": "539f9dab",
   "metadata": {},
   "outputs": [
    {
     "data": {
      "text/plain": [
       "dict_keys(['a', 'b', 'c'])"
      ]
     },
     "execution_count": 26,
     "metadata": {},
     "output_type": "execute_result"
    }
   ],
   "source": [
    "dic.keys()"
   ]
  },
  {
   "cell_type": "code",
   "execution_count": 29,
   "id": "abbd8811",
   "metadata": {},
   "outputs": [
    {
     "name": "stdout",
     "output_type": "stream",
     "text": [
      "232\n",
      "232\n",
      "232\n"
     ]
    }
   ],
   "source": [
    "import sys\n",
    "\n",
    "import sys\n",
    "  \n",
    "# sample Dictionaries\n",
    "dic1 = {\"A\": 1, \"B\": 2, \"C\": 3} \n",
    "dic2 = {\"Geek1\": \"Raju\", \"Geek2\": \"Nikhil\", \"Geek3\": \"Deepanshu\"}\n",
    "dic3 = {1: \"Lion\", 2: \"Tiger\", 3: \"Fox\", 4: \"Wolf\"}\n",
    "\n",
    "print(sys.getsizeof(dic1))\n",
    "print(sys.getsizeof(dic2))\n",
    "print(sys.getsizeof(dic3))"
   ]
  },
  {
   "cell_type": "code",
   "execution_count": null,
   "id": "7bb6bc6d",
   "metadata": {},
   "outputs": [],
   "source": [
    "# Ways to sort list of dictionaries by values in Python – Using itemgetter"
   ]
  },
  {
   "cell_type": "code",
   "execution_count": 31,
   "id": "0008867e",
   "metadata": {},
   "outputs": [
    {
     "name": "stdout",
     "output_type": "stream",
     "text": [
      "[{'name': 'Nandini', 'age': 20}, {'name': 'Manjeet', 'age': 20}, {'name': 'Nikhil', 'age': 19}]\n"
     ]
    }
   ],
   "source": [
    "from operator import itemgetter\n",
    " \n",
    "# Initializing list of dictionaries\n",
    "list1 = [{\"name\": \"Nandini\", \"age\": 20},\n",
    "       {\"name\": \"Manjeet\", \"age\": 20},\n",
    "       {\"name\": \"Nikhil\", \"age\": 19}]\n",
    "\n",
    "print(sorted(list1,key=itemgetter('age'),reverse=True))"
   ]
  },
  {
   "cell_type": "code",
   "execution_count": null,
   "id": "ad48352e",
   "metadata": {},
   "outputs": [],
   "source": [
    "# Ways to sort list of dictionaries by values in Python – Using lambda"
   ]
  },
  {
   "cell_type": "code",
   "execution_count": 52,
   "id": "df135080",
   "metadata": {},
   "outputs": [
    {
     "ename": "TypeError",
     "evalue": "'<' not supported between instances of 'str' and 'int'",
     "output_type": "error",
     "traceback": [
      "\u001b[1;31m---------------------------------------------------------------------------\u001b[0m",
      "\u001b[1;31mTypeError\u001b[0m                                 Traceback (most recent call last)",
      "\u001b[1;32m~\\AppData\\Local\\Temp\\ipykernel_6540\\2501291304.py\u001b[0m in \u001b[0;36m<module>\u001b[1;34m\u001b[0m\n\u001b[0;32m      3\u001b[0m \u001b[1;33m\u001b[0m\u001b[0m\n\u001b[0;32m      4\u001b[0m \u001b[1;31m# Sort the dictionary by the values of its 'age' key in descending order\u001b[0m\u001b[1;33m\u001b[0m\u001b[1;33m\u001b[0m\u001b[0m\n\u001b[1;32m----> 5\u001b[1;33m \u001b[0msorted_dict\u001b[0m \u001b[1;33m=\u001b[0m \u001b[1;33m{\u001b[0m\u001b[0mk\u001b[0m\u001b[1;33m:\u001b[0m \u001b[0mv\u001b[0m \u001b[1;32mfor\u001b[0m \u001b[0mk\u001b[0m\u001b[1;33m,\u001b[0m \u001b[0mv\u001b[0m \u001b[1;32min\u001b[0m \u001b[0msorted\u001b[0m\u001b[1;33m(\u001b[0m\u001b[0mdict1\u001b[0m\u001b[1;33m.\u001b[0m\u001b[0mitems\u001b[0m\u001b[1;33m(\u001b[0m\u001b[1;33m)\u001b[0m\u001b[1;33m,\u001b[0m \u001b[0mkey\u001b[0m\u001b[1;33m=\u001b[0m\u001b[1;32mlambda\u001b[0m \u001b[0mitem\u001b[0m\u001b[1;33m:\u001b[0m \u001b[0mitem\u001b[0m\u001b[1;33m[\u001b[0m\u001b[1;36m1\u001b[0m\u001b[1;33m]\u001b[0m\u001b[1;33m,\u001b[0m \u001b[0mreverse\u001b[0m\u001b[1;33m=\u001b[0m\u001b[1;32mTrue\u001b[0m\u001b[1;33m)\u001b[0m\u001b[1;33m}\u001b[0m\u001b[1;33m\u001b[0m\u001b[1;33m\u001b[0m\u001b[0m\n\u001b[0m\u001b[0;32m      6\u001b[0m \u001b[1;33m\u001b[0m\u001b[0m\n\u001b[0;32m      7\u001b[0m \u001b[1;31m# Print the sorted dictionary\u001b[0m\u001b[1;33m\u001b[0m\u001b[1;33m\u001b[0m\u001b[0m\n",
      "\u001b[1;31mTypeError\u001b[0m: '<' not supported between instances of 'str' and 'int'"
     ]
    }
   ],
   "source": [
    "# Initializing dictionary\n",
    "dict1 = {\"name\": [\"Nandini\",\"Manjeet\",\"Nikhil\"], \"age\":[20,20,19]}\n",
    "\n",
    "# Sort the dictionary by the values of its 'age' key in descending order\n",
    "sorted_dict = {k: v for k, v in sorted(dict1.items(), key=lambda item: item[1], reverse=True)}\n",
    "\n",
    "# Print the sorted dictionary\n",
    "print(sorted_dict)\n"
   ]
  },
  {
   "cell_type": "code",
   "execution_count": 41,
   "id": "1ca871ec",
   "metadata": {},
   "outputs": [
    {
     "data": {
      "text/plain": [
       "dict_items([('name', ['Nandini', 'Manjeet', 'Nikhil']), ('age', [20, 20, 19])])"
      ]
     },
     "execution_count": 41,
     "metadata": {},
     "output_type": "execute_result"
    }
   ],
   "source": [
    "list1.items()"
   ]
  },
  {
   "cell_type": "code",
   "execution_count": 47,
   "id": "751aba22",
   "metadata": {},
   "outputs": [
    {
     "name": "stdout",
     "output_type": "stream",
     "text": [
      "The list printed sorting by age: \n",
      "[{'name': 'Nikhil', 'age': 19}, {'name': 'Nandini', 'age': 20}, {'name': 'Manjeet', 'age': 20}]\n"
     ]
    }
   ],
   "source": [
    "list1 = [{\"name\": \"Nandini\", \"age\": 20},\n",
    "       {\"name\": \"Manjeet\", \"age\": 20},\n",
    "       {\"name\": \"Nikhil\", \"age\": 19}]\n",
    " \n",
    "# using sorted and lambda to print list sorted\n",
    "# by age\n",
    "print(\"The list printed sorting by age: \")\n",
    "print(sorted(list, key=lambda i: i['age']))"
   ]
  },
  {
   "cell_type": "code",
   "execution_count": 48,
   "id": "2239828b",
   "metadata": {},
   "outputs": [],
   "source": [
    "import pandas as pd"
   ]
  },
  {
   "cell_type": "code",
   "execution_count": 53,
   "id": "f48d9980",
   "metadata": {},
   "outputs": [
    {
     "data": {
      "text/html": [
       "<div>\n",
       "<style scoped>\n",
       "    .dataframe tbody tr th:only-of-type {\n",
       "        vertical-align: middle;\n",
       "    }\n",
       "\n",
       "    .dataframe tbody tr th {\n",
       "        vertical-align: top;\n",
       "    }\n",
       "\n",
       "    .dataframe thead th {\n",
       "        text-align: right;\n",
       "    }\n",
       "</style>\n",
       "<table border=\"1\" class=\"dataframe\">\n",
       "  <thead>\n",
       "    <tr style=\"text-align: right;\">\n",
       "      <th></th>\n",
       "      <th>name</th>\n",
       "      <th>age</th>\n",
       "    </tr>\n",
       "  </thead>\n",
       "  <tbody>\n",
       "    <tr>\n",
       "      <th>0</th>\n",
       "      <td>Nandini</td>\n",
       "      <td>20</td>\n",
       "    </tr>\n",
       "    <tr>\n",
       "      <th>1</th>\n",
       "      <td>Manjeet</td>\n",
       "      <td>20</td>\n",
       "    </tr>\n",
       "    <tr>\n",
       "      <th>2</th>\n",
       "      <td>Nikhil</td>\n",
       "      <td>19</td>\n",
       "    </tr>\n",
       "  </tbody>\n",
       "</table>\n",
       "</div>"
      ],
      "text/plain": [
       "      name  age\n",
       "0  Nandini   20\n",
       "1  Manjeet   20\n",
       "2   Nikhil   19"
      ]
     },
     "execution_count": 53,
     "metadata": {},
     "output_type": "execute_result"
    }
   ],
   "source": [
    "d=pd.DataFrame(dict1)\n",
    "d"
   ]
  },
  {
   "cell_type": "code",
   "execution_count": null,
   "id": "98302d26",
   "metadata": {},
   "outputs": [],
   "source": [
    "# Merge two dictionaries"
   ]
  },
  {
   "cell_type": "code",
   "execution_count": 58,
   "id": "51dc1852",
   "metadata": {},
   "outputs": [
    {
     "name": "stdout",
     "output_type": "stream",
     "text": [
      "None\n",
      "{'d': 6, 'c': 4, 'a': 10, 'b': 8}\n"
     ]
    }
   ],
   "source": [
    "def merge(dict1,dict2):\n",
    "    return (dict2.update(dict1))\n",
    "\n",
    "\n",
    "dict1 = {'a': 10, 'b': 8}\n",
    "dict2 = {'d': 6, 'c': 4}\n",
    "\n",
    "print(merge(dict1,dict2))\n",
    "\n",
    "print(dict2)"
   ]
  },
  {
   "cell_type": "code",
   "execution_count": 69,
   "id": "98f3d06b",
   "metadata": {},
   "outputs": [],
   "source": [
    "jack = { \"name\":\"Jack Frost\", \n",
    "        \"assignment\" : [80, 50, 40, 20], \n",
    "        \"test\" : [75, 75], \n",
    "        \"lab\" : [78.20, 77.20] \n",
    "    } \n",
    "          \n",
    "# 2. James's dictionary \n",
    "james = { \"name\":\"James Potter\", \n",
    "        \"assignment\" : [82, 56, 44, 30], \n",
    "        \"test\" : [80, 80], \n",
    "        \"lab\" : [67.90, 78.72] \n",
    "        } \n",
    "  \n",
    "# 3. Dylan's dictionary \n",
    "dylan = { \"name\" : \"Dylan Rhodes\", \n",
    "        \"assignment\" : [77, 82, 23, 39], \n",
    "        \"test\" : [78, 77], \n",
    "        \"lab\" : [80, 80] \n",
    "        } \n",
    "          \n",
    "# 4. Jessica's dictionary \n",
    "jess = { \"name\" : \"Jessica Stone\", \n",
    "        \"assignment\" : [67, 55, 77, 21], \n",
    "        \"test\" : [40, 50], \n",
    "        \"lab\" : [69, 44.56] \n",
    "    } \n",
    "          \n",
    "# 5. Tom's dictionary \n",
    "tom = { \"name\" : \"Tom Hanks\", \n",
    "        \"assignment\" : [29, 89, 60, 56], \n",
    "        \"test\" : [65, 56], \n",
    "        \"lab\" : [50, 40.6] \n",
    "    }\n",
    "\n",
    "students=[jack,james,dylan,jess,tom]"
   ]
  },
  {
   "cell_type": "code",
   "execution_count": 72,
   "id": "1f15c5e5",
   "metadata": {},
   "outputs": [],
   "source": [
    "def calculate_total_average(students):\n",
    "    assignment_total = 0\n",
    "    test_total = 0\n",
    "    lab_total = 0\n",
    "    num_students = len(students)\n",
    "\n",
    "    for student in students:\n",
    "        assignment_total += sum(student[\"assignment\"])\n",
    "        test_total += sum(student[\"test\"])\n",
    "        lab_total += sum(student[\"lab\"])\n",
    "\n",
    "    assignment_avg = assignment_total / (num_students * 4)\n",
    "    test_avg = test_total / (num_students * 2)\n",
    "    lab_avg = lab_total / (num_students * 2)\n",
    "\n",
    "    return (0.1 * assignment_avg +\n",
    "            0.7 * test_avg +\n",
    "            0.2 * lab_avg)"
   ]
  },
  {
   "cell_type": "code",
   "execution_count": 73,
   "id": "12d90e03",
   "metadata": {},
   "outputs": [
    {
     "data": {
      "text/plain": [
       "66.02859999999998"
      ]
     },
     "execution_count": 73,
     "metadata": {},
     "output_type": "execute_result"
    }
   ],
   "source": [
    "calculate_total_average(students)"
   ]
  },
  {
   "cell_type": "code",
   "execution_count": 90,
   "id": "bb378a61",
   "metadata": {},
   "outputs": [
    {
     "name": "stdout",
     "output_type": "stream",
     "text": [
      "72.79\n",
      "Jack Frost C\n",
      "75.962\n",
      "James Potter C\n",
      "75.775\n",
      "Dylan Rhodes C\n",
      "48.356\n",
      "Jessica Stone E\n",
      "57.26\n",
      "Tom Hanks E\n"
     ]
    }
   ],
   "source": [
    "def assign_letter_grade(score): \n",
    "    if score >= 90: return \"A\"\n",
    "    elif score >= 80: return \"B\"\n",
    "    elif score >= 70: return \"C\"\n",
    "    elif score >= 60: return \"D\"\n",
    "    else : return \"E\"\n",
    "\n",
    "students = [{'name': 'Jack Frost',\n",
    "  'assignment': [80, 50, 40, 20],\n",
    "  'test': [75, 75],\n",
    "  'lab': [78.2, 77.2]},\n",
    " {'name': 'James Potter',\n",
    "  'assignment': [82, 56, 44, 30],\n",
    "  'test': [80, 80],\n",
    "  'lab': [67.9, 78.72]},\n",
    " {'name': 'Dylan Rhodes',\n",
    "  'assignment': [77, 82, 23, 39],\n",
    "  'test': [78, 77],\n",
    "  'lab': [80, 80]},\n",
    " {'name': 'Jessica Stone',\n",
    "  'assignment': [67, 55, 77, 21],\n",
    "  'test': [40, 50],\n",
    "  'lab': [69, 44.56]},\n",
    " {'name': 'Tom Hanks',\n",
    "  'assignment': [29, 89, 60, 56],\n",
    "  'test': [65, 56],\n",
    "  'lab': [50, 40.6]}]\n",
    "\n",
    "for student in students:\n",
    "    print(calculate_total_average([student]))\n",
    "    print(student['name'], assign_letter_grade(calculate_total_average([student])))\n"
   ]
  },
  {
   "cell_type": "code",
   "execution_count": 85,
   "id": "f26cbb4b",
   "metadata": {},
   "outputs": [],
   "source": [
    "students = [    {        \"name\": \"Jack Frost\",        \"assignment\": [80, 50, 40, 20],\n",
    "        \"test\": [75, 75],\n",
    "        \"lab\": [78.2, 77.2]\n",
    "    },\n",
    "    {\n",
    "        \"name\": \"James Potter\",\n",
    "        \"assignment\": [82, 56, 44, 30],\n",
    "        \"test\": [80, 80],\n",
    "        \"lab\": [67.9, 78.72]\n",
    "    },\n",
    "    {\n",
    "        \"name\": \"Dylan Rhodes\",\n",
    "        \"assignment\": [77, 82, 23, 39],\n",
    "        \"test\": [78, 77],\n",
    "        \"lab\": [80, 80]\n",
    "    },\n",
    "    {\n",
    "        \"name\": \"Jessica Stone\",\n",
    "        \"assignment\": [67, 55, 77, 21],\n",
    "        \"test\": [40, 50],\n",
    "        \"lab\": [69, 44.56]\n",
    "    },\n",
    "    {\n",
    "        \"name\": \"Tom Hanks\",\n",
    "        \"assignment\": [29, 89, 60, 56],\n",
    "        \"test\": [65, 56],\n",
    "        \"lab\": [50, 40.6]\n",
    "    }\n",
    "]\n"
   ]
  },
  {
   "cell_type": "code",
   "execution_count": 93,
   "id": "10caa565",
   "metadata": {},
   "outputs": [
    {
     "name": "stdout",
     "output_type": "stream",
     "text": [
      "4 is\n"
     ]
    }
   ],
   "source": [
    "test_dict = {\"Gfg\" : [5, 7, 5, 4, 5],\n",
    "             \"is\" : [6, 7, 4, 3, 3],\n",
    "             \"Best\" : [9, 9, 6, 5, 5]}\n",
    "\n",
    "max_val=0\n",
    "max_key=None\n",
    "\n",
    "for sub in test_dict:\n",
    "    if(len(set(test_dict[sub])))>max_val:\n",
    "        max_val=len(set(test_dict[sub]))\n",
    "        max_key=sub\n",
    "        \n",
    "print(max_val,max_key)"
   ]
  },
  {
   "cell_type": "code",
   "execution_count": 95,
   "id": "dd8fbde1",
   "metadata": {},
   "outputs": [
    {
     "data": {
      "text/plain": [
       "['g', 'e', 'k', 's']"
      ]
     },
     "execution_count": 95,
     "metadata": {},
     "output_type": "execute_result"
    }
   ],
   "source": [
    "def duplicate_characters(string):\n",
    "    \n",
    "    dict1={}\n",
    "    \n",
    "    for char in string:\n",
    "        if char not in dict1:\n",
    "            dict1[char]=1\n",
    "        else:\n",
    "            dict1[char]+=1\n",
    "            \n",
    "    duplicate=[]\n",
    "    \n",
    "    for char,count in dict1.items():\n",
    "        if count>1:\n",
    "            duplicate.append(char)\n",
    "            \n",
    "    return duplicate\n",
    "\n",
    "duplicate_characters(\"geeksforgeeks\")"
   ]
  },
  {
   "cell_type": "code",
   "execution_count": 96,
   "id": "a32f15d8",
   "metadata": {},
   "outputs": [
    {
     "name": "stdout",
     "output_type": "stream",
     "text": [
      "Counter({'john': 4, 'johnny': 4, 'jamie': 3, 'jackie': 2})\n",
      "4\n",
      "john\n"
     ]
    }
   ],
   "source": [
    "# winner of election\n",
    "\n",
    "from collections import Counter\n",
    " \n",
    "votes =['john','johnny','jackie','johnny','john','jackie',\n",
    "    'jamie','jamie','john','johnny','jamie','johnny','john']\n",
    "\n",
    "max_count=Counter(votes)\n",
    "print(max_count)\n",
    "max_votes=max(max_count.values())\n",
    "print(max_votes)\n",
    "res=[i for i in max_count.keys() if max_count[i]==max_votes]\n",
    "\n",
    "print(sorted(res)[0])"
   ]
  }
 ],
 "metadata": {
  "kernelspec": {
   "display_name": "Python 3 (ipykernel)",
   "language": "python",
   "name": "python3"
  },
  "language_info": {
   "codemirror_mode": {
    "name": "ipython",
    "version": 3
   },
   "file_extension": ".py",
   "mimetype": "text/x-python",
   "name": "python",
   "nbconvert_exporter": "python",
   "pygments_lexer": "ipython3",
   "version": "3.9.13"
  }
 },
 "nbformat": 4,
 "nbformat_minor": 5
}
