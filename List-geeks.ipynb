{
 "cells": [
  {
   "cell_type": "code",
   "execution_count": null,
   "id": "206445b5",
   "metadata": {},
   "outputs": [],
   "source": [
    "# Python program to interchange first and last elements in a list"
   ]
  },
  {
   "cell_type": "code",
   "execution_count": 1,
   "id": "9a43d8f4",
   "metadata": {},
   "outputs": [
    {
     "data": {
      "text/plain": [
       "[24, 35, 9, 56, 12]"
      ]
     },
     "execution_count": 1,
     "metadata": {},
     "output_type": "execute_result"
    }
   ],
   "source": [
    "list1=[12, 35, 9, 56, 24]\n",
    "list1[0],list1[4]=list1[4],list1[0]\n",
    "list1"
   ]
  },
  {
   "cell_type": "code",
   "execution_count": 2,
   "id": "929e42ac",
   "metadata": {},
   "outputs": [],
   "source": [
    "def swaplist(list1):\n",
    "    size=len(list1)\n",
    "    \n",
    "    temp=list1[0]\n",
    "    list1[0]=list1[size-1]\n",
    "    list1[size-1]=temp\n",
    "    \n",
    "    return list1"
   ]
  },
  {
   "cell_type": "code",
   "execution_count": 3,
   "id": "45c928ae",
   "metadata": {},
   "outputs": [
    {
     "data": {
      "text/plain": [
       "[12, 35, 9, 56, 24]"
      ]
     },
     "execution_count": 3,
     "metadata": {},
     "output_type": "execute_result"
    }
   ],
   "source": [
    "swaplist(list1)"
   ]
  },
  {
   "cell_type": "code",
   "execution_count": null,
   "id": "3003138f",
   "metadata": {},
   "outputs": [],
   "source": [
    "# Python program to swap two elements in a list"
   ]
  },
  {
   "cell_type": "code",
   "execution_count": 4,
   "id": "b841cfc9",
   "metadata": {},
   "outputs": [],
   "source": [
    "def swaplist(list1,pos1,pos2):\n",
    "    \n",
    "    list1[pos1],list1[pos2]=list1[pos2],list1[pos1]\n",
    "    \n",
    "    return list1"
   ]
  },
  {
   "cell_type": "code",
   "execution_count": 5,
   "id": "96a7e18f",
   "metadata": {},
   "outputs": [
    {
     "data": {
      "text/plain": [
       "[12, 35, 56, 9, 24]"
      ]
     },
     "execution_count": 5,
     "metadata": {},
     "output_type": "execute_result"
    }
   ],
   "source": [
    "swaplist(list1,3,2)"
   ]
  },
  {
   "cell_type": "code",
   "execution_count": null,
   "id": "b9fc9f3d",
   "metadata": {},
   "outputs": [],
   "source": [
    "# Python – Swap elements in String list"
   ]
  },
  {
   "cell_type": "code",
   "execution_count": 7,
   "id": "f8658adb",
   "metadata": {},
   "outputs": [
    {
     "data": {
      "text/plain": [
       "['Mfg', 'is', 'best', 'for', 'Meeks']"
      ]
     },
     "execution_count": 7,
     "metadata": {},
     "output_type": "execute_result"
    }
   ],
   "source": [
    "test_list = ['Gfg', 'is', 'best', 'for', 'Geeks']\n",
    "\n",
    "result=[sub.replace(\"G\",\"M\") for sub in test_list]\n",
    "\n",
    "result"
   ]
  },
  {
   "cell_type": "code",
   "execution_count": 13,
   "id": "424d8d63",
   "metadata": {},
   "outputs": [
    {
     "data": {
      "text/plain": [
       "['GMGg', 'is', 'best', 'MGor', 'Geeks']"
      ]
     },
     "execution_count": 13,
     "metadata": {},
     "output_type": "execute_result"
    }
   ],
   "source": [
    "import re\n",
    "\n",
    "results=[re.sub(\"f\",\"MG\",sub) for sub in test_list]\n",
    "results"
   ]
  },
  {
   "cell_type": "code",
   "execution_count": 14,
   "id": "e743b309",
   "metadata": {},
   "outputs": [
    {
     "name": "stdout",
     "output_type": "stream",
     "text": [
      "Length of list 5\n"
     ]
    }
   ],
   "source": [
    "test_list = [1, 4, 5, 7, 8]\n",
    "cnt=0\n",
    "for i in test_list:\n",
    "    cnt+=1\n",
    "print(\"Length of list\",cnt)   "
   ]
  },
  {
   "cell_type": "code",
   "execution_count": 15,
   "id": "08726dab",
   "metadata": {},
   "outputs": [
    {
     "data": {
      "text/plain": [
       "5"
      ]
     },
     "execution_count": 15,
     "metadata": {},
     "output_type": "execute_result"
    }
   ],
   "source": [
    "len(test_list)"
   ]
  },
  {
   "cell_type": "code",
   "execution_count": 20,
   "id": "aad75cbb",
   "metadata": {},
   "outputs": [
    {
     "data": {
      "text/plain": [
       "5"
      ]
     },
     "execution_count": 20,
     "metadata": {},
     "output_type": "execute_result"
    }
   ],
   "source": [
    "from collections import Counter\n",
    "\n",
    "length=sum(Counter(test_list).values())\n",
    "length"
   ]
  },
  {
   "cell_type": "code",
   "execution_count": null,
   "id": "3c8dbe29",
   "metadata": {},
   "outputs": [],
   "source": [
    "# Maximum of two numbers in Python\n",
    "# Minimum of two numbers in Python"
   ]
  },
  {
   "cell_type": "code",
   "execution_count": 22,
   "id": "266c1c19",
   "metadata": {},
   "outputs": [],
   "source": [
    "def maximum(a,b):\n",
    "    if a>b:\n",
    "        return a\n",
    "    else:\n",
    "        return b"
   ]
  },
  {
   "cell_type": "code",
   "execution_count": 23,
   "id": "d453ad2c",
   "metadata": {},
   "outputs": [
    {
     "data": {
      "text/plain": [
       "85"
      ]
     },
     "execution_count": 23,
     "metadata": {},
     "output_type": "execute_result"
    }
   ],
   "source": [
    "maximum(10,85)"
   ]
  },
  {
   "cell_type": "code",
   "execution_count": 25,
   "id": "518d240c",
   "metadata": {},
   "outputs": [
    {
     "data": {
      "text/plain": [
       "10"
      ]
     },
     "execution_count": 25,
     "metadata": {},
     "output_type": "execute_result"
    }
   ],
   "source": [
    "max(10,5)"
   ]
  },
  {
   "cell_type": "code",
   "execution_count": 28,
   "id": "d98cabd6",
   "metadata": {},
   "outputs": [
    {
     "name": "stdout",
     "output_type": "stream",
     "text": [
      "19\n"
     ]
    }
   ],
   "source": [
    "a=5\n",
    "b=19\n",
    "res=print(a if a>b else b)\n",
    "res"
   ]
  },
  {
   "cell_type": "code",
   "execution_count": 29,
   "id": "955dec5b",
   "metadata": {},
   "outputs": [],
   "source": [
    "def minimum(a,b):\n",
    "    if a<b:\n",
    "        return a\n",
    "    else:\n",
    "        return b"
   ]
  },
  {
   "cell_type": "code",
   "execution_count": 30,
   "id": "6bb9eba2",
   "metadata": {},
   "outputs": [
    {
     "data": {
      "text/plain": [
       "5"
      ]
     },
     "execution_count": 30,
     "metadata": {},
     "output_type": "execute_result"
    }
   ],
   "source": [
    "minimum(10,5)"
   ]
  },
  {
   "cell_type": "code",
   "execution_count": null,
   "id": "513427f8",
   "metadata": {},
   "outputs": [],
   "source": [
    "# Check if element exists in list in Python"
   ]
  },
  {
   "cell_type": "code",
   "execution_count": 31,
   "id": "2712f7ed",
   "metadata": {},
   "outputs": [
    {
     "name": "stdout",
     "output_type": "stream",
     "text": [
      "Exist\n"
     ]
    }
   ],
   "source": [
    "s=10\n",
    "\n",
    "if i in test_list:\n",
    "    print('Exist')\n",
    "else:\n",
    "    print(\"Doesn't Exist\")"
   ]
  },
  {
   "cell_type": "code",
   "execution_count": 33,
   "id": "686960f1",
   "metadata": {},
   "outputs": [
    {
     "name": "stdout",
     "output_type": "stream",
     "text": [
      "Doesn't Exists\n"
     ]
    }
   ],
   "source": [
    "test_list = [10, 15, 20, 7, 46, 2808]\n",
    "\n",
    "count=test_list.count(2500)\n",
    "\n",
    "if count>0:\n",
    "    print(\"Exists\")\n",
    "else:\n",
    "    print(\"Doesn't Exists\")"
   ]
  },
  {
   "cell_type": "code",
   "execution_count": 38,
   "id": "4e3936c8",
   "metadata": {},
   "outputs": [
    {
     "name": "stdout",
     "output_type": "stream",
     "text": [
      "Exists\n"
     ]
    }
   ],
   "source": [
    "freq=Counter(test_list)\n",
    "\n",
    "if freq[10]>0:\n",
    "    print(\"Exists\")\n",
    "else:\n",
    "    print(\"Doesn't Exists\")"
   ]
  },
  {
   "cell_type": "code",
   "execution_count": null,
   "id": "edfe6784",
   "metadata": {},
   "outputs": [],
   "source": [
    "# Different ways to clear a list in Python"
   ]
  },
  {
   "cell_type": "code",
   "execution_count": 42,
   "id": "0fe8d7c1",
   "metadata": {},
   "outputs": [],
   "source": [
    "test_list1=[10, 15, 20, 7, 46, 2808]\n",
    "\n",
    "#test_list1.clear()"
   ]
  },
  {
   "cell_type": "code",
   "execution_count": 49,
   "id": "f7e03c6e",
   "metadata": {},
   "outputs": [
    {
     "data": {
      "text/plain": [
       "[]"
      ]
     },
     "execution_count": 49,
     "metadata": {},
     "output_type": "execute_result"
    }
   ],
   "source": [
    "test_list1[:0]"
   ]
  },
  {
   "cell_type": "code",
   "execution_count": 52,
   "id": "b86a40fc",
   "metadata": {},
   "outputs": [
    {
     "data": {
      "text/plain": [
       "[2808, 7, 15]"
      ]
     },
     "execution_count": 52,
     "metadata": {},
     "output_type": "execute_result"
    }
   ],
   "source": [
    "test_list1[::-2]"
   ]
  },
  {
   "cell_type": "code",
   "execution_count": 53,
   "id": "35caddb6",
   "metadata": {},
   "outputs": [
    {
     "data": {
      "text/plain": [
       "2808"
      ]
     },
     "execution_count": 53,
     "metadata": {},
     "output_type": "execute_result"
    }
   ],
   "source": [
    "test_list1.pop()"
   ]
  },
  {
   "cell_type": "code",
   "execution_count": 60,
   "id": "ca46cbfe",
   "metadata": {},
   "outputs": [],
   "source": [
    "l=[10,20]\n",
    "test_list1.extend(l)"
   ]
  },
  {
   "cell_type": "code",
   "execution_count": 61,
   "id": "4b926ac0",
   "metadata": {},
   "outputs": [
    {
     "data": {
      "text/plain": [
       "[10, 15, 20, 7, 46, 10, 20]"
      ]
     },
     "execution_count": 61,
     "metadata": {},
     "output_type": "execute_result"
    }
   ],
   "source": [
    "test_list1"
   ]
  },
  {
   "cell_type": "code",
   "execution_count": null,
   "id": "f4b5afe4",
   "metadata": {},
   "outputs": [],
   "source": [
    "# Reversing a List in Python"
   ]
  },
  {
   "cell_type": "code",
   "execution_count": 62,
   "id": "6dbbbd2e",
   "metadata": {},
   "outputs": [
    {
     "data": {
      "text/plain": [
       "[9, 8, 7, 6, 5, 4]"
      ]
     },
     "execution_count": 62,
     "metadata": {},
     "output_type": "execute_result"
    }
   ],
   "source": [
    "list1 = [4, 5, 6, 7, 8, 9]\n",
    "list1[::-1]"
   ]
  },
  {
   "cell_type": "code",
   "execution_count": null,
   "id": "10e83c35",
   "metadata": {},
   "outputs": [],
   "source": [
    "# Python | Cloning or Copying a list"
   ]
  },
  {
   "cell_type": "code",
   "execution_count": 63,
   "id": "c4977e4a",
   "metadata": {},
   "outputs": [
    {
     "data": {
      "text/plain": [
       "[4, 5, 6, 7, 8, 9]"
      ]
     },
     "execution_count": 63,
     "metadata": {},
     "output_type": "execute_result"
    }
   ],
   "source": [
    "cpy=list1[:]\n",
    "cpy"
   ]
  },
  {
   "cell_type": "code",
   "execution_count": 64,
   "id": "d6f9a827",
   "metadata": {},
   "outputs": [
    {
     "data": {
      "text/plain": [
       "[4, 5, 6, 7, 8, 9]"
      ]
     },
     "execution_count": 64,
     "metadata": {},
     "output_type": "execute_result"
    }
   ],
   "source": [
    "cp=[i for i in list1]\n",
    "cp"
   ]
  },
  {
   "cell_type": "code",
   "execution_count": 65,
   "id": "101ff972",
   "metadata": {},
   "outputs": [
    {
     "data": {
      "text/plain": [
       "[4, 5, 6, 7, 8, 9]"
      ]
     },
     "execution_count": 65,
     "metadata": {},
     "output_type": "execute_result"
    }
   ],
   "source": [
    "df=cp\n",
    "df"
   ]
  },
  {
   "cell_type": "code",
   "execution_count": null,
   "id": "c7d0bfcb",
   "metadata": {},
   "outputs": [],
   "source": [
    "# Python | Count occurrences of an element in a lis"
   ]
  },
  {
   "cell_type": "code",
   "execution_count": 67,
   "id": "1f461c2a",
   "metadata": {},
   "outputs": [
    {
     "name": "stdout",
     "output_type": "stream",
     "text": [
      "No of elements in list 9\n"
     ]
    }
   ],
   "source": [
    "lst = [15, 6, 7, 10, 12, 20, 10, 28, 10]\n",
    "cnt=0\n",
    "for i in lst:\n",
    "    cnt=cnt+1\n",
    "print(\"No of elements in list\",cnt)"
   ]
  },
  {
   "cell_type": "code",
   "execution_count": 69,
   "id": "f60a1664",
   "metadata": {},
   "outputs": [
    {
     "data": {
      "text/plain": [
       "9"
      ]
     },
     "execution_count": 69,
     "metadata": {},
     "output_type": "execute_result"
    }
   ],
   "source": [
    "cnt=sum(Counter(lst).values())\n",
    "cnt"
   ]
  },
  {
   "cell_type": "code",
   "execution_count": 71,
   "id": "9ea48ca4",
   "metadata": {},
   "outputs": [
    {
     "data": {
      "text/plain": [
       "5"
      ]
     },
     "execution_count": 71,
     "metadata": {},
     "output_type": "execute_result"
    }
   ],
   "source": [
    "lst = [8, 6, 8, 10, 8, 20, 10, 8, 8]\n",
    "x = 8\n",
    "\n",
    "def list_count(lst,x):\n",
    "    cnt=0\n",
    "    for ele in lst:\n",
    "        if (ele==x):\n",
    "            cnt+=1\n",
    "    return cnt\n",
    "            \n",
    "list_count(lst,x)"
   ]
  },
  {
   "cell_type": "code",
   "execution_count": 74,
   "id": "9ea180c0",
   "metadata": {},
   "outputs": [
    {
     "data": {
      "text/plain": [
       "3"
      ]
     },
     "execution_count": 74,
     "metadata": {},
     "output_type": "execute_result"
    }
   ],
   "source": [
    "lis = ['a', 'd', 'd', 'c', 'a', 'b', 'b', 'a', 'c', 'd', 'e']\n",
    "dic={item:lis.count(item) for item in lis}\n",
    "dic.get(\"d\")"
   ]
  },
  {
   "cell_type": "code",
   "execution_count": 75,
   "id": "b9bd857b",
   "metadata": {},
   "outputs": [
    {
     "name": "stdout",
     "output_type": "stream",
     "text": [
      "Element Count\n",
      "2    3\n",
      "1    2\n",
      "3    2\n",
      "4    2\n",
      "5    2\n",
      "dtype: int64\n"
     ]
    }
   ],
   "source": [
    "import pandas as pd\n",
    "\n",
    "# declaring the list\n",
    "l = [1, 1, 2, 2, 2, 3, 3, 4, 4, 5, 5]\n",
    "\n",
    "count = pd.Series(l).value_counts()\n",
    "print(\"Element Count\")\n",
    "print(count)"
   ]
  },
  {
   "cell_type": "code",
   "execution_count": 78,
   "id": "97bdc423",
   "metadata": {},
   "outputs": [
    {
     "name": "stdout",
     "output_type": "stream",
     "text": [
      "286\n",
      "35.75\n"
     ]
    }
   ],
   "source": [
    "# Find sum and average of List in Python\n",
    "\n",
    "lt=[15, 9, 55, 41, 35, 20, 62, 49]\n",
    "sum1=0\n",
    "for ele in lt:\n",
    "    sum1+=ele\n",
    "    avg=sum1/len(lt)\n",
    "    \n",
    "print(sum1)\n",
    "print(avg)\n",
    "    "
   ]
  },
  {
   "cell_type": "code",
   "execution_count": 79,
   "id": "2eec3fe5",
   "metadata": {},
   "outputs": [
    {
     "name": "stdout",
     "output_type": "stream",
     "text": [
      "286\n",
      "35.75\n"
     ]
    }
   ],
   "source": [
    "import statistics\n",
    "\n",
    "sum1=sum(lt)\n",
    "\n",
    "avg=statistics.mean(lt)\n",
    "\n",
    "print(sum1)\n",
    "print(avg)"
   ]
  },
  {
   "cell_type": "code",
   "execution_count": null,
   "id": "81aa41ae",
   "metadata": {},
   "outputs": [],
   "source": [
    "# Python | Sum of number digits in List"
   ]
  },
  {
   "cell_type": "code",
   "execution_count": 82,
   "id": "417f34aa",
   "metadata": {},
   "outputs": [
    {
     "name": "stdout",
     "output_type": "stream",
     "text": [
      "[1, 3, 6, 13, 9, 17, 3, 7]\n"
     ]
    }
   ],
   "source": [
    "test_list = [12, 67, 98, 34]\n",
    "\n",
    "res=[]\n",
    "for ele in test_list:\n",
    "    sum=0\n",
    "    for digit in str(ele):\n",
    "        sum+=int(digit)\n",
    "        res.append(sum)\n",
    "print(str(res))"
   ]
  },
  {
   "cell_type": "code",
   "execution_count": null,
   "id": "166aa0b3",
   "metadata": {},
   "outputs": [],
   "source": [
    "# Find the smallest number"
   ]
  },
  {
   "cell_type": "code",
   "execution_count": 83,
   "id": "148c3f79",
   "metadata": {},
   "outputs": [
    {
     "name": "stdout",
     "output_type": "stream",
     "text": [
      "1\n"
     ]
    }
   ],
   "source": [
    "list2 = [20, 10, 20, 1, 100]\n",
    "min1=list2[0]\n",
    "for ele in range(len(list2)):\n",
    "    if list2[ele]<min1:\n",
    "        min1=list2[ele]\n",
    "print(min1)"
   ]
  },
  {
   "cell_type": "code",
   "execution_count": 84,
   "id": "579bf8fa",
   "metadata": {},
   "outputs": [
    {
     "data": {
      "text/plain": [
       "1"
      ]
     },
     "execution_count": 84,
     "metadata": {},
     "output_type": "execute_result"
    }
   ],
   "source": [
    "min(list2)"
   ]
  },
  {
   "cell_type": "code",
   "execution_count": 88,
   "id": "0320515a",
   "metadata": {},
   "outputs": [
    {
     "name": "stdout",
     "output_type": "stream",
     "text": [
      "100\n"
     ]
    }
   ],
   "source": [
    "list2 = [20, 10, 20, 1, 100]\n",
    "max1=list2[0]\n",
    "for ele in range(len(list2)):\n",
    "    if list2[ele]>max1:\n",
    "        max1=list2[ele]\n",
    "print(max1)"
   ]
  },
  {
   "cell_type": "code",
   "execution_count": 89,
   "id": "3f41ce45",
   "metadata": {},
   "outputs": [
    {
     "data": {
      "text/plain": [
       "(1, 3)"
      ]
     },
     "execution_count": 89,
     "metadata": {},
     "output_type": "execute_result"
    }
   ],
   "source": [
    "res=min((a,i) for (i,a) in enumerate(list2))\n",
    "res"
   ]
  },
  {
   "cell_type": "code",
   "execution_count": 92,
   "id": "14794ae8",
   "metadata": {},
   "outputs": [
    {
     "name": "stdout",
     "output_type": "stream",
     "text": [
      "0 20\n",
      "1 10\n",
      "2 20\n",
      "3 1\n",
      "4 100\n"
     ]
    }
   ],
   "source": [
    "for (i,a) in enumerate(list2):\n",
    "    print(i,a)"
   ]
  },
  {
   "cell_type": "code",
   "execution_count": 93,
   "id": "b0d17ec7",
   "metadata": {},
   "outputs": [],
   "source": [
    "def lgr(arr):\n",
    "    secondlargest=0\n",
    "    largest=min(arr)\n",
    "    \n",
    "    for i in range(len(arr)):\n",
    "        if  arr[i]>largest:\n",
    "            \n",
    "            secondlargest=largest\n",
    "            largest=arr[i]\n",
    "        \n",
    "        else:\n",
    "            secondlargest=max(secondlargest,arr[i])\n",
    "            \n",
    "    return secondlargest   "
   ]
  },
  {
   "cell_type": "code",
   "execution_count": 94,
   "id": "322f75f2",
   "metadata": {},
   "outputs": [
    {
     "data": {
      "text/plain": [
       "20"
      ]
     },
     "execution_count": 94,
     "metadata": {},
     "output_type": "execute_result"
    }
   ],
   "source": [
    "lgr(list2)"
   ]
  },
  {
   "cell_type": "code",
   "execution_count": null,
   "id": "f371ca21",
   "metadata": {},
   "outputs": [],
   "source": [
    "# Python program to print all even numbers in a range"
   ]
  },
  {
   "cell_type": "code",
   "execution_count": 101,
   "id": "bedbc370",
   "metadata": {},
   "outputs": [
    {
     "data": {
      "text/plain": [
       "'[2, 4, 6, 8, 10, 12, 14, 16, 18, 20]'"
      ]
     },
     "execution_count": 101,
     "metadata": {},
     "output_type": "execute_result"
    }
   ],
   "source": [
    "even=[x for x in range(1,21) if x%2==0]"
   ]
  },
  {
   "cell_type": "code",
   "execution_count": null,
   "id": "8b7328e0",
   "metadata": {},
   "outputs": [],
   "source": [
    "# Python program to print all odd numbers in a range"
   ]
  },
  {
   "cell_type": "code",
   "execution_count": 102,
   "id": "32264765",
   "metadata": {},
   "outputs": [],
   "source": [
    "odd=[x for x in range(1,21) if x%3==0]"
   ]
  },
  {
   "cell_type": "code",
   "execution_count": 108,
   "id": "48838be3",
   "metadata": {},
   "outputs": [
    {
     "name": "stdout",
     "output_type": "stream",
     "text": [
      "Count of Even Numbers 36\n",
      "Count of odd Numbers 36\n"
     ]
    }
   ],
   "source": [
    "even=0\n",
    "odd=0\n",
    "for i in range(1,73):\n",
    "    if i%2==0:\n",
    "        even+=1\n",
    "    else:\n",
    "        odd+=1\n",
    "print(\"Count of Even Numbers\",even)\n",
    "print(\"Count of odd Numbers\",odd)"
   ]
  },
  {
   "cell_type": "code",
   "execution_count": null,
   "id": "0e9e6ea2",
   "metadata": {},
   "outputs": [],
   "source": [
    "# Positive numbers"
   ]
  },
  {
   "cell_type": "code",
   "execution_count": 111,
   "id": "25861912",
   "metadata": {},
   "outputs": [
    {
     "data": {
      "text/plain": [
       "[12, 5, 64]"
      ]
     },
     "execution_count": 111,
     "metadata": {},
     "output_type": "execute_result"
    }
   ],
   "source": [
    "list1 = [12, -7, 5, 64, -14]\n",
    "res=[x for x in list1 if x>0]\n",
    "res"
   ]
  },
  {
   "cell_type": "code",
   "execution_count": null,
   "id": "cc649ae3",
   "metadata": {},
   "outputs": [],
   "source": [
    "# Negative numbers"
   ]
  },
  {
   "cell_type": "code",
   "execution_count": 113,
   "id": "34a51c0a",
   "metadata": {},
   "outputs": [
    {
     "data": {
      "text/plain": [
       "[-7, -14]"
      ]
     },
     "execution_count": 113,
     "metadata": {},
     "output_type": "execute_result"
    }
   ],
   "source": [
    "list1 = [12, -7, 5, 64, -14]\n",
    "res=[x for x in list1 if x<0]\n",
    "res"
   ]
  },
  {
   "cell_type": "code",
   "execution_count": null,
   "id": "02829068",
   "metadata": {},
   "outputs": [],
   "source": [
    "# Python program to print all positive numbers in a range\n"
   ]
  },
  {
   "cell_type": "code",
   "execution_count": 114,
   "id": "143fb680",
   "metadata": {},
   "outputs": [
    {
     "data": {
      "text/plain": [
       "[1, 2, 3, 4, 5, 6, 7, 8, 9, 10, 11, 12, 13, 14]"
      ]
     },
     "execution_count": 114,
     "metadata": {},
     "output_type": "execute_result"
    }
   ],
   "source": [
    "res=[x for x in range(-10,15) if x>0]\n",
    "res"
   ]
  },
  {
   "cell_type": "code",
   "execution_count": 115,
   "id": "d754f66c",
   "metadata": {},
   "outputs": [
    {
     "data": {
      "text/plain": [
       "[-10, -9, -8, -7, -6, -5, -4, -3, -2, -1]"
      ]
     },
     "execution_count": 115,
     "metadata": {},
     "output_type": "execute_result"
    }
   ],
   "source": [
    "res=[x for x in range(-10,15) if x<0]\n",
    "res"
   ]
  },
  {
   "cell_type": "code",
   "execution_count": null,
   "id": "0cff855e",
   "metadata": {},
   "outputs": [],
   "source": [
    "# Python program to count positive and negative numbers in a list"
   ]
  },
  {
   "cell_type": "code",
   "execution_count": 116,
   "id": "c7ef5e48",
   "metadata": {},
   "outputs": [
    {
     "name": "stdout",
     "output_type": "stream",
     "text": [
      "Count of Pos num 24\n",
      "Count of Neg num 16\n"
     ]
    }
   ],
   "source": [
    "pos,neg=0,0\n",
    "for i in range(-15,25):\n",
    "    if i>0:\n",
    "        pos+=1\n",
    "    else:\n",
    "        neg+=1\n",
    "print(\"Count of Pos num\",pos)\n",
    "print(\"Count of Neg num\",neg)"
   ]
  },
  {
   "cell_type": "code",
   "execution_count": null,
   "id": "19fd8355",
   "metadata": {},
   "outputs": [],
   "source": [
    "# Python program to remove multiple\n",
    "# elements from a list"
   ]
  },
  {
   "cell_type": "code",
   "execution_count": 120,
   "id": "aec0c933",
   "metadata": {},
   "outputs": [
    {
     "data": {
      "text/plain": [
       "[11, 5, 18, 50]"
      ]
     },
     "execution_count": 120,
     "metadata": {},
     "output_type": "execute_result"
    }
   ],
   "source": [
    "# creating a list\n",
    "list1 = [11, 5, 17, 18, 23, 50]\n",
    "\n",
    "lt=[17,23]\n",
    "\n",
    "res=[ele for ele in list1 if ele not in lt]\n",
    "res"
   ]
  },
  {
   "cell_type": "code",
   "execution_count": 122,
   "id": "4ca15cca",
   "metadata": {},
   "outputs": [
    {
     "data": {
      "text/plain": [
       "[50, 23, 18, 17, 11, 5]"
      ]
     },
     "execution_count": 122,
     "metadata": {},
     "output_type": "execute_result"
    }
   ],
   "source": [
    "list1.sort(reverse=True)\n",
    "list1"
   ]
  },
  {
   "cell_type": "code",
   "execution_count": null,
   "id": "bcc946af",
   "metadata": {},
   "outputs": [],
   "source": [
    "# How to count unique values inside a list"
   ]
  },
  {
   "cell_type": "code",
   "execution_count": 124,
   "id": "4bb97c0c",
   "metadata": {},
   "outputs": [
    {
     "name": "stdout",
     "output_type": "stream",
     "text": [
      "Count of unique elements 5\n",
      "[1, 2, 5, 8, 4]\n"
     ]
    }
   ],
   "source": [
    "input_list = [1, 2, 2, 5, 8, 4, 4, 8]\n",
    "cnt=0\n",
    "tr=[]\n",
    "for ele in input_list:\n",
    "    if ele not in tr:\n",
    "        cnt+=1\n",
    "        tr.append(ele)\n",
    "        \n",
    "print(\"Count of unique elements\",cnt)\n",
    "print(tr)"
   ]
  },
  {
   "cell_type": "code",
   "execution_count": 127,
   "id": "add35d51",
   "metadata": {},
   "outputs": [
    {
     "data": {
      "text/plain": [
       "[1, 2, 5, 8, 4]"
      ]
     },
     "execution_count": 127,
     "metadata": {},
     "output_type": "execute_result"
    }
   ],
   "source": [
    "res=Counter(input_list).keys()\n",
    "res=list(res)\n",
    "res"
   ]
  },
  {
   "cell_type": "code",
   "execution_count": null,
   "id": "cb69819a",
   "metadata": {},
   "outputs": [],
   "source": [
    "# Python – List product excluding duplicates"
   ]
  },
  {
   "cell_type": "code",
   "execution_count": 128,
   "id": "6091c865",
   "metadata": {},
   "outputs": [],
   "source": [
    "def prod(lt):\n",
    "    res=1\n",
    "    for ele in lt:\n",
    "        res*=ele\n",
    "    return res"
   ]
  },
  {
   "cell_type": "code",
   "execution_count": 129,
   "id": "4c610784",
   "metadata": {},
   "outputs": [
    {
     "data": {
      "text/plain": [
       "90"
      ]
     },
     "execution_count": 129,
     "metadata": {},
     "output_type": "execute_result"
    }
   ],
   "source": [
    "test_list = [1, 3, 5, 6, 3, 5, 6, 1]\n",
    "res=[]\n",
    "ap=[res.append(x) for x in test_list if x not in res]\n",
    "res1=prod(res)\n",
    "res1"
   ]
  },
  {
   "cell_type": "code",
   "execution_count": null,
   "id": "24fe6e24",
   "metadata": {},
   "outputs": [],
   "source": [
    "# Python – Extract elements with Frequency greater than K"
   ]
  },
  {
   "cell_type": "code",
   "execution_count": 131,
   "id": "2e53c7d6",
   "metadata": {},
   "outputs": [
    {
     "name": "stdout",
     "output_type": "stream",
     "text": [
      "FREqs > k [4, 3]\n"
     ]
    }
   ],
   "source": [
    "test_list = [4, 6, 4, 3, 3, 4, 3, 4, 3, 8]\n",
    "K = 3 \n",
    "res=[]\n",
    "for i in test_list:\n",
    "    if test_list.count(i)>K:\n",
    "        if i not in res:\n",
    "            res.append(i)        \n",
    "print(\"FREqs > k\",res)\n"
   ]
  },
  {
   "cell_type": "code",
   "execution_count": 132,
   "id": "d41ce595",
   "metadata": {},
   "outputs": [
    {
     "name": "stdout",
     "output_type": "stream",
     "text": [
      "The original list : [4, 6, 4, 3, 3, 4, 3, 4, 6, 6]\n",
      "The required elements :  [4, 3, 6]\n"
     ]
    }
   ],
   "source": [
    "test_list = [4, 6, 4, 3, 3, 4, 3, 4, 6, 6]\n",
    "k = 2\n",
    "unique_elems = []\n",
    "freq_dict = {}\n",
    "output = []\n",
    "\n",
    "# printing string\n",
    "print(\"The original list : \" + str(test_list))\n",
    "\n",
    "for i in test_list:\n",
    "\t# Append in the unique element list\n",
    "\tif i not in unique_elems:\n",
    "\t\tunique_elems.append(i)\n",
    "\t\tfreq_dict[i] = 1\n",
    "\telse:\n",
    "\t\t# increment the counter if element is duplicate\n",
    "\t\tfreq_dict[i] += 1\n",
    "\n",
    "\t# Add in the output list only once\n",
    "\tif freq_dict[i] == k + 1:\n",
    "\t\toutput.append(i)\n",
    "\n",
    "print('The required elements : ', str(output))\n"
   ]
  },
  {
   "cell_type": "code",
   "execution_count": null,
   "id": "9407c304",
   "metadata": {},
   "outputs": [],
   "source": [
    "# Python – Test if List contains elements in Range"
   ]
  },
  {
   "cell_type": "code",
   "execution_count": 134,
   "id": "c3e48554",
   "metadata": {},
   "outputs": [
    {
     "name": "stdout",
     "output_type": "stream",
     "text": [
      "The original list is : [4, 5, 6, 7, 3, 9, 11]\n",
      "Does list contain all elements in range : False\n"
     ]
    }
   ],
   "source": [
    "# Python3 code to demonstrate\n",
    "# Test if List contains elements in Range\n",
    "# using all()\n",
    "\n",
    "# Initializing loop\n",
    "test_list = [4, 5, 6, 7, 3, 9,11]\n",
    "\n",
    "# printing original list\n",
    "print(\"The original list is : \" + str(test_list))\n",
    "\n",
    "# Initialization of range\n",
    "i, j = 3, 10\n",
    "\n",
    "# Test if List contains elements in Range\n",
    "# using all()\n",
    "res = all(ele >= i and ele < j for ele in test_list)\n",
    "\n",
    "# printing result\n",
    "print (\"Does list contain all elements in range : \" + str(res))\n"
   ]
  },
  {
   "cell_type": "code",
   "execution_count": null,
   "id": "a0ec7a71",
   "metadata": {},
   "outputs": [],
   "source": [
    "# Python program to check if the list contains three consecutive common numbers in Python"
   ]
  },
  {
   "cell_type": "code",
   "execution_count": 140,
   "id": "0aa23ae9",
   "metadata": {},
   "outputs": [
    {
     "name": "stdout",
     "output_type": "stream",
     "text": [
      "contains three consecutive common numbers: [1, 22]\n"
     ]
    }
   ],
   "source": [
    "test_ip=[1, 1, 1, 64, 23, 64, 22, 22, 22]\n",
    "res=[]\n",
    "cnt=0\n",
    "k=3\n",
    "for i in test_ip:\n",
    "    if test_ip.count(i)==k:\n",
    "        res.append(i)\n",
    "        \n",
    "print(\"contains three consecutive common numbers:\",list(set(res)))\n",
    "        "
   ]
  },
  {
   "cell_type": "code",
   "execution_count": null,
   "id": "2ac188d5",
   "metadata": {},
   "outputs": [],
   "source": [
    "# Python Program to print all Possible Combinations from the three Digits"
   ]
  },
  {
   "cell_type": "code",
   "execution_count": 144,
   "id": "a407d4bf",
   "metadata": {},
   "outputs": [],
   "source": [
    "def comb(L):\n",
    "    for i in range(3):\n",
    "        for j in range(3):\n",
    "            for k in range(3):\n",
    "                \n",
    "                if(i!=j and j!=k and k!=i):\n",
    "                    print(L[i],L[j],L[k])"
   ]
  },
  {
   "cell_type": "code",
   "execution_count": 145,
   "id": "a65e37ca",
   "metadata": {},
   "outputs": [
    {
     "name": "stdout",
     "output_type": "stream",
     "text": [
      "1 2 3\n",
      "1 3 2\n",
      "2 1 3\n",
      "2 3 1\n",
      "3 1 2\n",
      "3 2 1\n"
     ]
    }
   ],
   "source": [
    "comb([1,2,3])"
   ]
  },
  {
   "cell_type": "code",
   "execution_count": null,
   "id": "b7f7a34d",
   "metadata": {},
   "outputs": [],
   "source": [
    "# Python program to find all the Combinations in the list with the given condition"
   ]
  },
  {
   "cell_type": "code",
   "execution_count": 146,
   "id": "927b4715",
   "metadata": {},
   "outputs": [
    {
     "name": "stdout",
     "output_type": "stream",
     "text": [
      "Combinations 1 : ('GFG', [5, 4])\n",
      "Combinations 2 : ('GFG', 'is')\n",
      "Combinations 3 : ('GFG', ['best', 'good', 'better', 'average'])\n",
      "Combinations 4 : ([5, 4], 'is')\n",
      "Combinations 5 : ([5, 4], ['best', 'good', 'better', 'average'])\n",
      "Combinations 6 : ('is', ['best', 'good', 'better', 'average'])\n"
     ]
    }
   ],
   "source": [
    "from itertools import combinations\n",
    "# initializing list\n",
    "test_list = [\"GFG\", [5, 4], \"is\",\n",
    "            [\"best\", \"good\", \"better\", \"average\"]]\n",
    "idx=0\n",
    "temp=combinations(test_list,2)\n",
    "for i in list(temp):\n",
    "    idx=idx+1\n",
    "    print(\"Combinations\",idx,\":\",i)"
   ]
  },
  {
   "cell_type": "code",
   "execution_count": null,
   "id": "8d2867e5",
   "metadata": {},
   "outputs": [],
   "source": [
    "# Divide all Elements of a List by a Number in Python"
   ]
  },
  {
   "cell_type": "code",
   "execution_count": 148,
   "id": "86c65dc7",
   "metadata": {},
   "outputs": [
    {
     "data": {
      "text/plain": [
       "[2, 2, 3, 3, 1, 4, 5]"
      ]
     },
     "execution_count": 148,
     "metadata": {},
     "output_type": "execute_result"
    }
   ],
   "source": [
    "res=[]\n",
    "test_list = [4, 5, 6, 7, 3, 9,11]\n",
    "res1=[res.append(x//2) for x in test_list ]\n",
    "res"
   ]
  },
  {
   "cell_type": "code",
   "execution_count": null,
   "id": "63cbebec",
   "metadata": {},
   "outputs": [],
   "source": [
    "# Python – Find index of maximum item in list"
   ]
  },
  {
   "cell_type": "code",
   "execution_count": 158,
   "id": "f835a7e7",
   "metadata": {},
   "outputs": [
    {
     "name": "stdout",
     "output_type": "stream",
     "text": [
      "Index of the maximum element in the list is: 3\n"
     ]
    }
   ],
   "source": [
    "test_list = [4, 5, 6,85,7, 3, 9,11]\n",
    "index=0\n",
    "max_ele=test_list[0]\n",
    "for i,j in enumerate(test_list):\n",
    "    if test_list[i]>max_ele:\n",
    "        max_ele=test_list[i]\n",
    "        index=i\n",
    "        \n",
    "print(\"Index of the maximum element in the list is:\",index)"
   ]
  },
  {
   "cell_type": "code",
   "execution_count": null,
   "id": "6487a909",
   "metadata": {},
   "outputs": [],
   "source": [
    "# Remove elements larger than a specific value from a list in Python"
   ]
  },
  {
   "cell_type": "code",
   "execution_count": 160,
   "id": "714e1f49",
   "metadata": {},
   "outputs": [
    {
     "data": {
      "text/plain": [
       "[200, 500]"
      ]
     },
     "execution_count": 160,
     "metadata": {},
     "output_type": "execute_result"
    }
   ],
   "source": [
    "num_list = [30, 200, 65, 88, 98, 500, 34]\n",
    "num_list=[x for x in num_list if x>120]\n",
    "num_list"
   ]
  },
  {
   "cell_type": "code",
   "execution_count": 161,
   "id": "77ced623",
   "metadata": {},
   "outputs": [
    {
     "name": "stdout",
     "output_type": "stream",
     "text": [
      "[30, 65, 88, 98, 34]\n"
     ]
    }
   ],
   "source": [
    "\n",
    "num_list = [30, 200, 65, 88, 98, 500, 34]\n",
    " \n",
    "# traverse the numbers list\n",
    "for num in num_list:\n",
    "   \n",
    "    # check if current number in the\n",
    "    # list is greater than 100\n",
    "    if num > 100:\n",
    "       \n",
    "        # if true remove number from list\n",
    "        num_list.remove(num)\n",
    "        \n",
    "print(num_list)"
   ]
  },
  {
   "cell_type": "code",
   "execution_count": 163,
   "id": "56d60d75",
   "metadata": {},
   "outputs": [
    {
     "data": {
      "text/plain": [
       "['geeks', 'for']"
      ]
     },
     "execution_count": 163,
     "metadata": {},
     "output_type": "execute_result"
    }
   ],
   "source": [
    "lt=[\"geeks\", \"for\", \"geeks\"]\n",
    "lt.pop()\n",
    "lt"
   ]
  },
  {
   "cell_type": "code",
   "execution_count": 164,
   "id": "a721a1bf",
   "metadata": {},
   "outputs": [
    {
     "data": {
      "text/plain": [
       "['geeks', 'for']"
      ]
     },
     "execution_count": 164,
     "metadata": {},
     "output_type": "execute_result"
    }
   ],
   "source": [
    "lt=[\"geeks\", \"for\", \"geeks\"]\n",
    "lt[:-1]"
   ]
  },
  {
   "cell_type": "code",
   "execution_count": null,
   "id": "ea244dc6",
   "metadata": {},
   "outputs": [],
   "source": [
    "# Python Program to get Maximum product of elements of list in a 2D list"
   ]
  },
  {
   "cell_type": "code",
   "execution_count": 174,
   "id": "ebc1c6f7",
   "metadata": {},
   "outputs": [
    {
     "name": "stdout",
     "output_type": "stream",
     "text": [
      "504\n"
     ]
    }
   ],
   "source": [
    "lt=[[1, 2, 3], [4, 5, 6], [7, 8, 9]]\n",
    "\n",
    "maxi=0\n",
    "for i in lt:\n",
    "    p=1\n",
    "    for x in i:\n",
    "        p*=x\n",
    "        maxi=max(p,maxi)\n",
    "print(maxi)"
   ]
  },
  {
   "cell_type": "code",
   "execution_count": null,
   "id": "ea29d14f",
   "metadata": {},
   "outputs": [],
   "source": [
    "# Python Program to Square Each Odd Number in a List using List Comprehension"
   ]
  },
  {
   "cell_type": "code",
   "execution_count": 175,
   "id": "155ee3c5",
   "metadata": {},
   "outputs": [
    {
     "data": {
      "text/plain": [
       "[900]"
      ]
     },
     "execution_count": 175,
     "metadata": {},
     "output_type": "execute_result"
    }
   ],
   "source": [
    "res=[x*x for x in num_list if x%3==0]\n",
    "res"
   ]
  },
  {
   "cell_type": "code",
   "execution_count": 178,
   "id": "78edd34f",
   "metadata": {},
   "outputs": [],
   "source": [
    "test_list1 = [[4, 3, 5, ], [1, 2, 3], [3, 7, 4]]\n",
    "test_list2 = [[1, 3], [9, 3, 5, 7], [8]]\n",
    "new=[]\n",
    "for i,j in enumerate(test_list1):\n",
    "    for ele in test_list2[i]:\n",
    "        new.append(ele)\n",
    "    test_list1[i].extend(new)\n",
    "        "
   ]
  },
  {
   "cell_type": "code",
   "execution_count": 179,
   "id": "96228c20",
   "metadata": {},
   "outputs": [
    {
     "data": {
      "text/plain": [
       "[[4, 3, 5, 1, 3], [1, 2, 3, 1, 3, 9, 3, 5, 7], [3, 7, 4, 1, 3, 9, 3, 5, 7, 8]]"
      ]
     },
     "execution_count": 179,
     "metadata": {},
     "output_type": "execute_result"
    }
   ],
   "source": [
    "test_list1"
   ]
  },
  {
   "cell_type": "code",
   "execution_count": null,
   "id": "e278a31f",
   "metadata": {},
   "outputs": [],
   "source": [
    "# Python program to convert a byte string to a list of integers"
   ]
  },
  {
   "cell_type": "code",
   "execution_count": 180,
   "id": "870f1743",
   "metadata": {},
   "outputs": [
    {
     "name": "stdout",
     "output_type": "stream",
     "text": [
      "[71, 70, 71, 32, 105, 115, 32, 97, 32, 67, 83, 32, 80, 111, 114, 116, 97, 108]\n"
     ]
    }
   ],
   "source": [
    "# Python program to illustrate the\n",
    "# conversion of a byte string\n",
    "# to a list of integers\n",
    "\n",
    "# Initializing a byte string\n",
    "S = \"GFG is a CS Portal\"\n",
    "\n",
    "nums = []\n",
    "\n",
    "# Calling the for loop to iterate each\n",
    "# characters of the given byte string\n",
    "for chr in S:\n",
    "\n",
    "\t# Calling the ord() function\n",
    "\t# to convert the specified byte\n",
    "\t# characters to numbers of the unicode\n",
    "\tnums.append(ord(chr))\n",
    "\n",
    "# Printing the unicode of the byte string\n",
    "print(nums)\n"
   ]
  },
  {
   "cell_type": "code",
   "execution_count": null,
   "id": "bd467a15",
   "metadata": {},
   "outputs": [],
   "source": []
  },
  {
   "cell_type": "code",
   "execution_count": 189,
   "id": "9d4624ac",
   "metadata": {},
   "outputs": [
    {
     "data": {
      "text/plain": [
       "[6, 7, 8]"
      ]
     },
     "execution_count": 189,
     "metadata": {},
     "output_type": "execute_result"
    }
   ],
   "source": [
    "list1 = [1, 2, 3, 4, 5]  \n",
    "list2 = [4, 5, 6, 7, 8]\n",
    "a, b = [i for i in list1 if i not in list2], [j for j in list2 if j not in list1]\n",
    "b"
   ]
  },
  {
   "cell_type": "code",
   "execution_count": 190,
   "id": "bf1a0b9b",
   "metadata": {},
   "outputs": [
    {
     "data": {
      "text/plain": [
       "[1, 2, 3]"
      ]
     },
     "execution_count": 190,
     "metadata": {},
     "output_type": "execute_result"
    }
   ],
   "source": [
    "res=list(set(list1).difference(list2))\n",
    "res"
   ]
  },
  {
   "cell_type": "code",
   "execution_count": null,
   "id": "99cc935d",
   "metadata": {},
   "outputs": [],
   "source": [
    "# Python – Get the indices of all occurrences of an element in a list"
   ]
  },
  {
   "cell_type": "code",
   "execution_count": 191,
   "id": "8e3c4423",
   "metadata": {},
   "outputs": [
    {
     "name": "stdout",
     "output_type": "stream",
     "text": [
      "0\n",
      "3\n"
     ]
    }
   ],
   "source": [
    "# initialize a list\n",
    "my_list = [1, 2, 3, 1, 5, 4]\n",
    "# declare for loop\n",
    "for itr in range(len(my_list)):\n",
    "\n",
    "\t# check the condition\n",
    "\tif(my_list[itr] == 1):\n",
    "\n",
    "\t\t# print the indices\n",
    "\t\tprint(itr)\n"
   ]
  },
  {
   "cell_type": "code",
   "execution_count": null,
   "id": "0b1f91fe",
   "metadata": {},
   "outputs": [],
   "source": [
    "# Python – Find Index containing String in List"
   ]
  },
  {
   "cell_type": "code",
   "execution_count": 199,
   "id": "06367a0f",
   "metadata": {},
   "outputs": [
    {
     "name": "stdout",
     "output_type": "stream",
     "text": [
      "0 sravan\n",
      "2 harsha\n",
      "3 jyothika\n",
      "4 deepika\n",
      "7 ramya\n"
     ]
    }
   ],
   "source": [
    "Input1=['sravan', 98, 'harsha', 'jyothika', 'deepika', 78, 90, 'ramya']\n",
    "for index,ele in enumerate(Input1):\n",
    "    if Input1[index] is str(ele):\n",
    "        print(index,ele)"
   ]
  },
  {
   "cell_type": "code",
   "execution_count": 202,
   "id": "aafc3966",
   "metadata": {},
   "outputs": [
    {
     "name": "stdout",
     "output_type": "stream",
     "text": [
      "0 sravan\n",
      "2 harsha\n",
      "3 jyothika\n",
      "4 deepika\n",
      "7 ramya\n"
     ]
    }
   ],
   "source": [
    "# create a list of names and marks\n",
    "list1 = ['sravan', 98, 'harsha', 'jyothika',\n",
    "\t\t'deepika', 78, 90, 'ramya']\n",
    "\n",
    "# iterate through list of elements\n",
    "for i in list1:\n",
    "\tif(type(i) is str):\n",
    "\n",
    "         print(list1.index(i),i)\n"
   ]
  },
  {
   "cell_type": "markdown",
   "id": "688c585b",
   "metadata": {},
   "source": [
    "# Python Program to Find Largest Number in a List"
   ]
  },
  {
   "cell_type": "code",
   "execution_count": 4,
   "id": "5defe552",
   "metadata": {},
   "outputs": [
    {
     "name": "stdout",
     "output_type": "stream",
     "text": [
      "Max number 500\n"
     ]
    }
   ],
   "source": [
    "num_list = [30, 200, 65, 88, 98, 500, 34]\n",
    "min_num=num_list[0]\n",
    "for i in range(len(num_list)):\n",
    "    if num_list[i]>min_num:\n",
    "        min_num=num_list[i]\n",
    "print(\"Max number\",min_num)"
   ]
  },
  {
   "cell_type": "code",
   "execution_count": 8,
   "id": "a98f7c8a",
   "metadata": {},
   "outputs": [
    {
     "name": "stdout",
     "output_type": "stream",
     "text": [
      "Max number 500\n"
     ]
    }
   ],
   "source": [
    "for i in range(len(num_list)):\n",
    "    num_list.sort()\n",
    "print(\"Max number\",num_list[i])"
   ]
  },
  {
   "cell_type": "code",
   "execution_count": 11,
   "id": "4e4471ba",
   "metadata": {},
   "outputs": [
    {
     "name": "stdout",
     "output_type": "stream",
     "text": [
      "Enter number of elements:5\n",
      "Enter element:45\n",
      "Enter element:57\n",
      "Enter element:86\n",
      "Enter element:97\n",
      "Enter element:78\n",
      "Largest element is: 97\n"
     ]
    }
   ],
   "source": [
    "a=[]\n",
    "n=int(input(\"Enter number of elements:\"))\n",
    "for i in range(1,n+1):\n",
    "    b=int(input(\"Enter element:\"))\n",
    "    a.append(b)\n",
    "a.sort()\n",
    "print(\"Largest element is:\",a[n-1])"
   ]
  },
  {
   "cell_type": "code",
   "execution_count": null,
   "id": "358fc0c0",
   "metadata": {},
   "outputs": [],
   "source": [
    "# Python Program to Find Second Largest Number in a List"
   ]
  },
  {
   "cell_type": "code",
   "execution_count": 12,
   "id": "d78ff3ec",
   "metadata": {},
   "outputs": [
    {
     "name": "stdout",
     "output_type": "stream",
     "text": [
      "Enter the number of elemnts5\n",
      "47\n",
      "89\n",
      "87\n",
      "85\n",
      "96\n",
      "Second largest, 89\n"
     ]
    }
   ],
   "source": [
    "a=[]\n",
    "n=int(input(\"Enter the number of elemnts\"))\n",
    "for i in range(1,n+1):\n",
    "    b=int(input())\n",
    "    a.append(b)\n",
    "a.sort()\n",
    "print(\"Second largest,\",a[n-2])"
   ]
  },
  {
   "cell_type": "code",
   "execution_count": null,
   "id": "9bbf4d6c",
   "metadata": {},
   "outputs": [],
   "source": [
    "# Python Program to Print Largest Even and Largest Odd Number in a List"
   ]
  },
  {
   "cell_type": "code",
   "execution_count": 15,
   "id": "c82b2963",
   "metadata": {},
   "outputs": [
    {
     "name": "stdout",
     "output_type": "stream",
     "text": [
      "Enter the number of elemnts10\n",
      "5\n",
      "8\n",
      "45\n",
      "76\n",
      "54\n",
      "52\n",
      "51\n",
      "36\n",
      "32\n",
      "31\n",
      "Even Largest 10\n",
      "Odd Largest 9\n"
     ]
    }
   ],
   "source": [
    "a=[]\n",
    "n=int(input(\"Enter the number of elemnts\"))\n",
    "even=[]\n",
    "odd=[]\n",
    "\n",
    "for i in range(1,n+1):\n",
    "    b=int(input())\n",
    "    if i%2==0:\n",
    "        even.append(i)\n",
    "    else:\n",
    "        odd.append(i)\n",
    "    \n",
    "even.sort()\n",
    "odd.sort()\n",
    "count1=0\n",
    "count2=0\n",
    "for j in even:\n",
    "    count1+=1\n",
    "for k in odd:\n",
    "    count2+=1\n",
    "print(\"Even Largest\",even[count1-1])\n",
    "print(\"Odd Largest\",odd[count2-1])"
   ]
  },
  {
   "cell_type": "code",
   "execution_count": null,
   "id": "37a23b31",
   "metadata": {},
   "outputs": [],
   "source": [
    "# Python Program to Print Sum of Negative Numbers, Positive Even Numbers and Positive Odd numbers in a List"
   ]
  },
  {
   "cell_type": "code",
   "execution_count": 20,
   "id": "51c73815",
   "metadata": {},
   "outputs": [
    {
     "name": "stdout",
     "output_type": "stream",
     "text": [
      "Enter the number of elemnts10\n",
      "-5\n",
      "-5\n",
      "-8\n",
      "87\n",
      "56\n",
      "54\n",
      "58\n",
      "-98\n",
      "63\n",
      "12\n",
      "Sum of Negative numbers -116\n",
      "List of pos even numbers 180\n",
      "Lsit of pos odd numbers 150\n"
     ]
    }
   ],
   "source": [
    "a=[]\n",
    "n=int(input(\"Enter the number of elemnts\"))\n",
    "even=[]\n",
    "odd=[]\n",
    "sum_even=0\n",
    "sum_odd=0\n",
    "sum_neg=0\n",
    "for i in range(1,n+1):\n",
    "    b=int(input())\n",
    "    a.append(b)\n",
    "for j in a:\n",
    "        \n",
    "    if j<0:\n",
    "        sum_neg+=j\n",
    "    elif j%2==0 and j > 0:\n",
    "        sum_even+=j\n",
    "    elif j%2!=0 and j>0:\n",
    "        sum_odd+=j\n",
    "print(\"Sum of Negative numbers\",sum_neg)\n",
    "print(\"List of pos even numbers\",sum_even)\n",
    "print(\"Lsit of pos odd numbers\",sum_odd)\n",
    "    "
   ]
  },
  {
   "cell_type": "code",
   "execution_count": null,
   "id": "ea22bd9b",
   "metadata": {},
   "outputs": [],
   "source": [
    "# Python Program to Return the Length of the Longest Word from the List of Words"
   ]
  },
  {
   "cell_type": "code",
   "execution_count": 27,
   "id": "37071b0e",
   "metadata": {},
   "outputs": [
    {
     "name": "stdout",
     "output_type": "stream",
     "text": [
      "5\n",
      "ekjvlje\n",
      "kjebkjnjv\n",
      "qwbrjjwhrkhrk\n",
      "qwjefijrhfbkhjrnb\n",
      "ckqjwbcjhwb\n",
      "The word with the longest length is:\n",
      "qwjefijrhfbkhjrnb\n"
     ]
    }
   ],
   "source": [
    "a=[]\n",
    "n=int(input())\n",
    "\n",
    "for i in range(1,n+1):\n",
    "    b=input()\n",
    "    a.append(b)\n",
    "max1=len(a[0])\n",
    "temp=a[0]\n",
    "for i in a:\n",
    "    if (len(i)>max1):\n",
    "        max1=len(i)\n",
    "        temp=i\n",
    "print(\"The word with the longest length is:\")\n",
    "print(temp)"
   ]
  },
  {
   "cell_type": "code",
   "execution_count": null,
   "id": "4ebbadfc",
   "metadata": {},
   "outputs": [],
   "source": [
    "# Python Program to Generate Random Numbers from 1 to 20 and Append Them to the List"
   ]
  },
  {
   "cell_type": "code",
   "execution_count": 28,
   "id": "89b91561",
   "metadata": {},
   "outputs": [],
   "source": [
    "import random"
   ]
  },
  {
   "cell_type": "code",
   "execution_count": 30,
   "id": "e068168b",
   "metadata": {},
   "outputs": [
    {
     "name": "stdout",
     "output_type": "stream",
     "text": [
      "10\n",
      "Randomised no [3, 16, 12, 7, 9, 3, 18, 3, 10, 10]\n"
     ]
    }
   ],
   "source": [
    "a=[]\n",
    "n=int(input())\n",
    "for i in range(n):\n",
    "    a.append(random.randint(1,20))\n",
    "print(\"Randomised no\",a)"
   ]
  },
  {
   "cell_type": "code",
   "execution_count": null,
   "id": "df1e44af",
   "metadata": {},
   "outputs": [],
   "source": [
    "# Python Program to Remove the ith Occurrence of the Given Word in a List"
   ]
  },
  {
   "cell_type": "code",
   "execution_count": 32,
   "id": "f6008b91",
   "metadata": {},
   "outputs": [
    {
     "name": "stdout",
     "output_type": "stream",
     "text": [
      "5\n",
      "madan\n",
      "krish\n",
      "madiana\n",
      "sexy\n",
      "macy\n",
      "['madan', 'krish', 'madiana', 'sexy', 'macy']\n",
      "madan\n",
      "1\n",
      "The number of repetitions is:  1\n",
      "Updated list is:  ['krish', 'madiana', 'sexy', 'macy']\n",
      "The distinct elements are:  {'madiana', 'krish', 'macy', 'madan', 'sexy'}\n"
     ]
    }
   ],
   "source": [
    "a=[]\n",
    "n=int(input())\n",
    "for i in range(0,n):\n",
    "    b=input()\n",
    "    a.append(b)\n",
    "print(a)\n",
    "c=[]\n",
    "count=0\n",
    "b=input()\n",
    "n=int(input())\n",
    "for i in a:\n",
    "    if(i==b):\n",
    "        count+=1\n",
    "        if(count!=n):\n",
    "            c.append(i)\n",
    "    else:\n",
    "        c.append(i)\n",
    "        \n",
    "if(count==0):\n",
    "    print(\"Item not found \")\n",
    "else: \n",
    "    print(\"The number of repetitions is: \",count)\n",
    "    print(\"Updated list is: \",c)\n",
    "    print(\"The distinct elements are: \",set(a))"
   ]
  },
  {
   "cell_type": "code",
   "execution_count": null,
   "id": "64786f42",
   "metadata": {},
   "outputs": [],
   "source": [
    "# Python Program to Find the Union of Two Lists"
   ]
  },
  {
   "cell_type": "code",
   "execution_count": 35,
   "id": "1070d59b",
   "metadata": {},
   "outputs": [
    {
     "name": "stdout",
     "output_type": "stream",
     "text": [
      "5\n",
      "12\n",
      "12\n",
      "14\n",
      "121\n",
      "15\n",
      "5\n",
      "12\n",
      "14\n",
      "121\n",
      "12\n",
      "15\n",
      "[121, 12, 14, 15]\n"
     ]
    }
   ],
   "source": [
    "l1=[]\n",
    "n=int(input())\n",
    "for i in range(1,n+1):\n",
    "    b=int(input())\n",
    "    l1.append(b)\n",
    "    \n",
    "l2=[]\n",
    "n=int(input())\n",
    "for i in range(1,n+1):\n",
    "    c=int(input())\n",
    "    l2.append(c)\n",
    "\n",
    "union=list(set().union(l1,l2))\n",
    "\n",
    "print(union)\n",
    "\n",
    "intersection=list(set(l1)&set(l2))"
   ]
  },
  {
   "cell_type": "code",
   "execution_count": 36,
   "id": "6fbcbf20",
   "metadata": {},
   "outputs": [
    {
     "data": {
      "text/plain": [
       "[121, 12, 14, 15]"
      ]
     },
     "execution_count": 36,
     "metadata": {},
     "output_type": "execute_result"
    }
   ],
   "source": [
    "intersection"
   ]
  },
  {
   "cell_type": "code",
   "execution_count": null,
   "id": "6899c06e",
   "metadata": {},
   "outputs": [],
   "source": [
    "# Python Program to Sort Matrix by Sliced Row and Column Summation"
   ]
  },
  {
   "cell_type": "code",
   "execution_count": 37,
   "id": "b33e6e91",
   "metadata": {},
   "outputs": [
    {
     "name": "stdout",
     "output_type": "stream",
     "text": [
      "[[1, 4, 3, 1, 3], [2, 3, 5, 1, 6], [3, 4, 5, 2, 4], [23, 5, 5, 3]]\n"
     ]
    }
   ],
   "source": [
    "def sort_matrix(row):\n",
    "    return sum(row[i:j])\n",
    "\n",
    "test_list = [[1, 4, 3, 1, 3], [3, 4, 5, 2, 4],\n",
    "             [23, 5, 5, 3], [2, 3, 5, 1, 6]]\n",
    "\n",
    "i,j=1,3\n",
    "\n",
    "test_list.sort(key=sort_matrix)\n",
    "print(test_list)"
   ]
  },
  {
   "cell_type": "code",
   "execution_count": 38,
   "id": "ea736cd8",
   "metadata": {},
   "outputs": [
    {
     "data": {
      "text/plain": [
       "[[2, 3, 5, 1, 6], [3, 4, 5, 2, 4]]"
      ]
     },
     "execution_count": 38,
     "metadata": {},
     "output_type": "execute_result"
    }
   ],
   "source": [
    "test_list[1:3]"
   ]
  },
  {
   "cell_type": "code",
   "execution_count": null,
   "id": "7a66ad11",
   "metadata": {},
   "outputs": [],
   "source": []
  },
  {
   "cell_type": "code",
   "execution_count": 41,
   "id": "c695a6be",
   "metadata": {},
   "outputs": [
    {
     "name": "stdout",
     "output_type": "stream",
     "text": [
      "['gfg is', 'geeks over seas', 'and planets 5', 'all no 7']\n"
     ]
    }
   ],
   "source": [
    "def num_sort(lt):\n",
    "    \n",
    "    computed_num=[ele for ele in lt.split() if ele.isdigit()]\n",
    "    \n",
    "    if len(computed_num)>0:\n",
    "        return int(computed_num[0])\n",
    "    return -1\n",
    "\n",
    "\n",
    "test_list = [\"gfg is\", \"all no 7\", \"geeks over seas\", \"and planets 5\"]\n",
    "test_list.sort(key=num_sort)\n",
    "print(test_list)"
   ]
  },
  {
   "cell_type": "code",
   "execution_count": 40,
   "id": "50fc05ec",
   "metadata": {},
   "outputs": [
    {
     "data": {
      "text/plain": [
       "['all', 'no', '7']"
      ]
     },
     "execution_count": 40,
     "metadata": {},
     "output_type": "execute_result"
    }
   ],
   "source": [
    "d=\"all no 7\"\n",
    "d.split()"
   ]
  },
  {
   "cell_type": "code",
   "execution_count": 43,
   "id": "d5b22197",
   "metadata": {},
   "outputs": [
    {
     "data": {
      "text/plain": [
       "{'Gfg': 21.052631578947366,\n",
       " 'is': 15.789473684210526,\n",
       " 'best': 15.789473684210526,\n",
       " 'for': 10.526315789473683,\n",
       " 'geeks': 10.526315789473683,\n",
       " 'All': 5.263157894736842,\n",
       " 'love': 5.263157894736842,\n",
       " 'CS': 10.526315789473683,\n",
       " 'For': 5.263157894736842}"
      ]
     },
     "execution_count": 43,
     "metadata": {},
     "output_type": "execute_result"
    }
   ],
   "source": [
    "from collections import Counter\n",
    " \n",
    "# initializing list\n",
    "test_list = [\"Gfg is best for geeks\",\n",
    "             \"All love Gfg\",\n",
    "             \"Gfg is best for CS\",\n",
    "             \"For CS geeks Gfg is best\"]\n",
    "\n",
    "joined=' '.join(ele for ele in test_list)\n",
    "\n",
    "counter=Counter(joined.split())\n",
    "\n",
    "total_val=sum(counter.values())\n",
    "\n",
    "res={key:(val/total_val)*100 for key,val in counter.items()}\n",
    "res\n"
   ]
  },
  {
   "cell_type": "code",
   "execution_count": null,
   "id": "d7af61a7",
   "metadata": {},
   "outputs": [],
   "source": [
    "# Python Program to extract Dictionaries with given Key from a list of dictionaries"
   ]
  },
  {
   "cell_type": "code",
   "execution_count": 45,
   "id": "c4cd0523",
   "metadata": {},
   "outputs": [
    {
     "data": {
      "text/plain": [
       "[{'gfg': 2, 'is': 8, 'good': 3}]"
      ]
     },
     "execution_count": 45,
     "metadata": {},
     "output_type": "execute_result"
    }
   ],
   "source": [
    "test_list = [{'gfg': 2, 'is': 8, 'good': 3},\n",
    "             {'gfg': 1, 'for': 10, 'geeks': 9},\n",
    "             {'love': 3}]\n",
    "\n",
    "key='good'\n",
    "\n",
    "res=[ele for ele in test_list if key in list(ele.keys())]\n",
    "\n",
    "res"
   ]
  },
  {
   "cell_type": "code",
   "execution_count": null,
   "id": "3acea6f1",
   "metadata": {},
   "outputs": [],
   "source": [
    "# Python – Remove numbers with repeating digits"
   ]
  },
  {
   "cell_type": "code",
   "execution_count": 47,
   "id": "bf47932e",
   "metadata": {},
   "outputs": [
    {
     "data": {
      "text/plain": [
       "[6578, 3421]"
      ]
     },
     "execution_count": 47,
     "metadata": {},
     "output_type": "execute_result"
    }
   ],
   "source": [
    "test_list = [4252, 6578, 3421, 6545, 6676]\n",
    "\n",
    "res=[ele for ele in test_list if len(set(str(ele)))==len(str(ele))]\n",
    "res"
   ]
  },
  {
   "cell_type": "code",
   "execution_count": 49,
   "id": "96c8b392",
   "metadata": {},
   "outputs": [
    {
     "name": "stdout",
     "output_type": "stream",
     "text": [
      "[6, 3, 1, 6, 3, 1, 6, 3, 1, 4, 11]\n"
     ]
    }
   ],
   "source": [
    "test_list = [6, 3, 1, 8, 9, 2, 10, 12, 7, 4, 11]\n",
    "\n",
    "srt,end=3,9\n",
    "temp=test_list[3:9]\n",
    "temp.reverse()\n",
    "\n",
    "for idx in range(srt,end):\n",
    "    test_list[idx]=test_list[idx-srt]\n",
    "    \n",
    "print(test_list)"
   ]
  },
  {
   "cell_type": "code",
   "execution_count": 53,
   "id": "f6ecdf2d",
   "metadata": {},
   "outputs": [
    {
     "name": "stdout",
     "output_type": "stream",
     "text": [
      "['is', 'in']\n",
      "['Raj', 'likes']\n",
      "None\n"
     ]
    }
   ],
   "source": [
    "def common_words(sent1,sent2):\n",
    "    sen1=set(sent1)\n",
    "    sen2=set(sent2)\n",
    "    \n",
    "    common=list(sen1.intersection(sen2))\n",
    "    return common\n",
    "\n",
    "def removecommonwords(sent1,sent2):\n",
    "    sentence1=list(sent1.split())\n",
    "    sentence2=list(sent2.split())\n",
    "    \n",
    "    common_list=common_words(sentence1,sentence2)\n",
    "    \n",
    "    word=0\n",
    "    \n",
    "    for i in range(len(sentence1)):\n",
    "        \n",
    "        if sentence1[word] in common_list:\n",
    "            \n",
    "            sentence1.pop(word)\n",
    "            \n",
    "            word=word-1\n",
    "        word+=1\n",
    "        \n",
    "    word=0\n",
    "    \n",
    "    for i in range(len(sentence2)):\n",
    "        \n",
    "        if sentence2[word] in common_list:\n",
    "            \n",
    "            sentence2.pop(word)\n",
    "            \n",
    "            word=word-1\n",
    "        word+=1\n",
    "        \n",
    "    print(sentence1)\n",
    "    print(sentence2)\n",
    "    \n",
    "S1 = \"sky is blue in color\"\n",
    "S2 = \"Raj likes sky blue color\"\n",
    "print(removecommonwords(S1,S2))         "
   ]
  },
  {
   "cell_type": "code",
   "execution_count": 55,
   "id": "97ab1d9d",
   "metadata": {},
   "outputs": [
    {
     "data": {
      "text/plain": [
       "['e', ' ', 'b', 'u', 'k', 'l', 'c', 's', 'i', 'r', 'o', 'y']"
      ]
     },
     "execution_count": 55,
     "metadata": {},
     "output_type": "execute_result"
    }
   ],
   "source": [
    "common_words(S1,S2)"
   ]
  },
  {
   "cell_type": "code",
   "execution_count": 56,
   "id": "f51204ab",
   "metadata": {},
   "outputs": [],
   "source": [
    "def removecommonwords(sent1,sent2):\n",
    "    sentence1=list(sent1.split())\n",
    "    sentence2=list(sent2.split())\n",
    "    for i in sentence1:\n",
    "        if i in sentence2:\n",
    "            sentence1.remove(i)\n",
    "            sentence2.remove(i)\n",
    "    print(sentence1)\n",
    "    print(sentence2)"
   ]
  },
  {
   "cell_type": "code",
   "execution_count": 57,
   "id": "38423ea9",
   "metadata": {},
   "outputs": [
    {
     "name": "stdout",
     "output_type": "stream",
     "text": [
      "['is', 'in']\n",
      "['raj', 'likes']\n"
     ]
    }
   ],
   "source": [
    "sentence1 = \"sky is blue in color\"\n",
    "sentence2 = \"raj likes sky blue color\"\n",
    "removecommonwords(sentence1,sentence2)"
   ]
  },
  {
   "cell_type": "code",
   "execution_count": null,
   "id": "049a76d6",
   "metadata": {},
   "outputs": [],
   "source": [
    "# Python Program to Extract Elements from list in set"
   ]
  },
  {
   "cell_type": "code",
   "execution_count": 58,
   "id": "4d8149d4",
   "metadata": {},
   "outputs": [
    {
     "name": "stdout",
     "output_type": "stream",
     "text": [
      "The original list is : [5, 6, 2, 3, 2, 6, 5, 8, 9]\n",
      "[6, 2, 2, 6, 8]\n"
     ]
    }
   ],
   "source": [
    "test_list = [5, 6, 2, 3, 2, 6, 5, 8, 9]\n",
    "              \n",
    "# printing original list\n",
    "print(\"The original list is : \" + str(test_list))\n",
    " \n",
    "# initializing search set\n",
    "search_set = {6, 2, 8}\n",
    "res=[]\n",
    "for i in test_list:\n",
    "    if i in search_set:\n",
    "        res.append(i)\n",
    "        \n",
    "print(res)"
   ]
  },
  {
   "cell_type": "code",
   "execution_count": null,
   "id": "f2182b2d",
   "metadata": {},
   "outputs": [],
   "source": [
    "# fibonacci series"
   ]
  },
  {
   "cell_type": "code",
   "execution_count": 59,
   "id": "8f907d53",
   "metadata": {},
   "outputs": [
    {
     "name": "stdout",
     "output_type": "stream",
     "text": [
      "Enter the first number of the series 5\n",
      "Enter the second number of the series 6\n",
      "Enter the number of terms needed 5\n",
      "5 6 11 17 28 "
     ]
    }
   ],
   "source": [
    "a=int(input(\"Enter the first number of the series \"))\n",
    "b=int(input(\"Enter the second number of the series \"))\n",
    "n=int(input(\"Enter the number of terms needed \"))\n",
    "print(a,b,end=\" \")\n",
    "while(n-2):\n",
    "    c=a+b\n",
    "    a=b\n",
    "    b=c\n",
    "    print(c,end=\" \")\n",
    "    n=n-1"
   ]
  },
  {
   "cell_type": "code",
   "execution_count": 61,
   "id": "38ea4fdf",
   "metadata": {},
   "outputs": [
    {
     "name": "stdout",
     "output_type": "stream",
     "text": [
      "5\n",
      "120\n"
     ]
    }
   ],
   "source": [
    "n=int(input())\n",
    "fact=1\n",
    "while (n>0):\n",
    "    fact=fact*n\n",
    "    n=n-1\n",
    "print(fact)"
   ]
  },
  {
   "cell_type": "code",
   "execution_count": 62,
   "id": "50fd6e28",
   "metadata": {},
   "outputs": [
    {
     "name": "stdout",
     "output_type": "stream",
     "text": [
      "Enter number:5\n",
      "Factorial:\n",
      "120\n"
     ]
    }
   ],
   "source": [
    "def factorial(n):\n",
    "    if(n <= 1):\n",
    "        return 1\n",
    "    else:\n",
    "        return(n*factorial(n-1))\n",
    "n = int(input(\"Enter number:\"))\n",
    "print(\"Factorial:\")\n",
    "print(factorial(n))"
   ]
  },
  {
   "cell_type": "code",
   "execution_count": null,
   "id": "cd61ad2e",
   "metadata": {},
   "outputs": [],
   "source": [
    "# Prime numbers"
   ]
  },
  {
   "cell_type": "code",
   "execution_count": 72,
   "id": "5b49b297",
   "metadata": {},
   "outputs": [
    {
     "name": "stdout",
     "output_type": "stream",
     "text": [
      "100\n",
      "PN 2 PN 3 PN 4 PN 5 PN 7 PN 9 PN 11 PN 13 PN 17 PN 19 PN 23 PN 25 PN 29 PN 31 PN 37 PN 41 PN 43 PN 47 PN 49 PN 53 PN 59 PN 61 PN 67 PN 71 PN 73 PN 79 PN 83 PN 89 PN 97 "
     ]
    }
   ],
   "source": [
    "r=int(input())\n",
    "for a in range(2,r+1):\n",
    "    count=0\n",
    "    for i in range(2,a//2+1):\n",
    "        if (a%i==0):\n",
    "            count+=1\n",
    "    if (count<=1):\n",
    "        print(\"PN\",a,end=' ')"
   ]
  },
  {
   "cell_type": "code",
   "execution_count": null,
   "id": "795e8bad",
   "metadata": {},
   "outputs": [],
   "source": [
    "#Python Program to Check Prime Numbe"
   ]
  },
  {
   "cell_type": "code",
   "execution_count": 78,
   "id": "2a854c9c",
   "metadata": {},
   "outputs": [
    {
     "name": "stdout",
     "output_type": "stream",
     "text": [
      "6\n",
      "Not a Prime Number\n"
     ]
    }
   ],
   "source": [
    "a=int(input())\n",
    "k=0\n",
    "for i in range(2,a//2+1):\n",
    "    if(a%i==0):\n",
    "        k+=1\n",
    "if k<=1:\n",
    "    print(\"Prime number\")\n",
    "else:\n",
    "    print(\"Not a Prime Number\")\n"
   ]
  },
  {
   "cell_type": "code",
   "execution_count": null,
   "id": "f4ace1cb",
   "metadata": {},
   "outputs": [],
   "source": [
    "# Perfect number"
   ]
  },
  {
   "cell_type": "code",
   "execution_count": 82,
   "id": "16c5885b",
   "metadata": {},
   "outputs": [
    {
     "name": "stdout",
     "output_type": "stream",
     "text": [
      "5\n",
      "Perfect number\n"
     ]
    }
   ],
   "source": [
    "n=int(input())\n",
    "sum1=0\n",
    "for i in range(2,n+1):\n",
    "    if(n%i)==0:\n",
    "        sum1=sum1+i\n",
    "if (sum1==n):\n",
    "    print(\"Perfect number\")\n",
    "else:\n",
    "    print(\"imperfect number\")"
   ]
  },
  {
   "cell_type": "code",
   "execution_count": null,
   "id": "63924221",
   "metadata": {},
   "outputs": [],
   "source": [
    "# Armstrong number"
   ]
  },
  {
   "cell_type": "code",
   "execution_count": 88,
   "id": "d77fa474",
   "metadata": {},
   "outputs": [
    {
     "name": "stdout",
     "output_type": "stream",
     "text": [
      "33\n",
      "not armstrong number\n"
     ]
    }
   ],
   "source": [
    "n=int(input())\n",
    "a=list(map(int,str(n)))\n",
    "b=list(map(lambda x:x**3,a))\n",
    "\n",
    "if (sum(b)==n):\n",
    "    print(\"armstrong number\")\n",
    "else:\n",
    "    print(\"not armstrong number\")"
   ]
  }
 ],
 "metadata": {
  "kernelspec": {
   "display_name": "Python 3 (ipykernel)",
   "language": "python",
   "name": "python3"
  },
  "language_info": {
   "codemirror_mode": {
    "name": "ipython",
    "version": 3
   },
   "file_extension": ".py",
   "mimetype": "text/x-python",
   "name": "python",
   "nbconvert_exporter": "python",
   "pygments_lexer": "ipython3",
   "version": "3.9.13"
  }
 },
 "nbformat": 4,
 "nbformat_minor": 5
}
