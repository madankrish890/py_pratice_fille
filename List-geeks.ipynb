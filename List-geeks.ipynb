{
 "cells": [
  {
   "cell_type": "code",
   "execution_count": null,
   "id": "5821af1c",
   "metadata": {},
   "outputs": [],
   "source": [
    "# Python program to interchange first and last elements in a list"
   ]
  },
  {
   "cell_type": "code",
   "execution_count": 1,
   "id": "e96d14fa",
   "metadata": {},
   "outputs": [
    {
     "data": {
      "text/plain": [
       "[24, 35, 9, 56, 12]"
      ]
     },
     "execution_count": 1,
     "metadata": {},
     "output_type": "execute_result"
    }
   ],
   "source": [
    "list1=[12, 35, 9, 56, 24]\n",
    "list1[0],list1[4]=list1[4],list1[0]\n",
    "list1"
   ]
  },
  {
   "cell_type": "code",
   "execution_count": 2,
   "id": "5c70c4b4",
   "metadata": {},
   "outputs": [],
   "source": [
    "def swaplist(list1):\n",
    "    size=len(list1)\n",
    "    \n",
    "    temp=list1[0]\n",
    "    list1[0]=list1[size-1]\n",
    "    list1[size-1]=temp\n",
    "    \n",
    "    return list1"
   ]
  },
  {
   "cell_type": "code",
   "execution_count": 3,
   "id": "3fade5c7",
   "metadata": {},
   "outputs": [
    {
     "data": {
      "text/plain": [
       "[12, 35, 9, 56, 24]"
      ]
     },
     "execution_count": 3,
     "metadata": {},
     "output_type": "execute_result"
    }
   ],
   "source": [
    "swaplist(list1)"
   ]
  },
  {
   "cell_type": "code",
   "execution_count": null,
   "id": "b2d21d4b",
   "metadata": {},
   "outputs": [],
   "source": [
    "# Python program to swap two elements in a list"
   ]
  },
  {
   "cell_type": "code",
   "execution_count": 4,
   "id": "c831da8f",
   "metadata": {},
   "outputs": [],
   "source": [
    "def swaplist(list1,pos1,pos2):\n",
    "    \n",
    "    list1[pos1],list1[pos2]=list1[pos2],list1[pos1]\n",
    "    \n",
    "    return list1"
   ]
  },
  {
   "cell_type": "code",
   "execution_count": 5,
   "id": "5e9933f9",
   "metadata": {},
   "outputs": [
    {
     "data": {
      "text/plain": [
       "[12, 35, 56, 9, 24]"
      ]
     },
     "execution_count": 5,
     "metadata": {},
     "output_type": "execute_result"
    }
   ],
   "source": [
    "swaplist(list1,3,2)"
   ]
  },
  {
   "cell_type": "code",
   "execution_count": null,
   "id": "2ba1d8b3",
   "metadata": {},
   "outputs": [],
   "source": [
    "# Python – Swap elements in String list"
   ]
  },
  {
   "cell_type": "code",
   "execution_count": 7,
   "id": "b9bbc70b",
   "metadata": {},
   "outputs": [
    {
     "data": {
      "text/plain": [
       "['Mfg', 'is', 'best', 'for', 'Meeks']"
      ]
     },
     "execution_count": 7,
     "metadata": {},
     "output_type": "execute_result"
    }
   ],
   "source": [
    "test_list = ['Gfg', 'is', 'best', 'for', 'Geeks']\n",
    "\n",
    "result=[sub.replace(\"G\",\"M\") for sub in test_list]\n",
    "\n",
    "result"
   ]
  },
  {
   "cell_type": "code",
   "execution_count": 13,
   "id": "164196e9",
   "metadata": {},
   "outputs": [
    {
     "data": {
      "text/plain": [
       "['GMGg', 'is', 'best', 'MGor', 'Geeks']"
      ]
     },
     "execution_count": 13,
     "metadata": {},
     "output_type": "execute_result"
    }
   ],
   "source": [
    "import re\n",
    "\n",
    "results=[re.sub(\"f\",\"MG\",sub) for sub in test_list]\n",
    "results"
   ]
  },
  {
   "cell_type": "code",
   "execution_count": 14,
   "id": "347b583b",
   "metadata": {},
   "outputs": [
    {
     "name": "stdout",
     "output_type": "stream",
     "text": [
      "Length of list 5\n"
     ]
    }
   ],
   "source": [
    "test_list = [1, 4, 5, 7, 8]\n",
    "cnt=0\n",
    "for i in test_list:\n",
    "    cnt+=1\n",
    "print(\"Length of list\",cnt)   "
   ]
  },
  {
   "cell_type": "code",
   "execution_count": 15,
   "id": "272f482d",
   "metadata": {},
   "outputs": [
    {
     "data": {
      "text/plain": [
       "5"
      ]
     },
     "execution_count": 15,
     "metadata": {},
     "output_type": "execute_result"
    }
   ],
   "source": [
    "len(test_list)"
   ]
  },
  {
   "cell_type": "code",
   "execution_count": 20,
   "id": "61524dda",
   "metadata": {},
   "outputs": [
    {
     "data": {
      "text/plain": [
       "5"
      ]
     },
     "execution_count": 20,
     "metadata": {},
     "output_type": "execute_result"
    }
   ],
   "source": [
    "from collections import Counter\n",
    "\n",
    "length=sum(Counter(test_list).values())\n",
    "length"
   ]
  },
  {
   "cell_type": "code",
   "execution_count": null,
   "id": "16c41e3b",
   "metadata": {},
   "outputs": [],
   "source": [
    "# Maximum of two numbers in Python\n",
    "# Minimum of two numbers in Python"
   ]
  },
  {
   "cell_type": "code",
   "execution_count": 22,
   "id": "92019446",
   "metadata": {},
   "outputs": [],
   "source": [
    "def maximum(a,b):\n",
    "    if a>b:\n",
    "        return a\n",
    "    else:\n",
    "        return b"
   ]
  },
  {
   "cell_type": "code",
   "execution_count": 23,
   "id": "bf765999",
   "metadata": {},
   "outputs": [
    {
     "data": {
      "text/plain": [
       "85"
      ]
     },
     "execution_count": 23,
     "metadata": {},
     "output_type": "execute_result"
    }
   ],
   "source": [
    "maximum(10,85)"
   ]
  },
  {
   "cell_type": "code",
   "execution_count": 25,
   "id": "84074673",
   "metadata": {},
   "outputs": [
    {
     "data": {
      "text/plain": [
       "10"
      ]
     },
     "execution_count": 25,
     "metadata": {},
     "output_type": "execute_result"
    }
   ],
   "source": [
    "max(10,5)"
   ]
  },
  {
   "cell_type": "code",
   "execution_count": 28,
   "id": "955d4e57",
   "metadata": {},
   "outputs": [
    {
     "name": "stdout",
     "output_type": "stream",
     "text": [
      "19\n"
     ]
    }
   ],
   "source": [
    "a=5\n",
    "b=19\n",
    "res=print(a if a>b else b)\n",
    "res"
   ]
  },
  {
   "cell_type": "code",
   "execution_count": 29,
   "id": "963f8552",
   "metadata": {},
   "outputs": [],
   "source": [
    "def minimum(a,b):\n",
    "    if a<b:\n",
    "        return a\n",
    "    else:\n",
    "        return b"
   ]
  },
  {
   "cell_type": "code",
   "execution_count": 30,
   "id": "844163dc",
   "metadata": {},
   "outputs": [
    {
     "data": {
      "text/plain": [
       "5"
      ]
     },
     "execution_count": 30,
     "metadata": {},
     "output_type": "execute_result"
    }
   ],
   "source": [
    "minimum(10,5)"
   ]
  },
  {
   "cell_type": "code",
   "execution_count": null,
   "id": "6b2d6609",
   "metadata": {},
   "outputs": [],
   "source": [
    "# Check if element exists in list in Python"
   ]
  },
  {
   "cell_type": "code",
   "execution_count": 31,
   "id": "2d44b473",
   "metadata": {},
   "outputs": [
    {
     "name": "stdout",
     "output_type": "stream",
     "text": [
      "Exist\n"
     ]
    }
   ],
   "source": [
    "s=10\n",
    "\n",
    "if i in test_list:\n",
    "    print('Exist')\n",
    "else:\n",
    "    print(\"Doesn't Exist\")"
   ]
  },
  {
   "cell_type": "code",
   "execution_count": 33,
   "id": "ece89671",
   "metadata": {},
   "outputs": [
    {
     "name": "stdout",
     "output_type": "stream",
     "text": [
      "Doesn't Exists\n"
     ]
    }
   ],
   "source": [
    "test_list = [10, 15, 20, 7, 46, 2808]\n",
    "\n",
    "count=test_list.count(2500)\n",
    "\n",
    "if count>0:\n",
    "    print(\"Exists\")\n",
    "else:\n",
    "    print(\"Doesn't Exists\")"
   ]
  },
  {
   "cell_type": "code",
   "execution_count": 38,
   "id": "f02eda62",
   "metadata": {},
   "outputs": [
    {
     "name": "stdout",
     "output_type": "stream",
     "text": [
      "Exists\n"
     ]
    }
   ],
   "source": [
    "freq=Counter(test_list)\n",
    "\n",
    "if freq[10]>0:\n",
    "    print(\"Exists\")\n",
    "else:\n",
    "    print(\"Doesn't Exists\")"
   ]
  },
  {
   "cell_type": "code",
   "execution_count": null,
   "id": "d6686dd7",
   "metadata": {},
   "outputs": [],
   "source": [
    "# Different ways to clear a list in Python"
   ]
  },
  {
   "cell_type": "code",
   "execution_count": 42,
   "id": "bcf8bdf4",
   "metadata": {},
   "outputs": [],
   "source": [
    "test_list1=[10, 15, 20, 7, 46, 2808]\n",
    "\n",
    "#test_list1.clear()"
   ]
  },
  {
   "cell_type": "code",
   "execution_count": 49,
   "id": "6acae8ee",
   "metadata": {},
   "outputs": [
    {
     "data": {
      "text/plain": [
       "[]"
      ]
     },
     "execution_count": 49,
     "metadata": {},
     "output_type": "execute_result"
    }
   ],
   "source": [
    "test_list1[:0]"
   ]
  },
  {
   "cell_type": "code",
   "execution_count": 52,
   "id": "eaaaa324",
   "metadata": {},
   "outputs": [
    {
     "data": {
      "text/plain": [
       "[2808, 7, 15]"
      ]
     },
     "execution_count": 52,
     "metadata": {},
     "output_type": "execute_result"
    }
   ],
   "source": [
    "test_list1[::-2]"
   ]
  },
  {
   "cell_type": "code",
   "execution_count": 53,
   "id": "c3e5eff5",
   "metadata": {},
   "outputs": [
    {
     "data": {
      "text/plain": [
       "2808"
      ]
     },
     "execution_count": 53,
     "metadata": {},
     "output_type": "execute_result"
    }
   ],
   "source": [
    "test_list1.pop()"
   ]
  },
  {
   "cell_type": "code",
   "execution_count": 60,
   "id": "5795d2d8",
   "metadata": {},
   "outputs": [],
   "source": [
    "l=[10,20]\n",
    "test_list1.extend(l)"
   ]
  },
  {
   "cell_type": "code",
   "execution_count": 61,
   "id": "52a690e2",
   "metadata": {},
   "outputs": [
    {
     "data": {
      "text/plain": [
       "[10, 15, 20, 7, 46, 10, 20]"
      ]
     },
     "execution_count": 61,
     "metadata": {},
     "output_type": "execute_result"
    }
   ],
   "source": [
    "test_list1"
   ]
  },
  {
   "cell_type": "code",
   "execution_count": null,
   "id": "000025a4",
   "metadata": {},
   "outputs": [],
   "source": [
    "# Reversing a List in Python"
   ]
  },
  {
   "cell_type": "code",
   "execution_count": 62,
   "id": "47bd6e9e",
   "metadata": {},
   "outputs": [
    {
     "data": {
      "text/plain": [
       "[9, 8, 7, 6, 5, 4]"
      ]
     },
     "execution_count": 62,
     "metadata": {},
     "output_type": "execute_result"
    }
   ],
   "source": [
    "list1 = [4, 5, 6, 7, 8, 9]\n",
    "list1[::-1]"
   ]
  },
  {
   "cell_type": "code",
   "execution_count": null,
   "id": "4952a50f",
   "metadata": {},
   "outputs": [],
   "source": [
    "# Python | Cloning or Copying a list"
   ]
  },
  {
   "cell_type": "code",
   "execution_count": 63,
   "id": "482a9c02",
   "metadata": {},
   "outputs": [
    {
     "data": {
      "text/plain": [
       "[4, 5, 6, 7, 8, 9]"
      ]
     },
     "execution_count": 63,
     "metadata": {},
     "output_type": "execute_result"
    }
   ],
   "source": [
    "cpy=list1[:]\n",
    "cpy"
   ]
  },
  {
   "cell_type": "code",
   "execution_count": 64,
   "id": "a6ba5209",
   "metadata": {},
   "outputs": [
    {
     "data": {
      "text/plain": [
       "[4, 5, 6, 7, 8, 9]"
      ]
     },
     "execution_count": 64,
     "metadata": {},
     "output_type": "execute_result"
    }
   ],
   "source": [
    "cp=[i for i in list1]\n",
    "cp"
   ]
  },
  {
   "cell_type": "code",
   "execution_count": 65,
   "id": "87534dd7",
   "metadata": {},
   "outputs": [
    {
     "data": {
      "text/plain": [
       "[4, 5, 6, 7, 8, 9]"
      ]
     },
     "execution_count": 65,
     "metadata": {},
     "output_type": "execute_result"
    }
   ],
   "source": [
    "df=cp\n",
    "df"
   ]
  },
  {
   "cell_type": "code",
   "execution_count": null,
   "id": "efd393ab",
   "metadata": {},
   "outputs": [],
   "source": [
    "# Python | Count occurrences of an element in a lis"
   ]
  },
  {
   "cell_type": "code",
   "execution_count": 67,
   "id": "b9fa81fb",
   "metadata": {},
   "outputs": [
    {
     "name": "stdout",
     "output_type": "stream",
     "text": [
      "No of elements in list 9\n"
     ]
    }
   ],
   "source": [
    "lst = [15, 6, 7, 10, 12, 20, 10, 28, 10]\n",
    "cnt=0\n",
    "for i in lst:\n",
    "    cnt=cnt+1\n",
    "print(\"No of elements in list\",cnt)"
   ]
  },
  {
   "cell_type": "code",
   "execution_count": 69,
   "id": "f3b5ba8a",
   "metadata": {},
   "outputs": [
    {
     "data": {
      "text/plain": [
       "9"
      ]
     },
     "execution_count": 69,
     "metadata": {},
     "output_type": "execute_result"
    }
   ],
   "source": [
    "cnt=sum(Counter(lst).values())\n",
    "cnt"
   ]
  },
  {
   "cell_type": "code",
   "execution_count": 71,
   "id": "3a41ec08",
   "metadata": {},
   "outputs": [
    {
     "data": {
      "text/plain": [
       "5"
      ]
     },
     "execution_count": 71,
     "metadata": {},
     "output_type": "execute_result"
    }
   ],
   "source": [
    "lst = [8, 6, 8, 10, 8, 20, 10, 8, 8]\n",
    "x = 8\n",
    "\n",
    "def list_count(lst,x):\n",
    "    cnt=0\n",
    "    for ele in lst:\n",
    "        if (ele==x):\n",
    "            cnt+=1\n",
    "    return cnt\n",
    "            \n",
    "list_count(lst,x)"
   ]
  },
  {
   "cell_type": "code",
   "execution_count": 74,
   "id": "f594dd05",
   "metadata": {},
   "outputs": [
    {
     "data": {
      "text/plain": [
       "3"
      ]
     },
     "execution_count": 74,
     "metadata": {},
     "output_type": "execute_result"
    }
   ],
   "source": [
    "lis = ['a', 'd', 'd', 'c', 'a', 'b', 'b', 'a', 'c', 'd', 'e']\n",
    "dic={item:lis.count(item) for item in lis}\n",
    "dic.get(\"d\")"
   ]
  },
  {
   "cell_type": "code",
   "execution_count": 75,
   "id": "2caf1d1d",
   "metadata": {},
   "outputs": [
    {
     "name": "stdout",
     "output_type": "stream",
     "text": [
      "Element Count\n",
      "2    3\n",
      "1    2\n",
      "3    2\n",
      "4    2\n",
      "5    2\n",
      "dtype: int64\n"
     ]
    }
   ],
   "source": [
    "import pandas as pd\n",
    "\n",
    "# declaring the list\n",
    "l = [1, 1, 2, 2, 2, 3, 3, 4, 4, 5, 5]\n",
    "\n",
    "count = pd.Series(l).value_counts()\n",
    "print(\"Element Count\")\n",
    "print(count)"
   ]
  },
  {
   "cell_type": "code",
   "execution_count": 78,
   "id": "ed3c4cbd",
   "metadata": {},
   "outputs": [
    {
     "name": "stdout",
     "output_type": "stream",
     "text": [
      "286\n",
      "35.75\n"
     ]
    }
   ],
   "source": [
    "# Find sum and average of List in Python\n",
    "\n",
    "lt=[15, 9, 55, 41, 35, 20, 62, 49]\n",
    "sum1=0\n",
    "for ele in lt:\n",
    "    sum1+=ele\n",
    "    avg=sum1/len(lt)\n",
    "    \n",
    "print(sum1)\n",
    "print(avg)\n",
    "    "
   ]
  },
  {
   "cell_type": "code",
   "execution_count": 79,
   "id": "387903c6",
   "metadata": {},
   "outputs": [
    {
     "name": "stdout",
     "output_type": "stream",
     "text": [
      "286\n",
      "35.75\n"
     ]
    }
   ],
   "source": [
    "import statistics\n",
    "\n",
    "sum1=sum(lt)\n",
    "\n",
    "avg=statistics.mean(lt)\n",
    "\n",
    "print(sum1)\n",
    "print(avg)"
   ]
  },
  {
   "cell_type": "code",
   "execution_count": null,
   "id": "1f9b329e",
   "metadata": {},
   "outputs": [],
   "source": [
    "# Python | Sum of number digits in List"
   ]
  },
  {
   "cell_type": "code",
   "execution_count": 82,
   "id": "3e269577",
   "metadata": {},
   "outputs": [
    {
     "name": "stdout",
     "output_type": "stream",
     "text": [
      "[1, 3, 6, 13, 9, 17, 3, 7]\n"
     ]
    }
   ],
   "source": [
    "test_list = [12, 67, 98, 34]\n",
    "\n",
    "res=[]\n",
    "for ele in test_list:\n",
    "    sum=0\n",
    "    for digit in str(ele):\n",
    "        sum+=int(digit)\n",
    "        res.append(sum)\n",
    "print(str(res))"
   ]
  },
  {
   "cell_type": "code",
   "execution_count": null,
   "id": "8e2a8b79",
   "metadata": {},
   "outputs": [],
   "source": [
    "# Find the smallest number"
   ]
  },
  {
   "cell_type": "code",
   "execution_count": 83,
   "id": "508705e4",
   "metadata": {},
   "outputs": [
    {
     "name": "stdout",
     "output_type": "stream",
     "text": [
      "1\n"
     ]
    }
   ],
   "source": [
    "list2 = [20, 10, 20, 1, 100]\n",
    "min1=list2[0]\n",
    "for ele in range(len(list2)):\n",
    "    if list2[ele]<min1:\n",
    "        min1=list2[ele]\n",
    "print(min1)"
   ]
  },
  {
   "cell_type": "code",
   "execution_count": 84,
   "id": "163c5e3d",
   "metadata": {},
   "outputs": [
    {
     "data": {
      "text/plain": [
       "1"
      ]
     },
     "execution_count": 84,
     "metadata": {},
     "output_type": "execute_result"
    }
   ],
   "source": [
    "min(list2)"
   ]
  },
  {
   "cell_type": "code",
   "execution_count": 88,
   "id": "2b73cfdb",
   "metadata": {},
   "outputs": [
    {
     "name": "stdout",
     "output_type": "stream",
     "text": [
      "100\n"
     ]
    }
   ],
   "source": [
    "list2 = [20, 10, 20, 1, 100]\n",
    "max1=list2[0]\n",
    "for ele in range(len(list2)):\n",
    "    if list2[ele]>max1:\n",
    "        max1=list2[ele]\n",
    "print(max1)"
   ]
  },
  {
   "cell_type": "code",
   "execution_count": 89,
   "id": "2a7a42e8",
   "metadata": {},
   "outputs": [
    {
     "data": {
      "text/plain": [
       "(1, 3)"
      ]
     },
     "execution_count": 89,
     "metadata": {},
     "output_type": "execute_result"
    }
   ],
   "source": [
    "res=min((a,i) for (i,a) in enumerate(list2))\n",
    "res"
   ]
  },
  {
   "cell_type": "code",
   "execution_count": 92,
   "id": "5b8de785",
   "metadata": {},
   "outputs": [
    {
     "name": "stdout",
     "output_type": "stream",
     "text": [
      "0 20\n",
      "1 10\n",
      "2 20\n",
      "3 1\n",
      "4 100\n"
     ]
    }
   ],
   "source": [
    "for (i,a) in enumerate(list2):\n",
    "    print(i,a)"
   ]
  },
  {
   "cell_type": "code",
   "execution_count": 93,
   "id": "64cc08fc",
   "metadata": {},
   "outputs": [],
   "source": [
    "def lgr(arr):\n",
    "    secondlargest=0\n",
    "    largest=min(arr)\n",
    "    \n",
    "    for i in range(len(arr)):\n",
    "        if  arr[i]>largest:\n",
    "            \n",
    "            secondlargest=largest\n",
    "            largest=arr[i]\n",
    "        \n",
    "        else:\n",
    "            secondlargest=max(secondlargest,arr[i])\n",
    "            \n",
    "    return secondlargest   "
   ]
  },
  {
   "cell_type": "code",
   "execution_count": 94,
   "id": "e3231bf3",
   "metadata": {},
   "outputs": [
    {
     "data": {
      "text/plain": [
       "20"
      ]
     },
     "execution_count": 94,
     "metadata": {},
     "output_type": "execute_result"
    }
   ],
   "source": [
    "lgr(list2)"
   ]
  },
  {
   "cell_type": "code",
   "execution_count": null,
   "id": "8d23a130",
   "metadata": {},
   "outputs": [],
   "source": [
    "# Python program to print all even numbers in a range"
   ]
  },
  {
   "cell_type": "code",
   "execution_count": 101,
   "id": "4a6aed56",
   "metadata": {},
   "outputs": [
    {
     "data": {
      "text/plain": [
       "'[2, 4, 6, 8, 10, 12, 14, 16, 18, 20]'"
      ]
     },
     "execution_count": 101,
     "metadata": {},
     "output_type": "execute_result"
    }
   ],
   "source": [
    "even=[x for x in range(1,21) if x%2==0]"
   ]
  },
  {
   "cell_type": "code",
   "execution_count": null,
   "id": "cd4e4ec1",
   "metadata": {},
   "outputs": [],
   "source": [
    "# Python program to print all odd numbers in a range"
   ]
  },
  {
   "cell_type": "code",
   "execution_count": 102,
   "id": "ac68b364",
   "metadata": {},
   "outputs": [],
   "source": [
    "odd=[x for x in range(1,21) if x%3==0]"
   ]
  },
  {
   "cell_type": "code",
   "execution_count": 108,
   "id": "2f580d09",
   "metadata": {},
   "outputs": [
    {
     "name": "stdout",
     "output_type": "stream",
     "text": [
      "Count of Even Numbers 36\n",
      "Count of odd Numbers 36\n"
     ]
    }
   ],
   "source": [
    "even=0\n",
    "odd=0\n",
    "for i in range(1,73):\n",
    "    if i%2==0:\n",
    "        even+=1\n",
    "    else:\n",
    "        odd+=1\n",
    "print(\"Count of Even Numbers\",even)\n",
    "print(\"Count of odd Numbers\",odd)"
   ]
  },
  {
   "cell_type": "code",
   "execution_count": null,
   "id": "256eee02",
   "metadata": {},
   "outputs": [],
   "source": [
    "# Positive numbers"
   ]
  },
  {
   "cell_type": "code",
   "execution_count": 111,
   "id": "b0eff28d",
   "metadata": {},
   "outputs": [
    {
     "data": {
      "text/plain": [
       "[12, 5, 64]"
      ]
     },
     "execution_count": 111,
     "metadata": {},
     "output_type": "execute_result"
    }
   ],
   "source": [
    "list1 = [12, -7, 5, 64, -14]\n",
    "res=[x for x in list1 if x>0]\n",
    "res"
   ]
  },
  {
   "cell_type": "code",
   "execution_count": null,
   "id": "303207e8",
   "metadata": {},
   "outputs": [],
   "source": [
    "# Negative numbers"
   ]
  },
  {
   "cell_type": "code",
   "execution_count": 113,
   "id": "dd7feedd",
   "metadata": {},
   "outputs": [
    {
     "data": {
      "text/plain": [
       "[-7, -14]"
      ]
     },
     "execution_count": 113,
     "metadata": {},
     "output_type": "execute_result"
    }
   ],
   "source": [
    "list1 = [12, -7, 5, 64, -14]\n",
    "res=[x for x in list1 if x<0]\n",
    "res"
   ]
  },
  {
   "cell_type": "code",
   "execution_count": null,
   "id": "c696eaaa",
   "metadata": {},
   "outputs": [],
   "source": [
    "# Python program to print all positive numbers in a range\n"
   ]
  },
  {
   "cell_type": "code",
   "execution_count": 114,
   "id": "d5622aea",
   "metadata": {},
   "outputs": [
    {
     "data": {
      "text/plain": [
       "[1, 2, 3, 4, 5, 6, 7, 8, 9, 10, 11, 12, 13, 14]"
      ]
     },
     "execution_count": 114,
     "metadata": {},
     "output_type": "execute_result"
    }
   ],
   "source": [
    "res=[x for x in range(-10,15) if x>0]\n",
    "res"
   ]
  },
  {
   "cell_type": "code",
   "execution_count": 115,
   "id": "5db109bd",
   "metadata": {},
   "outputs": [
    {
     "data": {
      "text/plain": [
       "[-10, -9, -8, -7, -6, -5, -4, -3, -2, -1]"
      ]
     },
     "execution_count": 115,
     "metadata": {},
     "output_type": "execute_result"
    }
   ],
   "source": [
    "res=[x for x in range(-10,15) if x<0]\n",
    "res"
   ]
  },
  {
   "cell_type": "code",
   "execution_count": null,
   "id": "c307eee0",
   "metadata": {},
   "outputs": [],
   "source": [
    "# Python program to count positive and negative numbers in a list"
   ]
  },
  {
   "cell_type": "code",
   "execution_count": 116,
   "id": "3edff311",
   "metadata": {},
   "outputs": [
    {
     "name": "stdout",
     "output_type": "stream",
     "text": [
      "Count of Pos num 24\n",
      "Count of Neg num 16\n"
     ]
    }
   ],
   "source": [
    "pos,neg=0,0\n",
    "for i in range(-15,25):\n",
    "    if i>0:\n",
    "        pos+=1\n",
    "    else:\n",
    "        neg+=1\n",
    "print(\"Count of Pos num\",pos)\n",
    "print(\"Count of Neg num\",neg)"
   ]
  },
  {
   "cell_type": "code",
   "execution_count": null,
   "id": "f15f4044",
   "metadata": {},
   "outputs": [],
   "source": [
    "# Python program to remove multiple\n",
    "# elements from a list"
   ]
  },
  {
   "cell_type": "code",
   "execution_count": 120,
   "id": "15f18077",
   "metadata": {},
   "outputs": [
    {
     "data": {
      "text/plain": [
       "[11, 5, 18, 50]"
      ]
     },
     "execution_count": 120,
     "metadata": {},
     "output_type": "execute_result"
    }
   ],
   "source": [
    "# creating a list\n",
    "list1 = [11, 5, 17, 18, 23, 50]\n",
    "\n",
    "lt=[17,23]\n",
    "\n",
    "res=[ele for ele in list1 if ele not in lt]\n",
    "res"
   ]
  },
  {
   "cell_type": "code",
   "execution_count": 122,
   "id": "11254f78",
   "metadata": {},
   "outputs": [
    {
     "data": {
      "text/plain": [
       "[50, 23, 18, 17, 11, 5]"
      ]
     },
     "execution_count": 122,
     "metadata": {},
     "output_type": "execute_result"
    }
   ],
   "source": [
    "list1.sort(reverse=True)\n",
    "list1"
   ]
  },
  {
   "cell_type": "code",
   "execution_count": null,
   "id": "6bd7fcc0",
   "metadata": {},
   "outputs": [],
   "source": [
    "# How to count unique values inside a list"
   ]
  },
  {
   "cell_type": "code",
   "execution_count": 124,
   "id": "4ed44cb5",
   "metadata": {},
   "outputs": [
    {
     "name": "stdout",
     "output_type": "stream",
     "text": [
      "Count of unique elements 5\n",
      "[1, 2, 5, 8, 4]\n"
     ]
    }
   ],
   "source": [
    "input_list = [1, 2, 2, 5, 8, 4, 4, 8]\n",
    "cnt=0\n",
    "tr=[]\n",
    "for ele in input_list:\n",
    "    if ele not in tr:\n",
    "        cnt+=1\n",
    "        tr.append(ele)\n",
    "        \n",
    "print(\"Count of unique elements\",cnt)\n",
    "print(tr)"
   ]
  },
  {
   "cell_type": "code",
   "execution_count": 127,
   "id": "4b3ff656",
   "metadata": {},
   "outputs": [
    {
     "data": {
      "text/plain": [
       "[1, 2, 5, 8, 4]"
      ]
     },
     "execution_count": 127,
     "metadata": {},
     "output_type": "execute_result"
    }
   ],
   "source": [
    "res=Counter(input_list).keys()\n",
    "res=list(res)\n",
    "res"
   ]
  },
  {
   "cell_type": "code",
   "execution_count": null,
   "id": "17761c19",
   "metadata": {},
   "outputs": [],
   "source": [
    "# Python – List product excluding duplicates"
   ]
  },
  {
   "cell_type": "code",
   "execution_count": 128,
   "id": "8bee8e90",
   "metadata": {},
   "outputs": [],
   "source": [
    "def prod(lt):\n",
    "    res=1\n",
    "    for ele in lt:\n",
    "        res*=ele\n",
    "    return res"
   ]
  },
  {
   "cell_type": "code",
   "execution_count": 129,
   "id": "7f8913e4",
   "metadata": {},
   "outputs": [
    {
     "data": {
      "text/plain": [
       "90"
      ]
     },
     "execution_count": 129,
     "metadata": {},
     "output_type": "execute_result"
    }
   ],
   "source": [
    "test_list = [1, 3, 5, 6, 3, 5, 6, 1]\n",
    "res=[]\n",
    "ap=[res.append(x) for x in test_list if x not in res]\n",
    "res1=prod(res)\n",
    "res1"
   ]
  },
  {
   "cell_type": "code",
   "execution_count": null,
   "id": "1adc8281",
   "metadata": {},
   "outputs": [],
   "source": [
    "# Python – Extract elements with Frequency greater than K"
   ]
  },
  {
   "cell_type": "code",
   "execution_count": 131,
   "id": "ed088e4a",
   "metadata": {},
   "outputs": [
    {
     "name": "stdout",
     "output_type": "stream",
     "text": [
      "FREqs > k [4, 3]\n"
     ]
    }
   ],
   "source": [
    "test_list = [4, 6, 4, 3, 3, 4, 3, 4, 3, 8]\n",
    "K = 3 \n",
    "res=[]\n",
    "for i in test_list:\n",
    "    if test_list.count(i)>K:\n",
    "        if i not in res:\n",
    "            res.append(i)        \n",
    "print(\"FREqs > k\",res)\n"
   ]
  },
  {
   "cell_type": "code",
   "execution_count": 132,
   "id": "01352740",
   "metadata": {},
   "outputs": [
    {
     "name": "stdout",
     "output_type": "stream",
     "text": [
      "The original list : [4, 6, 4, 3, 3, 4, 3, 4, 6, 6]\n",
      "The required elements :  [4, 3, 6]\n"
     ]
    }
   ],
   "source": [
    "test_list = [4, 6, 4, 3, 3, 4, 3, 4, 6, 6]\n",
    "k = 2\n",
    "unique_elems = []\n",
    "freq_dict = {}\n",
    "output = []\n",
    "\n",
    "# printing string\n",
    "print(\"The original list : \" + str(test_list))\n",
    "\n",
    "for i in test_list:\n",
    "\t# Append in the unique element list\n",
    "\tif i not in unique_elems:\n",
    "\t\tunique_elems.append(i)\n",
    "\t\tfreq_dict[i] = 1\n",
    "\telse:\n",
    "\t\t# increment the counter if element is duplicate\n",
    "\t\tfreq_dict[i] += 1\n",
    "\n",
    "\t# Add in the output list only once\n",
    "\tif freq_dict[i] == k + 1:\n",
    "\t\toutput.append(i)\n",
    "\n",
    "print('The required elements : ', str(output))\n"
   ]
  },
  {
   "cell_type": "code",
   "execution_count": null,
   "id": "17d6df42",
   "metadata": {},
   "outputs": [],
   "source": [
    "# Python – Test if List contains elements in Range"
   ]
  },
  {
   "cell_type": "code",
   "execution_count": 134,
   "id": "6749a5f1",
   "metadata": {},
   "outputs": [
    {
     "name": "stdout",
     "output_type": "stream",
     "text": [
      "The original list is : [4, 5, 6, 7, 3, 9, 11]\n",
      "Does list contain all elements in range : False\n"
     ]
    }
   ],
   "source": [
    "# Python3 code to demonstrate\n",
    "# Test if List contains elements in Range\n",
    "# using all()\n",
    "\n",
    "# Initializing loop\n",
    "test_list = [4, 5, 6, 7, 3, 9,11]\n",
    "\n",
    "# printing original list\n",
    "print(\"The original list is : \" + str(test_list))\n",
    "\n",
    "# Initialization of range\n",
    "i, j = 3, 10\n",
    "\n",
    "# Test if List contains elements in Range\n",
    "# using all()\n",
    "res = all(ele >= i and ele < j for ele in test_list)\n",
    "\n",
    "# printing result\n",
    "print (\"Does list contain all elements in range : \" + str(res))\n"
   ]
  },
  {
   "cell_type": "code",
   "execution_count": null,
   "id": "5f89f705",
   "metadata": {},
   "outputs": [],
   "source": [
    "# Python program to check if the list contains three consecutive common numbers in Python"
   ]
  },
  {
   "cell_type": "code",
   "execution_count": 140,
   "id": "8f2d492a",
   "metadata": {},
   "outputs": [
    {
     "name": "stdout",
     "output_type": "stream",
     "text": [
      "contains three consecutive common numbers: [1, 22]\n"
     ]
    }
   ],
   "source": [
    "test_ip=[1, 1, 1, 64, 23, 64, 22, 22, 22]\n",
    "res=[]\n",
    "cnt=0\n",
    "k=3\n",
    "for i in test_ip:\n",
    "    if test_ip.count(i)==k:\n",
    "        res.append(i)\n",
    "        \n",
    "print(\"contains three consecutive common numbers:\",list(set(res)))\n",
    "        "
   ]
  },
  {
   "cell_type": "code",
   "execution_count": null,
   "id": "5961e509",
   "metadata": {},
   "outputs": [],
   "source": [
    "# Python Program to print all Possible Combinations from the three Digits"
   ]
  },
  {
   "cell_type": "code",
   "execution_count": 144,
   "id": "040ee948",
   "metadata": {},
   "outputs": [],
   "source": [
    "def comb(L):\n",
    "    for i in range(3):\n",
    "        for j in range(3):\n",
    "            for k in range(3):\n",
    "                \n",
    "                if(i!=j and j!=k and k!=i):\n",
    "                    print(L[i],L[j],L[k])"
   ]
  },
  {
   "cell_type": "code",
   "execution_count": 145,
   "id": "8753086a",
   "metadata": {},
   "outputs": [
    {
     "name": "stdout",
     "output_type": "stream",
     "text": [
      "1 2 3\n",
      "1 3 2\n",
      "2 1 3\n",
      "2 3 1\n",
      "3 1 2\n",
      "3 2 1\n"
     ]
    }
   ],
   "source": [
    "comb([1,2,3])"
   ]
  },
  {
   "cell_type": "code",
   "execution_count": null,
   "id": "2ede9b31",
   "metadata": {},
   "outputs": [],
   "source": [
    "# Python program to find all the Combinations in the list with the given condition"
   ]
  },
  {
   "cell_type": "code",
   "execution_count": 146,
   "id": "f8c6a7da",
   "metadata": {},
   "outputs": [
    {
     "name": "stdout",
     "output_type": "stream",
     "text": [
      "Combinations 1 : ('GFG', [5, 4])\n",
      "Combinations 2 : ('GFG', 'is')\n",
      "Combinations 3 : ('GFG', ['best', 'good', 'better', 'average'])\n",
      "Combinations 4 : ([5, 4], 'is')\n",
      "Combinations 5 : ([5, 4], ['best', 'good', 'better', 'average'])\n",
      "Combinations 6 : ('is', ['best', 'good', 'better', 'average'])\n"
     ]
    }
   ],
   "source": [
    "from itertools import combinations\n",
    "# initializing list\n",
    "test_list = [\"GFG\", [5, 4], \"is\",\n",
    "            [\"best\", \"good\", \"better\", \"average\"]]\n",
    "idx=0\n",
    "temp=combinations(test_list,2)\n",
    "for i in list(temp):\n",
    "    idx=idx+1\n",
    "    print(\"Combinations\",idx,\":\",i)"
   ]
  },
  {
   "cell_type": "code",
   "execution_count": null,
   "id": "9d09a6cd",
   "metadata": {},
   "outputs": [],
   "source": [
    "# Divide all Elements of a List by a Number in Python"
   ]
  },
  {
   "cell_type": "code",
   "execution_count": 148,
   "id": "65ae5c08",
   "metadata": {},
   "outputs": [
    {
     "data": {
      "text/plain": [
       "[2, 2, 3, 3, 1, 4, 5]"
      ]
     },
     "execution_count": 148,
     "metadata": {},
     "output_type": "execute_result"
    }
   ],
   "source": [
    "res=[]\n",
    "test_list = [4, 5, 6, 7, 3, 9,11]\n",
    "res1=[res.append(x//2) for x in test_list ]\n",
    "res"
   ]
  },
  {
   "cell_type": "code",
   "execution_count": null,
   "id": "dc0add10",
   "metadata": {},
   "outputs": [],
   "source": [
    "# Python – Find index of maximum item in list"
   ]
  },
  {
   "cell_type": "code",
   "execution_count": 158,
   "id": "975b49f4",
   "metadata": {},
   "outputs": [
    {
     "name": "stdout",
     "output_type": "stream",
     "text": [
      "Index of the maximum element in the list is: 3\n"
     ]
    }
   ],
   "source": [
    "test_list = [4, 5, 6,85,7, 3, 9,11]\n",
    "index=0\n",
    "max_ele=test_list[0]\n",
    "for i,j in enumerate(test_list):\n",
    "    if test_list[i]>max_ele:\n",
    "        max_ele=test_list[i]\n",
    "        index=i\n",
    "        \n",
    "print(\"Index of the maximum element in the list is:\",index)"
   ]
  },
  {
   "cell_type": "code",
   "execution_count": null,
   "id": "e80fc619",
   "metadata": {},
   "outputs": [],
   "source": [
    "# Remove elements larger than a specific value from a list in Python"
   ]
  },
  {
   "cell_type": "code",
   "execution_count": 160,
   "id": "68ce743f",
   "metadata": {},
   "outputs": [
    {
     "data": {
      "text/plain": [
       "[200, 500]"
      ]
     },
     "execution_count": 160,
     "metadata": {},
     "output_type": "execute_result"
    }
   ],
   "source": [
    "num_list = [30, 200, 65, 88, 98, 500, 34]\n",
    "num_list=[x for x in num_list if x>120]\n",
    "num_list"
   ]
  },
  {
   "cell_type": "code",
   "execution_count": 161,
   "id": "8f93a1c2",
   "metadata": {},
   "outputs": [
    {
     "name": "stdout",
     "output_type": "stream",
     "text": [
      "[30, 65, 88, 98, 34]\n"
     ]
    }
   ],
   "source": [
    "\n",
    "num_list = [30, 200, 65, 88, 98, 500, 34]\n",
    " \n",
    "# traverse the numbers list\n",
    "for num in num_list:\n",
    "   \n",
    "    # check if current number in the\n",
    "    # list is greater than 100\n",
    "    if num > 100:\n",
    "       \n",
    "        # if true remove number from list\n",
    "        num_list.remove(num)\n",
    "        \n",
    "print(num_list)"
   ]
  },
  {
   "cell_type": "code",
   "execution_count": 163,
   "id": "3eff09c6",
   "metadata": {},
   "outputs": [
    {
     "data": {
      "text/plain": [
       "['geeks', 'for']"
      ]
     },
     "execution_count": 163,
     "metadata": {},
     "output_type": "execute_result"
    }
   ],
   "source": [
    "lt=[\"geeks\", \"for\", \"geeks\"]\n",
    "lt.pop()\n",
    "lt"
   ]
  },
  {
   "cell_type": "code",
   "execution_count": 164,
   "id": "9d161449",
   "metadata": {},
   "outputs": [
    {
     "data": {
      "text/plain": [
       "['geeks', 'for']"
      ]
     },
     "execution_count": 164,
     "metadata": {},
     "output_type": "execute_result"
    }
   ],
   "source": [
    "lt=[\"geeks\", \"for\", \"geeks\"]\n",
    "lt[:-1]"
   ]
  },
  {
   "cell_type": "code",
   "execution_count": null,
   "id": "8e5290bc",
   "metadata": {},
   "outputs": [],
   "source": [
    "# Python Program to get Maximum product of elements of list in a 2D list"
   ]
  },
  {
   "cell_type": "code",
   "execution_count": 174,
   "id": "0f663565",
   "metadata": {},
   "outputs": [
    {
     "name": "stdout",
     "output_type": "stream",
     "text": [
      "504\n"
     ]
    }
   ],
   "source": [
    "lt=[[1, 2, 3], [4, 5, 6], [7, 8, 9]]\n",
    "\n",
    "maxi=0\n",
    "for i in lt:\n",
    "    p=1\n",
    "    for x in i:\n",
    "        p*=x\n",
    "        maxi=max(p,maxi)\n",
    "print(maxi)"
   ]
  },
  {
   "cell_type": "code",
   "execution_count": null,
   "id": "14d63633",
   "metadata": {},
   "outputs": [],
   "source": [
    "# Python Program to Square Each Odd Number in a List using List Comprehension"
   ]
  },
  {
   "cell_type": "code",
   "execution_count": 175,
   "id": "5c77a3f8",
   "metadata": {},
   "outputs": [
    {
     "data": {
      "text/plain": [
       "[900]"
      ]
     },
     "execution_count": 175,
     "metadata": {},
     "output_type": "execute_result"
    }
   ],
   "source": [
    "res=[x*x for x in num_list if x%3==0]\n",
    "res"
   ]
  },
  {
   "cell_type": "code",
   "execution_count": 178,
   "id": "5e7a9449",
   "metadata": {},
   "outputs": [],
   "source": [
    "test_list1 = [[4, 3, 5, ], [1, 2, 3], [3, 7, 4]]\n",
    "test_list2 = [[1, 3], [9, 3, 5, 7], [8]]\n",
    "new=[]\n",
    "for i,j in enumerate(test_list1):\n",
    "    for ele in test_list2[i]:\n",
    "        new.append(ele)\n",
    "    test_list1[i].extend(new)\n",
    "        "
   ]
  },
  {
   "cell_type": "code",
   "execution_count": 179,
   "id": "202c589c",
   "metadata": {},
   "outputs": [
    {
     "data": {
      "text/plain": [
       "[[4, 3, 5, 1, 3], [1, 2, 3, 1, 3, 9, 3, 5, 7], [3, 7, 4, 1, 3, 9, 3, 5, 7, 8]]"
      ]
     },
     "execution_count": 179,
     "metadata": {},
     "output_type": "execute_result"
    }
   ],
   "source": [
    "test_list1"
   ]
  },
  {
   "cell_type": "code",
   "execution_count": null,
   "id": "4b6e410c",
   "metadata": {},
   "outputs": [],
   "source": [
    "# Python program to convert a byte string to a list of integers"
   ]
  },
  {
   "cell_type": "code",
   "execution_count": 180,
   "id": "5b59cbfb",
   "metadata": {},
   "outputs": [
    {
     "name": "stdout",
     "output_type": "stream",
     "text": [
      "[71, 70, 71, 32, 105, 115, 32, 97, 32, 67, 83, 32, 80, 111, 114, 116, 97, 108]\n"
     ]
    }
   ],
   "source": [
    "# Python program to illustrate the\n",
    "# conversion of a byte string\n",
    "# to a list of integers\n",
    "\n",
    "# Initializing a byte string\n",
    "S = \"GFG is a CS Portal\"\n",
    "\n",
    "nums = []\n",
    "\n",
    "# Calling the for loop to iterate each\n",
    "# characters of the given byte string\n",
    "for chr in S:\n",
    "\n",
    "\t# Calling the ord() function\n",
    "\t# to convert the specified byte\n",
    "\t# characters to numbers of the unicode\n",
    "\tnums.append(ord(chr))\n",
    "\n",
    "# Printing the unicode of the byte string\n",
    "print(nums)\n"
   ]
  },
  {
   "cell_type": "code",
   "execution_count": null,
   "id": "1ec5ab7e",
   "metadata": {},
   "outputs": [],
   "source": []
  },
  {
   "cell_type": "code",
   "execution_count": 189,
   "id": "61f9104e",
   "metadata": {},
   "outputs": [
    {
     "data": {
      "text/plain": [
       "[6, 7, 8]"
      ]
     },
     "execution_count": 189,
     "metadata": {},
     "output_type": "execute_result"
    }
   ],
   "source": [
    "list1 = [1, 2, 3, 4, 5]  \n",
    "list2 = [4, 5, 6, 7, 8]\n",
    "a, b = [i for i in list1 if i not in list2], [j for j in list2 if j not in list1]\n",
    "b"
   ]
  },
  {
   "cell_type": "code",
   "execution_count": 190,
   "id": "d9095977",
   "metadata": {},
   "outputs": [
    {
     "data": {
      "text/plain": [
       "[1, 2, 3]"
      ]
     },
     "execution_count": 190,
     "metadata": {},
     "output_type": "execute_result"
    }
   ],
   "source": [
    "res=list(set(list1).difference(list2))\n",
    "res"
   ]
  },
  {
   "cell_type": "code",
   "execution_count": null,
   "id": "daff17b9",
   "metadata": {},
   "outputs": [],
   "source": [
    "# Python – Get the indices of all occurrences of an element in a list"
   ]
  },
  {
   "cell_type": "code",
   "execution_count": 191,
   "id": "7d71c864",
   "metadata": {},
   "outputs": [
    {
     "name": "stdout",
     "output_type": "stream",
     "text": [
      "0\n",
      "3\n"
     ]
    }
   ],
   "source": [
    "# initialize a list\n",
    "my_list = [1, 2, 3, 1, 5, 4]\n",
    "# declare for loop\n",
    "for itr in range(len(my_list)):\n",
    "\n",
    "\t# check the condition\n",
    "\tif(my_list[itr] == 1):\n",
    "\n",
    "\t\t# print the indices\n",
    "\t\tprint(itr)\n"
   ]
  },
  {
   "cell_type": "code",
   "execution_count": null,
   "id": "2e5c69f9",
   "metadata": {},
   "outputs": [],
   "source": [
    "# Python – Find Index containing String in List"
   ]
  },
  {
   "cell_type": "code",
   "execution_count": 199,
   "id": "43ca2b0d",
   "metadata": {},
   "outputs": [
    {
     "name": "stdout",
     "output_type": "stream",
     "text": [
      "0 sravan\n",
      "2 harsha\n",
      "3 jyothika\n",
      "4 deepika\n",
      "7 ramya\n"
     ]
    }
   ],
   "source": [
    "Input1=['sravan', 98, 'harsha', 'jyothika', 'deepika', 78, 90, 'ramya']\n",
    "for index,ele in enumerate(Input1):\n",
    "    if Input1[index] is str(ele):\n",
    "        print(index,ele)"
   ]
  },
  {
   "cell_type": "code",
   "execution_count": 202,
   "id": "a67eb813",
   "metadata": {},
   "outputs": [
    {
     "name": "stdout",
     "output_type": "stream",
     "text": [
      "0 sravan\n",
      "2 harsha\n",
      "3 jyothika\n",
      "4 deepika\n",
      "7 ramya\n"
     ]
    }
   ],
   "source": [
    "# create a list of names and marks\n",
    "list1 = ['sravan', 98, 'harsha', 'jyothika',\n",
    "\t\t'deepika', 78, 90, 'ramya']\n",
    "\n",
    "# iterate through list of elements\n",
    "for i in list1:\n",
    "\tif(type(i) is str):\n",
    "\n",
    "         print(list1.index(i),i)\n"
   ]
  }
 ],
 "metadata": {
  "kernelspec": {
   "display_name": "Python 3 (ipykernel)",
   "language": "python",
   "name": "python3"
  },
  "language_info": {
   "codemirror_mode": {
    "name": "ipython",
    "version": 3
   },
   "file_extension": ".py",
   "mimetype": "text/x-python",
   "name": "python",
   "nbconvert_exporter": "python",
   "pygments_lexer": "ipython3",
   "version": "3.9.13"
  }
 },
 "nbformat": 4,
 "nbformat_minor": 5
}
