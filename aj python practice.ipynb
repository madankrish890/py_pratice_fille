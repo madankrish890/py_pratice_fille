{
 "cells": [
  {
   "cell_type": "code",
   "execution_count": 5,
   "id": "09a4292a",
   "metadata": {},
   "outputs": [
    {
     "name": "stdout",
     "output_type": "stream",
     "text": [
      "Even Numbers 0\n",
      "Even Numbers 2\n",
      "Even Numbers 4\n",
      "Even Numbers 6\n",
      "Even Numbers 8\n"
     ]
    }
   ],
   "source": [
    "for i in range(0,10):\n",
    "    if i%2==0:\n",
    "        print('Even Numbers',i)"
   ]
  },
  {
   "cell_type": "markdown",
   "id": "7f50ffc7",
   "metadata": {},
   "source": [
    "# Print prime numbers"
   ]
  },
  {
   "cell_type": "code",
   "execution_count": 12,
   "id": "1f7d6bf8",
   "metadata": {},
   "outputs": [
    {
     "name": "stdout",
     "output_type": "stream",
     "text": [
      "Enter the number10\n",
      "prime numbers: 1 2 3 5 7 "
     ]
    }
   ],
   "source": [
    "number=int(input('Enter the number'))\n",
    "print('prime numbers:',end=' ')\n",
    "for n in range(1,number):\n",
    "    for i in range(2,n):\n",
    "        if (n%i)==0:\n",
    "            break\n",
    "    else:\n",
    "        print(n,end=' ')"
   ]
  },
  {
   "cell_type": "code",
   "execution_count": 22,
   "id": "da105f7e",
   "metadata": {},
   "outputs": [
    {
     "name": "stdout",
     "output_type": "stream",
     "text": [
      "2\n",
      "3\n"
     ]
    }
   ],
   "source": [
    "for i in range(2,4):\n",
    "    print(i)"
   ]
  },
  {
   "cell_type": "code",
   "execution_count": 24,
   "id": "66e7ba8c",
   "metadata": {},
   "outputs": [
    {
     "name": "stdout",
     "output_type": "stream",
     "text": [
      "1\n",
      "2\n",
      "3\n",
      "5\n",
      "7\n"
     ]
    }
   ],
   "source": [
    "for n in range(1,10):\n",
    "    for i in range(2,n):\n",
    "        if (n%i)==0:\n",
    "            break\n",
    "    else:\n",
    "        print(n)"
   ]
  },
  {
   "cell_type": "markdown",
   "id": "6004fa8f",
   "metadata": {},
   "source": [
    "# Sort"
   ]
  },
  {
   "cell_type": "code",
   "execution_count": 29,
   "id": "2dc7c93c",
   "metadata": {},
   "outputs": [],
   "source": [
    "mylist = [5,8,9,6,3]\n",
    "\n"
   ]
  },
  {
   "cell_type": "code",
   "execution_count": 35,
   "id": "fd6b6d52",
   "metadata": {},
   "outputs": [],
   "source": [
    "for i in range(len(mylist)):\n",
    "    for j in range(i+1,len(mylist)):\n",
    "        if mylist[j]<mylist[i]:\n",
    "            mylist[i],mylist[j]=mylist[j],mylist[i]"
   ]
  },
  {
   "cell_type": "code",
   "execution_count": 37,
   "id": "ae0eb94e",
   "metadata": {},
   "outputs": [
    {
     "name": "stdout",
     "output_type": "stream",
     "text": [
      "0\n",
      "1\n",
      "2\n",
      "3\n",
      "4\n"
     ]
    }
   ],
   "source": [
    "for i in range(len(mylist)):\n",
    "    print(i)"
   ]
  },
  {
   "cell_type": "code",
   "execution_count": 34,
   "id": "23982de0",
   "metadata": {},
   "outputs": [
    {
     "name": "stdout",
     "output_type": "stream",
     "text": [
      "1\n",
      "2\n",
      "3\n",
      "4\n",
      "2\n",
      "3\n",
      "4\n",
      "3\n",
      "4\n",
      "4\n"
     ]
    }
   ],
   "source": [
    "for i in range(len(mylist)):\n",
    "    for j in range(i+1,len(mylist)):\n",
    "        print(j)"
   ]
  },
  {
   "cell_type": "code",
   "execution_count": 41,
   "id": "efbfe5a7",
   "metadata": {},
   "outputs": [
    {
     "name": "stdout",
     "output_type": "stream",
     "text": [
      "9\n"
     ]
    }
   ],
   "source": [
    "# Find maximum number from an array\n",
    "arr = [5,4,3,6,9]\n",
    "\n",
    "for i in arr:\n",
    "    maximum=arr[0]\n",
    "    if i>maximum:\n",
    "        maximum=i\n",
    "print(maximum)"
   ]
  },
  {
   "cell_type": "code",
   "execution_count": 42,
   "id": "c26a51f1",
   "metadata": {},
   "outputs": [
    {
     "name": "stdout",
     "output_type": "stream",
     "text": [
      "[3, 5, 6, 8, 9]\n"
     ]
    }
   ],
   "source": [
    "# For accending\n",
    "mylist = [5,8,9,6,3]\n",
    "print(sorted(mylist))"
   ]
  },
  {
   "cell_type": "code",
   "execution_count": 43,
   "id": "6628a86c",
   "metadata": {},
   "outputs": [
    {
     "name": "stdout",
     "output_type": "stream",
     "text": [
      "[9, 8, 6, 5, 3]\n"
     ]
    }
   ],
   "source": [
    "# For descending\n",
    "mylist = [5,8,9,6,3]\n",
    "print(sorted(mylist,reverse=True))"
   ]
  },
  {
   "cell_type": "code",
   "execution_count": 58,
   "id": "39a6a8b2",
   "metadata": {},
   "outputs": [],
   "source": [
    "# find dublicate value and sort in accending order\n",
    "mylist = [2,5,7,5,3,4,5,2]\n",
    "new_list=[]\n",
    "duplicate=[]\n",
    "\n",
    "def duplicate(mylist):\n",
    "    new_list=[]\n",
    "    duplicate=[]\n",
    "    for i in mylist:\n",
    "        if i not in new_list:\n",
    "            new_list.append(i)\n",
    "        else:\n",
    "            duplicate.append(i)\n",
    "    return list(set(duplicate))\n",
    "    "
   ]
  },
  {
   "cell_type": "code",
   "execution_count": 59,
   "id": "303ffaad",
   "metadata": {},
   "outputs": [
    {
     "data": {
      "text/plain": [
       "[2, 5]"
      ]
     },
     "execution_count": 59,
     "metadata": {},
     "output_type": "execute_result"
    }
   ],
   "source": [
    "duplicate(mylist)"
   ]
  },
  {
   "cell_type": "code",
   "execution_count": 60,
   "id": "ac88f3f7",
   "metadata": {},
   "outputs": [],
   "source": [
    "# sorting list in ascending order\n",
    "mylist = [5,8,9,6,3]\n",
    "\n",
    "for i in range(len(mylist)):\n",
    "    for j in range(i+1,len(mylist)):\n",
    "        if mylist[j]<mylist[i]:\n",
    "            mylist[i],mylist[j]=mylist[j],mylist[i]"
   ]
  },
  {
   "cell_type": "code",
   "execution_count": 76,
   "id": "e31dd938",
   "metadata": {},
   "outputs": [
    {
     "name": "stdout",
     "output_type": "stream",
     "text": [
      "45\n"
     ]
    }
   ],
   "source": [
    "# Python program to find second largest number\n",
    "# in a list\n",
    "# List of numbers\n",
    "list1 = [10, 20, 20, 4, 45, 45, 45, 99, 99]\n",
    "maximum=max(list1)\n",
    "second_max=None\n",
    "\n",
    "for i in range(len(list1)):\n",
    "    if list1[i]!=maximum:\n",
    "        if second_max is None or list1[i]>second_max:\n",
    "            second_max=list1[i]\n",
    "if second_max is not None:\n",
    "    print(second_max)\n",
    "else:\n",
    "    print('No second maximum in list')"
   ]
  },
  {
   "cell_type": "code",
   "execution_count": 99,
   "id": "991e3a27",
   "metadata": {},
   "outputs": [],
   "source": [
    "def Fibonacci(n):\n",
    "\n",
    " # Check if input is 0 then it will\n",
    " # print incorrect input\n",
    "    if n < 0:\n",
    "        print(\"Incorrect input\")\n",
    " # Check if n is 0\n",
    " # then it will return 0\n",
    "    elif n == 0:\n",
    "        return 0\n",
    " # Check if n is 1,2\n",
    " # it will return 1\n",
    "    elif n == 1 or n == 2:\n",
    "        return 1\n",
    "    else:\n",
    "        return Fibonacci(n-1) + Fibonacci(n-2)"
   ]
  },
  {
   "cell_type": "code",
   "execution_count": 101,
   "id": "49c3734a",
   "metadata": {},
   "outputs": [
    {
     "data": {
      "text/plain": [
       "8"
      ]
     },
     "execution_count": 101,
     "metadata": {},
     "output_type": "execute_result"
    }
   ],
   "source": [
    "Fibonacci(6)"
   ]
  },
  {
   "cell_type": "code",
   "execution_count": 81,
   "id": "45530c8d",
   "metadata": {},
   "outputs": [
    {
     "name": "stdout",
     "output_type": "stream",
     "text": [
      "Enter the number of terms to generate in the Fibonacci series: 10\n",
      "0 1 1 2 3 5 8 13 21 34 "
     ]
    }
   ],
   "source": [
    "# Function to generate Fibonacci sequence\n",
    "def fibonacci(n):\n",
    "    # Initialize the first two numbers in the series\n",
    "    a, b = 0, 1\n",
    "    # Loop through n terms\n",
    "    for i in range(n):\n",
    "        print(a, end=' ')\n",
    "        # Update the values of a and b\n",
    "        a, b = b, a + b\n",
    "\n",
    "# Get input from the user\n",
    "terms = int(input(\"Enter the number of terms to generate in the Fibonacci series: \"))\n",
    "\n",
    "# Call the function\n",
    "fibonacci(terms)\n"
   ]
  },
  {
   "cell_type": "code",
   "execution_count": 103,
   "id": "41f62c5d",
   "metadata": {},
   "outputs": [],
   "source": [
    "# Print list in decending order\n",
    "\n",
    "mylist = [5,8,9,6,3]\n",
    "\n",
    "for i in range(len(mylist)):\n",
    "    for j in range(i+1,len(mylist)):\n",
    "        if mylist[j]>mylist[i]:\n",
    "            mylist[i],mylist[j]=mylist[j],mylist[i]"
   ]
  },
  {
   "cell_type": "code",
   "execution_count": 106,
   "id": "11d4ff99",
   "metadata": {},
   "outputs": [
    {
     "name": "stdout",
     "output_type": "stream",
     "text": [
      "[3, 6, 9, 8, 5]\n"
     ]
    }
   ],
   "source": [
    "# Reversing the list\n",
    "mylist = [5,8,9,6,3]\n",
    "print(mylist[::-1])"
   ]
  },
  {
   "cell_type": "code",
   "execution_count": 110,
   "id": "dd7c546b",
   "metadata": {},
   "outputs": [
    {
     "name": "stdout",
     "output_type": "stream",
     "text": [
      "Enter the textrotator\n",
      "Given string is palindorme\n"
     ]
    }
   ],
   "source": [
    "# Checking string is palindrome or not\n",
    "mystring = input(\"Enter the text\")\n",
    "new=mystring[::-1]\n",
    "\n",
    "if mystring==new:\n",
    "    print(\"Given string is palindorme\")\n",
    "else:\n",
    "    print(\"Not palindrome\")"
   ]
  },
  {
   "cell_type": "code",
   "execution_count": 112,
   "id": "c54db79b",
   "metadata": {},
   "outputs": [
    {
     "name": "stdout",
     "output_type": "stream",
     "text": [
      "Palindrome\n"
     ]
    }
   ],
   "source": [
    "my='rotator'\n",
    "new=''\n",
    "for i in my:\n",
    "    new=i+new\n",
    "if my==new:\n",
    "    print('Palindrome')\n",
    "else:\n",
    "    print('Not palindrome')"
   ]
  },
  {
   "cell_type": "code",
   "execution_count": 117,
   "id": "c1af4b1c",
   "metadata": {},
   "outputs": [
    {
     "name": "stdout",
     "output_type": "stream",
     "text": [
      "{1, 3, 6}\n"
     ]
    }
   ],
   "source": [
    "# Find the duplicate number in mylist\n",
    "mylist = [1,1,1,1,2,3,3,6,9,7,6]\n",
    "dupy=[]\n",
    "for i in mylist:\n",
    "    if mylist.count(i)>1:\n",
    "        dupy.append(i)\n",
    "print(set(dupy))"
   ]
  },
  {
   "cell_type": "code",
   "execution_count": 123,
   "id": "94ae57b2",
   "metadata": {},
   "outputs": [
    {
     "name": "stdout",
     "output_type": "stream",
     "text": [
      "No of words 10\n"
     ]
    }
   ],
   "source": [
    "mystring = 'Maintaining & expending the database of prospects for the organization.'\n",
    "count=0\n",
    "for i in mystring.split():\n",
    "    count+=1\n",
    "print('No of words',count)"
   ]
  },
  {
   "cell_type": "code",
   "execution_count": 124,
   "id": "6344565c",
   "metadata": {},
   "outputs": [
    {
     "name": "stdout",
     "output_type": "stream",
     "text": [
      "Enter the number you want to find : 10\n",
      "No present\n"
     ]
    }
   ],
   "source": [
    "# find a number in a list whether it is present or not\n",
    "find = int(input('Enter the number you want to find : '))\n",
    "l=[1,4,2,5,3,7,9,10]\n",
    "\n",
    "if find in l:\n",
    "    print('No present')\n",
    "else:\n",
    "    print(\"Not present\")"
   ]
  },
  {
   "cell_type": "code",
   "execution_count": 133,
   "id": "f79d5ae5",
   "metadata": {},
   "outputs": [
    {
     "name": "stdout",
     "output_type": "stream",
     "text": [
      "1 2 3 4 51 2 3 4 51 2 3 4 5 \n"
     ]
    }
   ],
   "source": [
    "mystring = 'Maintaining 12345 & expending 12345 the database of prospects for 12345 the org'\n",
    "\n",
    "num=' '\n",
    "for i in mystring.split():\n",
    "    if i.isdigit()==True:\n",
    "        num=' '.join(i)+num\n",
    "print(num)"
   ]
  },
  {
   "cell_type": "code",
   "execution_count": 137,
   "id": "5bb32330",
   "metadata": {},
   "outputs": [
    {
     "name": "stdout",
     "output_type": "stream",
     "text": [
      "1221\n",
      "1221\n",
      "0\n",
      "palindrome\n"
     ]
    }
   ],
   "source": [
    "# Check whether a number is palindrome\n",
    "num = 1221\n",
    "temp=num\n",
    "rev=0\n",
    "\n",
    "while (num>0):\n",
    "    rem=num%10\n",
    "    \n",
    "    rev=rev*10+rem\n",
    "    \n",
    "    num=num//10\n",
    "print(rev)\n",
    "print(temp)\n",
    "print(num)\n",
    "\n",
    "if rev==temp:\n",
    "    print('palindrome')\n",
    "else:\n",
    "    print('Not palindrome')"
   ]
  },
  {
   "cell_type": "code",
   "execution_count": 143,
   "id": "6e516698",
   "metadata": {},
   "outputs": [
    {
     "name": "stdout",
     "output_type": "stream",
     "text": [
      "10\n",
      "3628800\n"
     ]
    }
   ],
   "source": [
    "# Factoorial without recurrance\n",
    "\n",
    "num=int(input())\n",
    "base=1\n",
    "\n",
    "for i in range(2,num+1):\n",
    "    if num==0:\n",
    "        print(0)\n",
    "    elif num==1:\n",
    "        print(1)\n",
    "    else:\n",
    "        base=base*i\n",
    "print(base)"
   ]
  },
  {
   "cell_type": "code",
   "execution_count": 144,
   "id": "b0b82a02",
   "metadata": {},
   "outputs": [],
   "source": [
    "def fact(n):\n",
    "    if n==0:\n",
    "        return 1\n",
    "    elif n==1:\n",
    "        return 1\n",
    "    else:\n",
    "        return n*fact(n-1)"
   ]
  },
  {
   "cell_type": "code",
   "execution_count": 145,
   "id": "ecbd1f32",
   "metadata": {},
   "outputs": [
    {
     "data": {
      "text/plain": [
       "120"
      ]
     },
     "execution_count": 145,
     "metadata": {},
     "output_type": "execute_result"
    }
   ],
   "source": [
    "fact(5)"
   ]
  },
  {
   "cell_type": "code",
   "execution_count": 148,
   "id": "7d4a85c6",
   "metadata": {},
   "outputs": [
    {
     "name": "stdout",
     "output_type": "stream",
     "text": [
      "2024\n",
      "leap\n"
     ]
    }
   ],
   "source": [
    "# Leap Year\n",
    "\n",
    "num=int(input())\n",
    "if num%4==0:\n",
    "    print('leap')\n",
    "elif num%4==0:\n",
    "    print('leap')\n",
    "elif num%100==0:\n",
    "    print('Not leap')\n",
    "else:\n",
    "    print('Not leap')"
   ]
  },
  {
   "cell_type": "code",
   "execution_count": 155,
   "id": "e5a47181",
   "metadata": {},
   "outputs": [
    {
     "name": "stdout",
     "output_type": "stream",
     "text": [
      "10\n",
      "9\n",
      "Not Prime Number\n"
     ]
    }
   ],
   "source": [
    "# Prime Number\n",
    "\n",
    "num=int(input())\n",
    "flag=0\n",
    "\n",
    "for i in range(2,num):\n",
    "    if (num%i==0):\n",
    "        flag=flag+i\n",
    "print(i)\n",
    "    \n",
    "if flag==0:\n",
    "    print('Prime Number')\n",
    "else:\n",
    "    print('Not Prime Number')"
   ]
  },
  {
   "cell_type": "code",
   "execution_count": 164,
   "id": "2a7b583c",
   "metadata": {},
   "outputs": [
    {
     "name": "stdout",
     "output_type": "stream",
     "text": [
      "10\n",
      "1 2 3 5 7 "
     ]
    }
   ],
   "source": [
    "num=int(input())\n",
    "#flag=0\n",
    "for n in range(1,num):\n",
    "    for i in range(2,n):\n",
    "        if (n%i==0):\n",
    "            break\n",
    "    else:\n",
    "        print(n,end=' ')"
   ]
  },
  {
   "cell_type": "code",
   "execution_count": 161,
   "id": "4f3e9aa7",
   "metadata": {},
   "outputs": [
    {
     "name": "stdout",
     "output_type": "stream",
     "text": [
      "Enter the number10\n",
      "prime numbers: 1 2 3 5 7 "
     ]
    }
   ],
   "source": [
    "number=int(input('Enter the number'))\n",
    "print('prime numbers:',end=' ')\n",
    "for n in range(1,number):\n",
    "    for i in range(2,n):\n",
    "        if (n%i)==0:\n",
    "            break\n",
    "    else:\n",
    "        print(n,end=' ')"
   ]
  },
  {
   "cell_type": "code",
   "execution_count": 178,
   "id": "a705ef1f",
   "metadata": {},
   "outputs": [
    {
     "name": "stdout",
     "output_type": "stream",
     "text": [
      "Enter the number:5\n",
      "Prime Number\n"
     ]
    }
   ],
   "source": [
    "# Prime number\n",
    "\n",
    "num=int(input('Enter the number:'))\n",
    "flag=0\n",
    "for i in range(2,(int(num**0.5)+1)):\n",
    "    if num%i==0:\n",
    "        flag=flag+1\n",
    "        \n",
    "if flag==0:\n",
    "    print('Prime Number')\n",
    "else:\n",
    "    print('Not prime number')"
   ]
  },
  {
   "cell_type": "code",
   "execution_count": 176,
   "id": "ef9a4325",
   "metadata": {},
   "outputs": [
    {
     "name": "stdout",
     "output_type": "stream",
     "text": [
      "Enter a number : 10\n",
      "Not Prime\n"
     ]
    }
   ],
   "source": [
    "num = int(input('Enter a number : '))\n",
    "flag = 0\n",
    "for i in range(2,(int(num**0.5)+1)):\n",
    "    if num%i == 0:\n",
    "        flag = flag + 1\n",
    "\n",
    "if flag==0:\n",
    "    print('Its prime number')\n",
    "else:\n",
    "    print('Not Prime')"
   ]
  },
  {
   "cell_type": "code",
   "execution_count": 192,
   "id": "e64cc51c",
   "metadata": {},
   "outputs": [
    {
     "name": "stdout",
     "output_type": "stream",
     "text": [
      "1 2 3 4 5 6 7 \n",
      "1 2 3 4 5 6 7 8 \n",
      "1 2 3 4 5 6 7 8 9 \n",
      "1 2 3 4 5 6 7 8 9 10 \n",
      "1 2 3 4 5 6 7 8 9 10 11 \n"
     ]
    }
   ],
   "source": [
    "rows=5\n",
    "\n",
    "for i in range(1,rows+1):\n",
    "    for n in range((rows+i)+1):\n",
    "        print(n+1,end=' ')\n",
    "    print()"
   ]
  },
  {
   "cell_type": "code",
   "execution_count": 194,
   "id": "7d691ef4",
   "metadata": {},
   "outputs": [
    {
     "name": "stdout",
     "output_type": "stream",
     "text": [
      "Enter a number : 10\n",
      "10\n",
      "10\n",
      "Not Prime\n"
     ]
    }
   ],
   "source": [
    "num = int(input('Enter a number : '))\n",
    "flag = 0\n",
    "for i in range(2,int(num/2)+1):\n",
    "    if num%i == 0:\n",
    "        flag = flag + 1\n",
    "        print(num)\n",
    "\n",
    "if flag==0:\n",
    "    print('Its prime number')\n",
    "else:\n",
    "    print('Not Prime')"
   ]
  },
  {
   "cell_type": "code",
   "execution_count": 207,
   "id": "d355506b",
   "metadata": {},
   "outputs": [
    {
     "name": "stdout",
     "output_type": "stream",
     "text": [
      "{'H': 1, 'e': 5, 'l': 2, 'o': 6, ' ': 3, 'v': 1, 'r': 2, 'y': 1, 'n': 3, ',': 1, 'g': 1, 'd': 1, 'a': 1, 'f': 1, 't': 1}\n"
     ]
    }
   ],
   "source": [
    "mystring = 'Hello everyone, good afternoon'\n",
    "mydict={}\n",
    "for i in mystring:\n",
    "    if i in mydict:\n",
    "        mydict[i]=mydict[i]+1\n",
    "    else:\n",
    "        mydict[i]=1\n",
    "print(mydict)\n",
    "    "
   ]
  },
  {
   "cell_type": "code",
   "execution_count": 206,
   "id": "b6953e55",
   "metadata": {},
   "outputs": [
    {
     "name": "stdout",
     "output_type": "stream",
     "text": [
      "H: 1\n",
      "e: 5\n",
      "l: 2\n",
      "o: 6\n",
      " : 3\n",
      "v: 1\n",
      "r: 2\n",
      "y: 1\n",
      "n: 3\n",
      ",: 1\n",
      "g: 1\n",
      "d: 1\n",
      "a: 1\n",
      "f: 1\n",
      "t: 1\n"
     ]
    }
   ],
   "source": [
    "from collections import Counter\n",
    "\n",
    "mystring = 'Hello everyone, good afternoon'\n",
    "\n",
    "# Create a Counter object from the string\n",
    "char_counts = Counter(mystring)\n",
    "\n",
    "# Print the counts for each character\n",
    "for char, count in char_counts.items():\n",
    "    print(f'{char}: {count}')\n"
   ]
  },
  {
   "cell_type": "code",
   "execution_count": 209,
   "id": "29a80ff7",
   "metadata": {},
   "outputs": [],
   "source": [
    "# Level 1\n",
    "\n",
    "# Question:\n",
    "# Write a program which will find all such numbers which are divisible by 7 but are not a multiple of 5,\n",
    "# between 2000 and 3200 (both included).\n",
    "# The numbers obtained should be printed in a comma-separated sequence on a single line."
   ]
  },
  {
   "cell_type": "code",
   "execution_count": 225,
   "id": "d9c1c791",
   "metadata": {},
   "outputs": [
    {
     "name": "stdout",
     "output_type": "stream",
     "text": [
      "2030,2065,2100,2135,2170,2205,2240,2275,2310,2345,2380,2415,2450,2485,2520,2555,2590,2625,2660,2695,2730,2765,2800,2835,2870,2905,2940,2975,3010,3045,3080,3115,3150,3185\n"
     ]
    }
   ],
   "source": [
    "lt=[]\n",
    "for i in range(2000,3201):\n",
    "    if i%5==0 and i%7==0:\n",
    "        lt.append(str(i))\n",
    "        \n",
    "print(','.join(lt))\n",
    "        "
   ]
  },
  {
   "cell_type": "code",
   "execution_count": null,
   "id": "e822f675",
   "metadata": {},
   "outputs": [],
   "source": [
    "# Write a program which can compute the factorial of a given numbers.\n",
    "# The results should be printed in a comma-separated sequence on a single line.\n",
    "# Suppose the following input is supplied to the program:"
   ]
  },
  {
   "cell_type": "code",
   "execution_count": 230,
   "id": "c19e19a1",
   "metadata": {},
   "outputs": [],
   "source": [
    "def fact(n):\n",
    "    if n==0:\n",
    "        return 1\n",
    "    elif n==1:\n",
    "        return 1\n",
    "    else:\n",
    "        return n*fact(n-1)"
   ]
  },
  {
   "cell_type": "code",
   "execution_count": 231,
   "id": "691ebccb",
   "metadata": {},
   "outputs": [
    {
     "data": {
      "text/plain": [
       "120"
      ]
     },
     "execution_count": 231,
     "metadata": {},
     "output_type": "execute_result"
    }
   ],
   "source": [
    "fact(5)"
   ]
  },
  {
   "cell_type": "code",
   "execution_count": 234,
   "id": "de606914",
   "metadata": {},
   "outputs": [
    {
     "name": "stdout",
     "output_type": "stream",
     "text": [
      "Enter a number:5\n",
      "120\n"
     ]
    }
   ],
   "source": [
    "n=int(input(\"Enter a number:\"))\n",
    "res=1\n",
    "for i in range(1,n+1):\n",
    "    res=res*i\n",
    "print(res)\n",
    "    "
   ]
  },
  {
   "cell_type": "code",
   "execution_count": null,
   "id": "f08efbfd",
   "metadata": {},
   "outputs": [],
   "source": [
    "# Question:\n",
    "# With a given integral number n, write a program to generate a dictionary \n",
    "# that contains (i, i*i) such that is an integral number between 1 and n (both included).\n",
    "# and then the program should print the dictionary.\n",
    "# Suppose the following input is supplied to the program:"
   ]
  },
  {
   "cell_type": "code",
   "execution_count": 238,
   "id": "18d18090",
   "metadata": {},
   "outputs": [
    {
     "name": "stdout",
     "output_type": "stream",
     "text": [
      "Enter a number:10\n",
      "{1: 1, 2: 4, 3: 9, 4: 16, 5: 25, 6: 36, 7: 49, 8: 64, 9: 81, 10: 100}\n"
     ]
    }
   ],
   "source": [
    "n=int(input(\"Enter a number:\"))\n",
    "dict1={}\n",
    "for i in range(1,n+1):\n",
    "    dict1[i]=i*i\n",
    "print(dict1)"
   ]
  },
  {
   "cell_type": "code",
   "execution_count": 240,
   "id": "87ab0340",
   "metadata": {},
   "outputs": [
    {
     "name": "stdout",
     "output_type": "stream",
     "text": [
      "Enter a number:10\n",
      "defaultdict(<class 'int'>, {1: 1, 2: 4, 3: 9, 4: 16, 5: 25, 6: 36, 7: 49, 8: 64, 9: 81, 10: 100})\n"
     ]
    }
   ],
   "source": [
    "from collections import defaultdict\n",
    "n=int(input(\"Enter a number:\"))\n",
    "dict1=defaultdict(int)\n",
    "\n",
    "for i in range(1,n+1):\n",
    "    dict1[i]=i*i\n",
    "print(dict1)"
   ]
  },
  {
   "cell_type": "code",
   "execution_count": null,
   "id": "3342a24c",
   "metadata": {},
   "outputs": [],
   "source": [
    "# Write a program which accepts a sequence of comma-separated numbers from console and \n",
    "# generate a list and a tuple which contains every number.\n",
    "# Suppose the following input is supplied to the program:\n",
    "# 34,67,55,33,12,98"
   ]
  },
  {
   "cell_type": "code",
   "execution_count": 247,
   "id": "68f23148",
   "metadata": {},
   "outputs": [
    {
     "name": "stdout",
     "output_type": "stream",
     "text": [
      "Enter the number:34,67,55,33,12,98\n",
      "('34', '67', '55', '33', '12', '98')\n"
     ]
    }
   ],
   "source": [
    "num=input('Enter the number:')\n",
    "list1=[]\n",
    "for i in num.split(','):\n",
    "    list1.append(str(i))\n",
    "print(tuple(list1))   "
   ]
  },
  {
   "cell_type": "code",
   "execution_count": null,
   "id": "e32fd40c",
   "metadata": {},
   "outputs": [],
   "source": [
    "# Question:\n",
    "# Write a program that calculates and prints the value according to the given formula:\n",
    "# Q = Square root of [(2 * C * D)/H]\n",
    "# Following are the fixed values of C and H:\n",
    "# C is 50. H is 30.\n",
    "# D is the variable whose values should be input to \n",
    "# your program in a comma-separated sequence.\n",
    "# 100,150,180"
   ]
  },
  {
   "cell_type": "code",
   "execution_count": 248,
   "id": "eb1e8ab7",
   "metadata": {},
   "outputs": [],
   "source": [
    "import numpy\n",
    "import math"
   ]
  },
  {
   "cell_type": "code",
   "execution_count": 257,
   "id": "41f2e55b",
   "metadata": {},
   "outputs": [
    {
     "name": "stdout",
     "output_type": "stream",
     "text": [
      "Enter the number:100,150,180\n",
      "18,22,24\n"
     ]
    }
   ],
   "source": [
    "D=input('Enter the number:')\n",
    "C=50\n",
    "H=30\n",
    "res=[]\n",
    "for i in D.split(','):\n",
    "    res.append(str(int(round(math.sqrt(2*C*float(i)/H)))))\n",
    "print(','.join(res))"
   ]
  },
  {
   "cell_type": "code",
   "execution_count": 264,
   "id": "46154a92",
   "metadata": {},
   "outputs": [
    {
     "name": "stdout",
     "output_type": "stream",
     "text": [
      "Enter the number3,5\n",
      "[[0, 0, 0, 0, 0], [0, 1, 2, 3, 4], [0, 2, 4, 6, 8]]\n"
     ]
    }
   ],
   "source": [
    "raw_input=input('Enter the number')\n",
    "dimensions=[int(x) for x in raw_input.split(',')]\n",
    "rownum=dimensions[0]\n",
    "colnum=dimensions[1]\n",
    "mul=[[0 for col in range(colnum)] for row in range(rownum)]\n",
    "\n",
    "for row in range(rownum):\n",
    "    for col in range(colnum):\n",
    "        mul[row][col]=row*col\n",
    "print(mul)"
   ]
  },
  {
   "cell_type": "code",
   "execution_count": 263,
   "id": "17af9630",
   "metadata": {},
   "outputs": [
    {
     "data": {
      "text/plain": [
       "[4, 3, 2]"
      ]
     },
     "execution_count": 263,
     "metadata": {},
     "output_type": "execute_result"
    }
   ],
   "source": [
    "lt=[12,4,4,3,2,1]"
   ]
  },
  {
   "cell_type": "code",
   "execution_count": null,
   "id": "b4e6680e",
   "metadata": {},
   "outputs": [],
   "source": [
    "# Write a program that accepts a comma separated sequence of words \n",
    "# as input and prints the words in a comma-separated sequence \n",
    "# after sorting them alphabetically.\n",
    "# Suppose the following input is supplied to the program:\n",
    "# without,hello,bag,world\n",
    "# Then, the output should be:\n",
    "# bag,hello,without,world"
   ]
  },
  {
   "cell_type": "code",
   "execution_count": 270,
   "id": "13bc0780",
   "metadata": {},
   "outputs": [
    {
     "name": "stdout",
     "output_type": "stream",
     "text": [
      "Enter the wordswithout,hello,bag,world\n",
      "bag,hello,without,world\n"
     ]
    }
   ],
   "source": [
    "raw_input=input(\"Enter the words\")\n",
    "lt=[]\n",
    "for i in raw_input.split(','):\n",
    "    lt.append(i)\n",
    "    lt.sort()\n",
    "print(','.join(lt))"
   ]
  },
  {
   "cell_type": "code",
   "execution_count": null,
   "id": "7ddbcf7c",
   "metadata": {},
   "outputs": [],
   "source": [
    "# Write a program that accepts sequence of lines as input and \n",
    "# prints the lines after making all characters in the sentence capitalized.\n",
    "# Suppose the following input is supplied to the program:\n",
    "# Hello world\n",
    "# Practice makes perfect\n",
    "# Then, the output should be:\n",
    "# HELLO WORLD\n",
    "# PRACTICE MAKES PERFECT"
   ]
  },
  {
   "cell_type": "code",
   "execution_count": 271,
   "id": "c5597ecd",
   "metadata": {},
   "outputs": [
    {
     "name": "stdout",
     "output_type": "stream",
     "text": [
      "Enter the wordsHello world Practice makes perfect\n",
      "HELLO WORLD PRACTICE MAKES PERFECT\n"
     ]
    }
   ],
   "source": [
    "raw_input=input(\"Enter the words\")\n",
    "lt=[]\n",
    "for i in raw_input.split(','):\n",
    "    lt.append(i.upper())\n",
    "print(' '.join(lt))"
   ]
  },
  {
   "cell_type": "code",
   "execution_count": null,
   "id": "2c034f22",
   "metadata": {},
   "outputs": [],
   "source": [
    "# Write a program which accepts a sequence of comma separated 4 digit binary numbers\n",
    "# as its input and then check whether they are divisible by 5 or not.\n",
    "# The numbers that are divisible by 5 are to be printed in a comma separated sequence.\n",
    "# Example:\n",
    "# 0100,0011,1010,1001\n",
    "# Then the output should be:\n",
    "# 1010"
   ]
  },
  {
   "cell_type": "code",
   "execution_count": 280,
   "id": "c8a2bbaa",
   "metadata": {},
   "outputs": [
    {
     "name": "stdout",
     "output_type": "stream",
     "text": [
      "Enter the number0100,0011,1010,1001\n",
      "1010\n"
     ]
    }
   ],
   "source": [
    "raw_input=input('Enter the number')\n",
    "l=[]\n",
    "for x in raw_input.split(','):\n",
    "    intx=int(x,2)\n",
    "    if not intx%5:\n",
    "        l.append(x)\n",
    "print(','.join((l)))\n",
    "    "
   ]
  },
  {
   "cell_type": "code",
   "execution_count": null,
   "id": "53218ca6",
   "metadata": {},
   "outputs": [],
   "source": [
    "# Question:\n",
    "# Write a program, which will find all such numbers between 1000 and 3000 (both included) \n",
    "# such that each digit of the number is an even number.\n",
    "# The numbers obtained should be printed in a comma-separated sequence on a single line."
   ]
  },
  {
   "cell_type": "code",
   "execution_count": 287,
   "id": "c7e0fe1b",
   "metadata": {},
   "outputs": [
    {
     "name": "stdout",
     "output_type": "stream",
     "text": [
      "[100, 102, 104, 106, 108, 110, 112, 114, 116, 118, 120, 122, 124, 126, 128, 130, 132, 134, 136, 138, 140, 142, 144, 146, 148, 150, 152, 154, 156, 158, 160, 162, 164, 166, 168, 170, 172, 174, 176, 178, 180, 182, 184, 186, 188, 190, 192, 194, 196, 198, 200, 202, 204, 206, 208, 210, 212, 214, 216, 218, 220, 222, 224, 226, 228, 230, 232, 234, 236, 238, 240, 242, 244, 246, 248, 250, 252, 254, 256, 258, 260, 262, 264, 266, 268, 270, 272, 274, 276, 278, 280, 282, 284, 286, 288, 290, 292, 294, 296, 298, 300]\n"
     ]
    }
   ],
   "source": [
    "even=[x for x in range(100,301) if x%2==0]\n",
    "print(''.join(str(even)))"
   ]
  },
  {
   "cell_type": "code",
   "execution_count": 289,
   "id": "90a78113",
   "metadata": {},
   "outputs": [
    {
     "name": "stdout",
     "output_type": "stream",
     "text": [
      "2000,2002,2004,2006,2008,2020,2022,2024,2026,2028,2040,2042,2044,2046,2048,2060,2062,2064,2066,2068,2080,2082,2084,2086,2088,2200,2202,2204,2206,2208,2220,2222,2224,2226,2228,2240,2242,2244,2246,2248,2260,2262,2264,2266,2268,2280,2282,2284,2286,2288,2400,2402,2404,2406,2408,2420,2422,2424,2426,2428,2440,2442,2444,2446,2448,2460,2462,2464,2466,2468,2480,2482,2484,2486,2488,2600,2602,2604,2606,2608,2620,2622,2624,2626,2628,2640,2642,2644,2646,2648,2660,2662,2664,2666,2668,2680,2682,2684,2686,2688,2800,2802,2804,2806,2808,2820,2822,2824,2826,2828,2840,2842,2844,2846,2848,2860,2862,2864,2866,2868,2880,2882,2884,2886,2888\n"
     ]
    }
   ],
   "source": [
    "values = []\n",
    "for i in range(1000, 3001):\n",
    "    s = str(i)\n",
    "    if (int(s[0])%2==0) and (int(s[1])%2==0) and (int(s[2])%2==0) and (int(s[3])%2==0):\n",
    "        values.append(s)\n",
    "print(\",\".join(values))"
   ]
  },
  {
   "cell_type": "code",
   "execution_count": 296,
   "id": "53f71d70",
   "metadata": {},
   "outputs": [],
   "source": [
    "# Write a program that accepts a sentence and calculate the number of letters and digits.\n",
    "# Suppose the following input is supplied to the program:\n",
    "# hello world! 123\n",
    "# Then, the output should be:\n",
    "# LETTERS 10\n",
    "# DIGITS 3"
   ]
  },
  {
   "cell_type": "code",
   "execution_count": 299,
   "id": "10b26e6e",
   "metadata": {},
   "outputs": [
    {
     "name": "stdout",
     "output_type": "stream",
     "text": [
      "hello world! 123\n",
      "LETTERS: 10\n",
      "DIGITS: 3\n"
     ]
    }
   ],
   "source": [
    "raw=input()\n",
    "lt=0\n",
    "dig=0\n",
    "for i in raw:\n",
    "    if i.isalpha():\n",
    "        lt+=1\n",
    "    elif i.isdigit():\n",
    "        dig+=1\n",
    "print(\"LETTERS:\",lt)\n",
    "print(\"DIGITS:\",dig)"
   ]
  },
  {
   "cell_type": "code",
   "execution_count": null,
   "id": "9a0f3519",
   "metadata": {},
   "outputs": [],
   "source": [
    "# Question:\n",
    "# Write a program that accepts a sentence and \n",
    "# calculate the number of upper case letters and lower case letters.\n",
    "# Suppose the following input is supplied to the program:\n",
    "# Hello world!\n",
    "# Then, the output should be:\n",
    "# UPPER CASE 1\n",
    "# LOWER CASE 9"
   ]
  },
  {
   "cell_type": "code",
   "execution_count": 303,
   "id": "6db8f52c",
   "metadata": {},
   "outputs": [
    {
     "name": "stdout",
     "output_type": "stream",
     "text": [
      "Hello world!\n",
      "UPPER CASE: 1\n",
      "LOWER CASE: 9\n"
     ]
    }
   ],
   "source": [
    "raw=input()\n",
    "caps=0\n",
    "low=0\n",
    "for i in raw:\n",
    "    if i.isupper():\n",
    "        caps+=1\n",
    "    elif i.islower():\n",
    "        low+=1\n",
    "print(\"UPPER CASE:\",caps)\n",
    "print(\"LOWER CASE:\",low)"
   ]
  },
  {
   "cell_type": "code",
   "execution_count": 306,
   "id": "d30fcae2",
   "metadata": {},
   "outputs": [
    {
     "name": "stdout",
     "output_type": "stream",
     "text": [
      "Hello world!\n",
      "{'UPPER CASE': 1, 'LOWER CASE': 9}\n"
     ]
    }
   ],
   "source": [
    "s = input()\n",
    "d={\"UPPER CASE\":0, \"LOWER CASE\":0}\n",
    "for i in s:\n",
    "    if i.isupper():\n",
    "        d['UPPER CASE']+=1\n",
    "    elif i.islower():\n",
    "        d['LOWER CASE']+=1\n",
    "print(d)"
   ]
  },
  {
   "cell_type": "code",
   "execution_count": null,
   "id": "cf5ccbb7",
   "metadata": {},
   "outputs": [],
   "source": [
    "# Use a list comprehension to square each odd number in a list. \n",
    "# The list is input by a sequence of comma-separated numbers.\n",
    "# Suppose the following input is supplied to the program:\n",
    "# 1,2,3,4,5,6,7,8,9\n",
    "# Then, the output should be:\n",
    "# 1,3,5,7,9"
   ]
  },
  {
   "cell_type": "code",
   "execution_count": 326,
   "id": "d222633e",
   "metadata": {},
   "outputs": [
    {
     "name": "stdout",
     "output_type": "stream",
     "text": [
      "1,2,3,4,5,6,7,8,9\n",
      "9,36,81\n"
     ]
    }
   ],
   "source": [
    "n=input()\n",
    "l=[x for x in n.split(',') if int(x)%3==0]\n",
    "sq=[]\n",
    "for i in l:\n",
    "    sq.append(int(i)*int(i))\n",
    "print(','.join(str(x) for x in sq))"
   ]
  },
  {
   "cell_type": "code",
   "execution_count": 315,
   "id": "5076a2d5",
   "metadata": {},
   "outputs": [
    {
     "name": "stdout",
     "output_type": "stream",
     "text": [
      "1,2,3,4,5,6,7,8,9\n",
      "1,3,5,7,9\n"
     ]
    }
   ],
   "source": [
    "values = input()\n",
    "numbers = [x for x in values.split(\",\") if int(x)%2!=0]\n",
    "print(\",\".join(numbers))"
   ]
  },
  {
   "cell_type": "code",
   "execution_count": null,
   "id": "976580fc",
   "metadata": {},
   "outputs": [],
   "source": [
    "# Question:\n",
    "# Write a program that computes the net amount of a bank account based a transaction log from console input. \n",
    "# The transaction log format is shown as following:\n",
    "# D 100\n",
    "# W 200\n",
    "\n",
    "# D means deposit while W means withdrawal.\n",
    "# Suppose the following input is supplied to the program:\n",
    "# D 300\n",
    "# D 300\n",
    "# W 200\n",
    "# D 100\n",
    "# Then, the output should be:\n",
    "# 500"
   ]
  },
  {
   "cell_type": "code",
   "execution_count": null,
   "id": "d8346852",
   "metadata": {},
   "outputs": [],
   "source": [
    "log = input()\n",
    "Total = 0\n",
    "while True:\n",
    "    for entry in log.split(','):\n",
    "        operation, amount = entry.strip().split()\n",
    "        amount = int(amount)\n",
    "        if operation == 'D':\n",
    "            Total += amount\n",
    "        elif operation == 'W':\n",
    "            Total -= amount\n",
    "print(Total)\n"
   ]
  },
  {
   "cell_type": "code",
   "execution_count": 1,
   "id": "fd752638",
   "metadata": {},
   "outputs": [
    {
     "name": "stdout",
     "output_type": "stream",
     "text": [
      "ABd1234@1,a F1#,2w3E*,2We3345\n",
      "\n"
     ]
    }
   ],
   "source": [
    "import re\n",
    "value = []\n",
    "items=[x for x in input().split(',')]\n",
    "for p in items:\n",
    "    if len(p)>6 or len(p)<12:\n",
    "        continue\n",
    "    else:\n",
    "        pass\n",
    "    if not re.search(\"[a-z]\",p):\n",
    "        continue\n",
    "    elif not re.search(\"[A-Z]\",p):\n",
    "        continue\n",
    "    elif not re.search(\"[0-9]\",p):\n",
    "        continue\n",
    "    elif not re.search(\"[#@$]\",p):\n",
    "        continue\n",
    "    elif re.search(\"\\s\",p):\n",
    "        continue\n",
    "    else:\n",
    "        pass\n",
    "    value.append(p)\n",
    "print(''.join(value))"
   ]
  },
  {
   "cell_type": "code",
   "execution_count": null,
   "id": "9d478295",
   "metadata": {},
   "outputs": [],
   "source": [
    "# You are required to write a program to sort the (name, age, height) tuples by \n",
    "# ascending order where name is string, age and height are numbers. \n",
    "# The tuples are input by console. The sort criteria is:\n",
    "# 1: Sort based on name;\n",
    "# 2: Then sort based on age;\n",
    "# 3: Then sort by score.\n",
    "# The priority is that name > age > score.\n",
    "# If the following tuples are given as input to the program:\n",
    "# Tom,19,80\n",
    "# John,20,90\n",
    "# Jony,17,91\n",
    "# Jony,17,93\n",
    "# Json,21,85\n",
    "# Then, the output of the program should be:\n",
    "# [('John', '20', '90'), ('Jony', '17', '91'), ('Jony', '17', '93'), ('Json', '21', '85'), ('Tom', '19', '80')]"
   ]
  },
  {
   "cell_type": "code",
   "execution_count": 342,
   "id": "678657d0",
   "metadata": {},
   "outputs": [
    {
     "name": "stdout",
     "output_type": "stream",
     "text": [
      "Tom,19,80\n",
      "Madan,26,85\n",
      "Sang,89,56\n",
      "mang,9,8\n",
      "\n",
      "[('Madan', '26', '85'), ('Sang', '89', '56'), ('Tom', '19', '80'), ('mang', '9', '8')]\n"
     ]
    }
   ],
   "source": [
    "from operator import itemgetter, attrgetter\n",
    "l = []\n",
    "while True:\n",
    "    s =input()\n",
    "    if not s:\n",
    "        break\n",
    "    l.append(tuple(s.split(\",\")))\n",
    "\n",
    "print(sorted(l, key=itemgetter(0,1,2)))"
   ]
  },
  {
   "cell_type": "code",
   "execution_count": null,
   "id": "93e93cb6",
   "metadata": {},
   "outputs": [],
   "source": [
    "# Define a class with a generator which can iterate the numbers, which are divisible by 7, between a given range 0 and n."
   ]
  },
  {
   "cell_type": "code",
   "execution_count": 8,
   "id": "ab54bf7a",
   "metadata": {},
   "outputs": [],
   "source": [
    "def gen(n):\n",
    "    count = 0\n",
    "    odd = []\n",
    "    for i in range(1, n + 1):\n",
    "        if i % 2 == 1 and i % 3 == 0:\n",
    "            count += 1\n",
    "            odd.append(i)\n",
    "    return count, odd\n"
   ]
  },
  {
   "cell_type": "code",
   "execution_count": 9,
   "id": "f599e780",
   "metadata": {},
   "outputs": [
    {
     "data": {
      "text/plain": [
       "(2, [3, 9])"
      ]
     },
     "execution_count": 9,
     "metadata": {},
     "output_type": "execute_result"
    }
   ],
   "source": [
    "gen(10)"
   ]
  },
  {
   "cell_type": "code",
   "execution_count": null,
   "id": "12222509",
   "metadata": {},
   "outputs": [],
   "source": [
    "# Question£º\n",
    "# A robot moves in a plane starting from the original point (0,0). \n",
    "# The robot can move toward UP, DOWN, LEFT and RIGHT with a given steps.\n",
    "# The trace of robot movement is shown as the following:\n",
    "# UP 5\n",
    "# DOWN 3\n",
    "# LEFT 3\n",
    "# RIGHT 2\n",
    "# ¡­\n",
    "# The numbers after the direction are steps. \n",
    "# Please write a program to compute the distance from current position \n",
    "# after a sequence of movement and original point. If the distance is a float, then just print the nearest integer.\n",
    "# Example:\n",
    "# If the following tuples are given as input to the program:\n",
    "# UP 5\n",
    "# DOWN 3\n",
    "# LEFT 3\n",
    "# RIGHT 2\n",
    "# Then, the output of the program should be:\n",
    "# 2"
   ]
  },
  {
   "cell_type": "code",
   "execution_count": 16,
   "id": "989604f3",
   "metadata": {},
   "outputs": [],
   "source": [
    "import math"
   ]
  },
  {
   "cell_type": "code",
   "execution_count": 17,
   "id": "d6f3e8b2",
   "metadata": {},
   "outputs": [
    {
     "name": "stdout",
     "output_type": "stream",
     "text": [
      "Enter the MovementUP 5\n",
      "Enter the MovementDOWN 2\n",
      "Enter the MovementRIGHT 2\n",
      "Enter the MovementLEFT 3\n",
      "Enter the Movement\n",
      "3\n"
     ]
    }
   ],
   "source": [
    "pos=[0,0]\n",
    "while True:\n",
    "    raw_input=input('Enter the Movement')\n",
    "    if not raw_input:\n",
    "        break\n",
    "    values=raw_input.split(' ')\n",
    "    movement=values[0]\n",
    "    distance=int(values[1])\n",
    "    if movement=='UP':\n",
    "        pos[0]+=distance\n",
    "    elif movement=='DOWN':\n",
    "        pos[0]-=distance\n",
    "    elif movement=='LEFT':\n",
    "        pos[1]-=distance\n",
    "    elif movement=='RIGHT':\n",
    "        pos[1]+=distance\n",
    "    else:\n",
    "        pass\n",
    "    \n",
    "print(int(round(math.sqrt(pos[1]**2+pos[0]**2))))"
   ]
  },
  {
   "cell_type": "code",
   "execution_count": null,
   "id": "b097280c",
   "metadata": {},
   "outputs": [],
   "source": [
    "# Question:\n",
    "# Write a program to compute the frequency of the words from the input. \n",
    "# The output should output after sorting the key alphanumerically. \n",
    "# Suppose the following input is supplied to the program:\n",
    "# New to Python or choosing between Python 2 and Python 3? Read Python 2 or Python 3.\n",
    "# Then, the output should be:\n",
    "# 2:2\n",
    "# 3.:1\n",
    "# 3?:1\n",
    "# New:1\n",
    "# Python:5\n",
    "# Read:1\n",
    "# and:1\n",
    "# between:1\n",
    "# choosing:1\n",
    "# or:2\n",
    "# to:1"
   ]
  },
  {
   "cell_type": "code",
   "execution_count": 30,
   "id": "ad4e4c94",
   "metadata": {},
   "outputs": [
    {
     "name": "stdout",
     "output_type": "stream",
     "text": [
      "Enter the words:New to Python or choosing between Python 2 and Python 3? Read Python 2 or Python 3.\n",
      "[' ', ' ', ' ', ' ', ' ', ' ', ' ', ' ', ' ', ' ', ' ', ' ', ' ', ' ', ' ', ' ', ' ', ' ', ' ', ' ', ' ', ' ', ' ', ' ', ' ', ' ', ' ', ' ', ' ', ' ', ' ', ' ', ' ', ' ', ' ', ' ', ' ', ' ', ' ', ' ', ' ', ' ', ' ', ' ', ' ', ' ', ' ', ' ', ' ', ' ', ' ', ' ', ' ', ' ', ' ', ' ', ' ', ' ', ' ', ' ', ' ', ' ', ' ', ' ', ' ', ' ', ' ', ' ', ' ', ' ', ' ', ' ', ' ', ' ', ' ', ' ', ' ', ' ', ' ', ' ', ' ', ' ', ' ', ' ', ' ', ' ', ' ', ' ', ' ', ' ', ' ', ' ', ' ', ' ', ' ', ' ', ' ', ' ', ' ', ' ', ' ', ' ', ' ', ' ', ' ', ' ', ' ', ' ', ' ', ' ', ' ', ' ', ' ', ' ', ' ', ' ', ' ', ' ', ' ', ' ', ' ', ' ', ' ', ' ', ' ', ' ', ' ', ' ', ' ', ' ', ' ', ' ', ' ', ' ', ' ', ' ', ' ', ' ', ' ', ' ', ' ', ' ', ' ', ' ', ' ', ' ', ' ', ' ', ' ', ' ', ' ', ' ', ' ', ' ', ' ', ' ', ' ', ' ', ' ', ' ', ' ', ' ', ' ', ' ', ' ', ' ', ' ', ' ', ' ', ' ', ' ', \"'\", \"'\", \"'\", \"'\", \"'\", \"'\", \"'\", \"'\", \"'\", \"'\", \"'\", \"'\", \"'\", \"'\", \"'\", \"'\", \"'\", \"'\", \"'\", \"'\", \"'\", \"'\", '(', '(', '(', '(', '(', '(', '(', '(', '(', '(', '(', '(', ')', ')', ')', ')', ')', ')', ')', ')', ')', ')', ')', ')', ',', ',', ',', ',', ',', ',', ',', ',', ',', ',', ',', ',', ',', ',', ',', ',', ',', ',', ',', ',', ',', '.', '1', '1', '1', '1', '1', '1', '1', '1', '2', '2', '2', '3', '3', '5', '?', 'N', 'P', 'R', '[', ']', '_', 'a', 'a', 'b', 'c', 'c', 'd', 'd', 'd', 'e', 'e', 'e', 'e', 'e', 'e', 'g', 'h', 'h', 'i', 'i', 'i', 'm', 'n', 'n', 'n', 'n', 'o', 'o', 'o', 'o', 'o', 'r', 's', 's', 't', 't', 't', 't', 't', 'w', 'w', 'y']\n"
     ]
    }
   ],
   "source": [
    "input_str = input('Enter the words:')\n",
    "dict1 = {}\n",
    "for word in input_str.split():\n",
    "    if word not in dict1:\n",
    "        dict1[word] = 1\n",
    "    else:\n",
    "        dict1[word] += 1\n",
    "print(sorted((dict1.items())))\n"
   ]
  },
  {
   "cell_type": "code",
   "execution_count": 33,
   "id": "dfff4b2f",
   "metadata": {},
   "outputs": [
    {
     "name": "stdout",
     "output_type": "stream",
     "text": [
      "Enter the Words:New to Python or choosing between Python 2 and Python 3? Read Python 2 or Python 3.\n",
      "[('2', 2), ('3.', 1), ('3?', 1), ('New', 1), ('Python', 5), ('Read', 1), ('and', 1), ('between', 1), ('choosing', 1), ('or', 2), ('to', 1)]\n"
     ]
    }
   ],
   "source": [
    "input_str = input('Enter the Words:')\n",
    "dict1 = {}\n",
    "for word in input_str.split():\n",
    "    if word in dict1:\n",
    "        dict1[word] += 1\n",
    "    else:\n",
    "        dict1[word] = 1\n",
    "print(sorted(dict1.items()))\n"
   ]
  },
  {
   "cell_type": "code",
   "execution_count": null,
   "id": "d2424795",
   "metadata": {},
   "outputs": [],
   "source": [
    "# Question:\n",
    "#     Write a method which can calculate square value of number\n",
    "\n",
    "# Hints:\n",
    "#     Using the ** operator"
   ]
  },
  {
   "cell_type": "code",
   "execution_count": 36,
   "id": "9af322a6",
   "metadata": {},
   "outputs": [],
   "source": [
    "def sq(num):\n",
    "    return num**2"
   ]
  },
  {
   "cell_type": "code",
   "execution_count": 37,
   "id": "1d8a56c8",
   "metadata": {},
   "outputs": [
    {
     "name": "stdout",
     "output_type": "stream",
     "text": [
      "25\n"
     ]
    }
   ],
   "source": [
    "print(sq(5))"
   ]
  },
  {
   "cell_type": "code",
   "execution_count": null,
   "id": "52c1d37a",
   "metadata": {},
   "outputs": [],
   "source": [
    "# Question:\n",
    "#     Python has many built-in functions, and if you do not know how to use it, you can read document online or find some books. But Python has a built-in document function for every built-in functions.\n",
    "#     Please write a program to print some Python built-in functions documents, such as abs(), int(), raw_input()\n",
    "#     And add document for your own function"
   ]
  },
  {
   "cell_type": "code",
   "execution_count": 40,
   "id": "38b5b6a8",
   "metadata": {},
   "outputs": [
    {
     "data": {
      "text/plain": [
       "\"print(value, ..., sep=' ', end='\\\\n', file=sys.stdout, flush=False)\\n\\nPrints the values to a stream, or to sys.stdout by default.\\nOptional keyword arguments:\\nfile:  a file-like object (stream); defaults to the current sys.stdout.\\nsep:   string inserted between values, default a space.\\nend:   string appended after the last value, default a newline.\\nflush: whether to forcibly flush the stream.\""
      ]
     },
     "execution_count": 40,
     "metadata": {},
     "output_type": "execute_result"
    }
   ],
   "source": [
    "print.__doc__"
   ]
  },
  {
   "cell_type": "code",
   "execution_count": null,
   "id": "6b546b93",
   "metadata": {},
   "outputs": [],
   "source": [
    "# Question:\n",
    "# Define a function that can convert a integer into a string and print it in console."
   ]
  },
  {
   "cell_type": "code",
   "execution_count": 41,
   "id": "cd894592",
   "metadata": {},
   "outputs": [],
   "source": [
    "def convert(n):\n",
    "    return str(n)"
   ]
  },
  {
   "cell_type": "code",
   "execution_count": 42,
   "id": "83e2c106",
   "metadata": {},
   "outputs": [
    {
     "name": "stdout",
     "output_type": "stream",
     "text": [
      "5\n"
     ]
    }
   ],
   "source": [
    "print(convert(5))"
   ]
  },
  {
   "cell_type": "code",
   "execution_count": null,
   "id": "f13cc5ed",
   "metadata": {},
   "outputs": [],
   "source": [
    "# Question:\n",
    "# Define a function that can accept two strings as input and concatenate them and then print it in console."
   ]
  },
  {
   "cell_type": "code",
   "execution_count": 43,
   "id": "8413a7bf",
   "metadata": {},
   "outputs": [],
   "source": [
    "def st(s1,s2):\n",
    "    return str(s1)+str(s2)"
   ]
  },
  {
   "cell_type": "code",
   "execution_count": 44,
   "id": "25a31170",
   "metadata": {},
   "outputs": [
    {
     "name": "stdout",
     "output_type": "stream",
     "text": [
      "34\n"
     ]
    }
   ],
   "source": [
    "print(st(3,4))"
   ]
  },
  {
   "cell_type": "code",
   "execution_count": null,
   "id": "6b7dbde6",
   "metadata": {},
   "outputs": [],
   "source": [
    "# Question:\n",
    "# Define a function that can accept two strings as input and print the string with maximum length in console. \n",
    "# If two strings have the same length, then the function should print all strings line by line."
   ]
  },
  {
   "cell_type": "code",
   "execution_count": 45,
   "id": "ef95efa1",
   "metadata": {},
   "outputs": [],
   "source": [
    "def length(s1,s2):\n",
    "    l1=len(s1)\n",
    "    l2=len(s2)\n",
    "    if l1>l2:\n",
    "        print('Maximum',l1)\n",
    "    elif l2>l1:\n",
    "        print('Maximum',l2)\n",
    "    else:\n",
    "        print('Both the Strings are same')"
   ]
  },
  {
   "cell_type": "code",
   "execution_count": 48,
   "id": "c8b5120b",
   "metadata": {},
   "outputs": [
    {
     "name": "stdout",
     "output_type": "stream",
     "text": [
      "Both the Strings are same\n",
      "None "
     ]
    }
   ],
   "source": [
    "print(length('Madan','Madan'),end=' ')"
   ]
  },
  {
   "cell_type": "code",
   "execution_count": null,
   "id": "38b025eb",
   "metadata": {},
   "outputs": [],
   "source": [
    "# Question:\n",
    "# Define a function that can accept an integer number as input and print the \"It is an even number\" \n",
    "# if the number is even, otherwise print \"It is an odd number\"."
   ]
  },
  {
   "cell_type": "code",
   "execution_count": 59,
   "id": "2cf570b1",
   "metadata": {},
   "outputs": [],
   "source": [
    "def check(n):\n",
    "    if n % 2 == 0:\n",
    "        print('Even number')\n",
    "    else :\n",
    "        print('Odd number')\n",
    "    \n"
   ]
  },
  {
   "cell_type": "code",
   "execution_count": 61,
   "id": "4ffffb09",
   "metadata": {},
   "outputs": [
    {
     "name": "stdout",
     "output_type": "stream",
     "text": [
      "Odd number\n"
     ]
    }
   ],
   "source": [
    "check(5)"
   ]
  },
  {
   "cell_type": "code",
   "execution_count": null,
   "id": "6e2c7c13",
   "metadata": {},
   "outputs": [],
   "source": [
    "# Question:\n",
    "# Define a function which can print a dictionary where the keys are numbers \n",
    "# between 1 and 20 (both included) and the values are square of keys."
   ]
  },
  {
   "cell_type": "code",
   "execution_count": 64,
   "id": "51b4e6db",
   "metadata": {},
   "outputs": [],
   "source": [
    "def sq():\n",
    "    dict1={}\n",
    "    for i in range(1,21):\n",
    "        dict1[i]=i*i\n",
    "    return print(dict1,end=' ')"
   ]
  },
  {
   "cell_type": "code",
   "execution_count": 65,
   "id": "bf0c9334",
   "metadata": {},
   "outputs": [
    {
     "name": "stdout",
     "output_type": "stream",
     "text": [
      "{1: 1, 2: 4, 3: 9, 4: 16, 5: 25, 6: 36, 7: 49, 8: 64, 9: 81, 10: 100, 11: 121, 12: 144, 13: 169, 14: 196, 15: 225, 16: 256, 17: 289, 18: 324, 19: 361, 20: 400} "
     ]
    }
   ],
   "source": [
    "sq()"
   ]
  },
  {
   "cell_type": "code",
   "execution_count": null,
   "id": "3ee133ec",
   "metadata": {},
   "outputs": [],
   "source": [
    "# Question:\n",
    "# Define a function which can generate and print a list \n",
    "# where the values are square of numbers between 1 and 20 (both included)."
   ]
  },
  {
   "cell_type": "code",
   "execution_count": 68,
   "id": "91930891",
   "metadata": {},
   "outputs": [
    {
     "name": "stdout",
     "output_type": "stream",
     "text": [
      "[1, 4, 9, 16, 25, 36, 49, 64, 81, 100, 121, 144, 169, 196, 225, 256, 289, 324, 361, 400] "
     ]
    }
   ],
   "source": [
    "lt=[x**2 for x in range(1,21)]\n",
    "print(lt,end=' ')"
   ]
  },
  {
   "cell_type": "code",
   "execution_count": null,
   "id": "2c114478",
   "metadata": {},
   "outputs": [],
   "source": [
    "# Question:\n",
    "# Define a function which can generate a list where the values are square of numbers between 1 and 20 (both included). \n",
    "# Then the function needs to print the first 5 elements in the list."
   ]
  },
  {
   "cell_type": "code",
   "execution_count": 74,
   "id": "0a2dee0a",
   "metadata": {},
   "outputs": [],
   "source": [
    "def sq(n):\n",
    "    lt=[]\n",
    "    for i in range(1,n+1):\n",
    "        lt.append(i**2)\n",
    "    return print(lt[:5])"
   ]
  },
  {
   "cell_type": "code",
   "execution_count": 75,
   "id": "81c94ee4",
   "metadata": {},
   "outputs": [
    {
     "name": "stdout",
     "output_type": "stream",
     "text": [
      "[1, 4, 9, 16, 25]\n"
     ]
    }
   ],
   "source": [
    "sq(20)"
   ]
  },
  {
   "cell_type": "code",
   "execution_count": null,
   "id": "8b15022a",
   "metadata": {},
   "outputs": [],
   "source": [
    "# Question:\n",
    "# Define a function which can generate a list where the values are square of numbers between 1 and 20 (both included). \n",
    "# Then the function needs to print the first 5 elements in the list."
   ]
  },
  {
   "cell_type": "code",
   "execution_count": 76,
   "id": "77c88667",
   "metadata": {},
   "outputs": [],
   "source": [
    "def sq(n):\n",
    "    lt=[]\n",
    "    for i in range(1,n+1):\n",
    "        lt.append(i**2)\n",
    "    return print(lt[5:])"
   ]
  },
  {
   "cell_type": "code",
   "execution_count": 77,
   "id": "c4b3fa22",
   "metadata": {},
   "outputs": [
    {
     "name": "stdout",
     "output_type": "stream",
     "text": [
      "[36, 49, 64, 81, 100, 121, 144, 169, 196, 225, 256, 289, 324, 361, 400]\n"
     ]
    }
   ],
   "source": [
    "sq(20)"
   ]
  },
  {
   "cell_type": "code",
   "execution_count": null,
   "id": "eb1658b0",
   "metadata": {},
   "outputs": [],
   "source": [
    "# Question:\n",
    "# With a given tuple (1,2,3,4,5,6,7,8,9,10), \n",
    "# write a program to print the first half values in one line and the last half values in one line."
   ]
  },
  {
   "cell_type": "code",
   "execution_count": 79,
   "id": "b31d4576",
   "metadata": {},
   "outputs": [
    {
     "name": "stdout",
     "output_type": "stream",
     "text": [
      "(1, 2, 3, 4, 5)\n",
      "(6, 7, 8, 9, 10)\n"
     ]
    }
   ],
   "source": [
    "lt=list((1,2,3,4,5,6,7,8,9,10))\n",
    "l1=tuple(lt[:5])\n",
    "print(l1)\n",
    "l2=tuple(lt[5:])\n",
    "print(l2)"
   ]
  },
  {
   "cell_type": "code",
   "execution_count": null,
   "id": "340e12f8",
   "metadata": {},
   "outputs": [],
   "source": [
    "# Question:\n",
    "# Write a program to generate and print another tuple whose values are even numbers in the given tuple (1,2,3,4,5,6,7,8,9,10)."
   ]
  },
  {
   "cell_type": "code",
   "execution_count": 83,
   "id": "6e27022c",
   "metadata": {},
   "outputs": [
    {
     "name": "stdout",
     "output_type": "stream",
     "text": [
      "(2, 4, 6, 8, 10)\n"
     ]
    }
   ],
   "source": [
    "lt=list((1,2,3,4,5,6,7,8,9,10))\n",
    "even=[]\n",
    "for i in lt:\n",
    "    if i%2==0:\n",
    "        even.append(i)\n",
    "\n",
    "print(tuple(even))"
   ]
  },
  {
   "cell_type": "code",
   "execution_count": null,
   "id": "6e0d7eb2",
   "metadata": {},
   "outputs": [],
   "source": [
    "# Question:\n",
    "# Write a program which accepts a string as input to print \"Yes\" \n",
    "# if the string is \"yes\" or \"YES\" or \"Yes\", otherwise print \"No\"."
   ]
  },
  {
   "cell_type": "code",
   "execution_count": 89,
   "id": "75dfd152",
   "metadata": {},
   "outputs": [
    {
     "name": "stdout",
     "output_type": "stream",
     "text": [
      "yes\n",
      "Yes-\n"
     ]
    }
   ],
   "source": [
    "raw_input=input()\n",
    "    \n",
    "if raw_input=='YES' or raw_input=='yes' or raw_input=='Yes':\n",
    "    print('Yes-')\n",
    "else:\n",
    "    print('No')"
   ]
  },
  {
   "cell_type": "code",
   "execution_count": null,
   "id": "386a5f05",
   "metadata": {},
   "outputs": [],
   "source": [
    "# Question:\n",
    "# Write a program which can filter even numbers in a list by using filter function. The list is: [1,2,3,4,5,6,7,8,9,10]."
   ]
  },
  {
   "cell_type": "code",
   "execution_count": 97,
   "id": "3576e9c1",
   "metadata": {},
   "outputs": [
    {
     "name": "stdout",
     "output_type": "stream",
     "text": [
      "[2, 4, 6, 8, 10]\n"
     ]
    }
   ],
   "source": [
    "li = [1,2,3,4,5,6,7,8,9,10]\n",
    "evenNumbers = filter(lambda x: x%2==0, li)\n",
    "evenNumbersList = list(evenNumbers)\n",
    "print(evenNumbersList)\n"
   ]
  },
  {
   "cell_type": "code",
   "execution_count": 98,
   "id": "f668e99d",
   "metadata": {},
   "outputs": [
    {
     "name": "stdout",
     "output_type": "stream",
     "text": [
      "[1, 4, 9, 16, 25, 36, 49, 64, 81, 100]\n"
     ]
    }
   ],
   "source": [
    "li = [1,2,3,4,5,6,7,8,9,10]\n",
    "squaredNumbers = map(lambda x: x**2, li)\n",
    "squaredNumberslist=list(squaredNumbers)\n",
    "print(squaredNumberslist)"
   ]
  },
  {
   "cell_type": "code",
   "execution_count": 100,
   "id": "4c95d5ff",
   "metadata": {},
   "outputs": [
    {
     "name": "stdout",
     "output_type": "stream",
     "text": [
      "[1, 4, 9, 16, 25, 36, 49, 64, 81, 100, 121, 144, 169, 196, 225, 256, 289, 324, 361, 400]\n"
     ]
    }
   ],
   "source": [
    "squaredNumbers = map(lambda x: x**2, range(1,21))\n",
    "sql=list(squaredNumbers)\n",
    "print(sql)"
   ]
  },
  {
   "cell_type": "markdown",
   "id": "d76e1ef3",
   "metadata": {},
   "source": [
    "# Class"
   ]
  },
  {
   "cell_type": "code",
   "execution_count": null,
   "id": "8557ff31",
   "metadata": {},
   "outputs": [],
   "source": [
    "# Question:\n",
    "# Define a class named American which has a static method called printNationality."
   ]
  },
  {
   "cell_type": "code",
   "execution_count": 101,
   "id": "1cbbffa0",
   "metadata": {},
   "outputs": [],
   "source": [
    "class American:\n",
    "    \n",
    "    def nationality(self):\n",
    "        return print(\"i'm a American\")"
   ]
  },
  {
   "cell_type": "code",
   "execution_count": 102,
   "id": "f9136967",
   "metadata": {},
   "outputs": [
    {
     "name": "stdout",
     "output_type": "stream",
     "text": [
      "i'm a American\n"
     ]
    }
   ],
   "source": [
    "amb=American()\n",
    "\n",
    "amb.nationality()"
   ]
  },
  {
   "cell_type": "code",
   "execution_count": null,
   "id": "9c3b8e93",
   "metadata": {},
   "outputs": [],
   "source": [
    "# Question:\n",
    "# Define a class named American and its subclass NewYorker."
   ]
  },
  {
   "cell_type": "code",
   "execution_count": 103,
   "id": "637c1b1b",
   "metadata": {},
   "outputs": [],
   "source": [
    "class American:\n",
    "    pass\n",
    "\n",
    "class Neyyorker:\n",
    "    pass"
   ]
  },
  {
   "cell_type": "code",
   "execution_count": 105,
   "id": "9d54b91f",
   "metadata": {},
   "outputs": [],
   "source": [
    "amc=American()"
   ]
  },
  {
   "cell_type": "code",
   "execution_count": null,
   "id": "c34a174d",
   "metadata": {},
   "outputs": [],
   "source": [
    "# Question:\n",
    "# Define a class named Circle which can be constructed by a radius. \n",
    "# The Circle class has a method which can compute the area."
   ]
  },
  {
   "cell_type": "code",
   "execution_count": 108,
   "id": "abf804a3",
   "metadata": {},
   "outputs": [],
   "source": [
    "class Circle:\n",
    "    \n",
    "    def __init__(self,radius):\n",
    "        self.radius=radius\n",
    "        #self.circumference=circumference\n",
    "        \n",
    "    def area(self):\n",
    "        return self.radius**2*3.14"
   ]
  },
  {
   "cell_type": "code",
   "execution_count": 110,
   "id": "5bcc551d",
   "metadata": {},
   "outputs": [
    {
     "data": {
      "text/plain": [
       "78.5"
      ]
     },
     "execution_count": 110,
     "metadata": {},
     "output_type": "execute_result"
    }
   ],
   "source": [
    "cir=Circle(5)\n",
    "\n",
    "cir.area()"
   ]
  },
  {
   "cell_type": "code",
   "execution_count": null,
   "id": "8ea23f27",
   "metadata": {},
   "outputs": [],
   "source": [
    "# Define a class named Rectangle which can be constructed by a length and width. \n",
    "# The Rectangle class has a method which can compute the area."
   ]
  },
  {
   "cell_type": "code",
   "execution_count": 113,
   "id": "c481e8ef",
   "metadata": {},
   "outputs": [],
   "source": [
    "class Rectangle:\n",
    "    \n",
    "    def __init__(self,length,width):\n",
    "        self.length=length\n",
    "        self.width=width\n",
    "        \n",
    "    def area(self):\n",
    "        return self.width*self.length"
   ]
  },
  {
   "cell_type": "code",
   "execution_count": 114,
   "id": "b9fb4487",
   "metadata": {},
   "outputs": [
    {
     "data": {
      "text/plain": [
       "25"
      ]
     },
     "execution_count": 114,
     "metadata": {},
     "output_type": "execute_result"
    }
   ],
   "source": [
    "rec=Rectangle(5,5)\n",
    "\n",
    "rec.area()"
   ]
  },
  {
   "cell_type": "code",
   "execution_count": null,
   "id": "1abb0f8c",
   "metadata": {},
   "outputs": [],
   "source": [
    "# Define a class named Shape and its subclass Square. The Square class has an init function which takes a length as argument. \n",
    "# Both classes have a area function which can print the area of the shape where Shape's area is 0 by default."
   ]
  },
  {
   "cell_type": "code",
   "execution_count": 115,
   "id": "62620603",
   "metadata": {},
   "outputs": [],
   "source": [
    "class shape:\n",
    "    def __init__(self):\n",
    "        pass\n",
    "    \n",
    "    def area(self):\n",
    "        return 0\n",
    "\n",
    "class square(shape):\n",
    "    def __init__(self,l):\n",
    "        shape.__init__(self)\n",
    "        self.length=l\n",
    "        \n",
    "    def area(self):\n",
    "        return self.length*self.length\n",
    "    "
   ]
  },
  {
   "cell_type": "code",
   "execution_count": 116,
   "id": "1d6d0173",
   "metadata": {},
   "outputs": [
    {
     "data": {
      "text/plain": [
       "9"
      ]
     },
     "execution_count": 116,
     "metadata": {},
     "output_type": "execute_result"
    }
   ],
   "source": [
    "a3sq=square(3)\n",
    "\n",
    "a3sq.area()"
   ]
  },
  {
   "cell_type": "code",
   "execution_count": null,
   "id": "826c3b7d",
   "metadata": {},
   "outputs": [],
   "source": [
    "# Assuming that we have some email addresses in the \"username@companyname.com\" format, \n",
    "# please write program to print the user name of a given email address. \n",
    "# Both user names and company names are composed of letters only."
   ]
  },
  {
   "cell_type": "code",
   "execution_count": 122,
   "id": "33dfb048",
   "metadata": {},
   "outputs": [
    {
     "name": "stdout",
     "output_type": "stream",
     "text": [
      "madan.amddy890@gmail.com\n"
     ]
    },
    {
     "data": {
      "text/plain": [
       "'amddy890'"
      ]
     },
     "execution_count": 122,
     "metadata": {},
     "output_type": "execute_result"
    }
   ],
   "source": [
    "import re\n",
    "raw_input=input()\n",
    "pattern=\"(\\w+\\.)+(\\w+)@((\\w+\\.)+(com))\"\n",
    "res=re.match(pattern,raw_input)\n",
    "res.group(2)"
   ]
  },
  {
   "cell_type": "code",
   "execution_count": null,
   "id": "0adf5f54",
   "metadata": {},
   "outputs": [],
   "source": [
    "# Example:\n",
    "# If the following words is given as input to the program:\n",
    "\n",
    "# 2 cats and 3 dogs.\n",
    "\n",
    "# Then, the output of the program should be:\n",
    "\n",
    "# ['2', '3']"
   ]
  },
  {
   "cell_type": "code",
   "execution_count": 140,
   "id": "0b6da595",
   "metadata": {},
   "outputs": [
    {
     "name": "stdout",
     "output_type": "stream",
     "text": [
      "2 cats and 3 dogs.\n",
      "['2', '3']\n"
     ]
    }
   ],
   "source": [
    "input_str = input()\n",
    "\n",
    "digit_strings = []\n",
    "\n",
    "for word in input_str.split():\n",
    "    if word.isdigit():\n",
    "        digit_strings.append(word)\n",
    "\n",
    "print(digit_strings)"
   ]
  },
  {
   "cell_type": "code",
   "execution_count": 141,
   "id": "bf639d01",
   "metadata": {},
   "outputs": [
    {
     "name": "stdout",
     "output_type": "stream",
     "text": [
      "2 cats and 3 dogs.\n",
      "['2', '3']\n"
     ]
    }
   ],
   "source": [
    "import re\n",
    "\n",
    "input_str = input()\n",
    "\n",
    "digit_strings = re.findall(r'\\d+', input_str)\n",
    "\n",
    "print(digit_strings)\n"
   ]
  },
  {
   "cell_type": "code",
   "execution_count": 142,
   "id": "3d3c6241",
   "metadata": {},
   "outputs": [
    {
     "name": "stdout",
     "output_type": "stream",
     "text": [
      "hello world!\n"
     ]
    }
   ],
   "source": [
    "unicodeString = u\"hello world!\"\n",
    "print(unicodeString)"
   ]
  },
  {
   "cell_type": "code",
   "execution_count": null,
   "id": "f4d601b4",
   "metadata": {},
   "outputs": [],
   "source": [
    "# Write a program to read an ASCII string and to convert it to a unicode string encoded by utf-8."
   ]
  },
  {
   "cell_type": "code",
   "execution_count": null,
   "id": "37bd8abf",
   "metadata": {},
   "outputs": [],
   "source": [
    "from unicodedata import unicodedata"
   ]
  },
  {
   "cell_type": "code",
   "execution_count": 143,
   "id": "82436b6d",
   "metadata": {},
   "outputs": [
    {
     "name": "stdout",
     "output_type": "stream",
     "text": [
      "hjhmb\n"
     ]
    },
    {
     "ename": "NameError",
     "evalue": "name 'unicode' is not defined",
     "output_type": "error",
     "traceback": [
      "\u001b[1;31m---------------------------------------------------------------------------\u001b[0m",
      "\u001b[1;31mNameError\u001b[0m                                 Traceback (most recent call last)",
      "\u001b[1;32m~\\AppData\\Local\\Temp\\ipykernel_19952\\3549471421.py\u001b[0m in \u001b[0;36m<module>\u001b[1;34m\u001b[0m\n\u001b[0;32m      1\u001b[0m \u001b[0mraw_input\u001b[0m\u001b[1;33m=\u001b[0m\u001b[0minput\u001b[0m\u001b[1;33m(\u001b[0m\u001b[1;33m)\u001b[0m\u001b[1;33m\u001b[0m\u001b[1;33m\u001b[0m\u001b[0m\n\u001b[0;32m      2\u001b[0m \u001b[1;33m\u001b[0m\u001b[0m\n\u001b[1;32m----> 3\u001b[1;33m \u001b[0mre\u001b[0m\u001b[1;33m=\u001b[0m\u001b[0municode\u001b[0m\u001b[1;33m(\u001b[0m\u001b[0mraw_input\u001b[0m\u001b[1;33m,\u001b[0m\u001b[1;34m'utf-8'\u001b[0m\u001b[1;33m)\u001b[0m\u001b[1;33m\u001b[0m\u001b[1;33m\u001b[0m\u001b[0m\n\u001b[0m",
      "\u001b[1;31mNameError\u001b[0m: name 'unicode' is not defined"
     ]
    }
   ],
   "source": [
    "raw_input=input()\n",
    "\n",
    "re=unicode(raw_input,'utf-8')"
   ]
  },
  {
   "cell_type": "code",
   "execution_count": null,
   "id": "e9ace830",
   "metadata": {},
   "outputs": [],
   "source": [
    "# Write a program to compute 1/2+2/3+3/4+...+n/n+1 with a given n input by console (n>0).\n",
    "\n",
    "# Example:\n",
    "# If the following n is given as input to the program:\n",
    "\n",
    "# 5\n",
    "\n",
    "# Then, the output of the program should be:\n",
    "\n",
    "# 3.55"
   ]
  },
  {
   "cell_type": "code",
   "execution_count": 146,
   "id": "5a4b95d8",
   "metadata": {},
   "outputs": [
    {
     "name": "stdout",
     "output_type": "stream",
     "text": [
      "5\n",
      "3.55\n"
     ]
    }
   ],
   "source": [
    "ip=int(input())\n",
    "res=0\n",
    "for i in range(1,ip+1):\n",
    "    res+=float(float(i/(i+1)))\n",
    "print(round(res,2))"
   ]
  },
  {
   "cell_type": "code",
   "execution_count": 149,
   "id": "5dd318ba",
   "metadata": {},
   "outputs": [
    {
     "name": "stdout",
     "output_type": "stream",
     "text": [
      "4\n",
      "24\n"
     ]
    }
   ],
   "source": [
    "ip=int(input())\n",
    "res=1\n",
    "for i in range(1,ip+1):\n",
    "    res=res*(i)\n",
    "print(round(res,2))"
   ]
  },
  {
   "cell_type": "code",
   "execution_count": 150,
   "id": "a39f87d8",
   "metadata": {},
   "outputs": [
    {
     "name": "stdout",
     "output_type": "stream",
     "text": [
      "my name is madan\n",
      "my\n",
      "name\n",
      "is\n",
      "madan\n"
     ]
    }
   ],
   "source": [
    "input_str = input()\n",
    "\n",
    "digit_strings = []\n",
    "\n",
    "words = input_str.split()\n",
    "\n",
    "for i in words:\n",
    "    print(i)"
   ]
  },
  {
   "cell_type": "code",
   "execution_count": 151,
   "id": "f01aaee9",
   "metadata": {},
   "outputs": [],
   "source": [
    "# In case of input data being supplied to the question, it should be assumed to be a console input.\n",
    "\n",
    "# Hints:\n",
    "# We can define recursive function in Python.\n",
    "\n",
    "\n",
    "# Solution:\n",
    "\n",
    "def f(n):\n",
    "    if n == 0: return 0\n",
    "    elif n == 1: return 1\n",
    "    else: return f(n-1)+f(n-2)"
   ]
  },
  {
   "cell_type": "code",
   "execution_count": 155,
   "id": "b7beddc9",
   "metadata": {},
   "outputs": [
    {
     "name": "stdout",
     "output_type": "stream",
     "text": [
      "5\n",
      "0,1,1,2,3,5\n"
     ]
    }
   ],
   "source": [
    "n=int(input())\n",
    "values = [str(f(x)) for x in range(0, n+1)]\n",
    "print(\",\".join(values))"
   ]
  },
  {
   "cell_type": "code",
   "execution_count": null,
   "id": "7efe092c",
   "metadata": {},
   "outputs": [],
   "source": [
    "# Please write a program which accepts basic mathematic expression from console and print the evaluation result.\n",
    "\n",
    "# Example:\n",
    "# If the following string is given as input to the program:\n",
    "\n",
    "# 35+3\n",
    "\n",
    "# Then, the output of the program should be:\n",
    "\n",
    "# 3"
   ]
  },
  {
   "cell_type": "code",
   "execution_count": 166,
   "id": "778fe229",
   "metadata": {},
   "outputs": [],
   "source": [
    "def eval1():\n",
    "    res=input()\n",
    "    return int(res)"
   ]
  },
  {
   "cell_type": "code",
   "execution_count": 169,
   "id": "e60a1588",
   "metadata": {},
   "outputs": [
    {
     "name": "stdout",
     "output_type": "stream",
     "text": [
      "1\n",
      "2\n",
      "3\n",
      "4\n",
      "5\n"
     ]
    }
   ],
   "source": [
    "i = 1\n",
    "while i <= 5:\n",
    "    print(i)\n",
    "    i += 1\n"
   ]
  },
  {
   "cell_type": "code",
   "execution_count": 170,
   "id": "c706fce8",
   "metadata": {},
   "outputs": [
    {
     "data": {
      "text/plain": [
       "6"
      ]
     },
     "execution_count": 170,
     "metadata": {},
     "output_type": "execute_result"
    }
   ],
   "source": [
    "i"
   ]
  },
  {
   "cell_type": "code",
   "execution_count": 173,
   "id": "f97850bd",
   "metadata": {},
   "outputs": [
    {
     "name": "stdout",
     "output_type": "stream",
     "text": [
      "Enter the number between [1-10]11\n",
      "Too high\n",
      "Enter the number between [1-10]15\n",
      "Too high\n"
     ]
    },
    {
     "ename": "KeyboardInterrupt",
     "evalue": "Interrupted by user",
     "output_type": "error",
     "traceback": [
      "\u001b[1;31m---------------------------------------------------------------------------\u001b[0m",
      "\u001b[1;31mKeyboardInterrupt\u001b[0m                         Traceback (most recent call last)",
      "\u001b[1;32m~\\AppData\\Local\\Temp\\ipykernel_19952\\85747921.py\u001b[0m in \u001b[0;36m<module>\u001b[1;34m\u001b[0m\n\u001b[0;32m      4\u001b[0m \u001b[0mguess\u001b[0m\u001b[1;33m=\u001b[0m\u001b[1;32mNone\u001b[0m\u001b[1;33m\u001b[0m\u001b[1;33m\u001b[0m\u001b[0m\n\u001b[0;32m      5\u001b[0m \u001b[1;32mwhile\u001b[0m \u001b[0mguess\u001b[0m\u001b[1;33m!=\u001b[0m\u001b[0mnumber\u001b[0m\u001b[1;33m:\u001b[0m\u001b[1;33m\u001b[0m\u001b[1;33m\u001b[0m\u001b[0m\n\u001b[1;32m----> 6\u001b[1;33m     \u001b[0mguess\u001b[0m\u001b[1;33m=\u001b[0m\u001b[0mint\u001b[0m\u001b[1;33m(\u001b[0m\u001b[0minput\u001b[0m\u001b[1;33m(\u001b[0m\u001b[1;34m'Enter the number between [1-10]'\u001b[0m\u001b[1;33m)\u001b[0m\u001b[1;33m)\u001b[0m\u001b[1;33m\u001b[0m\u001b[1;33m\u001b[0m\u001b[0m\n\u001b[0m\u001b[0;32m      7\u001b[0m     \u001b[1;32mif\u001b[0m \u001b[0mguess\u001b[0m\u001b[1;33m<\u001b[0m\u001b[0mnumber\u001b[0m\u001b[1;33m:\u001b[0m\u001b[1;33m\u001b[0m\u001b[1;33m\u001b[0m\u001b[0m\n\u001b[0;32m      8\u001b[0m         \u001b[0mprint\u001b[0m\u001b[1;33m(\u001b[0m\u001b[1;34m'Too low'\u001b[0m\u001b[1;33m)\u001b[0m\u001b[1;33m\u001b[0m\u001b[1;33m\u001b[0m\u001b[0m\n",
      "\u001b[1;32m~\\anaconda3\\lib\\site-packages\\ipykernel\\kernelbase.py\u001b[0m in \u001b[0;36mraw_input\u001b[1;34m(self, prompt)\u001b[0m\n\u001b[0;32m   1175\u001b[0m                 \u001b[1;34m\"raw_input was called, but this frontend does not support input requests.\"\u001b[0m\u001b[1;33m\u001b[0m\u001b[1;33m\u001b[0m\u001b[0m\n\u001b[0;32m   1176\u001b[0m             )\n\u001b[1;32m-> 1177\u001b[1;33m         return self._input_request(\n\u001b[0m\u001b[0;32m   1178\u001b[0m             \u001b[0mstr\u001b[0m\u001b[1;33m(\u001b[0m\u001b[0mprompt\u001b[0m\u001b[1;33m)\u001b[0m\u001b[1;33m,\u001b[0m\u001b[1;33m\u001b[0m\u001b[1;33m\u001b[0m\u001b[0m\n\u001b[0;32m   1179\u001b[0m             \u001b[0mself\u001b[0m\u001b[1;33m.\u001b[0m\u001b[0m_parent_ident\u001b[0m\u001b[1;33m[\u001b[0m\u001b[1;34m\"shell\"\u001b[0m\u001b[1;33m]\u001b[0m\u001b[1;33m,\u001b[0m\u001b[1;33m\u001b[0m\u001b[1;33m\u001b[0m\u001b[0m\n",
      "\u001b[1;32m~\\anaconda3\\lib\\site-packages\\ipykernel\\kernelbase.py\u001b[0m in \u001b[0;36m_input_request\u001b[1;34m(self, prompt, ident, parent, password)\u001b[0m\n\u001b[0;32m   1217\u001b[0m             \u001b[1;32mexcept\u001b[0m \u001b[0mKeyboardInterrupt\u001b[0m\u001b[1;33m:\u001b[0m\u001b[1;33m\u001b[0m\u001b[1;33m\u001b[0m\u001b[0m\n\u001b[0;32m   1218\u001b[0m                 \u001b[1;31m# re-raise KeyboardInterrupt, to truncate traceback\u001b[0m\u001b[1;33m\u001b[0m\u001b[1;33m\u001b[0m\u001b[0m\n\u001b[1;32m-> 1219\u001b[1;33m                 \u001b[1;32mraise\u001b[0m \u001b[0mKeyboardInterrupt\u001b[0m\u001b[1;33m(\u001b[0m\u001b[1;34m\"Interrupted by user\"\u001b[0m\u001b[1;33m)\u001b[0m \u001b[1;32mfrom\u001b[0m \u001b[1;32mNone\u001b[0m\u001b[1;33m\u001b[0m\u001b[1;33m\u001b[0m\u001b[0m\n\u001b[0m\u001b[0;32m   1220\u001b[0m             \u001b[1;32mexcept\u001b[0m \u001b[0mException\u001b[0m\u001b[1;33m:\u001b[0m\u001b[1;33m\u001b[0m\u001b[1;33m\u001b[0m\u001b[0m\n\u001b[0;32m   1221\u001b[0m                 \u001b[0mself\u001b[0m\u001b[1;33m.\u001b[0m\u001b[0mlog\u001b[0m\u001b[1;33m.\u001b[0m\u001b[0mwarning\u001b[0m\u001b[1;33m(\u001b[0m\u001b[1;34m\"Invalid Message:\"\u001b[0m\u001b[1;33m,\u001b[0m \u001b[0mexc_info\u001b[0m\u001b[1;33m=\u001b[0m\u001b[1;32mTrue\u001b[0m\u001b[1;33m)\u001b[0m\u001b[1;33m\u001b[0m\u001b[1;33m\u001b[0m\u001b[0m\n",
      "\u001b[1;31mKeyboardInterrupt\u001b[0m: Interrupted by user"
     ]
    }
   ],
   "source": [
    "import random\n",
    "\n",
    "number=random.randint(1,10)\n",
    "guess=None\n",
    "while guess!=number:\n",
    "    guess=int(input('Enter the number between [1-10]'))\n",
    "    if guess<number:\n",
    "        print('Too low')\n",
    "    elif guess > number:\n",
    "        print('Too high')\n",
    "print('You Win')"
   ]
  },
  {
   "cell_type": "code",
   "execution_count": 176,
   "id": "ec814c89",
   "metadata": {},
   "outputs": [
    {
     "name": "stdout",
     "output_type": "stream",
     "text": [
      "5\n"
     ]
    }
   ],
   "source": [
    "numbers = [0, 0, 0, 5, 0, 0, 3]\n",
    "i = 0\n",
    "while numbers[i] == 0:\n",
    "    i += 1\n",
    "print(numbers[i])\n"
   ]
  },
  {
   "cell_type": "code",
   "execution_count": 177,
   "id": "52030b51",
   "metadata": {},
   "outputs": [
    {
     "ename": "KeyboardInterrupt",
     "evalue": "",
     "output_type": "error",
     "traceback": [
      "\u001b[1;31m---------------------------------------------------------------------------\u001b[0m",
      "\u001b[1;31mKeyboardInterrupt\u001b[0m                         Traceback (most recent call last)",
      "\u001b[1;32m~\\AppData\\Local\\Temp\\ipykernel_19952\\3116405741.py\u001b[0m in \u001b[0;36m<module>\u001b[1;34m\u001b[0m\n\u001b[0;32m      2\u001b[0m \u001b[0mtotal\u001b[0m\u001b[1;33m=\u001b[0m\u001b[1;36m0\u001b[0m\u001b[1;33m\u001b[0m\u001b[1;33m\u001b[0m\u001b[0m\n\u001b[0;32m      3\u001b[0m \u001b[1;32mwhile\u001b[0m \u001b[0mnumbers\u001b[0m\u001b[1;33m[\u001b[0m\u001b[0mtotal\u001b[0m\u001b[1;33m]\u001b[0m\u001b[1;33m==\u001b[0m\u001b[0mtotal\u001b[0m\u001b[1;33m:\u001b[0m\u001b[1;33m\u001b[0m\u001b[1;33m\u001b[0m\u001b[0m\n\u001b[1;32m----> 4\u001b[1;33m     \u001b[0mtotal\u001b[0m\u001b[1;33m+=\u001b[0m\u001b[0mtotal\u001b[0m\u001b[1;33m\u001b[0m\u001b[1;33m\u001b[0m\u001b[0m\n\u001b[0m\u001b[0;32m      5\u001b[0m \u001b[0mprint\u001b[0m\u001b[1;33m(\u001b[0m\u001b[0mtotal\u001b[0m\u001b[1;33m)\u001b[0m\u001b[1;33m\u001b[0m\u001b[1;33m\u001b[0m\u001b[0m\n",
      "\u001b[1;31mKeyboardInterrupt\u001b[0m: "
     ]
    }
   ],
   "source": [
    "numbers = [0, 0, 0, 5, 0, 0, 3]\n",
    "total=0\n",
    "while numbers[total]==total:\n",
    "    total+=total\n",
    "print(total)"
   ]
  },
  {
   "cell_type": "code",
   "execution_count": null,
   "id": "4b9e97f8",
   "metadata": {},
   "outputs": [],
   "source": [
    "# Please write a program using list comprehension to print the Fibonacci Sequence in \n",
    "# comma separated form with a given n input by console.\n",
    "\n",
    "# Example:\n",
    "# If the following n is given as input to the program:\n",
    "\n",
    "# 7\n",
    "\n",
    "# Then, the output of the program should be:\n",
    "\n",
    "# 0,1,1,2,3,5,8,13"
   ]
  },
  {
   "cell_type": "code",
   "execution_count": 180,
   "id": "280aab73",
   "metadata": {},
   "outputs": [
    {
     "name": "stdout",
     "output_type": "stream",
     "text": [
      "20\n",
      "1,1,2,3,5,8,13,21,34,55,89,144,233,377,610,987,1597,2584,4181,6765\n"
     ]
    }
   ],
   "source": [
    "def f(n):\n",
    "    if n==0:\n",
    "        return 0\n",
    "    elif n==1:\n",
    "        return 1\n",
    "    else:\n",
    "        return f(n-1)+f(n-2)\n",
    "n=int(input())        \n",
    "lt=[str(f(x)) for x in range(1,n+1)]\n",
    "print(','.join(lt))"
   ]
  },
  {
   "cell_type": "code",
   "execution_count": null,
   "id": "1fc093a3",
   "metadata": {},
   "outputs": [],
   "source": [
    "# Example:\n",
    "# If the following n is given as input to the program:\n",
    "\n",
    "# 100\n",
    "\n",
    "# Then, the output of the program should be:\n",
    "\n",
    "# 0,35,70"
   ]
  },
  {
   "cell_type": "code",
   "execution_count": 184,
   "id": "3f7af20b",
   "metadata": {},
   "outputs": [
    {
     "name": "stdout",
     "output_type": "stream",
     "text": [
      "100\n",
      "0,35,70\n"
     ]
    }
   ],
   "source": [
    "def gen(n):\n",
    "    for i in range(n+1):\n",
    "        if i%5==0 and i%7==0:\n",
    "            yield i\n",
    "            \n",
    "n=int(input())\n",
    "values=[]\n",
    "for i in gen(n):\n",
    "    values.append(str(i))\n",
    "    \n",
    "print(','.join(values))"
   ]
  },
  {
   "cell_type": "code",
   "execution_count": 187,
   "id": "34f0b90e",
   "metadata": {},
   "outputs": [
    {
     "ename": "TypeError",
     "evalue": "eval() takes 0 positional arguments but 1 was given",
     "output_type": "error",
     "traceback": [
      "\u001b[1;31m---------------------------------------------------------------------------\u001b[0m",
      "\u001b[1;31mTypeError\u001b[0m                                 Traceback (most recent call last)",
      "\u001b[1;32m~\\AppData\\Local\\Temp\\ipykernel_19952\\709826591.py\u001b[0m in \u001b[0;36m<module>\u001b[1;34m\u001b[0m\n\u001b[0;32m      1\u001b[0m \u001b[0mexpression\u001b[0m \u001b[1;33m=\u001b[0m \u001b[1;34m\"3 + 4 * 2\"\u001b[0m\u001b[1;33m\u001b[0m\u001b[1;33m\u001b[0m\u001b[0m\n\u001b[1;32m----> 2\u001b[1;33m \u001b[0mresult\u001b[0m \u001b[1;33m=\u001b[0m \u001b[0meval\u001b[0m\u001b[1;33m(\u001b[0m\u001b[0mexpression\u001b[0m\u001b[1;33m)\u001b[0m\u001b[1;33m\u001b[0m\u001b[1;33m\u001b[0m\u001b[0m\n\u001b[0m\u001b[0;32m      3\u001b[0m \u001b[0mprint\u001b[0m\u001b[1;33m(\u001b[0m\u001b[0mresult\u001b[0m\u001b[1;33m)\u001b[0m  \u001b[1;31m# 11\u001b[0m\u001b[1;33m\u001b[0m\u001b[1;33m\u001b[0m\u001b[0m\n",
      "\u001b[1;31mTypeError\u001b[0m: eval() takes 0 positional arguments but 1 was given"
     ]
    }
   ],
   "source": [
    "expression = \"3 + 4 * 2\"\n",
    "result = eval(expression)\n",
    "print(result)  # 11\n"
   ]
  },
  {
   "cell_type": "code",
   "execution_count": 242,
   "id": "560c2c17",
   "metadata": {},
   "outputs": [
    {
     "data": {
      "text/plain": [
       "513.4448131421248"
      ]
     },
     "execution_count": 242,
     "metadata": {},
     "output_type": "execute_result"
    }
   ],
   "source": [
    "random.random()*1000"
   ]
  },
  {
   "cell_type": "code",
   "execution_count": 280,
   "id": "09491f8e",
   "metadata": {},
   "outputs": [
    {
     "name": "stdout",
     "output_type": "stream",
     "text": [
      "[178, 130, 122, 104, 180]\n"
     ]
    }
   ],
   "source": [
    "import random\n",
    "print(random.sample([i for i in range(100,201) if i%2==0], 5))"
   ]
  },
  {
   "cell_type": "code",
   "execution_count": 284,
   "id": "4e96399e",
   "metadata": {},
   "outputs": [
    {
     "name": "stdout",
     "output_type": "stream",
     "text": [
      "[62, 52, 50, 72, 76]\n"
     ]
    }
   ],
   "source": [
    "print(random.sample([i for i in range(50,80) if i%2==0],5))"
   ]
  },
  {
   "cell_type": "code",
   "execution_count": 286,
   "id": "a5cdc174",
   "metadata": {},
   "outputs": [
    {
     "ename": "TypeError",
     "evalue": "a bytes-like object is required, not 'str'",
     "output_type": "error",
     "traceback": [
      "\u001b[1;31m---------------------------------------------------------------------------\u001b[0m",
      "\u001b[1;31mTypeError\u001b[0m                                 Traceback (most recent call last)",
      "\u001b[1;32m~\\AppData\\Local\\Temp\\ipykernel_19952\\2186687545.py\u001b[0m in \u001b[0;36m<module>\u001b[1;34m\u001b[0m\n\u001b[0;32m      1\u001b[0m \u001b[1;32mimport\u001b[0m \u001b[0mzlib\u001b[0m\u001b[1;33m\u001b[0m\u001b[1;33m\u001b[0m\u001b[0m\n\u001b[0;32m      2\u001b[0m \u001b[0ms\u001b[0m \u001b[1;33m=\u001b[0m \u001b[1;34m'hello world!hello world!hello world!hello world!'\u001b[0m\u001b[1;33m\u001b[0m\u001b[1;33m\u001b[0m\u001b[0m\n\u001b[1;32m----> 3\u001b[1;33m \u001b[0mt\u001b[0m \u001b[1;33m=\u001b[0m \u001b[0mzlib\u001b[0m\u001b[1;33m.\u001b[0m\u001b[0mcompress\u001b[0m\u001b[1;33m(\u001b[0m\u001b[0ms\u001b[0m\u001b[1;33m)\u001b[0m\u001b[1;33m\u001b[0m\u001b[1;33m\u001b[0m\u001b[0m\n\u001b[0m\u001b[0;32m      4\u001b[0m \u001b[0mprint\u001b[0m\u001b[1;33m(\u001b[0m\u001b[0mt\u001b[0m\u001b[1;33m)\u001b[0m\u001b[1;33m\u001b[0m\u001b[1;33m\u001b[0m\u001b[0m\n",
      "\u001b[1;31mTypeError\u001b[0m: a bytes-like object is required, not 'str'"
     ]
    }
   ],
   "source": [
    "import zlib\n",
    "s = 'hello world!hello world!hello world!hello world!'\n",
    "t = zlib.compress(s)\n",
    "print(t)"
   ]
  },
  {
   "cell_type": "code",
   "execution_count": 288,
   "id": "7ec816c8",
   "metadata": {},
   "outputs": [
    {
     "name": "stdout",
     "output_type": "stream",
     "text": [
      "1\n",
      "2\n",
      "3\n",
      "4\n",
      "5\n"
     ]
    }
   ],
   "source": [
    "# While loop\n",
    "i=1\n",
    "while i<=5:\n",
    "    print(i)\n",
    "    i+=1"
   ]
  },
  {
   "cell_type": "code",
   "execution_count": 289,
   "id": "b7d2eb3f",
   "metadata": {},
   "outputs": [
    {
     "name": "stdout",
     "output_type": "stream",
     "text": [
      "5\n",
      "6\n",
      "7\n",
      "8\n"
     ]
    }
   ],
   "source": [
    "i=5\n",
    "while i<=8:\n",
    "    print(i)\n",
    "    i+=1"
   ]
  },
  {
   "cell_type": "code",
   "execution_count": 291,
   "id": "d42093c6",
   "metadata": {},
   "outputs": [
    {
     "name": "stdout",
     "output_type": "stream",
     "text": [
      "Guess the secret number (between 1 and 10): 1\n",
      "Too low! Guess again.\n",
      "Guess the secret number (between 1 and 10): 2\n",
      "Too low! Guess again.\n",
      "Guess the secret number (between 1 and 10): 3\n",
      "Too low! Guess again.\n",
      "Guess the secret number (between 1 and 10): 4\n",
      "Too low! Guess again.\n",
      "Guess the secret number (between 1 and 10): 5\n",
      "Too low! Guess again.\n",
      "Guess the secret number (between 1 and 10): 6\n",
      "Too low! Guess again.\n",
      "Guess the secret number (between 1 and 10): 7\n",
      "Congratulations! You guessed the secret number.\n"
     ]
    }
   ],
   "source": [
    "import random\n",
    "\n",
    "secret_number = random.randint(1, 10)\n",
    "guess = None\n",
    "\n",
    "while guess != secret_number:\n",
    "    guess = int(input(\"Guess the secret number (between 1 and 10): \"))\n",
    "    if guess < secret_number:\n",
    "        print(\"Too low! Guess again.\")\n",
    "    elif guess > secret_number:\n",
    "        print(\"Too high! Guess again.\")\n",
    "    else:\n",
    "        print(\"Congratulations! You guessed the secret number.\")"
   ]
  },
  {
   "cell_type": "code",
   "execution_count": 293,
   "id": "2492b014",
   "metadata": {},
   "outputs": [
    {
     "name": "stdout",
     "output_type": "stream",
     "text": [
      "ADD\n",
      "Substract\n",
      "Multiply\n",
      "Division\n",
      "Enter the value btw 1-53\n",
      "2\n",
      "3\n",
      "6\n",
      "ADD\n",
      "Substract\n",
      "Multiply\n",
      "Division\n",
      "Enter the value btw 1-5\n"
     ]
    },
    {
     "ename": "ValueError",
     "evalue": "invalid literal for int() with base 10: ''",
     "output_type": "error",
     "traceback": [
      "\u001b[1;31m---------------------------------------------------------------------------\u001b[0m",
      "\u001b[1;31mValueError\u001b[0m                                Traceback (most recent call last)",
      "\u001b[1;32m~\\AppData\\Local\\Temp\\ipykernel_19952\\2346571736.py\u001b[0m in \u001b[0;36m<module>\u001b[1;34m\u001b[0m\n\u001b[0;32m      5\u001b[0m     \u001b[0mprint\u001b[0m\u001b[1;33m(\u001b[0m\u001b[1;34m'Division'\u001b[0m\u001b[1;33m)\u001b[0m\u001b[1;33m\u001b[0m\u001b[1;33m\u001b[0m\u001b[0m\n\u001b[0;32m      6\u001b[0m     \u001b[1;31m# ADD\u001b[0m\u001b[1;33m\u001b[0m\u001b[1;33m\u001b[0m\u001b[0m\n\u001b[1;32m----> 7\u001b[1;33m     \u001b[0mchoice\u001b[0m\u001b[1;33m=\u001b[0m\u001b[0mint\u001b[0m\u001b[1;33m(\u001b[0m\u001b[0minput\u001b[0m\u001b[1;33m(\u001b[0m\u001b[1;34m\"Enter the value btw 1-5\"\u001b[0m\u001b[1;33m)\u001b[0m\u001b[1;33m)\u001b[0m\u001b[1;33m\u001b[0m\u001b[1;33m\u001b[0m\u001b[0m\n\u001b[0m\u001b[0;32m      8\u001b[0m     \u001b[1;32mif\u001b[0m \u001b[0mchoice\u001b[0m\u001b[1;33m==\u001b[0m\u001b[1;36m1\u001b[0m\u001b[1;33m:\u001b[0m\u001b[1;33m\u001b[0m\u001b[1;33m\u001b[0m\u001b[0m\n\u001b[0;32m      9\u001b[0m         \u001b[0ma\u001b[0m\u001b[1;33m=\u001b[0m\u001b[0mint\u001b[0m\u001b[1;33m(\u001b[0m\u001b[0minput\u001b[0m\u001b[1;33m(\u001b[0m\u001b[1;33m)\u001b[0m\u001b[1;33m)\u001b[0m\u001b[1;33m\u001b[0m\u001b[1;33m\u001b[0m\u001b[0m\n",
      "\u001b[1;31mValueError\u001b[0m: invalid literal for int() with base 10: ''"
     ]
    }
   ],
   "source": [
    "while True:\n",
    "    print('ADD')\n",
    "    print('Substract')\n",
    "    print('Multiply')\n",
    "    print('Division')\n",
    "    # ADD\n",
    "    choice=int(input(\"Enter the value btw 1-5\"))\n",
    "    if choice==1:\n",
    "        a=int(input())\n",
    "        b=int(input())\n",
    "        print(a+b)\n",
    "    elif choice==2:\n",
    "        a=int(input())\n",
    "        b=int(input())\n",
    "        print(a-b)\n",
    "    elif choice==3:\n",
    "        a=int(input())\n",
    "        b=int(input())\n",
    "        print(a*b)\n",
    "    elif choice==4:\n",
    "        a=int(input())\n",
    "        b=int(input())\n",
    "        print(a/b)\n",
    "    elif choice==5:\n",
    "        print('Existing')\n",
    "        break\n",
    "    else:\n",
    "        print('Invalid Number')\n",
    "        "
   ]
  },
  {
   "cell_type": "code",
   "execution_count": 294,
   "id": "5c8bbe47",
   "metadata": {},
   "outputs": [
    {
     "name": "stdout",
     "output_type": "stream",
     "text": [
      "Guess the secret number (between 1 and 10): 5\n",
      "Guess the secret number (between 1 and 10): 5\n",
      "Guess the secret number (between 1 and 10): 5\n",
      "Guess the secret number (between 1 and 10): 5\n",
      "Guess the secret number (between 1 and 10): 5\n",
      "Guess the secret number (between 1 and 10): 5\n",
      "Guess the secret number (between 1 and 10): 5\n",
      "Guess the secret number (between 1 and 10): 5\n",
      "Guess the secret number (between 1 and 10): 5\n",
      "Guess the secret number (between 1 and 10): 5\n",
      "Guess the secret number (between 1 and 10): 5\n",
      "Guess the secret number (between 1 and 10): 5\n",
      "Guess the secret number (between 1 and 10): \n"
     ]
    },
    {
     "ename": "ValueError",
     "evalue": "invalid literal for int() with base 10: ''",
     "output_type": "error",
     "traceback": [
      "\u001b[1;31m---------------------------------------------------------------------------\u001b[0m",
      "\u001b[1;31mValueError\u001b[0m                                Traceback (most recent call last)",
      "\u001b[1;32m~\\AppData\\Local\\Temp\\ipykernel_19952\\2577295803.py\u001b[0m in \u001b[0;36m<module>\u001b[1;34m\u001b[0m\n\u001b[0;32m      5\u001b[0m \u001b[1;33m\u001b[0m\u001b[0m\n\u001b[0;32m      6\u001b[0m \u001b[1;32mwhile\u001b[0m \u001b[0mguess\u001b[0m \u001b[1;33m!=\u001b[0m \u001b[0msecret_number\u001b[0m\u001b[1;33m:\u001b[0m\u001b[1;33m\u001b[0m\u001b[1;33m\u001b[0m\u001b[0m\n\u001b[1;32m----> 7\u001b[1;33m     \u001b[0mguess\u001b[0m \u001b[1;33m=\u001b[0m \u001b[0mint\u001b[0m\u001b[1;33m(\u001b[0m\u001b[0minput\u001b[0m\u001b[1;33m(\u001b[0m\u001b[1;34m\"Guess the secret number (between 1 and 10): \"\u001b[0m\u001b[1;33m)\u001b[0m\u001b[1;33m)\u001b[0m\u001b[1;33m\u001b[0m\u001b[1;33m\u001b[0m\u001b[0m\n\u001b[0m\u001b[0;32m      8\u001b[0m \u001b[0mprint\u001b[0m\u001b[1;33m(\u001b[0m\u001b[1;34m\"Congratulations! You guessed the secret number.\"\u001b[0m\u001b[1;33m)\u001b[0m\u001b[1;33m\u001b[0m\u001b[1;33m\u001b[0m\u001b[0m\n",
      "\u001b[1;31mValueError\u001b[0m: invalid literal for int() with base 10: ''"
     ]
    }
   ],
   "source": [
    "import random\n",
    "\n",
    "guess = None\n",
    "secret_number = random.randint(1, 10)\n",
    "\n",
    "while guess != secret_number:\n",
    "    guess = int(input(\"Guess the secret number (between 1 and 10): \"))\n",
    "print(\"Congratulations! You guessed the secret number.\")"
   ]
  }
 ],
 "metadata": {
  "kernelspec": {
   "display_name": "Python 3 (ipykernel)",
   "language": "python",
   "name": "python3"
  },
  "language_info": {
   "codemirror_mode": {
    "name": "ipython",
    "version": 3
   },
   "file_extension": ".py",
   "mimetype": "text/x-python",
   "name": "python",
   "nbconvert_exporter": "python",
   "pygments_lexer": "ipython3",
   "version": "3.9.13"
  }
 },
 "nbformat": 4,
 "nbformat_minor": 5
}
