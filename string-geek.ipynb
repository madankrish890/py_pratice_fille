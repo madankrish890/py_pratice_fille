{
 "cells": [
  {
   "cell_type": "code",
   "execution_count": null,
   "id": "5265b44f",
   "metadata": {},
   "outputs": [],
   "source": [
    "# Python program to check whether the string is Symmetrical or Palindrome"
   ]
  },
  {
   "cell_type": "code",
   "execution_count": 6,
   "id": "853169b4",
   "metadata": {},
   "outputs": [
    {
     "name": "stdout",
     "output_type": "stream",
     "text": [
      "Not symmetrical\n",
      "Not Palindrome\n"
     ]
    }
   ],
   "source": [
    "string='madam'\n",
    "half=int(len(string)/2)\n",
    "\n",
    "first_str=string[:half]\n",
    "second_str=string[half:]\n",
    "\n",
    "if first_str==second_str:\n",
    "    print(\"Symmetrical\")\n",
    "else:\n",
    "    print(\"Not symmetrical\")\n",
    "    \n",
    "if first_str==second_str[::-1]:\n",
    "    print('Palindrome')\n",
    "else:\n",
    "    print(\"Not Palindrome\")"
   ]
  },
  {
   "cell_type": "code",
   "execution_count": null,
   "id": "8bc8181d",
   "metadata": {},
   "outputs": [],
   "source": [
    "# Reverse words in a given String in Python"
   ]
  },
  {
   "cell_type": "code",
   "execution_count": 13,
   "id": "48b6291b",
   "metadata": {},
   "outputs": [
    {
     "name": "stdout",
     "output_type": "stream",
     "text": [
      "Python in String given a in words Reverse\n"
     ]
    }
   ],
   "source": [
    "inp='Reverse words in a given String in Python'\n",
    "#print(inp[::-1])\n",
    "\n",
    "sp=inp.split()[::-1]\n",
    "d=[]\n",
    "for i in sp:\n",
    "    d.append(i)\n",
    "    \n",
    "res=' '.join(d)\n",
    "print(res)"
   ]
  },
  {
   "cell_type": "code",
   "execution_count": 14,
   "id": "2cfced5f",
   "metadata": {},
   "outputs": [],
   "source": [
    "# Ways to remove i’th character from string in Python"
   ]
  },
  {
   "cell_type": "code",
   "execution_count": 15,
   "id": "3543fceb",
   "metadata": {},
   "outputs": [
    {
     "name": "stdout",
     "output_type": "stream",
     "text": [
      "GeksForGeeks\n"
     ]
    }
   ],
   "source": [
    "test_str = \"GeeksForGeeks\"\n",
    "\n",
    "new_str=''\n",
    "for i in range(len(test_str)):\n",
    "    if i!=2:\n",
    "        new_str=new_str+test_str[i]\n",
    "print(new_str)"
   ]
  },
  {
   "cell_type": "code",
   "execution_count": 16,
   "id": "bb6d7b15",
   "metadata": {},
   "outputs": [
    {
     "data": {
      "text/plain": [
       "'FeeksForFeeks'"
      ]
     },
     "execution_count": 16,
     "metadata": {},
     "output_type": "execute_result"
    }
   ],
   "source": [
    "res=test_str.replace('G','F')\n",
    "res"
   ]
  },
  {
   "cell_type": "code",
   "execution_count": null,
   "id": "6829ec6b",
   "metadata": {},
   "outputs": [],
   "source": [
    "# Find length of a string in python (6 ways)"
   ]
  },
  {
   "cell_type": "code",
   "execution_count": 17,
   "id": "d5b0a339",
   "metadata": {},
   "outputs": [
    {
     "name": "stdout",
     "output_type": "stream",
     "text": [
      "Lenght of string 13\n"
     ]
    }
   ],
   "source": [
    "test_str = \"GeeksForGeeks\"\n",
    "\n",
    "cnt=0\n",
    "for i in test_str:\n",
    "    cnt+=1\n",
    "print(\"Lenght of string\",cnt)"
   ]
  },
  {
   "cell_type": "code",
   "execution_count": 18,
   "id": "b3bc1d4c",
   "metadata": {},
   "outputs": [
    {
     "data": {
      "text/plain": [
       "13"
      ]
     },
     "execution_count": 18,
     "metadata": {},
     "output_type": "execute_result"
    }
   ],
   "source": [
    "len(test_str)"
   ]
  },
  {
   "cell_type": "code",
   "execution_count": 19,
   "id": "327d80d2",
   "metadata": {},
   "outputs": [],
   "source": [
    "from collections import Counter,defaultdict"
   ]
  },
  {
   "cell_type": "code",
   "execution_count": 21,
   "id": "3fb626da",
   "metadata": {},
   "outputs": [
    {
     "name": "stdout",
     "output_type": "stream",
     "text": [
      "13\n"
     ]
    }
   ],
   "source": [
    "res=Counter(test_str)\n",
    "length=0\n",
    "for i in res.values():\n",
    "    length+=i\n",
    "print(length)"
   ]
  },
  {
   "cell_type": "code",
   "execution_count": 26,
   "id": "1d57a27d",
   "metadata": {},
   "outputs": [
    {
     "name": "stdout",
     "output_type": "stream",
     "text": [
      "21\n"
     ]
    }
   ],
   "source": [
    "test_str = 'geeksforgeeks 33 is   best'\n",
    "\n",
    "res=[len(char) for char in test_str.split() if not char.isspace()]\n",
    "sum1=0\n",
    "for i in res:\n",
    "    sum1+=i\n",
    "print(sum1)"
   ]
  },
  {
   "cell_type": "code",
   "execution_count": 28,
   "id": "47495322",
   "metadata": {},
   "outputs": [
    {
     "data": {
      "text/plain": [
       "4"
      ]
     },
     "execution_count": 28,
     "metadata": {},
     "output_type": "execute_result"
    }
   ],
   "source": [
    "len(test_str.split())"
   ]
  },
  {
   "cell_type": "code",
   "execution_count": null,
   "id": "655ceed6",
   "metadata": {},
   "outputs": [],
   "source": [
    "# Python program to print even length words in a string"
   ]
  },
  {
   "cell_type": "code",
   "execution_count": 29,
   "id": "d310b9c7",
   "metadata": {},
   "outputs": [
    {
     "name": "stdout",
     "output_type": "stream",
     "text": [
      "['33', 'is', 'best']\n"
     ]
    }
   ],
   "source": [
    "test_str = 'geeksforgeeks 33 is   best'\n",
    "res=[char for char in test_str.split() if len(char)%2==0]\n",
    "print(res)"
   ]
  },
  {
   "cell_type": "code",
   "execution_count": null,
   "id": "f2af87d9",
   "metadata": {},
   "outputs": [],
   "source": [
    "# Python – Uppercase Half String"
   ]
  },
  {
   "cell_type": "code",
   "execution_count": 34,
   "id": "81dedd9f",
   "metadata": {},
   "outputs": [
    {
     "name": "stdout",
     "output_type": "stream",
     "text": [
      "madIAN\n"
     ]
    }
   ],
   "source": [
    "test_str=\"madian\"\n",
    "#first_str=test_str[:int(len(test_str)/2)]\n",
    "#last_str=test_str[int(len(test_str)/2):]\n",
    "half=len(test_str)//2\n",
    "res=''\n",
    "for i in range(len(test_str)):\n",
    "    if i>=half:\n",
    "        res+=test_str[i].upper()\n",
    "    else:\n",
    "        res+=test_str[i]\n",
    "        \n",
    "print(str(res))"
   ]
  },
  {
   "cell_type": "code",
   "execution_count": null,
   "id": "36ad565e",
   "metadata": {},
   "outputs": [],
   "source": [
    "# Python program to capitalize the first and last character of each word in a string"
   ]
  },
  {
   "cell_type": "code",
   "execution_count": 39,
   "id": "d0a87bb7",
   "metadata": {},
   "outputs": [],
   "source": [
    "test_str=\"madian\"\n",
    "res=[i[0].upper()+i[1:-1]+i[-1].upper() for i in test_str.split()]"
   ]
  },
  {
   "cell_type": "code",
   "execution_count": 41,
   "id": "43b45a45",
   "metadata": {},
   "outputs": [],
   "source": [
    "# Python program to check if a string has at least one letter and one number"
   ]
  },
  {
   "cell_type": "code",
   "execution_count": 50,
   "id": "576d9d13",
   "metadata": {},
   "outputs": [],
   "source": [
    "# welcome2ourcountry34\n",
    "def check_str(string):\n",
    "    flag_l = False\n",
    "    flag_n = False\n",
    "    \n",
    "    for i in string:\n",
    "        if i.isalpha():\n",
    "            flag_l=True\n",
    "        elif i.isnumeric:\n",
    "            flag_n=True\n",
    "    return flag_l and flag_n"
   ]
  },
  {
   "cell_type": "code",
   "execution_count": 51,
   "id": "b57de4c8",
   "metadata": {},
   "outputs": [
    {
     "name": "stdout",
     "output_type": "stream",
     "text": [
      "True\n",
      "False\n"
     ]
    }
   ],
   "source": [
    "print(check_str('thishasboth29'))\n",
    "print(check_str('geeksforgeeks'))"
   ]
  },
  {
   "cell_type": "code",
   "execution_count": null,
   "id": "81b3893c",
   "metadata": {},
   "outputs": [],
   "source": [
    "# Python | Program to accept the strings which contains all vowels"
   ]
  },
  {
   "cell_type": "code",
   "execution_count": 53,
   "id": "0d2876ab",
   "metadata": {},
   "outputs": [],
   "source": [
    "def check_vowel(string):\n",
    "    flag_T=False\n",
    "    #flag_F=False\n",
    "    for i in string:\n",
    "        if i in ('a','e','i','o','u'):\n",
    "            flag_T=True\n",
    "        else:\n",
    "            flag_T=False\n",
    "    return flag_T"
   ]
  },
  {
   "cell_type": "code",
   "execution_count": 55,
   "id": "2fba93d1",
   "metadata": {},
   "outputs": [
    {
     "name": "stdout",
     "output_type": "stream",
     "text": [
      "True\n"
     ]
    }
   ],
   "source": [
    "print(check_vowel('geeksforgeekseiou'))"
   ]
  },
  {
   "cell_type": "code",
   "execution_count": null,
   "id": "96e89eb0",
   "metadata": {},
   "outputs": [],
   "source": [
    "# Matching characters"
   ]
  },
  {
   "cell_type": "code",
   "execution_count": 62,
   "id": "795bdc25",
   "metadata": {},
   "outputs": [
    {
     "name": "stdout",
     "output_type": "stream",
     "text": [
      "['b', 'b', 'k', 'l', 'l', 'l', 'l', '2', '2', '@']\n",
      "10\n"
     ]
    }
   ],
   "source": [
    "str1 = 'aabcddekll12@'\n",
    "str2 = 'bb22ll@55k'\n",
    "match=[]\n",
    "count=0\n",
    "for i in str1:\n",
    "    for j in str2:\n",
    "        if i==j:\n",
    "            match.append(j)\n",
    "print(match)\n",
    "print(len(match))"
   ]
  },
  {
   "cell_type": "code",
   "execution_count": null,
   "id": "744cc949",
   "metadata": {},
   "outputs": [],
   "source": [
    "# Python program to count number of vowels using sets in given string"
   ]
  },
  {
   "cell_type": "code",
   "execution_count": 67,
   "id": "948e5641",
   "metadata": {},
   "outputs": [],
   "source": [
    "def vowel_cnt(string):\n",
    "    cnt=0\n",
    "    vowels=set('aeiouAEIOU')\n",
    "    \n",
    "    for i in string:\n",
    "        if i in vowels:\n",
    "            cnt+=1\n",
    "    print(\"Count of vowels:{}\".format(cnt))"
   ]
  },
  {
   "cell_type": "code",
   "execution_count": 68,
   "id": "4b2ef05a",
   "metadata": {},
   "outputs": [
    {
     "name": "stdout",
     "output_type": "stream",
     "text": [
      "Count of vowels:5\n"
     ]
    }
   ],
   "source": [
    "vowel_cnt(\"GeeksforGeeks\")"
   ]
  },
  {
   "cell_type": "code",
   "execution_count": null,
   "id": "83fda336",
   "metadata": {},
   "outputs": [],
   "source": [
    "# Remove all duplicates from a given string in Python"
   ]
  },
  {
   "cell_type": "code",
   "execution_count": 83,
   "id": "c9ba7ab2",
   "metadata": {},
   "outputs": [
    {
     "name": "stdout",
     "output_type": "stream",
     "text": [
      "{'G': 2, 'e': 4, 'k': 2, 's': 2, 'f': 1, 'o': 1, 'r': 1}\n",
      "for\n"
     ]
    }
   ],
   "source": [
    "test_str=\"GeeksforGeeks\"\n",
    "dict1={}\n",
    "res=''\n",
    "for i in test_str:\n",
    "    if i in dict1:\n",
    "        dict1[i]+=1\n",
    "    else:\n",
    "        dict1[i]=1\n",
    "print(dict1)\n",
    "\n",
    "for k,j in dict1.items():\n",
    "    if j==1:\n",
    "        res=res+k\n",
    "print(res)"
   ]
  },
  {
   "cell_type": "code",
   "execution_count": 86,
   "id": "62937eee",
   "metadata": {},
   "outputs": [
    {
     "name": "stdout",
     "output_type": "stream",
     "text": [
      "OrderedDict([('G', 2), ('e', 4), ('k', 2), ('s', 2), ('f', 1), ('o', 1), ('r', 1)])\n"
     ]
    }
   ],
   "source": [
    "from collections import OrderedDict\n",
    "\n",
    "test_str = \"GeeksforGeeks\"\n",
    "res = OrderedDict()\n",
    "\n",
    "for char in test_str:\n",
    "    if char in res:\n",
    "        res[char] += 1\n",
    "    else:\n",
    "        res[char] = 1\n",
    "\n",
    "print(res)\n",
    "# Output: OrderedDict([('G', 2), ('e', 4), ('k', 2), ('s', 2), ('f', 1), ('o', 1), ('r', 1)])"
   ]
  },
  {
   "cell_type": "code",
   "execution_count": null,
   "id": "f9b64d7d",
   "metadata": {},
   "outputs": [],
   "source": [
    "# Min"
   ]
  },
  {
   "cell_type": "code",
   "execution_count": 88,
   "id": "3b968b89",
   "metadata": {},
   "outputs": [
    {
     "name": "stdout",
     "output_type": "stream",
     "text": [
      "The original string is : GeeksforGeeks\n",
      "The minimum of all characters in GeeksforGeeks is : f\n"
     ]
    }
   ],
   "source": [
    "# Python 3 code to demonstrate\n",
    "# Least Frequent Character in String\n",
    "# naive method\n",
    "\n",
    "# initializing string\n",
    "test_str = \"GeeksforGeeks\"\n",
    "\n",
    "# printing original string\n",
    "print (\"The original string is : \" + test_str)\n",
    "\n",
    "# using naive method to get\n",
    "# Least Frequent Character in String\n",
    "all_freq = {}\n",
    "for i in test_str:\n",
    "    if i in all_freq:\n",
    "        all_freq[i] += 1\n",
    "    else:\n",
    "        all_freq[i] = 1\n",
    "res = min(all_freq, key = all_freq.get)\n",
    "\n",
    "# printing result\n",
    "print (\"The minimum of all characters in GeeksforGeeks is : \" + str(res))\n"
   ]
  },
  {
   "cell_type": "code",
   "execution_count": null,
   "id": "814c7175",
   "metadata": {},
   "outputs": [],
   "source": [
    "# Maximum characters"
   ]
  },
  {
   "cell_type": "code",
   "execution_count": 89,
   "id": "99e894a0",
   "metadata": {},
   "outputs": [
    {
     "name": "stdout",
     "output_type": "stream",
     "text": [
      "The original string is : GeeksforGeeks\n",
      "The maximum of all characters in GeeksforGeeks is : e\n"
     ]
    }
   ],
   "source": [
    "# Python 3 code to demonstrate\n",
    "# Least Frequent Character in String\n",
    "# naive method\n",
    "\n",
    "# initializing string\n",
    "test_str = \"GeeksforGeeks\"\n",
    "\n",
    "# printing original string\n",
    "print (\"The original string is : \" + test_str)\n",
    "\n",
    "# using naive method to get\n",
    "# Least Frequent Character in String\n",
    "all_freq = {}\n",
    "for i in test_str:\n",
    "    if i in all_freq:\n",
    "        all_freq[i] += 1\n",
    "    else:\n",
    "        all_freq[i] = 1\n",
    "res = max(all_freq, key = all_freq.get)\n",
    "\n",
    "# printing result\n",
    "print (\"The maximum of all characters in GeeksforGeeks is : \" + str(res))\n"
   ]
  },
  {
   "cell_type": "code",
   "execution_count": null,
   "id": "8e8dd68c",
   "metadata": {},
   "outputs": [],
   "source": [
    "# Python – Odd Frequency Characters"
   ]
  },
  {
   "cell_type": "code",
   "execution_count": 93,
   "id": "1dd09bf8",
   "metadata": {},
   "outputs": [
    {
     "data": {
      "text/plain": [
       "['g', 'e', 'k', 'i', 'b', 't']"
      ]
     },
     "execution_count": 93,
     "metadata": {},
     "output_type": "execute_result"
    }
   ],
   "source": [
    "test_str = 'geekforgeeks is best for geeks'\n",
    "\n",
    "cnt=defaultdict(int)\n",
    "for char in test_str:\n",
    "    if char in cnt:\n",
    "        cnt[char]+=1\n",
    "    else:\n",
    "        cnt[char]=1\n",
    "res=[steve for steve,harvey in cnt.items() if harvey%2!=0]\n",
    "res"
   ]
  },
  {
   "cell_type": "code",
   "execution_count": null,
   "id": "549f2517",
   "metadata": {},
   "outputs": [],
   "source": [
    "# Python – Specific Characters Frequency in String List"
   ]
  },
  {
   "cell_type": "code",
   "execution_count": 97,
   "id": "ac36b142",
   "metadata": {},
   "outputs": [
    {
     "name": "stdout",
     "output_type": "stream",
     "text": [
      "defaultdict(<class 'int'>, {'g': 3, 'e': 7, 'f': 2, 'b': 1})\n"
     ]
    }
   ],
   "source": [
    "test_list = 'geeksforgeeks is best for geeks'\n",
    "chr_list = ['e', 'b', 'g', 'f']\n",
    "cnt=defaultdict(int)\n",
    "for i in test_list:\n",
    "    if i in chr_list:\n",
    "        cnt[i]+=1\n",
    "print(cnt)"
   ]
  },
  {
   "cell_type": "code",
   "execution_count": null,
   "id": "d3936f5f",
   "metadata": {},
   "outputs": [],
   "source": [
    "# Python | Frequency of numbers in String"
   ]
  },
  {
   "cell_type": "code",
   "execution_count": 98,
   "id": "c4096989",
   "metadata": {},
   "outputs": [
    {
     "name": "stdout",
     "output_type": "stream",
     "text": [
      "No of numeric characters 3\n"
     ]
    }
   ],
   "source": [
    "test_str = \"geeks4feeks is No. 1 4 geeks\"\n",
    "cnt=0\n",
    "for i in test_str:\n",
    "    if i.isnumeric():\n",
    "        cnt+=1\n",
    "print(\"No of numeric characters\",cnt)"
   ]
  },
  {
   "cell_type": "code",
   "execution_count": null,
   "id": "e4c8e34f",
   "metadata": {},
   "outputs": [],
   "source": [
    "import re\n",
    " \n",
    "# initializing string\n",
    "test_str = \"geeks4feeks is No. 1 4 geeks\"\n",
    " \n",
    "# printing original string\n",
    "print(\"The original string is : \" + test_str)\n",
    " \n",
    "# Frequency of numbers in String\n",
    "# Using re.findall() + len()\n",
    "res = len(re.findall(r'\\d+', test_str))\n",
    " \n",
    "# printing result\n",
    "print(\"Count of numerics in string : \" + str(res))"
   ]
  },
  {
   "cell_type": "code",
   "execution_count": null,
   "id": "e87170d3",
   "metadata": {},
   "outputs": [],
   "source": [
    "# Program to check if a string contains any special character"
   ]
  },
  {
   "cell_type": "code",
   "execution_count": 105,
   "id": "c7243c5e",
   "metadata": {},
   "outputs": [
    {
     "name": "stdout",
     "output_type": "stream",
     "text": [
      "Not accepted G\n",
      "Not accepted e\n",
      "Not accepted e\n",
      "Not accepted k\n",
      "Not accepted s\n",
      "Contains the Special chars $\n",
      "Not accepted F\n",
      "Not accepted o\n",
      "Not accepted r\n",
      "Contains the Special chars $\n",
      "Not accepted G\n",
      "Not accepted e\n",
      "Not accepted e\n",
      "Not accepted k\n",
      "Not accepted s\n",
      "Special chars ['$', '$']\n"
     ]
    }
   ],
   "source": [
    "import string\n",
    "special='Geeks$For$Geeks'\n",
    "spl=[]\n",
    "for i in special:\n",
    "    if i in string.punctuation:\n",
    "        spl.append(i)\n",
    "        print(\"Contains the Special chars\",i)\n",
    "    else:\n",
    "        print(\"Not accepted\",i)\n",
    "print(\"Special chars\",spl)"
   ]
  },
  {
   "cell_type": "code",
   "execution_count": 109,
   "id": "89db8994",
   "metadata": {},
   "outputs": [
    {
     "name": "stdout",
     "output_type": "stream",
     "text": [
      "The string does not contain special characters.\n",
      "The string contains special characters.\n"
     ]
    }
   ],
   "source": [
    "def has_special_char(s):\n",
    "    for c in s:\n",
    "\t    if not (c.isalpha() or c.isdigit() or c == ' '):\n",
    "\t        return True\n",
    "    return False\n",
    "\n",
    "# Test the function\n",
    "s = \"Hello World\"\n",
    "if has_special_char(s):\n",
    "    print(\"The string contains special characters.\")\n",
    "else:\n",
    "    print(\"The string does not contain special characters.\")\n",
    "\n",
    "s = \"Hello@World\"\n",
    "if has_special_char(s):\n",
    "    print(\"The string contains special characters.\")\n",
    "else:\n",
    "    print(\"The string does not contain special characters.\")\n",
    "#This code is contributed by Edula Vinay Kumar Reddy\n"
   ]
  },
  {
   "cell_type": "code",
   "execution_count": null,
   "id": "24a2563d",
   "metadata": {},
   "outputs": [],
   "source": [
    "# Python program to split and join a string"
   ]
  },
  {
   "cell_type": "code",
   "execution_count": 110,
   "id": "0ad331fb",
   "metadata": {},
   "outputs": [
    {
     "data": {
      "text/plain": [
       "'Geeks-for-Geeks'"
      ]
     },
     "execution_count": 110,
     "metadata": {},
     "output_type": "execute_result"
    }
   ],
   "source": [
    "# Split() and join()\n",
    "best='Geeks for Geeks'.split()\n",
    "res='-'.join(best)\n",
    "res"
   ]
  },
  {
   "cell_type": "code",
   "execution_count": null,
   "id": "47a4a0c0",
   "metadata": {},
   "outputs": [],
   "source": [
    "# Python program for removing i-th character from a string"
   ]
  },
  {
   "cell_type": "code",
   "execution_count": 111,
   "id": "533838d5",
   "metadata": {},
   "outputs": [],
   "source": [
    "def ith(string,i):\n",
    "    a=string[:i]\n",
    "    b=string[i+1:]\n",
    "    return a+b"
   ]
  },
  {
   "cell_type": "code",
   "execution_count": 112,
   "id": "3cf0980a",
   "metadata": {},
   "outputs": [
    {
     "data": {
      "text/plain": [
       "'Maan'"
      ]
     },
     "execution_count": 112,
     "metadata": {},
     "output_type": "execute_result"
    }
   ],
   "source": [
    "ith(\"Madan\",2)"
   ]
  }
 ],
 "metadata": {
  "kernelspec": {
   "display_name": "Python 3 (ipykernel)",
   "language": "python",
   "name": "python3"
  },
  "language_info": {
   "codemirror_mode": {
    "name": "ipython",
    "version": 3
   },
   "file_extension": ".py",
   "mimetype": "text/x-python",
   "name": "python",
   "nbconvert_exporter": "python",
   "pygments_lexer": "ipython3",
   "version": "3.9.13"
  }
 },
 "nbformat": 4,
 "nbformat_minor": 5
}
