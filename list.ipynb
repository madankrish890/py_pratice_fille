{
 "cells": [
  {
   "cell_type": "markdown",
   "id": "27d4edd1",
   "metadata": {},
   "source": [
    "# Python program to interchange first and last elements in a list"
   ]
  },
  {
   "cell_type": "code",
   "execution_count": 127,
   "id": "82156b0c",
   "metadata": {},
   "outputs": [],
   "source": [
    "def swap(lst):\n",
    "    \n",
    "    size=len(lst)\n",
    "    a=lst[0]\n",
    "    lst[0]=lst[size-1]\n",
    "    lst[size-1]=a\n",
    "    \n",
    "    return lst "
   ]
  },
  {
   "cell_type": "code",
   "execution_count": 128,
   "id": "be76c26b",
   "metadata": {},
   "outputs": [],
   "source": [
    "new_list=[12,55,88,96,55]"
   ]
  },
  {
   "cell_type": "code",
   "execution_count": 136,
   "id": "10431530",
   "metadata": {},
   "outputs": [
    {
     "data": {
      "text/plain": [
       "5"
      ]
     },
     "execution_count": 136,
     "metadata": {},
     "output_type": "execute_result"
    }
   ],
   "source": [
    "len(new_list)"
   ]
  },
  {
   "cell_type": "code",
   "execution_count": 129,
   "id": "257ea60c",
   "metadata": {},
   "outputs": [
    {
     "name": "stdout",
     "output_type": "stream",
     "text": [
      "[55, 55, 88, 96, 12]\n"
     ]
    }
   ],
   "source": [
    "print(swap(new_list))"
   ]
  },
  {
   "cell_type": "markdown",
   "id": "3083f5bf",
   "metadata": {},
   "source": [
    "# Python program to swap two elements in a list"
   ]
  },
  {
   "cell_type": "code",
   "execution_count": null,
   "id": "cce34d82",
   "metadata": {},
   "outputs": [],
   "source": [
    "# Approach1"
   ]
  },
  {
   "cell_type": "code",
   "execution_count": 24,
   "id": "9adf133d",
   "metadata": {},
   "outputs": [],
   "source": [
    "def swap1(lst):\n",
    "    \n",
    "    size=len(lst)\n",
    "    a=lst[1]\n",
    "    lst[1]=lst[size-2]\n",
    "    lst[size-2]=a\n",
    "    \n",
    "    return lst"
   ]
  },
  {
   "cell_type": "code",
   "execution_count": 27,
   "id": "896e5d39",
   "metadata": {},
   "outputs": [
    {
     "name": "stdout",
     "output_type": "stream",
     "text": [
      "[12, 55, 88, 96, 55]\n",
      "[12, 96, 88, 55, 55]\n"
     ]
    }
   ],
   "source": [
    "print(new_list)\n",
    "print(swap1(new_list))"
   ]
  },
  {
   "cell_type": "code",
   "execution_count": 28,
   "id": "54f8bc2c",
   "metadata": {},
   "outputs": [],
   "source": [
    "# Approach2"
   ]
  },
  {
   "cell_type": "code",
   "execution_count": 33,
   "id": "b7e2b4c9",
   "metadata": {},
   "outputs": [],
   "source": [
    "def swap2(lst,pos1,pos2):\n",
    "    lst[pos1],lst[pos2]=lst[pos2],lst[pos1]\n",
    "    return lst"
   ]
  },
  {
   "cell_type": "code",
   "execution_count": 34,
   "id": "fe391d85",
   "metadata": {},
   "outputs": [],
   "source": [
    "lst1=['AAA','BBB','CCC','DDD','EEE']"
   ]
  },
  {
   "cell_type": "code",
   "execution_count": 36,
   "id": "700721bc",
   "metadata": {},
   "outputs": [
    {
     "name": "stdout",
     "output_type": "stream",
     "text": [
      "['AAA', 'BBB', 'DDD', 'EEE', 'CCC']\n"
     ]
    }
   ],
   "source": [
    "print(swap2(lst1,3,2))"
   ]
  },
  {
   "cell_type": "code",
   "execution_count": 38,
   "id": "d0b41217",
   "metadata": {},
   "outputs": [],
   "source": [
    "lst2=[15,85,74,12,10]"
   ]
  },
  {
   "cell_type": "code",
   "execution_count": 39,
   "id": "2101a623",
   "metadata": {},
   "outputs": [
    {
     "name": "stdout",
     "output_type": "stream",
     "text": [
      "10\n"
     ]
    }
   ],
   "source": [
    "pop1=lst2.pop(4)\n",
    "print(pop1)"
   ]
  },
  {
   "cell_type": "markdown",
   "id": "4fac16fd",
   "metadata": {},
   "source": [
    "# Python | Ways to find length of list"
   ]
  },
  {
   "cell_type": "code",
   "execution_count": 40,
   "id": "b6c1c1ca",
   "metadata": {},
   "outputs": [
    {
     "name": "stdout",
     "output_type": "stream",
     "text": [
      "Length of elements in a list 4\n"
     ]
    }
   ],
   "source": [
    "counter=0\n",
    "for i in lst2:\n",
    "    counter+=1\n",
    "print('Length of elements in a list',counter)"
   ]
  },
  {
   "cell_type": "code",
   "execution_count": 41,
   "id": "32875b05",
   "metadata": {},
   "outputs": [
    {
     "data": {
      "text/plain": [
       "4"
      ]
     },
     "execution_count": 41,
     "metadata": {},
     "output_type": "execute_result"
    }
   ],
   "source": [
    "len(lst2)"
   ]
  },
  {
   "cell_type": "markdown",
   "id": "bb7e6ccd",
   "metadata": {},
   "source": [
    "# Maximum of two numbers in Python"
   ]
  },
  {
   "cell_type": "code",
   "execution_count": 43,
   "id": "73c26fc6",
   "metadata": {},
   "outputs": [
    {
     "name": "stdout",
     "output_type": "stream",
     "text": [
      "-1\n",
      "-4\n",
      "a is greater than b\n"
     ]
    }
   ],
   "source": [
    "\n",
    "a=int(input())\n",
    "b=int(input())\n",
    "if a>b:\n",
    "    print('a is greater than b')\n",
    "else:\n",
    "    print('b is greater than a')"
   ]
  },
  {
   "cell_type": "code",
   "execution_count": 46,
   "id": "31880e5e",
   "metadata": {},
   "outputs": [
    {
     "name": "stdout",
     "output_type": "stream",
     "text": [
      "568978\n",
      "598746\n"
     ]
    },
    {
     "data": {
      "text/plain": [
       "598746"
      ]
     },
     "execution_count": 46,
     "metadata": {},
     "output_type": "execute_result"
    }
   ],
   "source": [
    "a=int(input())\n",
    "b=int(input())\n",
    "maximum=max(a,b)\n",
    "maximum"
   ]
  },
  {
   "cell_type": "code",
   "execution_count": 48,
   "id": "74fcb6e1",
   "metadata": {},
   "outputs": [
    {
     "name": "stdout",
     "output_type": "stream",
     "text": [
      "5\n",
      "4\n",
      "5 is a maximum number\n"
     ]
    }
   ],
   "source": [
    "a=int(input())\n",
    "b=int(input())\n",
    "maximum=lambda a,b:a if a>b else b\n",
    "print(f'{maximum(a,b)} is a maximum number')"
   ]
  },
  {
   "cell_type": "code",
   "execution_count": 51,
   "id": "ce8a1a95",
   "metadata": {},
   "outputs": [
    {
     "name": "stdout",
     "output_type": "stream",
     "text": [
      "1\n",
      "1\n",
      "2\n",
      "2 is a maximum number\n"
     ]
    }
   ],
   "source": [
    "a=int(input())\n",
    "b=int(input())\n",
    "c=int(input())\n",
    "maximum=lambda a,b,c:a if a>b else b if b>c else c\n",
    "print(f'{maximum(a,b,c)} is a maximum number')"
   ]
  },
  {
   "cell_type": "code",
   "execution_count": 52,
   "id": "a935b457",
   "metadata": {},
   "outputs": [
    {
     "name": "stdout",
     "output_type": "stream",
     "text": [
      "458\n",
      "547\n",
      "[547]\n"
     ]
    }
   ],
   "source": [
    "a=int(input())\n",
    "b=int(input())\n",
    "result=[a if a>b else b]\n",
    "print(result)"
   ]
  },
  {
   "cell_type": "markdown",
   "id": "5991c8df",
   "metadata": {},
   "source": [
    "# Minimum of two numbers in Python"
   ]
  },
  {
   "cell_type": "code",
   "execution_count": 54,
   "id": "4ca133fd",
   "metadata": {},
   "outputs": [
    {
     "name": "stdout",
     "output_type": "stream",
     "text": [
      "5\n",
      "4\n",
      "4\n"
     ]
    }
   ],
   "source": [
    "a=int(input())\n",
    "b=int(input())\n",
    "minimum=min(a,b)\n",
    "print(minimum)"
   ]
  },
  {
   "cell_type": "code",
   "execution_count": 55,
   "id": "7dc385eb",
   "metadata": {},
   "outputs": [
    {
     "name": "stdout",
     "output_type": "stream",
     "text": [
      "4\n",
      "5\n",
      "4 is a minimum number\n"
     ]
    }
   ],
   "source": [
    "a=int(input())\n",
    "b=int(input())\n",
    "minimum=lambda a,b:a if a<b else b\n",
    "print(f'{minimum(a,b)} is a minimum number')"
   ]
  },
  {
   "cell_type": "code",
   "execution_count": 57,
   "id": "6a68fe4c",
   "metadata": {},
   "outputs": [
    {
     "name": "stdout",
     "output_type": "stream",
     "text": [
      "5\n",
      "4\n",
      "[4]\n"
     ]
    }
   ],
   "source": [
    "a=int(input())\n",
    "b=int(input())\n",
    "minimum=[a if a<b else b]\n",
    "print(minimum)"
   ]
  },
  {
   "cell_type": "markdown",
   "id": "a5f102b6",
   "metadata": {},
   "source": [
    "# Check if element exists in list in Python"
   ]
  },
  {
   "cell_type": "code",
   "execution_count": 60,
   "id": "87eb2039",
   "metadata": {},
   "outputs": [
    {
     "name": "stdout",
     "output_type": "stream",
     "text": [
      "False\n",
      "False\n",
      "True\n",
      "False\n",
      "False\n",
      "False\n",
      "False\n",
      "False\n"
     ]
    }
   ],
   "source": [
    "lst3=[10,20,30,40,50,60,70,80]\n",
    "for i in lst3:\n",
    "    if i==30:\n",
    "        print('True')\n",
    "    else:\n",
    "        print('False')"
   ]
  },
  {
   "cell_type": "code",
   "execution_count": 62,
   "id": "984799d7",
   "metadata": {},
   "outputs": [
    {
     "name": "stdout",
     "output_type": "stream",
     "text": [
      "Doesnt exist\n"
     ]
    }
   ],
   "source": [
    "test_list = [10, 15, 20, 7, 46, 2808]\n",
    "\n",
    "count=test_list.count(54)\n",
    "\n",
    "if count>0:\n",
    "    print('Numbers exist')\n",
    "else:\n",
    "    print('Doesnt exist')"
   ]
  },
  {
   "cell_type": "code",
   "execution_count": 77,
   "id": "e4114542",
   "metadata": {},
   "outputs": [
    {
     "name": "stdout",
     "output_type": "stream",
     "text": [
      "exist\n"
     ]
    }
   ],
   "source": [
    "test_list = [10, 15, 20, 7, 46, 2808]\n",
    "x=list(map(str,test_list))\n",
    "y=\"-\".join(x)\n",
    "\n",
    "if y.find(\"58\")!=100:\n",
    "    print('exist')\n",
    "else:\n",
    "    print('Doesnt exist')"
   ]
  },
  {
   "cell_type": "code",
   "execution_count": 71,
   "id": "cd611e59",
   "metadata": {
    "scrolled": true
   },
   "outputs": [
    {
     "name": "stdout",
     "output_type": "stream",
     "text": [
      "Checking if 15 exists in list\n"
     ]
    },
    {
     "data": {
      "text/plain": [
       "'10-15-20-7-46-2808'"
      ]
     },
     "execution_count": 71,
     "metadata": {},
     "output_type": "execute_result"
    }
   ],
   "source": [
    "# Initializing list\n",
    "test_list = [10, 15, 20, 7, 46, 2808]\n",
    "x=list(map(str,test_list))\n",
    "y=\"-\".join(x)\n",
    "y"
   ]
  },
  {
   "cell_type": "markdown",
   "id": "e34d93ce",
   "metadata": {},
   "source": [
    "# Python – Swap elements in String list"
   ]
  },
  {
   "cell_type": "code",
   "execution_count": 80,
   "id": "80c169f0",
   "metadata": {},
   "outputs": [
    {
     "name": "stdout",
     "output_type": "stream",
     "text": [
      "['sangee', 'loves', 'Maddy']\n"
     ]
    }
   ],
   "source": [
    "text='Maddy loves sangee'\n",
    "lst=text.split()\n",
    "a=lst[0]\n",
    "lst[0]=lst[2]\n",
    "lst[2]=a\n",
    "print(lst)"
   ]
  },
  {
   "cell_type": "code",
   "execution_count": 85,
   "id": "7c7f5986",
   "metadata": {},
   "outputs": [],
   "source": [
    "def swap_text(text):\n",
    "    lst=text.split()\n",
    "    size=len(lst)\n",
    "    a=lst[0]\n",
    "    lst[0]=lst[size-1]\n",
    "    lst[size-1]=a\n",
    "    \n",
    "    lst=' '.join(lst)\n",
    "    \n",
    "    return lst\n",
    "    "
   ]
  },
  {
   "cell_type": "code",
   "execution_count": 87,
   "id": "4f85ae6a",
   "metadata": {},
   "outputs": [
    {
     "data": {
      "text/plain": [
       "'Ronaldo is gReateR than Messi'"
      ]
     },
     "execution_count": 87,
     "metadata": {},
     "output_type": "execute_result"
    }
   ],
   "source": [
    "result=swap_text('messi is greater than ronaldo')\n",
    "result.replace('m','M').replace('r','R')"
   ]
  },
  {
   "cell_type": "markdown",
   "id": "64c4827d",
   "metadata": {},
   "source": [
    "# Different ways to clear a list in Python"
   ]
  },
  {
   "cell_type": "code",
   "execution_count": 88,
   "id": "e39f1e6e",
   "metadata": {},
   "outputs": [],
   "source": [
    "test_list = [10, 15, 20, 7, 46, 2808]\n",
    "test_list.clear()"
   ]
  },
  {
   "cell_type": "code",
   "execution_count": 89,
   "id": "4a44cf54",
   "metadata": {},
   "outputs": [
    {
     "data": {
      "text/plain": [
       "[]"
      ]
     },
     "execution_count": 89,
     "metadata": {},
     "output_type": "execute_result"
    }
   ],
   "source": [
    "test_list"
   ]
  },
  {
   "cell_type": "code",
   "execution_count": 92,
   "id": "cba06773",
   "metadata": {},
   "outputs": [
    {
     "name": "stdout",
     "output_type": "stream",
     "text": [
      "List1 before clearing it:[1, 4, 5]\n",
      "List1 after clearing it: []\n",
      "List2 before clearing it:[2, 4, 6]\n",
      "List2 after clearing it: []\n"
     ]
    }
   ],
   "source": [
    "list1=[1,4,5]\n",
    "list2=[2,4,6]\n",
    "\n",
    "print('List1 before clearing it:'+str(list1))\n",
    "\n",
    "list1.clear()\n",
    "\n",
    "print('List1 after clearing it:',list1)\n",
    "\n",
    "print('List2 before clearing it:'+str(list2))\n",
    "\n",
    "list2.clear()\n",
    "\n",
    "print('List2 after clearing it:',list2)"
   ]
  },
  {
   "cell_type": "code",
   "execution_count": 96,
   "id": "34244b55",
   "metadata": {},
   "outputs": [
    {
     "name": "stdout",
     "output_type": "stream",
     "text": [
      "[9, 8, 7, 6, 5, 4]\n"
     ]
    }
   ],
   "source": [
    "input1=[4, 5, 6, 7, 8, 9]\n",
    "input1.sort(reverse=True)\n",
    "print(input1)"
   ]
  },
  {
   "cell_type": "code",
   "execution_count": 97,
   "id": "cb5e70c6",
   "metadata": {},
   "outputs": [],
   "source": [
    "def cloning(lil1):\n",
    "    li1=[x for x in lil1]\n",
    "    return li1"
   ]
  },
  {
   "cell_type": "code",
   "execution_count": 98,
   "id": "affdd010",
   "metadata": {},
   "outputs": [],
   "source": [
    "lis1=[12,15,145,145,12,6]\n",
    "lis2=cloning(lis1)"
   ]
  },
  {
   "cell_type": "code",
   "execution_count": 119,
   "id": "66daddc6",
   "metadata": {},
   "outputs": [
    {
     "data": {
      "text/plain": [
       "[12, 15, 145, 145, 12, 6]"
      ]
     },
     "execution_count": 119,
     "metadata": {},
     "output_type": "execute_result"
    }
   ],
   "source": [
    "def cloning(lis1):\n",
    "    lis2=[]\n",
    "    for i in lis1:lis2.append(i)\n",
    "    return lis2\n",
    "\n",
    "lis1=[12,15,145,145,12,6]\n",
    "lis2=cloning(lis1)\n",
    "lis2"
   ]
  },
  {
   "cell_type": "code",
   "execution_count": 117,
   "id": "c3b29192",
   "metadata": {},
   "outputs": [
    {
     "data": {
      "text/plain": [
       "[[12, 15, 145, 145, 12, 6],\n",
       " [12, 15, 145, 145, 12, 6],\n",
       " [12, 15, 145, 145, 12, 6],\n",
       " [12, 15, 145, 145, 12, 6],\n",
       " [12, 15, 145, 145, 12, 6],\n",
       " [12, 15, 145, 145, 12, 6]]"
      ]
     },
     "execution_count": 117,
     "metadata": {},
     "output_type": "execute_result"
    }
   ],
   "source": [
    "lis1=[12,15,145,145,12,6]\n",
    "lis2=cloning(lis1)\n",
    "lis2"
   ]
  },
  {
   "cell_type": "code",
   "execution_count": 106,
   "id": "48360b4b",
   "metadata": {},
   "outputs": [
    {
     "name": "stdout",
     "output_type": "stream",
     "text": [
      "Original List: [4, 8, 2, 10, 15, 18]\n",
      "After Cloning: [4, 8, 2, 10, 15, 18]\n"
     ]
    }
   ],
   "source": [
    "def Cloning(li1):\n",
    "    li_copy =[]\n",
    "    for item in li1: li_copy.append(item)\n",
    "    return li_copy\n",
    "   \n",
    "# Driver Code\n",
    "li1 = [4, 8, 2, 10, 15, 18]\n",
    "li2 = Cloning(li1)\n",
    "print(\"Original List:\", li1)\n",
    "print(\"After Cloning:\", li2)"
   ]
  },
  {
   "cell_type": "markdown",
   "id": "195c6d4b",
   "metadata": {},
   "source": [
    "# Count occurrences of an element in a list"
   ]
  },
  {
   "cell_type": "code",
   "execution_count": 125,
   "id": "d9cc679b",
   "metadata": {},
   "outputs": [
    {
     "name": "stdout",
     "output_type": "stream",
     "text": [
      "Count of x 3\n"
     ]
    }
   ],
   "source": [
    "lis3=[10,4,8,56,7,7,8,9,5,5,4,7,8]\n",
    "x=8\n",
    "count=0\n",
    "for i in lis3:\n",
    "    if i==x:\n",
    "        count+=1\n",
    "print('Count of x',count)\n"
   ]
  },
  {
   "cell_type": "code",
   "execution_count": 126,
   "id": "5ece3735",
   "metadata": {},
   "outputs": [
    {
     "name": "stdout",
     "output_type": "stream",
     "text": [
      "4 is occured this time 2\n"
     ]
    }
   ],
   "source": [
    "def count_lst(lst,x):\n",
    "    return lst.count(x)\n",
    "\n",
    "\n",
    "lst=[3,4,4,7,8,5,6]\n",
    "x=4\n",
    "print('{} is occured this time {}'.format(x,count_lst(lst,x)))"
   ]
  },
  {
   "cell_type": "markdown",
   "id": "6101d1ea",
   "metadata": {},
   "source": [
    "# Find sum and average of List in Python"
   ]
  },
  {
   "cell_type": "code",
   "execution_count": 131,
   "id": "4197c42f",
   "metadata": {},
   "outputs": [
    {
     "name": "stdout",
     "output_type": "stream",
     "text": [
      "avg 35.75\n",
      "Sum 286\n"
     ]
    }
   ],
   "source": [
    "def avg(lst):\n",
    "    count=0\n",
    "    for i in lst:\n",
    "        count+=i\n",
    "        \n",
    "        avg=count/len(lst)\n",
    "        \n",
    "    return avg\n",
    "    \n",
    "    \n",
    "def sum1(lst):\n",
    "    count=0\n",
    "    for i in lst:\n",
    "        count+=i\n",
    "        \n",
    "    return count      \n",
    "    \n",
    "    \n",
    "\n",
    "\n",
    "\n",
    "\n",
    "ls=[15, 9, 55, 41, 35, 20, 62, 49]\n",
    "\n",
    "print('avg',avg(ls))\n",
    "print('Sum',sum1(ls))"
   ]
  },
  {
   "cell_type": "code",
   "execution_count": 133,
   "id": "d640d04e",
   "metadata": {},
   "outputs": [],
   "source": [
    "import math"
   ]
  },
  {
   "cell_type": "code",
   "execution_count": 134,
   "id": "e35eb815",
   "metadata": {},
   "outputs": [],
   "source": [
    "import numpy as np"
   ]
  },
  {
   "cell_type": "code",
   "execution_count": 135,
   "id": "6558cce8",
   "metadata": {},
   "outputs": [
    {
     "data": {
      "text/plain": [
       "35.75"
      ]
     },
     "execution_count": 135,
     "metadata": {},
     "output_type": "execute_result"
    }
   ],
   "source": [
    "np.mean(ls)"
   ]
  },
  {
   "cell_type": "markdown",
   "id": "40121d45",
   "metadata": {},
   "source": [
    "# Python | Sum of number digits in List"
   ]
  },
  {
   "cell_type": "code",
   "execution_count": 141,
   "id": "a25ca795",
   "metadata": {},
   "outputs": [
    {
     "name": "stdout",
     "output_type": "stream",
     "text": [
      "Sum of numbers 286\n"
     ]
    }
   ],
   "source": [
    "ls=[15, 9, 55, 41, 35, 20, 62, 49]\n",
    "count=0\n",
    "for i in ls:\n",
    "    count+=i\n",
    "print('Sum of numbers',count)\n",
    "    "
   ]
  },
  {
   "cell_type": "code",
   "execution_count": 153,
   "id": "1b9074f0",
   "metadata": {},
   "outputs": [
    {
     "name": "stdout",
     "output_type": "stream",
     "text": [
      "[1, 3, 6, 13, 9, 17, 3, 7]\n"
     ]
    }
   ],
   "source": [
    "test_list = [12, 67, 98, 34]\n",
    "\n",
    "res=[]\n",
    "\n",
    "for ele in test_list:\n",
    "    sum1=0\n",
    "    for digit in str(ele):\n",
    "        sum1+=int(digit)\n",
    "        res.append(sum1)\n",
    "print(res)"
   ]
  },
  {
   "cell_type": "code",
   "execution_count": 158,
   "id": "bfa5a4b9",
   "metadata": {},
   "outputs": [
    {
     "name": "stdout",
     "output_type": "stream",
     "text": [
      "[1, 3, 4, 8, 13, 21, 30, 36, 41, 48, 54, 59, 63, 72]\n"
     ]
    }
   ],
   "source": [
    "ls=[121,458,965,7,6549]\n",
    "sum=0\n",
    "ms=[]\n",
    "for i in ls:\n",
    "    for ele in str(i):\n",
    "        \n",
    "        sum+=int(ele)\n",
    "        ms.append(sum)\n",
    "print(ms)"
   ]
  },
  {
   "cell_type": "code",
   "execution_count": 161,
   "id": "d470ff50",
   "metadata": {},
   "outputs": [
    {
     "name": "stdout",
     "output_type": "stream",
     "text": [
      "121\n",
      "55418\n",
      "53478370\n",
      "374348590\n",
      "2451608915910\n"
     ]
    }
   ],
   "source": [
    "ls=[121,458,965,7,6549]\n",
    "mul=1\n",
    "for i in ls:\n",
    "    mul*=i\n",
    "    print(mul)"
   ]
  },
  {
   "cell_type": "code",
   "execution_count": 162,
   "id": "21f6345e",
   "metadata": {},
   "outputs": [
    {
     "name": "stdout",
     "output_type": "stream",
     "text": [
      "6\n",
      "24\n"
     ]
    }
   ],
   "source": [
    "# Python3 program to multiply all values in the\n",
    "# list using numpy.prod()\n",
    "\n",
    "import numpy\n",
    "list1 = [1, 2, 3]\n",
    "list2 = [3, 2, 4]\n",
    "\n",
    "# using numpy.prod() to get the multiplications\n",
    "result1 = numpy.prod(list1)\n",
    "result2 = numpy.prod(list2)\n",
    "print(result1)\n",
    "print(result2)\n"
   ]
  },
  {
   "cell_type": "code",
   "execution_count": 163,
   "id": "775af0fb",
   "metadata": {},
   "outputs": [
    {
     "name": "stdout",
     "output_type": "stream",
     "text": [
      "1\n"
     ]
    }
   ],
   "source": [
    "list2 = [20, 10, 20, 1, 100]\n",
    "\n",
    "minimum=min(list2)\n",
    "print(minimum)"
   ]
  },
  {
   "cell_type": "code",
   "execution_count": 166,
   "id": "617af64c",
   "metadata": {},
   "outputs": [],
   "source": [
    "list2 = [20, 10, 20, 1, 100]\n",
    "list2.sort()"
   ]
  },
  {
   "cell_type": "code",
   "execution_count": 168,
   "id": "3d553264",
   "metadata": {},
   "outputs": [
    {
     "name": "stdout",
     "output_type": "stream",
     "text": [
      "1\n"
     ]
    }
   ],
   "source": [
    "print(list2[0])"
   ]
  },
  {
   "cell_type": "code",
   "execution_count": 169,
   "id": "0e9d5af6",
   "metadata": {},
   "outputs": [
    {
     "name": "stdout",
     "output_type": "stream",
     "text": [
      "Smallest element is: 4\n"
     ]
    }
   ],
   "source": [
    "list1 = [10, 20, 4, 45, 99]\n",
    " \n",
    "# sorting the list\n",
    "list1.sort(reverse=True)\n",
    " \n",
    "# printing the first element\n",
    "print(\"Smallest element is:\", list1[-1])"
   ]
  },
  {
   "cell_type": "code",
   "execution_count": 170,
   "id": "b516d5a0",
   "metadata": {},
   "outputs": [
    {
     "name": "stdout",
     "output_type": "stream",
     "text": [
      "List:2\n",
      "The list is  [2]\n"
     ]
    }
   ],
   "source": [
    "l=[ int(l) for l in input(\"List:\").split(\",\")]\n",
    "print(\"The list is \",l)"
   ]
  },
  {
   "cell_type": "code",
   "execution_count": 174,
   "id": "4fb3d43e",
   "metadata": {},
   "outputs": [
    {
     "name": "stdout",
     "output_type": "stream",
     "text": [
      "string456987365\n",
      "The smallest element in the list is  2\n"
     ]
    }
   ],
   "source": [
    "ls=[int(l) for l in input('string').split(',')]\n",
    "min1=ls[0]\n",
    "for i in range(len(ls)):\n",
    "    if l[i]<min1:\n",
    "        min1 = l[i]\n",
    "print(\"The smallest element in the list is \",min1)"
   ]
  },
  {
   "cell_type": "code",
   "execution_count": 180,
   "id": "44246cb2",
   "metadata": {},
   "outputs": [
    {
     "name": "stdout",
     "output_type": "stream",
     "text": [
      "List:12458\n",
      "The list is  [12458]\n",
      "The smallest element in the list is  12458\n"
     ]
    }
   ],
   "source": [
    "# Python program to find smallest\n",
    "# number in a list\n",
    "\n",
    "l=[ int(l) for l in input(\"List:\").split(\",\")]\n",
    "print(\"The list is \",l)\n",
    "\n",
    "# Assign first element as a minimum.\n",
    "min1 = l[0]\n",
    "\n",
    "for i in range(len(l)):\n",
    "    if l[i] < min1:\n",
    "        min1 = l[i] #It will change\n",
    "\n",
    "print(\"The smallest element in the list is \",min1)\n"
   ]
  },
  {
   "cell_type": "code",
   "execution_count": 181,
   "id": "46fc2b4f",
   "metadata": {},
   "outputs": [
    {
     "name": "stdout",
     "output_type": "stream",
     "text": [
      "List:145965\n",
      "The list is  [145965]\n"
     ]
    }
   ],
   "source": [
    "l=[ int(l) for l in input(\"List:\").split(\",\")]\n",
    "print(\"The list is \",l)"
   ]
  },
  {
   "cell_type": "code",
   "execution_count": 183,
   "id": "6cb30abf",
   "metadata": {},
   "outputs": [
    {
     "name": "stdout",
     "output_type": "stream",
     "text": [
      "45865\n"
     ]
    },
    {
     "ename": "TypeError",
     "evalue": "int() argument must be a string, a bytes-like object or a number, not 'list'",
     "output_type": "error",
     "traceback": [
      "\u001b[1;31m---------------------------------------------------------------------------\u001b[0m",
      "\u001b[1;31mTypeError\u001b[0m                                 Traceback (most recent call last)",
      "\u001b[1;32m~\\AppData\\Local\\Temp\\ipykernel_16624\\2322013.py\u001b[0m in \u001b[0;36m<module>\u001b[1;34m\u001b[0m\n\u001b[0;32m      1\u001b[0m \u001b[0mint1\u001b[0m\u001b[1;33m=\u001b[0m\u001b[0minput\u001b[0m\u001b[1;33m(\u001b[0m\u001b[1;33m)\u001b[0m\u001b[1;33m.\u001b[0m\u001b[0msplit\u001b[0m\u001b[1;33m(\u001b[0m\u001b[1;34m','\u001b[0m\u001b[1;33m)\u001b[0m\u001b[1;33m\u001b[0m\u001b[1;33m\u001b[0m\u001b[0m\n\u001b[1;32m----> 2\u001b[1;33m \u001b[0mlst\u001b[0m\u001b[1;33m=\u001b[0m\u001b[0mlist\u001b[0m\u001b[1;33m(\u001b[0m\u001b[0mint\u001b[0m\u001b[1;33m(\u001b[0m\u001b[0mint1\u001b[0m\u001b[1;33m)\u001b[0m\u001b[1;33m)\u001b[0m\u001b[1;33m\u001b[0m\u001b[1;33m\u001b[0m\u001b[0m\n\u001b[0m",
      "\u001b[1;31mTypeError\u001b[0m: int() argument must be a string, a bytes-like object or a number, not 'list'"
     ]
    }
   ],
   "source": [
    "int1=input().split(',')\n",
    "lst=list(int(int1))"
   ]
  },
  {
   "cell_type": "code",
   "execution_count": 194,
   "id": "60479807",
   "metadata": {},
   "outputs": [
    {
     "name": "stdout",
     "output_type": "stream",
     "text": [
      "5326124789\n",
      "9\n"
     ]
    }
   ],
   "source": [
    "num = int(input())\n",
    "num_str = str(num)\n",
    "num_lst = [int(char) for char in num_str]\n",
    "max1=num_lst[0]\n",
    "\n",
    "for i in num_lst:\n",
    "    if i>max1:\n",
    "        max1=i\n",
    "print(max1)"
   ]
  },
  {
   "cell_type": "code",
   "execution_count": null,
   "id": "470101e4",
   "metadata": {},
   "outputs": [],
   "source": [
    "# Find the second largest in the list"
   ]
  },
  {
   "cell_type": "code",
   "execution_count": 209,
   "id": "f84a6777",
   "metadata": {},
   "outputs": [],
   "source": [
    "def second_lgst(arr):\n",
    "    secondlargest=0\n",
    "    largest=min(arr)\n",
    "    n=len(arr)\n",
    "    \n",
    "    for i in range(n):\n",
    "        if arr[i]>largest:\n",
    "            \n",
    "            secondlargest=largest\n",
    "            largest=arr[i]\n",
    "        else:\n",
    "            \n",
    "            secondlargest=max(secondlargest,arr[i])\n",
    "        \n",
    "            return secondlargest\n",
    "    "
   ]
  },
  {
   "cell_type": "code",
   "execution_count": 210,
   "id": "bd6538f9",
   "metadata": {},
   "outputs": [
    {
     "data": {
      "text/plain": [
       "74"
      ]
     },
     "execution_count": 210,
     "metadata": {},
     "output_type": "execute_result"
    }
   ],
   "source": [
    "second_lgst(lst2)\n"
   ]
  },
  {
   "cell_type": "code",
   "execution_count": null,
   "id": "73fef87c",
   "metadata": {},
   "outputs": [],
   "source": [
    "# Even odd \n",
    "# count of even and odd in range"
   ]
  },
  {
   "cell_type": "code",
   "execution_count": 213,
   "id": "7afe8dba",
   "metadata": {},
   "outputs": [
    {
     "name": "stdout",
     "output_type": "stream",
     "text": [
      "[0, 2, 4, 6, 8, 10, 12, 14, 16, 18]\n"
     ]
    }
   ],
   "source": [
    "even=[x for x in range(20) if x%2==0]\n",
    "print(even)"
   ]
  },
  {
   "cell_type": "code",
   "execution_count": 217,
   "id": "0e3f500e",
   "metadata": {},
   "outputs": [
    {
     "name": "stdout",
     "output_type": "stream",
     "text": [
      "[568, 986, 758, 20, 26, 80]\n",
      "[531, 8367, 21]\n"
     ]
    }
   ],
   "source": [
    "list1=[568,986,758,653,531,851,8367,3647,21,29,20,26,31,80]\n",
    "even=[x for x in list if x%2==0]\n",
    "print(even)\n",
    "odd=[x for x in list if x%3==0]\n",
    "print(odd)"
   ]
  },
  {
   "cell_type": "code",
   "execution_count": 221,
   "id": "9c543b34",
   "metadata": {},
   "outputs": [
    {
     "ename": "SyntaxError",
     "evalue": "invalid syntax (2498489770.py, line 2)",
     "output_type": "error",
     "traceback": [
      "\u001b[1;36m  File \u001b[1;32m\"C:\\Users\\lenovo\\AppData\\Local\\Temp\\ipykernel_16624\\2498489770.py\"\u001b[1;36m, line \u001b[1;32m2\u001b[0m\n\u001b[1;33m    result_odd=list(filter(lambda x:if (x%2==0),list1))\u001b[0m\n\u001b[1;37m                                    ^\u001b[0m\n\u001b[1;31mSyntaxError\u001b[0m\u001b[1;31m:\u001b[0m invalid syntax\n"
     ]
    }
   ],
   "source": [
    "list1 = [10, 21, 4, 45, 66, 93, 11]\n",
    "result_odd=list(filter(lambda x:if (x%2==0),list1))"
   ]
  },
  {
   "cell_type": "code",
   "execution_count": 220,
   "id": "a7ae24b7",
   "metadata": {},
   "outputs": [
    {
     "ename": "TypeError",
     "evalue": "'list' object is not callable",
     "output_type": "error",
     "traceback": [
      "\u001b[1;31m---------------------------------------------------------------------------\u001b[0m",
      "\u001b[1;31mTypeError\u001b[0m                                 Traceback (most recent call last)",
      "\u001b[1;32m~\\AppData\\Local\\Temp\\ipykernel_16624\\3476117181.py\u001b[0m in \u001b[0;36m<module>\u001b[1;34m\u001b[0m\n\u001b[0;32m      6\u001b[0m \u001b[1;33m\u001b[0m\u001b[0m\n\u001b[0;32m      7\u001b[0m \u001b[1;31m# we can also print even no's using lambda exp.\u001b[0m\u001b[1;33m\u001b[0m\u001b[1;33m\u001b[0m\u001b[0m\n\u001b[1;32m----> 8\u001b[1;33m \u001b[0meven_nos\u001b[0m \u001b[1;33m=\u001b[0m \u001b[0mlist\u001b[0m\u001b[1;33m(\u001b[0m\u001b[0mfilter\u001b[0m\u001b[1;33m(\u001b[0m\u001b[1;32mlambda\u001b[0m \u001b[0mx\u001b[0m\u001b[1;33m:\u001b[0m \u001b[1;33m(\u001b[0m\u001b[0mx\u001b[0m \u001b[1;33m%\u001b[0m \u001b[1;36m2\u001b[0m \u001b[1;33m==\u001b[0m \u001b[1;36m0\u001b[0m\u001b[1;33m)\u001b[0m\u001b[1;33m,\u001b[0m \u001b[0mlist1\u001b[0m\u001b[1;33m)\u001b[0m\u001b[1;33m)\u001b[0m\u001b[1;33m\u001b[0m\u001b[1;33m\u001b[0m\u001b[0m\n\u001b[0m\u001b[0;32m      9\u001b[0m \u001b[1;33m\u001b[0m\u001b[0m\n\u001b[0;32m     10\u001b[0m \u001b[0mprint\u001b[0m\u001b[1;33m(\u001b[0m\u001b[1;34m\"Even numbers in the list: \"\u001b[0m\u001b[1;33m,\u001b[0m \u001b[0meven_nos\u001b[0m\u001b[1;33m)\u001b[0m\u001b[1;33m\u001b[0m\u001b[1;33m\u001b[0m\u001b[0m\n",
      "\u001b[1;31mTypeError\u001b[0m: 'list' object is not callable"
     ]
    }
   ],
   "source": [
    "# Python program to print Even Numbers in a List\n",
    "\n",
    "# list of numbers\n",
    "list1 = [10, 21, 4, 45, 66, 93, 11]\n",
    "\n",
    "\n",
    "# we can also print even no's using lambda exp.\n",
    "even_nos = list(filter(lambda x: (x % 2 == 0), list1))\n",
    "\n",
    "print(\"Even numbers in the list: \", even_nos)\n"
   ]
  },
  {
   "cell_type": "code",
   "execution_count": 222,
   "id": "da6f0faa",
   "metadata": {},
   "outputs": [
    {
     "ename": "TypeError",
     "evalue": "'list' object is not callable",
     "output_type": "error",
     "traceback": [
      "\u001b[1;31m---------------------------------------------------------------------------\u001b[0m",
      "\u001b[1;31mTypeError\u001b[0m                                 Traceback (most recent call last)",
      "\u001b[1;32m~\\AppData\\Local\\Temp\\ipykernel_16624\\922489823.py\u001b[0m in \u001b[0;36m<module>\u001b[1;34m\u001b[0m\n\u001b[0;32m      1\u001b[0m \u001b[0mmy_list\u001b[0m \u001b[1;33m=\u001b[0m \u001b[1;33m[\u001b[0m\u001b[1;36m10\u001b[0m\u001b[1;33m,\u001b[0m \u001b[1;36m21\u001b[0m\u001b[1;33m,\u001b[0m \u001b[1;36m4\u001b[0m\u001b[1;33m,\u001b[0m \u001b[1;36m45\u001b[0m\u001b[1;33m,\u001b[0m \u001b[1;36m66\u001b[0m\u001b[1;33m,\u001b[0m \u001b[1;36m93\u001b[0m\u001b[1;33m,\u001b[0m \u001b[1;36m11\u001b[0m\u001b[1;33m]\u001b[0m\u001b[1;33m\u001b[0m\u001b[1;33m\u001b[0m\u001b[0m\n\u001b[1;32m----> 2\u001b[1;33m \u001b[0meven_nos\u001b[0m \u001b[1;33m=\u001b[0m \u001b[0mlist\u001b[0m\u001b[1;33m(\u001b[0m\u001b[0mfilter\u001b[0m\u001b[1;33m(\u001b[0m\u001b[1;32mlambda\u001b[0m \u001b[0mx\u001b[0m\u001b[1;33m:\u001b[0m \u001b[1;33m(\u001b[0m\u001b[0mx\u001b[0m \u001b[1;33m%\u001b[0m \u001b[1;36m2\u001b[0m \u001b[1;33m==\u001b[0m \u001b[1;36m0\u001b[0m\u001b[1;33m)\u001b[0m\u001b[1;33m,\u001b[0m \u001b[0mmy_list\u001b[0m\u001b[1;33m)\u001b[0m\u001b[1;33m)\u001b[0m\u001b[1;33m\u001b[0m\u001b[1;33m\u001b[0m\u001b[0m\n\u001b[0m\u001b[0;32m      3\u001b[0m \u001b[0meven_nos\u001b[0m\u001b[1;33m\u001b[0m\u001b[1;33m\u001b[0m\u001b[0m\n",
      "\u001b[1;31mTypeError\u001b[0m: 'list' object is not callable"
     ]
    }
   ],
   "source": [
    "my_list = [10, 21, 4, 45, 66, 93, 11]\n",
    "even_nos = list(filter(lambda x: (x % 2 == 0), my_list))\n",
    "even_nos"
   ]
  },
  {
   "cell_type": "code",
   "execution_count": 223,
   "id": "ff11307f",
   "metadata": {},
   "outputs": [
    {
     "ename": "TypeError",
     "evalue": "'list' object is not callable",
     "output_type": "error",
     "traceback": [
      "\u001b[1;31m---------------------------------------------------------------------------\u001b[0m",
      "\u001b[1;31mTypeError\u001b[0m                                 Traceback (most recent call last)",
      "\u001b[1;32m~\\AppData\\Local\\Temp\\ipykernel_16624\\1597701404.py\u001b[0m in \u001b[0;36m<module>\u001b[1;34m\u001b[0m\n\u001b[0;32m      1\u001b[0m \u001b[0mmy_list\u001b[0m \u001b[1;33m=\u001b[0m \u001b[1;33m[\u001b[0m\u001b[1;36m10\u001b[0m\u001b[1;33m,\u001b[0m \u001b[1;36m21\u001b[0m\u001b[1;33m,\u001b[0m \u001b[1;36m4\u001b[0m\u001b[1;33m,\u001b[0m \u001b[1;36m45\u001b[0m\u001b[1;33m,\u001b[0m \u001b[1;36m66\u001b[0m\u001b[1;33m,\u001b[0m \u001b[1;36m93\u001b[0m\u001b[1;33m,\u001b[0m \u001b[1;36m11\u001b[0m\u001b[1;33m]\u001b[0m\u001b[1;33m\u001b[0m\u001b[1;33m\u001b[0m\u001b[0m\n\u001b[1;32m----> 2\u001b[1;33m \u001b[0meven_nos\u001b[0m \u001b[1;33m=\u001b[0m \u001b[0mlist\u001b[0m\u001b[1;33m(\u001b[0m\u001b[0mfilter\u001b[0m\u001b[1;33m(\u001b[0m\u001b[1;32mlambda\u001b[0m \u001b[0mx\u001b[0m\u001b[1;33m:\u001b[0m \u001b[1;33m(\u001b[0m\u001b[0mx\u001b[0m \u001b[1;33m%\u001b[0m \u001b[1;36m2\u001b[0m \u001b[1;33m==\u001b[0m \u001b[1;36m0\u001b[0m\u001b[1;33m)\u001b[0m\u001b[1;33m,\u001b[0m \u001b[0mmy_list\u001b[0m\u001b[1;33m)\u001b[0m\u001b[1;33m)\u001b[0m\u001b[1;33m\u001b[0m\u001b[1;33m\u001b[0m\u001b[0m\n\u001b[0m",
      "\u001b[1;31mTypeError\u001b[0m: 'list' object is not callable"
     ]
    }
   ],
   "source": [
    "my_list = [10, 21, 4, 45, 66, 93, 11]\n",
    "even_nos = list(filter(lambda x: (x % 2 == 0), my_list))"
   ]
  },
  {
   "cell_type": "markdown",
   "id": "03bb7bfa",
   "metadata": {},
   "source": [
    "# Never create a variable with a name of builtin function\n",
    "# TypeError: 'list' object is not callable"
   ]
  },
  {
   "cell_type": "code",
   "execution_count": 232,
   "id": "6eb3643e",
   "metadata": {},
   "outputs": [
    {
     "name": "stdout",
     "output_type": "stream",
     "text": [
      "Even 3\n",
      "Odd 4\n",
      "[10, 4, 66]\n",
      "[21, 45, 93, 11]\n"
     ]
    }
   ],
   "source": [
    "my_list = [10, 21, 4, 45, 66, 93, 11]\n",
    "even=[]\n",
    "odd=[]\n",
    "event_count,odd_count=0,0\n",
    "for i in my_list:\n",
    "    if i%2==0:\n",
    "        even.append(i)\n",
    "        event_count+=1\n",
    "    \n",
    "    else:\n",
    "        odd.append(i)\n",
    "        odd_count+=1\n",
    "print('Even',event_count)\n",
    "print('Odd',odd_count)\n",
    "print(even)\n",
    "print(odd)\n"
   ]
  },
  {
   "cell_type": "markdown",
   "id": "c1d68136",
   "metadata": {},
   "source": [
    "# In the example code, the count variable is initialized to 0, which means it has a starting value of 0. \n",
    "# Then, a for loop is used to repeat a block of code 10 times. \n",
    "# Inside the loop, the count variable is incremented by 1 on each iteration using the count += 1 statement.\n",
    "\n",
    "# So, after the first iteration, count will be 1. After the second iteration, count will be 2, \n",
    "# and so on, until the tenth iteration, where count will be 10. Finally, \n",
    "# the value of count is printed to the console using the print statement"
   ]
  },
  {
   "cell_type": "code",
   "execution_count": null,
   "id": "99ce2622",
   "metadata": {},
   "outputs": [],
   "source": [
    "count = 0\n",
    "\n",
    "for i in range(10):\n",
    "    if i % 2 == 0:\n",
    "        count += 1\n",
    "\n",
    "print(\"The count of even numbers is:\", count)\n"
   ]
  },
  {
   "cell_type": "markdown",
   "id": "4091c8f8",
   "metadata": {},
   "source": [
    "# In this code, the loop iterates over the range of numbers from 0 to 9. On each iteration, \n",
    "# the code checks if the current number i is even by using the modulo operator %. \n",
    "# If i is even, the count variable is incremented by 1. At the end of the loop,\n",
    "# the value of count will be the total number of even numbers in the range from 0 to 9. \n",
    "# This code will output: The count of even numbers is: 5."
   ]
  },
  {
   "cell_type": "markdown",
   "id": "29646af7",
   "metadata": {},
   "source": [
    "# Python program to print positive and Negative numbers in a list"
   ]
  },
  {
   "cell_type": "code",
   "execution_count": 6,
   "id": "390f418d",
   "metadata": {},
   "outputs": [
    {
     "name": "stdout",
     "output_type": "stream",
     "text": [
      "positive numbers [12, 56, 87, 89, 0, 87, 63]\n",
      "Negative numbers [-78, -5869, -45, -58]\n"
     ]
    }
   ],
   "source": [
    "lst=[12,-78,56,87,-5869,89,0,-45,87,63,-58]\n",
    "pos=[]\n",
    "neg=[]\n",
    "\n",
    "for i in lst:\n",
    "    if i>=0:\n",
    "        pos.append(i)\n",
    "    else:\n",
    "        neg.append(i)\n",
    "print('positive numbers',pos)\n",
    "print('Negative numbers',neg)\n",
    "        "
   ]
  },
  {
   "cell_type": "code",
   "execution_count": 9,
   "id": "7f1b4f8c",
   "metadata": {},
   "outputs": [],
   "source": [
    "pos=[x for x in lst if x>=0]\n",
    "neg=[x for x in lst if x<0]"
   ]
  },
  {
   "cell_type": "code",
   "execution_count": 10,
   "id": "0afc09dd",
   "metadata": {},
   "outputs": [
    {
     "name": "stdout",
     "output_type": "stream",
     "text": [
      "[12, 56, 87, 89, 0, 87, 63] [-78, -5869, -45, -58]\n"
     ]
    }
   ],
   "source": [
    "print(pos,neg)"
   ]
  },
  {
   "cell_type": "code",
   "execution_count": 11,
   "id": "443344e2",
   "metadata": {},
   "outputs": [
    {
     "data": {
      "text/plain": [
       "11"
      ]
     },
     "execution_count": 11,
     "metadata": {},
     "output_type": "execute_result"
    }
   ],
   "source": [
    "len(lst)"
   ]
  },
  {
   "cell_type": "code",
   "execution_count": 25,
   "id": "af0c9fe4",
   "metadata": {},
   "outputs": [
    {
     "name": "stdout",
     "output_type": "stream",
     "text": [
      "12 56 87 89 0 87 63 "
     ]
    }
   ],
   "source": [
    "n=0\n",
    "a=[]\n",
    "b=[]\n",
    "while n<len(lst):\n",
    "    if lst[n]>=0:\n",
    "        \n",
    "        print(lst[n],end=' ')\n",
    "    n+=1    "
   ]
  },
  {
   "cell_type": "code",
   "execution_count": 27,
   "id": "812ef680",
   "metadata": {},
   "outputs": [
    {
     "name": "stdout",
     "output_type": "stream",
     "text": [
      "Positive numbers [12, 56, 87, 89, 0, 87, 63]\n"
     ]
    }
   ],
   "source": [
    "pos_no=list(filter(lambda x: (x>=0 ),lst))\n",
    "print('Positive numbers',pos_no)"
   ]
  },
  {
   "cell_type": "code",
   "execution_count": 30,
   "id": "3a70b8f7",
   "metadata": {},
   "outputs": [
    {
     "name": "stdout",
     "output_type": "stream",
     "text": [
      "-50\n",
      "35\n",
      "3\n",
      "Psoitive numbers [1, 4, 7, 10, 13, 16, 19, 22, 25, 28, 31, 34]\n",
      "Negative numbers [-50, -47, -44, -41, -38, -35, -32, -29, -26, -23, -20, -17, -14, -11, -8, -5, -2]\n"
     ]
    }
   ],
   "source": [
    "a=int(input())\n",
    "b=int(input())\n",
    "z=int(input())\n",
    "c=[]\n",
    "d=[]\n",
    "for i in range(a,b+1,z):\n",
    "    if  i >=0:\n",
    "        c.append(i)\n",
    "    else:\n",
    "        d.append(i)\n",
    "print('Psoitive numbers',c)\n",
    "print('Negative numbers',d)"
   ]
  },
  {
   "cell_type": "code",
   "execution_count": 36,
   "id": "d58481bb",
   "metadata": {},
   "outputs": [
    {
     "name": "stdout",
     "output_type": "stream",
     "text": [
      "-10\n",
      "20\n",
      "2\n",
      "Positive numbers [0, 2, 4, 6, 8, 10, 12, 14, 16, 18, 20]\n",
      "Negative numbers [-10, -8, -6, -4, -2]\n",
      "Positive count 11\n",
      "Negative count 5\n"
     ]
    }
   ],
   "source": [
    "a=int(input('Start'))\n",
    "b=int(input('End'))\n",
    "z=int(input('Step'))\n",
    "c=[]\n",
    "d=[]\n",
    "pos_count=0\n",
    "neg_count=0\n",
    "count=0\n",
    "for i in range(a,b+1,z):\n",
    "    if  i >=0:\n",
    "        pos_count+=1\n",
    "        c.append(i)\n",
    "    else:\n",
    "        neg_count+=1\n",
    "        d.append(i)\n",
    "print('Positive numbers',c)\n",
    "print('Negative numbers',d)\n",
    "print('Positive count',pos_count)\n",
    "print('Negative count',neg_count)\n",
    "        \n"
   ]
  },
  {
   "cell_type": "code",
   "execution_count": null,
   "id": "89b09483",
   "metadata": {},
   "outputs": [],
   "source": [
    "# Given a sorted array of size N and an integer K, \n",
    "# find the position at which K is present in the array using binary search"
   ]
  },
  {
   "cell_type": "code",
   "execution_count": 38,
   "id": "a334e67f",
   "metadata": {},
   "outputs": [
    {
     "data": {
      "text/plain": [
       "[12, -78, 56, 87, -5869, 89, 0, -45, 87, 63, -58]"
      ]
     },
     "execution_count": 38,
     "metadata": {},
     "output_type": "execute_result"
    }
   ],
   "source": [
    "lst"
   ]
  },
  {
   "cell_type": "code",
   "execution_count": 43,
   "id": "876015fe",
   "metadata": {},
   "outputs": [],
   "source": [
    "def array(N):\n",
    "    k = int(input('Enter the k value to find its position: '))\n",
    "    if k in N:\n",
    "        print('Position of k:', N.index(k))\n",
    "    else:\n",
    "        print('K does not exist in the list.')"
   ]
  },
  {
   "cell_type": "code",
   "execution_count": 44,
   "id": "be4c0a77",
   "metadata": {},
   "outputs": [
    {
     "name": "stdout",
     "output_type": "stream",
     "text": [
      "Enter the k value to find its position: -5869\n",
      "Position of k: 4\n"
     ]
    }
   ],
   "source": [
    "array(lst)"
   ]
  },
  {
   "cell_type": "code",
   "execution_count": 48,
   "id": "fbc9d1e1",
   "metadata": {},
   "outputs": [],
   "source": [
    "lst1=list(filter(lambda x:x in (12,-78),lst))"
   ]
  },
  {
   "cell_type": "code",
   "execution_count": 49,
   "id": "71d96b24",
   "metadata": {},
   "outputs": [
    {
     "data": {
      "text/plain": [
       "[12, -78]"
      ]
     },
     "execution_count": 49,
     "metadata": {},
     "output_type": "execute_result"
    }
   ],
   "source": [
    "lst1"
   ]
  },
  {
   "cell_type": "code",
   "execution_count": 50,
   "id": "efb04e35",
   "metadata": {},
   "outputs": [
    {
     "name": "stdout",
     "output_type": "stream",
     "text": [
      "[1, 2, 5, 9]\n",
      "[1, 2, 3, 4, 5, 6, 7, 8, 9]\n"
     ]
    }
   ],
   "source": [
    "# Python program to print duplicates from\n",
    "# a list of integers\n",
    "lis = [1, 2, 1, 2, 3, 4, 5, 1, 1, 2, 5, 6, 7, 8, 9, 9]\n",
    "\n",
    "uniqueList = []\n",
    "duplicateList = []\n",
    "\n",
    "for i in lis:\n",
    "    if i not in uniqueList:\n",
    "        uniqueList.append(i)\n",
    "    elif i not in duplicateList:\n",
    "        duplicateList.append(i)\n",
    "\n",
    "print(duplicateList)\n",
    "print(uniqueList)"
   ]
  },
  {
   "cell_type": "code",
   "execution_count": 53,
   "id": "9a6738c4",
   "metadata": {},
   "outputs": [
    {
     "name": "stdout",
     "output_type": "stream",
     "text": [
      "Counter({1: 5, 3: 5, 6: 5, 2: 4, 7: 3, 4: 2, 74: 1, 8: 1})\n",
      "[1, 2, 3, 6, 7, 4]\n"
     ]
    }
   ],
   "source": [
    "from collections import Counter\n",
    "\n",
    "l=[1,1,2,2,2,2,3,3,3,3,3,1,1,1,6,6,6,6,6,7,7,7,74,4,4,8]\n",
    "d=Counter(l)\n",
    "\n",
    "print(d)\n",
    "l1=[item for item in d if d[item]>1]\n",
    "print(l1)\n"
   ]
  },
  {
   "cell_type": "code",
   "execution_count": 57,
   "id": "852c3730",
   "metadata": {},
   "outputs": [
    {
     "data": {
      "text/plain": [
       "[12, -78, 56, 87, -5869, 89, 0, -45, 87, 63, -58]"
      ]
     },
     "execution_count": 57,
     "metadata": {},
     "output_type": "execute_result"
    }
   ],
   "source": [
    "lst"
   ]
  },
  {
   "cell_type": "code",
   "execution_count": 56,
   "id": "f395865b",
   "metadata": {},
   "outputs": [
    {
     "name": "stdout",
     "output_type": "stream",
     "text": [
      "1\n",
      "2\n",
      "3\n",
      "4\n",
      "5\n",
      "6\n",
      "7\n",
      "8\n",
      "9\n",
      "10\n",
      "11\n"
     ]
    }
   ],
   "source": [
    "_size = len(lst)\n",
    "repeated = []\n",
    "for i in range(_size):\n",
    "    k = i + 1\n",
    "    print(k)"
   ]
  }
 ],
 "metadata": {
  "kernelspec": {
   "display_name": "Python 3 (ipykernel)",
   "language": "python",
   "name": "python3"
  },
  "language_info": {
   "codemirror_mode": {
    "name": "ipython",
    "version": 3
   },
   "file_extension": ".py",
   "mimetype": "text/x-python",
   "name": "python",
   "nbconvert_exporter": "python",
   "pygments_lexer": "ipython3",
   "version": "3.9.13"
  }
 },
 "nbformat": 4,
 "nbformat_minor": 5
}
