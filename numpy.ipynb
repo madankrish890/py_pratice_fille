{
 "cells": [
  {
   "cell_type": "code",
   "execution_count": 21,
   "id": "564d8d1a",
   "metadata": {},
   "outputs": [],
   "source": [
    "import numpy as np\n",
    "import pandas as pd"
   ]
  },
  {
   "cell_type": "code",
   "execution_count": 2,
   "id": "2883552f",
   "metadata": {},
   "outputs": [],
   "source": [
    "num=np.array([1,2,3])"
   ]
  },
  {
   "cell_type": "code",
   "execution_count": 3,
   "id": "3ffb5361",
   "metadata": {},
   "outputs": [
    {
     "data": {
      "text/plain": [
       "array([1, 2, 3])"
      ]
     },
     "execution_count": 3,
     "metadata": {},
     "output_type": "execute_result"
    }
   ],
   "source": [
    "num"
   ]
  },
  {
   "cell_type": "markdown",
   "id": "a9c83d0c",
   "metadata": {},
   "source": [
    "# How to create an empty and a full NumPy array?"
   ]
  },
  {
   "cell_type": "code",
   "execution_count": 12,
   "id": "35dce04f",
   "metadata": {},
   "outputs": [
    {
     "data": {
      "text/plain": [
       "array([[4.67296746e-307, 1.69121096e-306, 1.33511290e-306],\n",
       "       [6.23058368e-307, 2.22526399e-307, 6.23053614e-307],\n",
       "       [7.56592338e-307, 9.34588061e-307, 3.62651150e-317]])"
      ]
     },
     "execution_count": 12,
     "metadata": {},
     "output_type": "execute_result"
    }
   ],
   "source": [
    "np.empty((3,3))"
   ]
  },
  {
   "cell_type": "code",
   "execution_count": 16,
   "id": "3d7b5f7f",
   "metadata": {},
   "outputs": [],
   "source": [
    "a=np.full((3,5),55)"
   ]
  },
  {
   "cell_type": "code",
   "execution_count": 18,
   "id": "35e73449",
   "metadata": {},
   "outputs": [
    {
     "data": {
      "text/plain": [
       "55"
      ]
     },
     "execution_count": 18,
     "metadata": {},
     "output_type": "execute_result"
    }
   ],
   "source": [
    "a[0][0]"
   ]
  },
  {
   "cell_type": "markdown",
   "id": "d3ec5b92",
   "metadata": {},
   "source": [
    "# Create a Numpy array filled with all zeros | Python"
   ]
  },
  {
   "cell_type": "code",
   "execution_count": 23,
   "id": "04623268",
   "metadata": {},
   "outputs": [
    {
     "data": {
      "text/html": [
       "<div>\n",
       "<style scoped>\n",
       "    .dataframe tbody tr th:only-of-type {\n",
       "        vertical-align: middle;\n",
       "    }\n",
       "\n",
       "    .dataframe tbody tr th {\n",
       "        vertical-align: top;\n",
       "    }\n",
       "\n",
       "    .dataframe thead th {\n",
       "        text-align: right;\n",
       "    }\n",
       "</style>\n",
       "<table border=\"1\" class=\"dataframe\">\n",
       "  <thead>\n",
       "    <tr style=\"text-align: right;\">\n",
       "      <th></th>\n",
       "      <th>0</th>\n",
       "      <th>1</th>\n",
       "      <th>2</th>\n",
       "      <th>3</th>\n",
       "      <th>4</th>\n",
       "    </tr>\n",
       "  </thead>\n",
       "  <tbody>\n",
       "    <tr>\n",
       "      <th>0</th>\n",
       "      <td>0.0</td>\n",
       "      <td>0.0</td>\n",
       "      <td>0.0</td>\n",
       "      <td>0.0</td>\n",
       "      <td>0.0</td>\n",
       "    </tr>\n",
       "    <tr>\n",
       "      <th>1</th>\n",
       "      <td>0.0</td>\n",
       "      <td>0.0</td>\n",
       "      <td>0.0</td>\n",
       "      <td>0.0</td>\n",
       "      <td>0.0</td>\n",
       "    </tr>\n",
       "    <tr>\n",
       "      <th>2</th>\n",
       "      <td>0.0</td>\n",
       "      <td>0.0</td>\n",
       "      <td>0.0</td>\n",
       "      <td>0.0</td>\n",
       "      <td>0.0</td>\n",
       "    </tr>\n",
       "  </tbody>\n",
       "</table>\n",
       "</div>"
      ],
      "text/plain": [
       "     0    1    2    3    4\n",
       "0  0.0  0.0  0.0  0.0  0.0\n",
       "1  0.0  0.0  0.0  0.0  0.0\n",
       "2  0.0  0.0  0.0  0.0  0.0"
      ]
     },
     "execution_count": 23,
     "metadata": {},
     "output_type": "execute_result"
    }
   ],
   "source": [
    "a=np.zeros((3,5))\n",
    "b=pd.DataFrame(a)\n",
    "b"
   ]
  },
  {
   "cell_type": "markdown",
   "id": "9da8e328",
   "metadata": {},
   "source": [
    "# Create a Numpy array filled with all ones"
   ]
  },
  {
   "cell_type": "code",
   "execution_count": 25,
   "id": "21c12acb",
   "metadata": {},
   "outputs": [
    {
     "data": {
      "text/html": [
       "<div>\n",
       "<style scoped>\n",
       "    .dataframe tbody tr th:only-of-type {\n",
       "        vertical-align: middle;\n",
       "    }\n",
       "\n",
       "    .dataframe tbody tr th {\n",
       "        vertical-align: top;\n",
       "    }\n",
       "\n",
       "    .dataframe thead th {\n",
       "        text-align: right;\n",
       "    }\n",
       "</style>\n",
       "<table border=\"1\" class=\"dataframe\">\n",
       "  <thead>\n",
       "    <tr style=\"text-align: right;\">\n",
       "      <th></th>\n",
       "      <th>0</th>\n",
       "      <th>1</th>\n",
       "      <th>2</th>\n",
       "      <th>3</th>\n",
       "      <th>4</th>\n",
       "      <th>5</th>\n",
       "    </tr>\n",
       "  </thead>\n",
       "  <tbody>\n",
       "    <tr>\n",
       "      <th>0</th>\n",
       "      <td>1.0</td>\n",
       "      <td>1.0</td>\n",
       "      <td>1.0</td>\n",
       "      <td>1.0</td>\n",
       "      <td>1.0</td>\n",
       "      <td>1.0</td>\n",
       "    </tr>\n",
       "    <tr>\n",
       "      <th>1</th>\n",
       "      <td>1.0</td>\n",
       "      <td>1.0</td>\n",
       "      <td>1.0</td>\n",
       "      <td>1.0</td>\n",
       "      <td>1.0</td>\n",
       "      <td>1.0</td>\n",
       "    </tr>\n",
       "    <tr>\n",
       "      <th>2</th>\n",
       "      <td>1.0</td>\n",
       "      <td>1.0</td>\n",
       "      <td>1.0</td>\n",
       "      <td>1.0</td>\n",
       "      <td>1.0</td>\n",
       "      <td>1.0</td>\n",
       "    </tr>\n",
       "  </tbody>\n",
       "</table>\n",
       "</div>"
      ],
      "text/plain": [
       "     0    1    2    3    4    5\n",
       "0  1.0  1.0  1.0  1.0  1.0  1.0\n",
       "1  1.0  1.0  1.0  1.0  1.0  1.0\n",
       "2  1.0  1.0  1.0  1.0  1.0  1.0"
      ]
     },
     "execution_count": 25,
     "metadata": {},
     "output_type": "execute_result"
    }
   ],
   "source": [
    "a=np.ones((3,6))\n",
    "b=pd.DataFrame(a)\n",
    "b"
   ]
  },
  {
   "cell_type": "markdown",
   "id": "02efff87",
   "metadata": {},
   "source": [
    "# Check whether a Numpy array contains a specified row"
   ]
  },
  {
   "cell_type": "code",
   "execution_count": 26,
   "id": "f5118206",
   "metadata": {},
   "outputs": [],
   "source": [
    "Arr = [[1,2,3,4,5], [6,7,8,9,10], [11,12,13,14,15], [16,17,18,19,20]]"
   ]
  },
  {
   "cell_type": "code",
   "execution_count": 34,
   "id": "3c27d613",
   "metadata": {},
   "outputs": [
    {
     "data": {
      "text/plain": [
       "array([[ 1,  2,  3,  4,  5],\n",
       "       [ 6,  7,  8,  9, 10],\n",
       "       [11, 12, 13, 14, 15],\n",
       "       [16, 17, 18, 19, 20]])"
      ]
     },
     "execution_count": 34,
     "metadata": {},
     "output_type": "execute_result"
    }
   ],
   "source": [
    "a=np.array(Arr)\n",
    "a"
   ]
  },
  {
   "cell_type": "code",
   "execution_count": 35,
   "id": "1b8d3e5b",
   "metadata": {},
   "outputs": [
    {
     "name": "stdout",
     "output_type": "stream",
     "text": [
      "True\n",
      "False\n",
      "False\n",
      "False\n"
     ]
    }
   ],
   "source": [
    "print([1,2,3,4,5] in a.tolist())\n",
    "print([1,2,3,-8,5] in a.tolist())\n",
    "print([1,-2,3,4,5] in a.tolist())\n",
    "print([1,2,3,4,-5] in a.tolist())"
   ]
  },
  {
   "cell_type": "markdown",
   "id": "6135ade1",
   "metadata": {},
   "source": [
    "# How to Remove rows in Numpy array that contains non-numeric values?"
   ]
  },
  {
   "cell_type": "code",
   "execution_count": 46,
   "id": "9eececa0",
   "metadata": {},
   "outputs": [],
   "source": [
    "a=np.array([[1,5,7],\n",
    "          [1,np.nan,np.nan]])"
   ]
  },
  {
   "cell_type": "code",
   "execution_count": 47,
   "id": "d74c09b0",
   "metadata": {},
   "outputs": [
    {
     "name": "stdout",
     "output_type": "stream",
     "text": [
      "[[1. 5. 7.]]\n"
     ]
    }
   ],
   "source": [
    "print(a[~np.isnan(a).any(axis=1)])"
   ]
  },
  {
   "cell_type": "code",
   "execution_count": 43,
   "id": "e668e8e9",
   "metadata": {},
   "outputs": [
    {
     "name": "stdout",
     "output_type": "stream",
     "text": [
      "Given array:\n",
      "[[10.5 22.5  3.8]\n",
      " [41.   nan  nan]]\n",
      "\n",
      "Remove all rows containing non-numeric elements\n",
      "[[10.5 22.5  3.8]]\n"
     ]
    }
   ],
   "source": [
    "# Importing Numpy module\n",
    "import numpy as np\n",
    "\n",
    "# Creating 2X3 2-D Numpy array\n",
    "n_arr = np.array([[10.5, 22.5, 3.8],\n",
    "\t\t\t\t[41, np.nan, np.nan]])\n",
    "\n",
    "print(\"Given array:\")\n",
    "print(n_arr)\n",
    "\n",
    "print(\"\\nRemove all rows containing non-numeric elements\")\n",
    "print(n_arr[~np.isnan(n_arr).any(axis=1)])\n"
   ]
  },
  {
   "cell_type": "code",
   "execution_count": 53,
   "id": "95527c38",
   "metadata": {},
   "outputs": [
    {
     "data": {
      "text/plain": [
       "(2, 1, 2, 3)"
      ]
     },
     "execution_count": 53,
     "metadata": {},
     "output_type": "execute_result"
    }
   ],
   "source": [
    "in_arr = np.array([[[2, 2, 2], [2, 2, 2]]])\n",
    "in_arr.shape"
   ]
  },
  {
   "cell_type": "code",
   "execution_count": 57,
   "id": "9619d573",
   "metadata": {},
   "outputs": [
    {
     "data": {
      "text/html": [
       "<div>\n",
       "<style scoped>\n",
       "    .dataframe tbody tr th:only-of-type {\n",
       "        vertical-align: middle;\n",
       "    }\n",
       "\n",
       "    .dataframe tbody tr th {\n",
       "        vertical-align: top;\n",
       "    }\n",
       "\n",
       "    .dataframe thead th {\n",
       "        text-align: right;\n",
       "    }\n",
       "</style>\n",
       "<table border=\"1\" class=\"dataframe\">\n",
       "  <thead>\n",
       "    <tr style=\"text-align: right;\">\n",
       "      <th></th>\n",
       "      <th>0</th>\n",
       "      <th>1</th>\n",
       "      <th>2</th>\n",
       "    </tr>\n",
       "  </thead>\n",
       "  <tbody>\n",
       "    <tr>\n",
       "      <th>0</th>\n",
       "      <td>1</td>\n",
       "      <td>2</td>\n",
       "      <td>3</td>\n",
       "    </tr>\n",
       "    <tr>\n",
       "      <th>1</th>\n",
       "      <td>4</td>\n",
       "      <td>5</td>\n",
       "      <td>6</td>\n",
       "    </tr>\n",
       "  </tbody>\n",
       "</table>\n",
       "</div>"
      ],
      "text/plain": [
       "   0  1  2\n",
       "0  1  2  3\n",
       "1  4  5  6"
      ]
     },
     "execution_count": 57,
     "metadata": {},
     "output_type": "execute_result"
    }
   ],
   "source": [
    "import numpy as np\n",
    "\n",
    "arr = np.array([[1, 2, 3], [4, 5, 6]])\n",
    "aw=pd.DataFrame(arr)\n",
    "aw"
   ]
  },
  {
   "cell_type": "code",
   "execution_count": null,
   "id": "207cc3e7",
   "metadata": {},
   "outputs": [],
   "source": [
    "# the shape of a one-dimensional array is (n,), \n",
    "# the shape of a two-dimensional array is (n, m), and the shape of a three-dimensional array is (n, m, k)."
   ]
  },
  {
   "cell_type": "code",
   "execution_count": 68,
   "id": "1e71fa83",
   "metadata": {},
   "outputs": [
    {
     "name": "stdout",
     "output_type": "stream",
     "text": [
      "(1, 3, 3)\n",
      "3\n"
     ]
    }
   ],
   "source": [
    "n_ip=np.arange(9).reshape(1,3,3)\n",
    "print(n_ip.shape)\n",
    "print(n_ip.ndim)"
   ]
  },
  {
   "cell_type": "code",
   "execution_count": 69,
   "id": "368f9b19",
   "metadata": {},
   "outputs": [
    {
     "name": "stdout",
     "output_type": "stream",
     "text": [
      "(3, 3)\n",
      "2\n"
     ]
    }
   ],
   "source": [
    "n_op=np.squeeze(n_ip,axis=0)\n",
    "print(n_op.shape)\n",
    "print(n_op.ndim)"
   ]
  },
  {
   "cell_type": "markdown",
   "id": "afb5dcab",
   "metadata": {},
   "source": [
    "# Find the number of occurrences of a sequence in a NumPy array"
   ]
  },
  {
   "cell_type": "code",
   "execution_count": 70,
   "id": "1671eff7",
   "metadata": {},
   "outputs": [],
   "source": [
    "Arr = [[2,8,9,4],\n",
    "       [9,4,9,4],\n",
    "       [4,5,9,7],\n",
    "       [2,9,4,3]]\n",
    "ar=np.array(Arr)\n",
    "seq = [9,4] \n",
    "\n"
   ]
  },
  {
   "cell_type": "code",
   "execution_count": 78,
   "id": "ab8ecbda",
   "metadata": {},
   "outputs": [
    {
     "name": "stdout",
     "output_type": "stream",
     "text": [
      "4\n"
     ]
    }
   ],
   "source": [
    "out=repr(ar).count(\"9, 4\")\n",
    "\n",
    "print(out)"
   ]
  },
  {
   "cell_type": "code",
   "execution_count": 77,
   "id": "c0dae543",
   "metadata": {},
   "outputs": [
    {
     "name": "stdout",
     "output_type": "stream",
     "text": [
      "4\n"
     ]
    }
   ],
   "source": [
    "# importing package\n",
    "import numpy\n",
    "\n",
    "# create numpy array\n",
    "arr = numpy.array([[2, 8, 9, 4],\n",
    "\t\t\t\t[9, 4, 9, 4],\n",
    "\t\t\t\t[4, 5, 9, 7],\n",
    "\t\t\t\t[2, 9, 4, 3]])\n",
    "\n",
    "# Counting sequence\n",
    "output = repr(arr).count(\"9, 4\")\n",
    "\n",
    "# view output\n",
    "print(output)\n"
   ]
  },
  {
   "cell_type": "code",
   "execution_count": 83,
   "id": "0faf5d90",
   "metadata": {},
   "outputs": [
    {
     "name": "stdout",
     "output_type": "stream",
     "text": [
      "Original array:\n",
      "[1 1 1 2 3 4 2 4 3 3 2]\n"
     ]
    }
   ],
   "source": [
    "x = np.array([1, 1, 1, 2, 3, 4, 2, 4, 3, 3,2 ])\n",
    "print(\"Original array:\")\n",
    "print(x)"
   ]
  },
  {
   "cell_type": "code",
   "execution_count": 84,
   "id": "b30b53f5",
   "metadata": {},
   "outputs": [
    {
     "data": {
      "text/plain": [
       "3"
      ]
     },
     "execution_count": 84,
     "metadata": {},
     "output_type": "execute_result"
    }
   ],
   "source": [
    "y=np.bincount(x)\n",
    "maximum=max(y)\n",
    "maximum"
   ]
  },
  {
   "cell_type": "code",
   "execution_count": 91,
   "id": "76da6756",
   "metadata": {},
   "outputs": [
    {
     "name": "stdout",
     "output_type": "stream",
     "text": [
      "[3 3 3 3 3] [3 3 3 3 3] [3 3 3 3 3] [3 3 3 3 3] [3 3 3 3 3] "
     ]
    }
   ],
   "source": [
    "for i in range(len(y)):\n",
    "    if y[i]==maximum:\n",
    "        print(y,end=' ')"
   ]
  },
  {
   "cell_type": "code",
   "execution_count": 94,
   "id": "82f75ab7",
   "metadata": {},
   "outputs": [
    {
     "name": "stdout",
     "output_type": "stream",
     "text": [
      "(array(0), array(0))\n",
      "(array(1), array(1))\n",
      "(array(2), array(2))\n",
      "(array(3), array(3))\n",
      "(array(4), array(4))\n",
      "(array(0), array(5))\n",
      "(array(1), array(6))\n",
      "(array(2), array(7))\n",
      "(array(3), array(8))\n",
      "(array(4), array(9))\n"
     ]
    }
   ],
   "source": [
    "a=np.arange(5)\n",
    "b=np.arange(10).reshape(2,5)\n",
    "\n",
    "for i,y in np.nditer([a,b]):\n",
    "    print((i,y))"
   ]
  },
  {
   "cell_type": "code",
   "execution_count": 99,
   "id": "2cc51693",
   "metadata": {},
   "outputs": [
    {
     "data": {
      "text/plain": [
       "array([[0, 0],\n",
       "       [0, 1],\n",
       "       [0, 2],\n",
       "       [1, 0],\n",
       "       [1, 1],\n",
       "       [1, 2],\n",
       "       [2, 0],\n",
       "       [2, 1],\n",
       "       [2, 2]])"
      ]
     },
     "execution_count": 99,
     "metadata": {},
     "output_type": "execute_result"
    }
   ],
   "source": [
    "a=np.arange(3)\n",
    "b=np.arange(3)\n",
    "\n",
    "c=np.array(np.meshgrid(a,b)).T.reshape(-1,2)\n",
    "c"
   ]
  },
  {
   "cell_type": "code",
   "execution_count": null,
   "id": "5d4c6e92",
   "metadata": {},
   "outputs": [],
   "source": [
    "# How to add a border around a NumPy array?"
   ]
  },
  {
   "cell_type": "code",
   "execution_count": 100,
   "id": "0c245e1b",
   "metadata": {},
   "outputs": [],
   "source": [
    "a=np.array([[1,2],[5,4]])"
   ]
  },
  {
   "cell_type": "code",
   "execution_count": 102,
   "id": "75848de4",
   "metadata": {},
   "outputs": [
    {
     "data": {
      "text/plain": [
       "2"
      ]
     },
     "execution_count": 102,
     "metadata": {},
     "output_type": "execute_result"
    }
   ],
   "source": [
    "b=np.pad(a,pad_width=2,mode='constant',constant_values=0)\n",
    "b.ndim"
   ]
  },
  {
   "cell_type": "code",
   "execution_count": null,
   "id": "c628cf17",
   "metadata": {},
   "outputs": [],
   "source": [
    "# comparison of two arrays"
   ]
  },
  {
   "cell_type": "code",
   "execution_count": 103,
   "id": "3af5663e",
   "metadata": {},
   "outputs": [
    {
     "name": "stdout",
     "output_type": "stream",
     "text": [
      "[[ True  True]\n",
      " [ True  True]]\n"
     ]
    }
   ],
   "source": [
    "an_array = np.array([[1, 2], [3, 4]])\n",
    "other_array = np.array([[1, 2], [3, 4]])\n",
    "\n",
    "comp=an_array==other_array\n",
    "\n",
    "print(comp)"
   ]
  },
  {
   "cell_type": "code",
   "execution_count": 104,
   "id": "b32fef64",
   "metadata": {},
   "outputs": [
    {
     "name": "stdout",
     "output_type": "stream",
     "text": [
      "True\n"
     ]
    }
   ],
   "source": [
    "an_array = np.array([[1, 2], [3, 4]])\n",
    "other_array = np.array([[1, 2], [3, 4]])\n",
    "\n",
    "comp=an_array==other_array\n",
    "comp1=comp.all()\n",
    "\n",
    "print(comp1)"
   ]
  },
  {
   "cell_type": "code",
   "execution_count": null,
   "id": "86bc0813",
   "metadata": {},
   "outputs": [],
   "source": [
    "# How to check whether specified values are present in NumPy array?"
   ]
  },
  {
   "cell_type": "code",
   "execution_count": 105,
   "id": "2d7baadb",
   "metadata": {},
   "outputs": [
    {
     "name": "stdout",
     "output_type": "stream",
     "text": [
      "True\n",
      "True\n",
      "False\n",
      "False\n"
     ]
    }
   ],
   "source": [
    "an_array = np.array([[1, 2], [3, 4]])\n",
    "\n",
    "print(2 in an_array)\n",
    "print(4 in an_array)\n",
    "print(-1 in an_array)\n",
    "print(22 in an_array)"
   ]
  },
  {
   "cell_type": "markdown",
   "id": "dd7b2cba",
   "metadata": {},
   "source": [
    "# How to get all 2D diagonals of a 3D NumPy array?"
   ]
  },
  {
   "cell_type": "code",
   "execution_count": 106,
   "id": "3d6fdf94",
   "metadata": {},
   "outputs": [
    {
     "data": {
      "text/plain": [
       "array([[[ 0,  1,  2,  3],\n",
       "        [ 4,  5,  6,  7],\n",
       "        [ 8,  9, 10, 11],\n",
       "        [12, 13, 14, 15]],\n",
       "\n",
       "       [[16, 17, 18, 19],\n",
       "        [20, 21, 22, 23],\n",
       "        [24, 25, 26, 27],\n",
       "        [28, 29, 30, 31]],\n",
       "\n",
       "       [[32, 33, 34, 35],\n",
       "        [36, 37, 38, 39],\n",
       "        [40, 41, 42, 43],\n",
       "        [44, 45, 46, 47]]])"
      ]
     },
     "execution_count": 106,
     "metadata": {},
     "output_type": "execute_result"
    }
   ],
   "source": [
    "arr = np.arange(3 * 4 * 4).reshape(3, 4, 4)\n",
    "arr"
   ]
  },
  {
   "cell_type": "code",
   "execution_count": 110,
   "id": "f557237a",
   "metadata": {},
   "outputs": [
    {
     "data": {
      "text/plain": [
       "2"
      ]
     },
     "execution_count": 110,
     "metadata": {},
     "output_type": "execute_result"
    }
   ],
   "source": [
    "arr1=np.diagonal(arr)\n",
    "arr1.ndim"
   ]
  },
  {
   "cell_type": "markdown",
   "id": "2cd1f60f",
   "metadata": {},
   "source": [
    "# Flatten a Matrix in Python using NumPy"
   ]
  },
  {
   "cell_type": "code",
   "execution_count": 114,
   "id": "6101e005",
   "metadata": {},
   "outputs": [
    {
     "data": {
      "text/plain": [
       "array([ 0, 20, 40,  1, 21, 41,  2, 22, 42,  3, 23, 43])"
      ]
     },
     "execution_count": 114,
     "metadata": {},
     "output_type": "execute_result"
    }
   ],
   "source": [
    "arr1.flatten()"
   ]
  },
  {
   "cell_type": "code",
   "execution_count": 113,
   "id": "665c68f6",
   "metadata": {},
   "outputs": [
    {
     "data": {
      "text/plain": [
       "(12,)"
      ]
     },
     "execution_count": 113,
     "metadata": {},
     "output_type": "execute_result"
    }
   ],
   "source": [
    "b=arr1.flatten()\n",
    "b.shape"
   ]
  },
  {
   "cell_type": "code",
   "execution_count": 112,
   "id": "1f3a8c1b",
   "metadata": {},
   "outputs": [
    {
     "data": {
      "text/plain": [
       "[0, 20, 40, 1, 21, 41, 2, 22, 42, 3, 23, 43]"
      ]
     },
     "execution_count": 112,
     "metadata": {},
     "output_type": "execute_result"
    }
   ],
   "source": [
    "list(arr1.flatten())"
   ]
  },
  {
   "cell_type": "markdown",
   "id": "d9a69e9f",
   "metadata": {},
   "source": [
    "# Python | Flatten a 2d numpy array into 1d array"
   ]
  },
  {
   "cell_type": "code",
   "execution_count": 116,
   "id": "969701c2",
   "metadata": {},
   "outputs": [
    {
     "name": "stdout",
     "output_type": "stream",
     "text": [
      "(2, 2)\n",
      "(4,)\n"
     ]
    }
   ],
   "source": [
    "a=np.array([[1,2],[5,4]])\n",
    "print(a.shape)\n",
    "\n",
    "b=a.flatten()\n",
    "\n",
    "print(b.shape)"
   ]
  },
  {
   "cell_type": "code",
   "execution_count": 118,
   "id": "aaffffe5",
   "metadata": {},
   "outputs": [
    {
     "name": "stdout",
     "output_type": "stream",
     "text": [
      "(2, 3, 4, 1)\n"
     ]
    }
   ],
   "source": [
    "arr = np.zeros((1, 2, 3, 4))\n",
    "  \n",
    "gfg = np.moveaxis(arr, 0, -1).shape\n",
    "  \n",
    "print (gfg)"
   ]
  },
  {
   "cell_type": "code",
   "execution_count": 119,
   "id": "cf362a8f",
   "metadata": {},
   "outputs": [
    {
     "data": {
      "text/plain": [
       "array([[[[0.],\n",
       "         [0.],\n",
       "         [0.],\n",
       "         [0.]],\n",
       "\n",
       "        [[0.],\n",
       "         [0.],\n",
       "         [0.],\n",
       "         [0.]],\n",
       "\n",
       "        [[0.],\n",
       "         [0.],\n",
       "         [0.],\n",
       "         [0.]]],\n",
       "\n",
       "\n",
       "       [[[0.],\n",
       "         [0.],\n",
       "         [0.],\n",
       "         [0.]],\n",
       "\n",
       "        [[0.],\n",
       "         [0.],\n",
       "         [0.],\n",
       "         [0.]],\n",
       "\n",
       "        [[0.],\n",
       "         [0.],\n",
       "         [0.],\n",
       "         [0.]]]])"
      ]
     },
     "execution_count": 119,
     "metadata": {},
     "output_type": "execute_result"
    }
   ],
   "source": [
    "gfg = np.moveaxis(arr, 0, -1)\n",
    "gfg"
   ]
  },
  {
   "cell_type": "code",
   "execution_count": 123,
   "id": "9f839f85",
   "metadata": {},
   "outputs": [
    {
     "data": {
      "text/plain": [
       "array([[[[0., 0., 0., 0.],\n",
       "         [0., 0., 0., 0.],\n",
       "         [0., 0., 0., 0.]],\n",
       "\n",
       "        [[0., 0., 0., 0.],\n",
       "         [0., 0., 0., 0.],\n",
       "         [0., 0., 0., 0.]]]])"
      ]
     },
     "execution_count": 123,
     "metadata": {},
     "output_type": "execute_result"
    }
   ],
   "source": [
    "arr = np.zeros((1, 2, 3, 4))\n",
    "arr"
   ]
  },
  {
   "cell_type": "code",
   "execution_count": 124,
   "id": "06c11344",
   "metadata": {},
   "outputs": [
    {
     "data": {
      "text/plain": [
       "0"
      ]
     },
     "execution_count": 124,
     "metadata": {},
     "output_type": "execute_result"
    }
   ],
   "source": [
    "numpy.count_nonzero(arr) "
   ]
  },
  {
   "cell_type": "code",
   "execution_count": 125,
   "id": "24562b0a",
   "metadata": {},
   "outputs": [
    {
     "name": "stdout",
     "output_type": "stream",
     "text": [
      "6\n"
     ]
    }
   ],
   "source": [
    "# Python program explaining\n",
    "# numpy.count_nonzero() function\n",
    "\n",
    "# importing numpy as geek\n",
    "import numpy as geek\n",
    "\n",
    "arr = [[0, 1, 2, 3, 0], [0, 5, 6, 0, 7]]\n",
    "\n",
    "gfg = np.count_nonzero(arr)\n",
    "\n",
    "print (gfg)\n"
   ]
  },
  {
   "cell_type": "code",
   "execution_count": 126,
   "id": "07e9733f",
   "metadata": {},
   "outputs": [
    {
     "name": "stdout",
     "output_type": "stream",
     "text": [
      "6\n"
     ]
    }
   ],
   "source": [
    "# Python program explaining\n",
    "# numpy.count_nonzero() function\n",
    "\n",
    "# importing numpy as geek\n",
    "import numpy as geek\n",
    "\n",
    "arr = [[0, 1, 2, 3, 0], [0, 5, 6, 0, 7]]\n",
    "\n",
    "gfg = geek.count_nonzero(arr)\n",
    "\n",
    "print (gfg)\n"
   ]
  },
  {
   "cell_type": "code",
   "execution_count": 127,
   "id": "30243bb0",
   "metadata": {},
   "outputs": [
    {
     "name": "stdout",
     "output_type": "stream",
     "text": [
      "8\n"
     ]
    }
   ],
   "source": [
    "# Python program explaining\n",
    "# numpy.size() method\n",
    "\n",
    "# importing numpy\n",
    "import numpy as np\n",
    "\n",
    "# Making a random array\n",
    "arr = np.array([[1, 2, 3, 4], [5, 6, 7, 8]])\n",
    "\n",
    "# By default, give the total number of elements.\n",
    "print(np.size(arr))\n"
   ]
  },
  {
   "cell_type": "code",
   "execution_count": null,
   "id": "13a53ed6",
   "metadata": {},
   "outputs": [],
   "source": [
    "# numpy.trim_zeros() in Python"
   ]
  },
  {
   "cell_type": "code",
   "execution_count": 128,
   "id": "60338aa9",
   "metadata": {},
   "outputs": [
    {
     "name": "stdout",
     "output_type": "stream",
     "text": [
      "[ 1  5  7  0  6  2  9  0 10]\n"
     ]
    }
   ],
   "source": [
    "import numpy as geek\n",
    "\n",
    "gfg = np.array((0, 0, 0, 0, 1, 5, 7, 0, 6, 2, 9, 0, 10, 0, 0))\n",
    "\n",
    "# without trim parameter\n",
    "# returns an array without leading and trailing zeros\n",
    "\n",
    "res = np.trim_zeros(gfg)\n",
    "print(res)\n"
   ]
  },
  {
   "cell_type": "code",
   "execution_count": 130,
   "id": "fb407f04",
   "metadata": {},
   "outputs": [
    {
     "data": {
      "text/plain": [
       "64"
      ]
     },
     "execution_count": 130,
     "metadata": {},
     "output_type": "execute_result"
    }
   ],
   "source": [
    "import numpy as np\n",
    "          \n",
    "# make matrix with numpy\n",
    "gfg = np.matrix('[64, 1; 12, 3]')\n",
    "\n",
    "gfg.max()"
   ]
  },
  {
   "cell_type": "code",
   "execution_count": 133,
   "id": "3d2545be",
   "metadata": {},
   "outputs": [
    {
     "data": {
      "text/plain": [
       "2"
      ]
     },
     "execution_count": 133,
     "metadata": {},
     "output_type": "execute_result"
    }
   ],
   "source": [
    "import numpy as np\n",
    "          \n",
    "# make matrix with numpy\n",
    "gfg = np.matrix([[12,3],[2,5]])\n",
    "gfg.min()"
   ]
  },
  {
   "cell_type": "markdown",
   "id": "893d7094",
   "metadata": {},
   "source": [
    "# Find the number of rows and columns of a given matrix using NumPy"
   ]
  },
  {
   "cell_type": "code",
   "execution_count": 137,
   "id": "5078e9f7",
   "metadata": {},
   "outputs": [
    {
     "data": {
      "text/plain": [
       "(2, 2)"
      ]
     },
     "execution_count": 137,
     "metadata": {},
     "output_type": "execute_result"
    }
   ],
   "source": [
    "gfg = np.matrix('[64, 1; 12, 3]')\n",
    "\n",
    "gfg.shape"
   ]
  },
  {
   "cell_type": "code",
   "execution_count": 138,
   "id": "8fda5421",
   "metadata": {},
   "outputs": [
    {
     "name": "stdout",
     "output_type": "stream",
     "text": [
      "[[12]]\n"
     ]
    }
   ],
   "source": [
    "# import the important module in python\n",
    "import numpy as np\n",
    "\t\t\t\n",
    "# make matrix with numpy\n",
    "gfg = np.matrix('[4, 1, 12, 3, 4, 6, 7]')\n",
    "\t\t\t\n",
    "# applying matrix.take() method\n",
    "geek = gfg.take(2)\n",
    "\t\n",
    "print(geek)\n"
   ]
  },
  {
   "cell_type": "code",
   "execution_count": 142,
   "id": "605c8156",
   "metadata": {},
   "outputs": [
    {
     "data": {
      "text/plain": [
       "12"
      ]
     },
     "execution_count": 142,
     "metadata": {},
     "output_type": "execute_result"
    }
   ],
   "source": [
    "gfg[0,2]"
   ]
  },
  {
   "cell_type": "code",
   "execution_count": null,
   "id": "985a9b9f",
   "metadata": {},
   "outputs": [],
   "source": [
    "# Python | Numpy matrix.sum()"
   ]
  },
  {
   "cell_type": "code",
   "execution_count": 143,
   "id": "e81e69b8",
   "metadata": {},
   "outputs": [
    {
     "name": "stdout",
     "output_type": "stream",
     "text": [
      "37\n"
     ]
    }
   ],
   "source": [
    "# import the important module in python\n",
    "import numpy as np\n",
    "\t\t\t\n",
    "# make matrix with numpy\n",
    "gfg = np.matrix('[4, 1, 12, 3, 4, 6, 7]')\n",
    "\t\t\t\n",
    "# applying matrix.take() method\n",
    "geek = gfg.sum()\n",
    "\t\n",
    "print(geek)\n"
   ]
  },
  {
   "cell_type": "code",
   "execution_count": 144,
   "id": "b41870ff",
   "metadata": {},
   "outputs": [
    {
     "name": "stdout",
     "output_type": "stream",
     "text": [
      "Numpy Matrix is:\n",
      "[[55 25 15]\n",
      " [30 44  2]\n",
      " [11 45 77]]\n",
      "\n",
      "Trace of given 3X3 matrix:\n",
      "176\n"
     ]
    }
   ],
   "source": [
    "# importing Numpy package\n",
    "import numpy as np\n",
    "\n",
    "# creating a 3X3 Numpy matrix\n",
    "n_array = np.array([[55, 25, 15],\n",
    "\t\t\t\t\t[30, 44, 2],\n",
    "\t\t\t\t\t[11, 45, 77]])\n",
    "\n",
    "# Displaying the Matrix\n",
    "print(\"Numpy Matrix is:\")\n",
    "print(n_array)\n",
    "\n",
    "# calculating the Trace of a matrix\n",
    "trace = np.trace(n_array)\n",
    "\n",
    "\n",
    "print(\"\\nTrace of given 3X3 matrix:\")\n",
    "print(trace)\n"
   ]
  },
  {
   "cell_type": "code",
   "execution_count": 146,
   "id": "837145ba",
   "metadata": {},
   "outputs": [
    {
     "data": {
      "text/plain": [
       "176"
      ]
     },
     "execution_count": 146,
     "metadata": {},
     "output_type": "execute_result"
    }
   ],
   "source": [
    "# creating a 3X3 Numpy matrix\n",
    "n_array = np.array([[55, 25, 15],\n",
    "\t\t\t\t\t[30, 44, 2],\n",
    "\t\t\t\t\t[11, 45, 77]])\n",
    "\n",
    "res=np.trace(n_array)\n",
    "\n",
    "res"
   ]
  },
  {
   "cell_type": "markdown",
   "id": "e2e8130c",
   "metadata": {},
   "source": [
    "# Calculate the sum of the diagonal elements of a NumPy array"
   ]
  },
  {
   "cell_type": "code",
   "execution_count": 152,
   "id": "2f922105",
   "metadata": {},
   "outputs": [
    {
     "name": "stdout",
     "output_type": "stream",
     "text": [
      "Addin the two matrices\n",
      " [[ 5  7]\n",
      " [ 9 11]]\n",
      "mul the two matrices\n",
      " [[ 4 10]\n",
      " [18 28]]\n"
     ]
    }
   ],
   "source": [
    "#Suppose we have two matrices A and B.\n",
    "A = [[1,2],[3,4]]\n",
    "B = [[4,5],[6,7]]\n",
    "\n",
    "res=np.add(A,B)\n",
    "print('Addin the two matrices\\n',res)\n",
    "res1=np.multiply(A,B)\n",
    "print('mul the two matrices\\n',res1)"
   ]
  },
  {
   "cell_type": "code",
   "execution_count": null,
   "id": "846d5669",
   "metadata": {},
   "outputs": [],
   "source": []
  },
  {
   "cell_type": "code",
   "execution_count": 156,
   "id": "b56081e4",
   "metadata": {},
   "outputs": [
    {
     "data": {
      "text/plain": [
       "array([[ 1,  2,  3,  1],\n",
       "       [45,  4,  7,  2],\n",
       "       [ 9,  6, 10,  3]])"
      ]
     },
     "execution_count": 156,
     "metadata": {},
     "output_type": "execute_result"
    }
   ],
   "source": [
    "ini_array = np.array([[1, 2, 3], [45, 4, 7], [9, 6, 10]])\n",
    "\n",
    "col=np.array([[1],[2],[3]])\n",
    "\n",
    "res=np.append(ini_array,col,axis=1)\n",
    "res"
   ]
  },
  {
   "cell_type": "code",
   "execution_count": 159,
   "id": "cdfcd460",
   "metadata": {},
   "outputs": [
    {
     "data": {
      "text/plain": [
       "array([[ 1,  2,  3,  1],\n",
       "       [45,  4,  7,  2],\n",
       "       [ 9,  6, 10,  3]])"
      ]
     },
     "execution_count": 159,
     "metadata": {},
     "output_type": "execute_result"
    }
   ],
   "source": [
    "ini_array = np.array([[1, 2, 3], [45, 4, 7], [9, 6, 10]])\n",
    "\n",
    "col=np.array([[1],[2],[3]])\n",
    "\n",
    "res=np.concatenate((ini_array,col),axis=1)\n",
    "res"
   ]
  },
  {
   "cell_type": "code",
   "execution_count": 160,
   "id": "ca1f1206",
   "metadata": {},
   "outputs": [
    {
     "data": {
      "text/plain": [
       "array([[16, 19],\n",
       "       [26, 31]])"
      ]
     },
     "execution_count": 160,
     "metadata": {},
     "output_type": "execute_result"
    }
   ],
   "source": [
    "p = [[1, 2], [2, 3]]\n",
    "q = [[4, 5], [6, 7]]\n",
    "\n",
    "res=np.dot(p,q)\n",
    "res"
   ]
  },
  {
   "cell_type": "code",
   "execution_count": 167,
   "id": "a0025ea4",
   "metadata": {},
   "outputs": [
    {
     "data": {
      "text/plain": [
       "[[1, 2], [2, 3]]"
      ]
     },
     "execution_count": 167,
     "metadata": {},
     "output_type": "execute_result"
    }
   ],
   "source": [
    "p"
   ]
  },
  {
   "cell_type": "code",
   "execution_count": 168,
   "id": "4e3348c4",
   "metadata": {},
   "outputs": [
    {
     "data": {
      "text/plain": [
       "array([[1, 2],\n",
       "       [2, 3]])"
      ]
     },
     "execution_count": 168,
     "metadata": {},
     "output_type": "execute_result"
    }
   ],
   "source": [
    "arr"
   ]
  },
  {
   "cell_type": "code",
   "execution_count": 171,
   "id": "3a1ad7a5",
   "metadata": {},
   "outputs": [
    {
     "data": {
      "text/plain": [
       "array([[16, 19],\n",
       "       [26, 31]])"
      ]
     },
     "execution_count": 171,
     "metadata": {},
     "output_type": "execute_result"
    }
   ],
   "source": [
    "arr=np.array(p)\n",
    "arr1=np.array(q)\n",
    "\n",
    "res=np.dot(arr,arr1)\n",
    "res"
   ]
  },
  {
   "cell_type": "code",
   "execution_count": 164,
   "id": "4ad95ca4",
   "metadata": {},
   "outputs": [
    {
     "data": {
      "text/plain": [
       "array([-5.69973694,  0.64746042, 20.05227652])"
      ]
     },
     "execution_count": 164,
     "metadata": {},
     "output_type": "execute_result"
    }
   ],
   "source": [
    "ini_array = np.array([[1, 2, 3], [45, 4, 7], [9, 6, 10]])\n",
    "\n",
    "res=np.linalg.eigvals([[1, 2, 3], [45, 4, 7], [9, 6, 10]])\n",
    "res"
   ]
  },
  {
   "cell_type": "code",
   "execution_count": 162,
   "id": "ddd99af7",
   "metadata": {},
   "outputs": [
    {
     "name": "stdout",
     "output_type": "stream",
     "text": [
      "[ 1.61168440e+01 -1.11684397e+00 -3.38433605e-16]\n"
     ]
    }
   ],
   "source": [
    "# import numpy\n",
    "from numpy import linalg as LA\n",
    "\n",
    "# using np.eigvals() method\n",
    "gfg = LA.eigvals([[1, 2, 3], [4, 5, 6], [7, 8, 9]])\n",
    "\n",
    "print(gfg)\n"
   ]
  },
  {
   "cell_type": "code",
   "execution_count": 165,
   "id": "ca53cce2",
   "metadata": {},
   "outputs": [
    {
     "name": "stdout",
     "output_type": "stream",
     "text": [
      "[[ 0.17647059 -0.00326797 -0.02287582]\n",
      " [ 0.05882353 -0.13071895  0.08496732]\n",
      " [-0.11764706  0.1503268   0.05228758]]\n"
     ]
    }
   ],
   "source": [
    "# Python program to inverse\n",
    "# a matrix using numpy\n",
    "\n",
    "# Import required package\n",
    "import numpy as np\n",
    "\n",
    "# Taking a 3 * 3 matrix\n",
    "A = np.array([[6, 1, 1],\n",
    "\t\t\t[4, -2, 5],\n",
    "\t\t\t[2, 8, 7]])\n",
    "\n",
    "# Calculating the inverse of the matrix\n",
    "print(np.linalg.inv(A))\n"
   ]
  },
  {
   "cell_type": "markdown",
   "id": "ebab131a",
   "metadata": {},
   "source": [
    "# Replace NumPy array elements that doesn’t satisfy the given condition"
   ]
  },
  {
   "cell_type": "code",
   "execution_count": 175,
   "id": "436e2b25",
   "metadata": {},
   "outputs": [
    {
     "name": "stdout",
     "output_type": "stream",
     "text": [
      "Given array:\n",
      "[75.42436315 42.48558583 60.32924763]\n"
     ]
    }
   ],
   "source": [
    "n_arr = np.array([75.42436315, 42.48558583, 60.32924763])\n",
    "print(\"Given array:\")\n",
    "print(n_arr)\n",
    "\n",
    "n_arr[n_arr<50]=1000"
   ]
  },
  {
   "cell_type": "code",
   "execution_count": 176,
   "id": "e9741066",
   "metadata": {},
   "outputs": [
    {
     "data": {
      "text/plain": [
       "array([  75.42436315, 1000.        ,   60.32924763])"
      ]
     },
     "execution_count": 176,
     "metadata": {},
     "output_type": "execute_result"
    }
   ],
   "source": [
    "n_arr"
   ]
  },
  {
   "cell_type": "code",
   "execution_count": 178,
   "id": "9d3767e4",
   "metadata": {},
   "outputs": [
    {
     "name": "stdout",
     "output_type": "stream",
     "text": [
      "[1 2 3]\n"
     ]
    }
   ],
   "source": [
    "a=np.array([[1,2,3,4],[4,8,9,7]])\n",
    "\n",
    "b=np.where(a<4)\n",
    "\n",
    "print(a[b])"
   ]
  },
  {
   "cell_type": "code",
   "execution_count": 181,
   "id": "27660247",
   "metadata": {},
   "outputs": [],
   "source": [
    "ini_array = np.array([[1.3, 2.5, 3.6, np.nan], \n",
    "                      [2.6, 3.3, np.nan, 5.5],\n",
    "                      [2.1, 3.2, 5.4, 6.5]])\n",
    "\n",
    "col_mean=np.nanmean(ini_array,axis=1)\n",
    "\n",
    "inds=np.where(np.isnan(ini_array))\n",
    "\n",
    "ini_array[inds]=np.take(ini_array,inds[1])"
   ]
  },
  {
   "cell_type": "code",
   "execution_count": 182,
   "id": "c183cd44",
   "metadata": {},
   "outputs": [
    {
     "data": {
      "text/plain": [
       "array([2.46666667, 3.8       , 4.3       ])"
      ]
     },
     "execution_count": 182,
     "metadata": {},
     "output_type": "execute_result"
    }
   ],
   "source": [
    "col_mean"
   ]
  },
  {
   "cell_type": "code",
   "execution_count": 184,
   "id": "2af0b45c",
   "metadata": {},
   "outputs": [
    {
     "name": "stdout",
     "output_type": "stream",
     "text": [
      "(array([0, 1], dtype=int64), array([3, 2], dtype=int64))\n"
     ]
    }
   ],
   "source": [
    "print(inds)"
   ]
  }
 ],
 "metadata": {
  "kernelspec": {
   "display_name": "Python 3 (ipykernel)",
   "language": "python",
   "name": "python3"
  },
  "language_info": {
   "codemirror_mode": {
    "name": "ipython",
    "version": 3
   },
   "file_extension": ".py",
   "mimetype": "text/x-python",
   "name": "python",
   "nbconvert_exporter": "python",
   "pygments_lexer": "ipython3",
   "version": "3.9.13"
  }
 },
 "nbformat": 4,
 "nbformat_minor": 5
}
